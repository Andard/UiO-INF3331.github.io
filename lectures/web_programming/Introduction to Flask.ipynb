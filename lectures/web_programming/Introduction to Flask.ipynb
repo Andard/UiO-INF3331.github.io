{
 "cells": [
  {
   "cell_type": "markdown",
   "metadata": {},
   "source": [
    "# Building a webserver with Flask"
   ]
  },
  {
   "cell_type": "markdown",
   "metadata": {},
   "source": [
    "![xkcd](http://imgs.xkcd.com/comics/countdown.png)\n",
    "\n",
    "\n",
    "## What is Flask?\n",
    "\n",
    "Flask is a **micro web application framework**.\n",
    "\n",
    "You can use Flask to build dynamic websites,\n",
    "for example a user interface to your Python program.\n",
    "\n",
    "Some Flask features:\n",
    "* Development server and debugger\n",
    "* Integrated support for unit testing\n",
    "* No database abstraction layer, no form validation or similar advanced features \n",
    "\n",
    "### Installation\n",
    "\n",
    "```bash\n",
    "conda install flask\n",
    "``` "
   ]
  },
  {
   "cell_type": "markdown",
   "metadata": {},
   "source": [
    "## Hello world in Flask"
   ]
  },
  {
   "cell_type": "code",
   "execution_count": 1,
   "metadata": {
    "collapsed": false
   },
   "outputs": [
    {
     "name": "stderr",
     "output_type": "stream",
     "text": [
      " * Running on http://127.0.0.1:5000/ (Press CTRL+C to quit)\n"
     ]
    }
   ],
   "source": [
    "# File: hello_world.py\n",
    "from flask import Flask\n",
    "app = Flask(__name__)\n",
    "\n",
    "@app.route(\"/\")\n",
    "def hello():\n",
    "    return \"Hello World!\"\n",
    "\n",
    "if __name__ == \"__main__\":\n",
    "    app.run()"
   ]
  },
  {
   "cell_type": "markdown",
   "metadata": {},
   "source": [
    "Run the flask server with:\n",
    "```bash\n",
    "python hello_world.py\n",
    "   * Running on http://localhost:5000/\n",
    "```            \n",
    "\n",
    "Then open http://localhost:5000/ in your web browser. To stop the server, hit `Control-C`.\n"
   ]
  },
  {
   "cell_type": "markdown",
   "metadata": {},
   "source": [
    "## What happened?\n",
    "\n",
    "```python\n",
    "from flask import Flask\n",
    "app = Flask(__name__)\n",
    "```\n",
    "The instance of the `Flask` class is our web application.\n",
    "\n",
    "The first argument is needed so that Flask knows where to look for templates, static files, and so on.  If you are using a single module simply use `__name__`. \n",
    "\n",
    "```python\n",
    "@app.route(\"/\")\n",
    "def hello():\n",
    "    return \"Hello World!\"\n",
    "```\n",
    "\n",
    "We then use the route() decorator to tell Flask what URL should trigger our function. By default, Flask answers to GET requests, and the return value of the function is the answer of the `GET` request.\n",
    "\n",
    "```python\n",
    "if __name__ == \"__main__\":\n",
    "    app.run()\n",
    "```\n",
    "\n",
    "Finally we use the `run()` function to run the local server with our application. \n",
    "\n",
    "**Note**: You need to restart the sever when changing your code."
   ]
  },
  {
   "cell_type": "markdown",
   "metadata": {},
   "source": [
    "## Debug mode\n",
    "You can use \n",
    "```python\n",
    "app.run(debug=True)\n",
    "``` \n",
    "to see more detailed error output. \n",
    "\n",
    "In debug mode the server will reload itself on code changes. \n"
   ]
  },
  {
   "cell_type": "markdown",
   "metadata": {},
   "source": [
    "## Making the server available in your network\n",
    "\n",
    "If you want your server to be accessible from your entire network, you need to launch the server with:\n",
    "```python\n",
    "app.run(host='0.0.0.0')\n",
    "```\n",
    "\n",
    "**Important**: This allows *anyone* in your network to access your webbrowser, which might be a severe security riks!"
   ]
  },
  {
   "cell_type": "markdown",
   "metadata": {},
   "source": [
    "## Adding more URLs"
   ]
  },
  {
   "cell_type": "markdown",
   "metadata": {},
   "source": [
    "We can serve additional URLs by adding new functions with the route decorator:"
   ]
  },
  {
   "cell_type": "code",
   "execution_count": 2,
   "metadata": {
    "collapsed": false
   },
   "outputs": [
    {
     "name": "stderr",
     "output_type": "stream",
     "text": [
      " * Running on http://127.0.0.1:5000/ (Press CTRL+C to quit)\n"
     ]
    }
   ],
   "source": [
    "users = {\"richard\": \"Richard Lee\",\n",
    "         \"john\": \"John Smith\"}\n",
    "\n",
    "@app.route('/user')\n",
    "def show_user_overview():\n",
    "    users_str = \"<br>\".join(users.values())\n",
    "    return '<h1>Our users</h1><br>{}'.format(users_str)\n",
    "app.run()"
   ]
  },
  {
   "cell_type": "markdown",
   "metadata": {},
   "source": [
    "Matches http://localhost:5000/user"
   ]
  },
  {
   "cell_type": "code",
   "execution_count": 3,
   "metadata": {
    "collapsed": false,
    "scrolled": true
   },
   "outputs": [
    {
     "name": "stderr",
     "output_type": "stream",
     "text": [
      " * Running on http://127.0.0.1:5000/ (Press CTRL+C to quit)\n",
      "127.0.0.1 - - [30/Jan/2017 23:21:23] \"GET /user/NAME HTTP/1.1\" 200 -\n",
      "127.0.0.1 - - [30/Jan/2017 23:21:27] \"GET /user/2.14 HTTP/1.1\" 200 -\n"
     ]
    }
   ],
   "source": [
    "@app.route('/user/<username>')\n",
    "def show_user_profile(username):\n",
    "    # show the user profile for that user\n",
    "    return 'Welcome {}'.format(username)\n",
    "app.run()"
   ]
  },
  {
   "cell_type": "markdown",
   "metadata": {},
   "source": [
    "Matches http://localhost:5000/user/NAME for any `NAME`"
   ]
  },
  {
   "cell_type": "markdown",
   "metadata": {},
   "source": [
    "## Python challenge\n",
    "\n",
    "1. Write a Python web server that converts between Fahrenheit and Celcius. It should match URLs following\n",
    "    * http://localhost:5000/fahrenheit_to_celcius/75 \n",
    "      The resulting webpage should display \"75 Fahrenheit is 23.89 Celcius\"\n",
    "    * http://localhost:5000/celcius_to_fahrenheit/23.89\n",
    "      The resulting webpage should display \"23.89 Fahrenheit is 75 Fahrenheit\"\n",
    "    \n",
    "2. Add error handling of invalid inputs, that is display a error message in the webbrowser if an invalid number is entered.\n",
    "   \n",
    "3. **Bonus**: Add more conversion functions.\n"
   ]
  },
  {
   "cell_type": "markdown",
   "metadata": {},
   "source": [
    "## Next we need to learn some HTML\n",
    "\n",
    "See the slides [here](http://nbviewer.jupyter.org/github/UiO-INF3331/UiO-INF3331.github.io/blob/crash-course/lectures/web_programming/Introduction%20to%20HTML.ipynb)."
   ]
  },
  {
   "cell_type": "markdown",
   "metadata": {},
   "source": [
    "## Templates"
   ]
  },
  {
   "cell_type": "markdown",
   "metadata": {},
   "source": [
    "So far our webserver only served simple textstrings, but no HTML documents. \n",
    "\n",
    "One solution would be to define the entire HTML string in the URL handler, e.g.:\n",
    "\n",
    "```python\n",
    "@app.route('/login')\n",
    "def login():\n",
    "    return '''\n",
    "<html>\n",
    "<header><title>The title</title></header>\n",
    "<body>\n",
    "Hello world\n",
    "</body>\n",
    "</html>    \n",
    "    '''\n",
    "```\n",
    "\n",
    "However, Flask comes with a templating system that makes our life a lot easier:"
   ]
  },
  {
   "cell_type": "code",
   "execution_count": null,
   "metadata": {
    "collapsed": false
   },
   "outputs": [],
   "source": [
    "from flask import render_template\n",
    "\n",
    "@app.route('/post/')\n",
    "@app.route('/post/<name>')\n",
    "def post(name=None):\n",
    "    return render_template('post.html', name=name)"
   ]
  },
  {
   "cell_type": "markdown",
   "metadata": {},
   "source": [
    "Flask will look for templates in the `templates` folder."
   ]
  },
  {
   "cell_type": "markdown",
   "metadata": {
    "collapsed": false
   },
   "source": [
    "```html\n",
    "<!-- ./templates/post.html -->\n",
    "\n",
    "<!doctype html>\n",
    "<title>Hello from Flask</title>\n",
    "{% if name %}\n",
    "  <h1>Displaying blog post {{ name }}!</h1>\n",
    "{% else %}\n",
    "  <h1>No post name given!</h1>\n",
    "{% endif %}\n",
    "```"
   ]
  },
  {
   "cell_type": "code",
   "execution_count": null,
   "metadata": {
    "collapsed": false
   },
   "outputs": [],
   "source": [
    "app.run()"
   ]
  },
  {
   "cell_type": "markdown",
   "metadata": {},
   "source": [
    "### Python challenge\n",
    "\n",
    "1. Change your Fahrenheit/Celcius converter website such that it uses template files.\n",
    "   \n",
    "   **Unsure how to get started?**: Download the above [demo server](https://github.com/UiO-INF3331/UiO-INF3331.github.io/raw/crash-course/lectures/web_programming/web_programming_template.zip) with a working template.\n",
    "\n",
    "2. **Bonus**: Style the template files with some HTML."
   ]
  },
  {
   "cell_type": "markdown",
   "metadata": {},
   "source": [
    "## HTML form"
   ]
  },
  {
   "cell_type": "markdown",
   "metadata": {},
   "source": [
    "Using the template, we can now create a HTML form with a `POST` request"
   ]
  },
  {
   "cell_type": "markdown",
   "metadata": {
    "collapsed": false,
    "scrolled": false
   },
   "source": [
    "```html\n",
    "<!-- ./templates/login.html -->\n",
    "\n",
    "<!doctype html>\n",
    "<title>Login</title>\n",
    "\n",
    "{% if error %}\n",
    "<p style=\"color:red\">{{ error }}</p>\n",
    "{% endif %}\n",
    "\n",
    "<form action=\"handle_login\" method=\"POST\">\n",
    "    Username:\n",
    "    <br>\n",
    "    <input type=\"text\" name=\"username\">\n",
    "    <br>\n",
    "    Password:\n",
    "    <br>\n",
    "    <input type=\"password\" name=\"password\">\n",
    "    <br>\n",
    "    <input type=\"submit\" value=\"Submit\">\n",
    "</form>\n",
    "```\n"
   ]
  },
  {
   "cell_type": "code",
   "execution_count": null,
   "metadata": {
    "collapsed": true
   },
   "outputs": [],
   "source": [
    "@app.route('/login')\n",
    "def login():\n",
    "    return render_template('login.html')"
   ]
  },
  {
   "cell_type": "code",
   "execution_count": null,
   "metadata": {
    "collapsed": false
   },
   "outputs": [],
   "source": [
    "app.run()"
   ]
  },
  {
   "cell_type": "markdown",
   "metadata": {},
   "source": [
    "## Handling the `POST` request."
   ]
  },
  {
   "cell_type": "markdown",
   "metadata": {},
   "source": [
    "The form above sends a `POST` request to the `handle_login` URL. \n",
    "\n",
    "We can use \n",
    "```python\n",
    "@app.route('/handle_login', methods=['POST'])     \n",
    "```\n",
    "to create a new Flask handler that accepts `POST` requests.\n",
    "\n",
    "We can then use the \n",
    "```python\n",
    "flask.request\n",
    "```\n",
    "module to access the data in the `POST` request (here the username and password that the user provided in the form)."
   ]
  },
  {
   "cell_type": "code",
   "execution_count": null,
   "metadata": {
    "collapsed": true
   },
   "outputs": [],
   "source": [
    "from flask import request\n",
    "                                                                                                                                                                                                                                               \n",
    "@app.route('/handle_login', methods=['POST'])                                                                                                                                                                                                  \n",
    "def handle_login():           \n",
    "    \n",
    "    assert request.method == 'POST'   # Check that we are really in a POST request\n",
    "    \n",
    "    # Acces the form data:\n",
    "    username = request.form[\"username\"]\n",
    "    password = request.form[\"password\"]\n",
    "    \n",
    "    if username == \"simon\" and password == \"safe\":                                                                                                                                                             \n",
    "        return \"You are logged in Simon\"                                                                                                                                                                                                       \n",
    "    else:                                                                                                                                                                                                                                      \n",
    "        error = \"Invalid credentials\"                                                                                                                                                                                                          \n",
    "        return render_template(\"login.html\", error=error)     "
   ]
  },
  {
   "cell_type": "code",
   "execution_count": null,
   "metadata": {
    "collapsed": false
   },
   "outputs": [],
   "source": [
    "app.run()"
   ]
  },
  {
   "cell_type": "markdown",
   "metadata": {},
   "source": [
    "## Python challenge\n",
    "\n",
    "1. Extend your Fahrenheit Celcius converter website with a landing page. The landing page should have one form with an input field and a submit button. The user types in a Celcius number in the input field. When the Submit button is pressed, the user should see the converted value in Fahrenheit.\n",
    "    \n",
    "    **Unsure how to get started?**: Look the above [demo server](https://github.com/UiO-INF3331/UiO-INF3331.github.io/raw/crash-course/lectures/web_programming/web_programming_form.zip) with a working form.\n",
    "\n",
    "\n",
    "\n",
    "2. **Bonus**: Add a second input field to convert from Fahrenheit to Celcius. "
   ]
  }
 ],
 "metadata": {
  "kernelspec": {
   "display_name": "Python 3",
   "language": "python",
   "name": "python3"
  },
  "language_info": {
   "codemirror_mode": {
    "name": "ipython",
    "version": 3
   },
   "file_extension": ".py",
   "mimetype": "text/x-python",
   "name": "python",
   "nbconvert_exporter": "python",
   "pygments_lexer": "ipython3",
   "version": "3.5.2"
  }
 },
 "nbformat": 4,
 "nbformat_minor": 0
}
