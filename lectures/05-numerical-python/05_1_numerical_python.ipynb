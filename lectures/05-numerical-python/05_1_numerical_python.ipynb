{
 "cells": [
  {
   "cell_type": "markdown",
   "metadata": {
    "slideshow": {
     "slide_type": "slide"
    }
   },
   "source": [
    "# Numerical Python\n",
    "Vidar Tonaas Fauske, Karl Erik Holter, Simon Funke, Hans Petter Langtangen, Joakim Sundnes, Ola Skavhaug\n",
    "\n",
    "Date: **Jan 26, 2017**\n",
    "\n",
    "<center>![xkcd](xkcd.png \"Python\")https://xkcd.com/353</center>"
   ]
  },
  {
   "cell_type": "markdown",
   "metadata": {
    "slideshow": {
     "slide_type": "slide"
    }
   },
   "source": [
    "## Contents\n",
    "\n",
    "* A first taste of NumPy\n",
    "* Creating arrays\n",
    "* Indexing/slicing arrays\n",
    "* Random numbers\n",
    "* Structured arrays\n",
    "* Performance considerations\n",
    "* Linear algebra\n",
    "* Plotting"
   ]
  },
  {
   "cell_type": "markdown",
   "metadata": {
    "slideshow": {
     "slide_type": "subslide"
    }
   },
   "source": [
    "## More info\n",
    "\n",
    "* Scientific Computing Tools for Python \n",
    "  (http://www.scipy.org)\n",
    "* Scipy Lecture Notes (http://scipy-lectures.org)\n",
    "* The NumPy quickstart (https://docs.scipy.org/doc/numpy-dev/user/quickstart.html)\n",
    "* The SciPy tutorial (http://docs.scipy.org/doc/scipy/reference/tutorial/)"
   ]
  },
  {
   "cell_type": "markdown",
   "metadata": {
    "slideshow": {
     "slide_type": "slide"
    }
   },
   "source": [
    "## Numerical Python (NumPy)"
   ]
  },
  {
   "cell_type": "markdown",
   "metadata": {},
   "source": [
    "* The NumPy module enables efficient numerical computing in Python"
   ]
  },
  {
   "cell_type": "code",
   "execution_count": 1,
   "metadata": {
    "collapsed": true,
    "slideshow": {
     "slide_type": "skip"
    }
   },
   "outputs": [],
   "source": [
    "# Needed for Jupyter\n",
    "%matplotlib inline "
   ]
  },
  {
   "cell_type": "code",
   "execution_count": 2,
   "metadata": {
    "collapsed": true,
    "slideshow": {
     "slide_type": "-"
    }
   },
   "outputs": [],
   "source": [
    "import numpy as np"
   ]
  },
  {
   "cell_type": "markdown",
   "metadata": {},
   "source": [
    "* Offers efficient arrays (contiguous storage) with associated array operations \n",
    "* Written in C and Fortran\n",
    "* Today NumPy is the quasi-standard. Previous alternatives: `numeric` from the mid 90s, `numarray` from about 2000, NumPy from 2006"
   ]
  },
  {
   "cell_type": "markdown",
   "metadata": {
    "slideshow": {
     "slide_type": "subslide"
    }
   },
   "source": [
    "## A taste of NumPy: Fit a line through a set of (x, y) data points"
   ]
  },
  {
   "cell_type": "code",
   "execution_count": 10,
   "metadata": {
    "collapsed": false
   },
   "outputs": [
    {
     "data": {
      "image/png": "[encoded data removed]",
      "text/plain": [
       "<matplotlib.figure.Figure at 0x230c616aa20>"
      ]
     },
     "metadata": {},
     "output_type": "display_data"
    }
   ],
   "source": [
    "import numpy as np\n",
    "import matplotlib.pyplot as plt\n",
    "\n",
    "# Create the x and y datapoints\n",
    "n = 20                                  \n",
    "x = np.linspace(0.0, 1.0, n)               # coordinates\n",
    "y_line = -2*x + 3                       \n",
    "y = y_line + np.random.normal(0, 0.25, n)  # data points with noise\n",
    "\n",
    "# create and solve least squares system:\n",
    "A = np.array([x, np.ones(n)])\n",
    "A = A.transpose()\n",
    "result = np.linalg.lstsq(A, y)\n",
    "\n",
    "# result is a 4-tuple, the solution (a,b) is the 1st entry:\n",
    "a, b = result[0]                        # \n",
    "\n",
    "# plot the result\n",
    "plt.plot(x, y, 'o', label='data points')\n",
    "plt.plot(x, y_line, 'r', label='original line')\n",
    "plt.plot(x, a*x + b, 'b', label='fitted lined')\n",
    "\n",
    "plt.legend()\n",
    "plt.savefig('myplot.pdf')\n",
    "plt.show()"
   ]
  },
  {
   "cell_type": "code",
   "execution_count": 4,
   "metadata": {
    "collapsed": false,
    "slideshow": {
     "slide_type": "skip"
    }
   },
   "outputs": [
    {
     "name": "stdout",
     "output_type": "stream",
     "text": [
      "a = -2.0209870225433497 (should be -2)\n",
      "b = 3.0600397707060005 (should be +3)\n"
     ]
    }
   ],
   "source": [
    "print(\"a = {} (should be -2)\".format(a))\n",
    "print(\"b = {} (should be +3)\".format(b))"
   ]
  },
  {
   "cell_type": "markdown",
   "metadata": {
    "slideshow": {
     "slide_type": "subslide"
    }
   },
   "source": [
    "## The example, step by step"
   ]
  },
  {
   "cell_type": "markdown",
   "metadata": {},
   "source": [
    "Importing the `numpy` module (abbreviated as `np` for simple use):"
   ]
  },
  {
   "cell_type": "code",
   "execution_count": 5,
   "metadata": {
    "collapsed": true
   },
   "outputs": [],
   "source": [
    "import numpy as np"
   ]
  },
  {
   "cell_type": "markdown",
   "metadata": {},
   "source": [
    "Create an equivally distributed array with x coordinates:"
   ]
  },
  {
   "cell_type": "code",
   "execution_count": 6,
   "metadata": {
    "collapsed": false
   },
   "outputs": [
    {
     "name": "stdout",
     "output_type": "stream",
     "text": [
      "[ 0.          0.05263158  0.10526316  0.15789474  0.21052632  0.26315789\n",
      "  0.31578947  0.36842105  0.42105263  0.47368421  0.52631579  0.57894737\n",
      "  0.63157895  0.68421053  0.73684211  0.78947368  0.84210526  0.89473684\n",
      "  0.94736842  1.        ]\n"
     ]
    }
   ],
   "source": [
    "# Create the x and y datapoints\n",
    "n = 20                                  \n",
    "x = np.linspace(0.0, 1.0, n)               # coordinates\n",
    "print(x)"
   ]
  },
  {
   "cell_type": "markdown",
   "metadata": {},
   "source": [
    "Generate the y data points and add noise using `numpy`s elementwise operations:"
   ]
  },
  {
   "cell_type": "code",
   "execution_count": 7,
   "metadata": {
    "collapsed": true
   },
   "outputs": [],
   "source": [
    "y_line = -2*x + 3\n",
    "y = y_line + np.random.normal(0, 0.25, n)  # data points with noise"
   ]
  },
  {
   "cell_type": "markdown",
   "metadata": {
    "slideshow": {
     "slide_type": "subslide"
    }
   },
   "source": [
    "## The example, step by step"
   ]
  },
  {
   "cell_type": "markdown",
   "metadata": {},
   "source": [
    "Set up a least squares problem and solve it with the `numpy.linalg.lstsq` function:"
   ]
  },
  {
   "cell_type": "code",
   "execution_count": 8,
   "metadata": {
    "collapsed": true
   },
   "outputs": [],
   "source": [
    "A = np.array([x, np.ones(n)])\n",
    "A = A.transpose()\n",
    "result = np.linalg.lstsq(A, y)\n",
    "\n",
    "a, b = result[0]"
   ]
  },
  {
   "cell_type": "markdown",
   "metadata": {},
   "source": [
    "Now:\n",
    "* `a` contains the steepness (gradient) of the line.\n",
    "* `b` contains the offset of the line at `x=0`.\n",
    "\n",
    "Our line approximate is therefore:\n",
    "```python\n",
    " y = a*x + b\n",
    " ```"
   ]
  },
  {
   "cell_type": "markdown",
   "metadata": {
    "collapsed": true,
    "slideshow": {
     "slide_type": "subslide"
    }
   },
   "source": [
    "Use the `matplotlib` library to plot the result:"
   ]
  },
  {
   "cell_type": "code",
   "execution_count": 12,
   "metadata": {
    "collapsed": false
   },
   "outputs": [
    {
     "data": {
      "image/png": "[encoded data removed]",
      "text/plain": [
       "<matplotlib.figure.Figure at 0x230c6835940>"
      ]
     },
     "metadata": {},
     "output_type": "display_data"
    }
   ],
   "source": [
    "import matplotlib.pyplot as plt\n",
    "\n",
    "plt.plot(x, y, 'o', label='data points')\n",
    "plt.plot(x, a*x + b, 'b', label='fitted lined')\n",
    "plt.legend()\n",
    "plt.show()"
   ]
  },
  {
   "cell_type": "markdown",
   "metadata": {
    "slideshow": {
     "slide_type": "slide"
    }
   },
   "source": [
    "# Numpy arrays"
   ]
  },
  {
   "cell_type": "markdown",
   "metadata": {},
   "source": [
    "\n",
    "The most basic array type that NumPy provides is `ndarray`. These are N-dimensional homogenous collections of \"items\" of the same type."
   ]
  },
  {
   "cell_type": "markdown",
   "metadata": {},
   "source": [
    "```python\n",
    "np.array([5., 10., 11.])\n",
    "np.array([\"a\", \"b\", \"c\"])\n",
    "```"
   ]
  },
  {
   "cell_type": "markdown",
   "metadata": {
    "slideshow": {
     "slide_type": "fragment"
    }
   },
   "source": [
    "**Remember**:\n",
    "\n",
    "* Arrays have a fixed size.\n",
    "* Arrays have one associated data type. \n",
    "* All elements in the array are of that same type. "
   ]
  },
  {
   "cell_type": "markdown",
   "metadata": {
    "slideshow": {
     "slide_type": "subslide"
    }
   },
   "source": [
    "## Creating NumPy arrays"
   ]
  },
  {
   "cell_type": "markdown",
   "metadata": {},
   "source": [
    "Numpy provides convience functions for creating commonly used arrays:"
   ]
  },
  {
   "cell_type": "code",
   "execution_count": 13,
   "metadata": {
    "collapsed": false
   },
   "outputs": [
    {
     "data": {
      "text/plain": [
       "array([ 0.,  0.,  0.,  0.,  0.])"
      ]
     },
     "execution_count": 13,
     "metadata": {},
     "output_type": "execute_result"
    }
   ],
   "source": [
    "n = 5\n",
    "np.zeros(n)"
   ]
  },
  {
   "cell_type": "code",
   "execution_count": 14,
   "metadata": {
    "collapsed": false,
    "slideshow": {
     "slide_type": "fragment"
    }
   },
   "outputs": [
    {
     "data": {
      "text/plain": [
       "array([ 1.,  1.,  1.,  1.,  1.])"
      ]
     },
     "execution_count": 14,
     "metadata": {},
     "output_type": "execute_result"
    }
   ],
   "source": [
    "np.ones(n)      "
   ]
  },
  {
   "cell_type": "code",
   "execution_count": 15,
   "metadata": {
    "collapsed": false,
    "slideshow": {
     "slide_type": "fragment"
    }
   },
   "outputs": [
    {
     "data": {
      "text/plain": [
       "array([ 0.,  0.,  0.,  0.,  0.])"
      ]
     },
     "execution_count": 15,
     "metadata": {},
     "output_type": "execute_result"
    }
   ],
   "source": [
    "np.empty(n)             # uninitialised array. Might contain arbitrary data"
   ]
  },
  {
   "cell_type": "markdown",
   "metadata": {
    "slideshow": {
     "slide_type": "subslide"
    }
   },
   "source": [
    "## Array with a sequence of numbers\n",
    "\n",
    "`linspace(a, b, n)` generates `n` uniformly spaced\n",
    "coordinates, starting with `a` and ending with `b`"
   ]
  },
  {
   "cell_type": "code",
   "execution_count": 16,
   "metadata": {
    "collapsed": false
   },
   "outputs": [
    {
     "data": {
      "text/plain": [
       "array([-3.  , -1.75, -0.5 ,  0.75,  2.  ])"
      ]
     },
     "execution_count": 16,
     "metadata": {},
     "output_type": "execute_result"
    }
   ],
   "source": [
    "np.linspace(-3, 2, 5, endpoint=True)"
   ]
  },
  {
   "cell_type": "markdown",
   "metadata": {},
   "source": [
    "Use `endpoint=False` to exclude the last point. A equivalent but more compact syntax is:"
   ]
  },
  {
   "cell_type": "code",
   "execution_count": 17,
   "metadata": {
    "collapsed": false
   },
   "outputs": [
    {
     "data": {
      "text/plain": [
       "array([-3.  , -1.75, -0.5 ,  0.75,  2.  ])"
      ]
     },
     "execution_count": 17,
     "metadata": {},
     "output_type": "execute_result"
    }
   ],
   "source": [
    "np.r_[-3:2:5j] "
   ]
  },
  {
   "cell_type": "markdown",
   "metadata": {},
   "source": [
    "`arange` is the numpy equivalent of `range`"
   ]
  },
  {
   "cell_type": "code",
   "execution_count": 18,
   "metadata": {
    "collapsed": false
   },
   "outputs": [
    {
     "data": {
      "text/plain": [
       "array([-5., -3., -1.,  1.,  3.])"
      ]
     },
     "execution_count": 18,
     "metadata": {},
     "output_type": "execute_result"
    }
   ],
   "source": [
    "np.arange(-5, 5, 2, float)   # 5 is not included!"
   ]
  },
  {
   "cell_type": "markdown",
   "metadata": {
    "slideshow": {
     "slide_type": "subslide"
    }
   },
   "source": [
    "## Warning: arange is dangerous\n",
    "\n",
    "`arange`'s upper limit may or may not be included, due to round-off errors!"
   ]
  },
  {
   "cell_type": "code",
   "execution_count": 19,
   "metadata": {
    "collapsed": false
   },
   "outputs": [
    {
     "data": {
      "text/plain": [
       "array([ 8.2 ,  8.25,  8.3 ,  8.35])"
      ]
     },
     "execution_count": 19,
     "metadata": {},
     "output_type": "execute_result"
    }
   ],
   "source": [
    "np.arange(8.2, 8.35, 0.05) # OK"
   ]
  },
  {
   "cell_type": "code",
   "execution_count": 20,
   "metadata": {
    "collapsed": false,
    "slideshow": {
     "slide_type": "fragment"
    }
   },
   "outputs": [
    {
     "data": {
      "text/plain": [
       "array([ 8.2 ,  8.25,  8.3 ,  8.35,  8.4 ])"
      ]
     },
     "execution_count": 20,
     "metadata": {},
     "output_type": "execute_result"
    }
   ],
   "source": [
    "np.arange(8.2, 8.4, 0.05)  # Not OK!"
   ]
  },
  {
   "cell_type": "markdown",
   "metadata": {
    "slideshow": {
     "slide_type": "fragment"
    }
   },
   "source": [
    "**Reason**: An accumulated round-off error in the second case:"
   ]
  },
  {
   "cell_type": "code",
   "execution_count": 21,
   "metadata": {
    "collapsed": false
   },
   "outputs": [
    {
     "data": {
      "text/plain": [
       "8.35"
      ]
     },
     "execution_count": 21,
     "metadata": {},
     "output_type": "execute_result"
    }
   ],
   "source": [
    " float(repr(8.2 + 3*0.05))"
   ]
  },
  {
   "cell_type": "code",
   "execution_count": 22,
   "metadata": {
    "collapsed": false,
    "slideshow": {
     "slide_type": "fragment"
    }
   },
   "outputs": [
    {
     "data": {
      "text/plain": [
       "8.399999999999999"
      ]
     },
     "execution_count": 22,
     "metadata": {},
     "output_type": "execute_result"
    }
   ],
   "source": [
    "float(repr(8.2 + 4*0.05))"
   ]
  },
  {
   "cell_type": "markdown",
   "metadata": {
    "slideshow": {
     "slide_type": "slide"
    }
   },
   "source": [
    "# Array attributes"
   ]
  },
  {
   "cell_type": "markdown",
   "metadata": {
    "slideshow": {
     "slide_type": "subslide"
    }
   },
   "source": [
    "## Important array attributes"
   ]
  },
  {
   "cell_type": "markdown",
   "metadata": {},
   "source": [
    "Given an array `a`, you have access to some useful attributes:\n",
    "\n",
    "|Attribute|Description|\n",
    "|--|-------------------------------|\n",
    "|*a.data* |Buffer to raw data|\n",
    "|*a.dtype*|Type information of data|\n",
    "|*a.ndim* |Number of dimensions|\n",
    "|*a.shape*|Tuple representing rank of array in each direction|\n",
    "|*a.size* |Total number of elements|\n",
    "|*a.nbytes* |Total number of bytes allocated for array|"
   ]
  },
  {
   "cell_type": "markdown",
   "metadata": {
    "slideshow": {
     "slide_type": "subslide"
    }
   },
   "source": [
    "## dtypes: the type of the arrays elements"
   ]
  },
  {
   "cell_type": "markdown",
   "metadata": {
    "slideshow": {
     "slide_type": "fragment"
    }
   },
   "source": [
    "Use the `dtype` argument to create an array of a specific type:\n",
    "```python\n",
    "np.zeros(3, dtype=np.int)       # integer datatype\n",
    "np.ones(3, dtype=np.float32)    # single precision\n",
    "np.array(3, dtype=np.complex)   # complex numbers\n",
    "```\n",
    "A full list of valid types can be found [here](https://docs.scipy.org/doc/numpy/reference/arrays.dtypes.html)."
   ]
  },
  {
   "cell_type": "markdown",
   "metadata": {
    "slideshow": {
     "slide_type": "fragment"
    }
   },
   "source": [
    "**Example**: given an array a, make a new array `x` of same dimension and data type:"
   ]
  },
  {
   "cell_type": "code",
   "execution_count": 23,
   "metadata": {
    "collapsed": true
   },
   "outputs": [],
   "source": [
    "x = np.zeros(a.shape, a.dtype)"
   ]
  },
  {
   "cell_type": "markdown",
   "metadata": {
    "slideshow": {
     "slide_type": "fragment"
    }
   },
   "source": [
    "**By default**, numpy arrays will automatically select a suitable type to store the elements:"
   ]
  },
  {
   "cell_type": "code",
   "execution_count": 24,
   "metadata": {
    "collapsed": false,
    "scrolled": true,
    "slideshow": {
     "slide_type": "-"
    }
   },
   "outputs": [
    {
     "data": {
      "text/plain": [
       "dtype('<U32')"
      ]
     },
     "execution_count": 24,
     "metadata": {},
     "output_type": "execute_result"
    }
   ],
   "source": [
    "a = np.array([3.5, 4, \"Hello world\"])  \n",
    "a.dtype # dtype are unicode strings with max 32 characters"
   ]
  },
  {
   "cell_type": "markdown",
   "metadata": {
    "slideshow": {
     "slide_type": "slide"
    }
   },
   "source": [
    "# More constructions of numpy arrays"
   ]
  },
  {
   "cell_type": "markdown",
   "metadata": {},
   "source": [
    "## Python lists and numpy arrays"
   ]
  },
  {
   "cell_type": "markdown",
   "metadata": {
    "slideshow": {
     "slide_type": "subslide"
    }
   },
   "source": [
    "### From list to array\n",
    "`array(list, [datatype])` generates an array from a `list`:"
   ]
  },
  {
   "cell_type": "code",
   "execution_count": 25,
   "metadata": {
    "collapsed": true
   },
   "outputs": [],
   "source": [
    "pl = [0, 1.2, 4, -9.1, 5, 8]\n",
    "a = np.array(pl)"
   ]
  },
  {
   "cell_type": "markdown",
   "metadata": {},
   "source": [
    "The type of the array is automatically determined:"
   ]
  },
  {
   "cell_type": "code",
   "execution_count": 26,
   "metadata": {
    "collapsed": false
   },
   "outputs": [
    {
     "data": {
      "text/plain": [
       "array(['1.0', '2', 'a'], \n",
       "      dtype='<U32')"
      ]
     },
     "execution_count": 26,
     "metadata": {},
     "output_type": "execute_result"
    }
   ],
   "source": [
    "np.array([1, 2, 3])      # array of integers\n",
    "np.array([1.0, 2, 3])    # array of floats\n",
    "np.array([1.0, 2, \"a\"])  # array of strings  oflength 32"
   ]
  },
  {
   "cell_type": "markdown",
   "metadata": {},
   "source": [
    "### From array to list\n",
    "\n",
    "```python\n",
    "alist = a.tolist()\n",
    "```"
   ]
  },
  {
   "cell_type": "markdown",
   "metadata": {
    "slideshow": {
     "slide_type": "subslide"
    }
   },
   "source": [
    "## From \"anything\" to a NumPy array\n",
    "\n",
    "Given an object `a` (of type `int`, `list`, `tuple`, `array`, ...),"
   ]
  },
  {
   "cell_type": "code",
   "execution_count": 27,
   "metadata": {
    "collapsed": false
   },
   "outputs": [
    {
     "data": {
      "text/plain": [
       "array([ 0. ,  1.2,  4. , -9.1,  5. ,  8. ])"
      ]
     },
     "execution_count": 27,
     "metadata": {},
     "output_type": "execute_result"
    }
   ],
   "source": [
    "np.asarray(a)"
   ]
  },
  {
   "cell_type": "markdown",
   "metadata": {},
   "source": [
    "converts `a` to a NumPy array if possible/necessary, tries to avoid copying"
   ]
  },
  {
   "cell_type": "markdown",
   "metadata": {
    "slideshow": {
     "slide_type": "fragment"
    }
   },
   "source": [
    "**Example**: Use `asarray` to allow flexible arguments in functions:"
   ]
  },
  {
   "cell_type": "code",
   "execution_count": 30,
   "metadata": {
    "collapsed": false
   },
   "outputs": [
    {
     "data": {
      "text/plain": [
       "13"
      ]
     },
     "execution_count": 30,
     "metadata": {},
     "output_type": "execute_result"
    }
   ],
   "source": [
    "def myfunc(some_sequence):\n",
    "    a = np.asarray(some_sequence)\n",
    "    return 3*a - 5\n",
    "\n",
    "myfunc([1,2,3])       # list argument\n",
    "myfunc((-1,1))        # tuple argument\n",
    "myfunc(np.zeros(10))  # array argument\n",
    "myfunc(-4.5)          # float argument\n",
    "myfunc(6)             # int argument"
   ]
  },
  {
   "cell_type": "markdown",
   "metadata": {
    "slideshow": {
     "slide_type": "subslide"
    }
   },
   "source": [
    "## Array initialization from a Python function"
   ]
  },
  {
   "cell_type": "code",
   "execution_count": 32,
   "metadata": {
    "collapsed": false
   },
   "outputs": [
    {
     "data": {
      "text/plain": [
       "array([[  4.,   5.,   6.,   7.,   8.,   9.],\n",
       "       [  6.,   8.,  10.,  12.,  14.,  16.],\n",
       "       [  6.,   9.,  12.,  15.,  18.,  21.]])"
      ]
     },
     "execution_count": 32,
     "metadata": {},
     "output_type": "execute_result"
    }
   ],
   "source": [
    "def myfunc(i, j):\n",
    "     return (i+1)*(j+4-i)\n",
    "\n",
    "# make 3x6 array where a[i,j] = myfunc(i,j):\n",
    "np.fromfunction(myfunc, (3,6))"
   ]
  },
  {
   "cell_type": "markdown",
   "metadata": {
    "slideshow": {
     "slide_type": "slide"
    }
   },
   "source": [
    "# Higher-dimensional arrays"
   ]
  },
  {
   "cell_type": "markdown",
   "metadata": {
    "slideshow": {
     "slide_type": "subslide"
    }
   },
   "source": [
    "## Creating higher-dimensional arrays"
   ]
  },
  {
   "cell_type": "markdown",
   "metadata": {},
   "source": [
    "Passing a tuple to an array constructer results in a higher-dimensional array:"
   ]
  },
  {
   "cell_type": "code",
   "execution_count": 33,
   "metadata": {
    "collapsed": false
   },
   "outputs": [
    {
     "data": {
      "text/plain": [
       "array([[[ 0.,  0.,  0.],\n",
       "        [ 0.,  0.,  0.],\n",
       "        [ 0.,  0.,  0.]],\n",
       "\n",
       "       [[ 0.,  0.,  0.],\n",
       "        [ 0.,  0.,  0.],\n",
       "        [ 0.,  0.,  0.]]])"
      ]
     },
     "execution_count": 33,
     "metadata": {},
     "output_type": "execute_result"
    }
   ],
   "source": [
    "np.zeros((2, 3, 3))     # 2*3*3 dim. array"
   ]
  },
  {
   "cell_type": "markdown",
   "metadata": {},
   "source": [
    "A two-dimensional array from two one-dimensional Python lists:"
   ]
  },
  {
   "cell_type": "code",
   "execution_count": 34,
   "metadata": {
    "collapsed": false
   },
   "outputs": [
    {
     "data": {
      "text/plain": [
       "array([[ 0. ,  0.5,  1. ],\n",
       "       [-6.1, -2. ,  1.2]])"
      ]
     },
     "execution_count": 34,
     "metadata": {},
     "output_type": "execute_result"
    }
   ],
   "source": [
    "x = [0, 0.5, 1]\n",
    "y = [-6.1, -2, 1.2]  # Python lists\n",
    "np.array([x, y])        # form array with x and y as rows"
   ]
  },
  {
   "cell_type": "markdown",
   "metadata": {},
   "source": [
    "Numpy allows up to 32 dimensions. You can retrieve the shape of an array with"
   ]
  },
  {
   "cell_type": "code",
   "execution_count": 35,
   "metadata": {
    "collapsed": false,
    "slideshow": {
     "slide_type": "fragment"
    }
   },
   "outputs": [
    {
     "data": {
      "text/plain": [
       "(6,)"
      ]
     },
     "execution_count": 35,
     "metadata": {},
     "output_type": "execute_result"
    }
   ],
   "source": [
    "a.shape"
   ]
  },
  {
   "cell_type": "markdown",
   "metadata": {
    "slideshow": {
     "slide_type": "slide"
    }
   },
   "source": [
    "## Changing array dimensions"
   ]
  },
  {
   "cell_type": "markdown",
   "metadata": {},
   "source": [
    "Use the `shape` attribute to change the shape of the array *without copying* data:"
   ]
  },
  {
   "cell_type": "code",
   "execution_count": 36,
   "metadata": {
    "collapsed": false
   },
   "outputs": [
    {
     "name": "stdout",
     "output_type": "stream",
     "text": [
      "[[ 0.   1.2  4. ]\n",
      " [-9.1  5.   8. ]]\n"
     ]
    }
   ],
   "source": [
    "a = np.array([0, 1.2, 4, -9.1, 5, 8])\n",
    "a.shape = (2, 3)       # turn a into a 2x3 matrix\n",
    "print(a)"
   ]
  },
  {
   "cell_type": "markdown",
   "metadata": {
    "slideshow": {
     "slide_type": "fragment"
    }
   },
   "source": [
    "The reshaped array points to the same data vector, i.e. no data is copied:"
   ]
  },
  {
   "cell_type": "code",
   "execution_count": 37,
   "metadata": {
    "collapsed": false
   },
   "outputs": [
    {
     "name": "stdout",
     "output_type": "stream",
     "text": [
      "[-10.    1.2   4.   -9.1   5.    8. ]\n"
     ]
    }
   ],
   "source": [
    "a[0,0] = -10\n",
    "a.shape = (a.size,)   # turn a into a 1D - vector again\n",
    "print(a)"
   ]
  },
  {
   "cell_type": "markdown",
   "metadata": {
    "slideshow": {
     "slide_type": "fragment"
    }
   },
   "source": [
    "The `reshape` function has (nearly) same effect as setting a.shape:"
   ]
  },
  {
   "cell_type": "code",
   "execution_count": 38,
   "metadata": {
    "collapsed": false
   },
   "outputs": [
    {
     "data": {
      "text/plain": [
       "array([[-10. ,   1.2,   4. ],\n",
       "       [ -9.1,   5. ,   8. ]])"
      ]
     },
     "execution_count": 38,
     "metadata": {},
     "output_type": "execute_result"
    }
   ],
   "source": [
    "a.reshape(2,3)    "
   ]
  },
  {
   "cell_type": "markdown",
   "metadata": {
    "slideshow": {
     "slide_type": "subslide"
    }
   },
   "source": [
    "## NumPy data ordering\n",
    "\n",
    "Numpy allows to store array in *C* or *FORTRAN* ordering:\n",
    "\n",
    "<img src=\"array_ordering.svg\">\n",
    "**Note**: For one-dimensional arrays, the orders are equivalent."
   ]
  },
  {
   "cell_type": "markdown",
   "metadata": {
    "slideshow": {
     "slide_type": "fragment"
    }
   },
   "source": [
    "The order can be chosen with the `order` flag:"
   ]
  },
  {
   "cell_type": "code",
   "execution_count": 40,
   "metadata": {
    "collapsed": false
   },
   "outputs": [
    {
     "data": {
      "text/plain": [
       "True"
      ]
     },
     "execution_count": 40,
     "metadata": {},
     "output_type": "execute_result"
    }
   ],
   "source": [
    "a = np.asarray([[1, 2], [3, 4]], order='F')  # Fortran order\n",
    "a.flags.f_contiguous                         # Check if Fortran ordering is used"
   ]
  },
  {
   "cell_type": "markdown",
   "metadata": {
    "slideshow": {
     "slide_type": "subslide"
    }
   },
   "source": [
    "## NumPy data ordering (2)"
   ]
  },
  {
   "cell_type": "markdown",
   "metadata": {
    "slideshow": {
     "slide_type": "-"
    }
   },
   "source": [
    "Numpy automatically converts the ordering when necessary:"
   ]
  },
  {
   "cell_type": "code",
   "execution_count": 41,
   "metadata": {
    "collapsed": false
   },
   "outputs": [
    {
     "name": "stdout",
     "output_type": "stream",
     "text": [
      "[[2 4]\n",
      " [6 8]]\n"
     ]
    }
   ],
   "source": [
    "A = np.array([[1, 2], [3, 4]], order=\"C\")\n",
    "B = np.array([[1, 2], [3, 4]], order=\"F\")\n",
    "print(A+B)"
   ]
  },
  {
   "cell_type": "markdown",
   "metadata": {
    "slideshow": {
     "slide_type": "fragment"
    }
   },
   "source": [
    "Transposing a matrix is perfomed by swapping the ordering (without data copying):"
   ]
  },
  {
   "cell_type": "code",
   "execution_count": 42,
   "metadata": {
    "collapsed": false
   },
   "outputs": [
    {
     "data": {
      "text/plain": [
       "True"
      ]
     },
     "execution_count": 42,
     "metadata": {},
     "output_type": "execute_result"
    }
   ],
   "source": [
    "A.transpose().flags.f_contiguous   "
   ]
  },
  {
   "cell_type": "markdown",
   "metadata": {
    "slideshow": {
     "slide_type": "slide"
    }
   },
   "source": [
    "# Array indexing"
   ]
  },
  {
   "cell_type": "markdown",
   "metadata": {
    "slideshow": {
     "slide_type": "subslide"
    }
   },
   "source": [
    "## Basic indexing\n",
    "\n",
    "The indicing syntax that we are know from `list`s also work for `array`s."
   ]
  },
  {
   "cell_type": "markdown",
   "metadata": {
    "slideshow": {
     "slide_type": "fragment"
    }
   },
   "source": [
    "### Getting values\n",
    "Slicing:\n",
    "```python\n",
    "a[1:4]           # Get 2nd to 4th element\n",
    "```\n",
    "Fancy indexing:\n",
    "```python\n",
    "a[[0, 2, 3]]     # Get entries 0, 2 and 3\n",
    "```\n",
    "**Important**: Slicing returns a *view* to the original array, i.e. no data is copied. Fancy indexing always returns a copy of the array."
   ]
  },
  {
   "cell_type": "markdown",
   "metadata": {
    "slideshow": {
     "slide_type": "fragment"
    }
   },
   "source": [
    "### Setting values\n",
    "```python\n",
    "a[2:4] = -1      # set a[2] and a[3] equal to -1\n",
    "a[-1]  = a[0]    # set last equal to first element\n",
    "a[:]   = 0       # set all elements of a equal to 0\n",
    "```"
   ]
  },
  {
   "cell_type": "markdown",
   "metadata": {
    "slideshow": {
     "slide_type": "subslide"
    }
   },
   "source": [
    "## Multi-dimensional indexing\n",
    "\n",
    "Multi-dimensional indexing has the same syntax as `list`s:\n",
    "```python\n",
    "a = ones([2, 3]) # create a 2x3 matrix\n",
    "\n",
    "a[1,2] = 10      # assignment to element (1,2)\n",
    "a[1][2] = 10     # equivalent syntax (slower)\n",
    "a[:,2]           # get third column\n",
    "a[1,:]           # get second row\n",
    "a[:,:] = 0       # set all elements of a equal to 0\n",
    "```"
   ]
  },
  {
   "cell_type": "markdown",
   "metadata": {
    "slideshow": {
     "slide_type": "subslide"
    }
   },
   "source": [
    "## Example: extracting sub-matrices with slicing"
   ]
  },
  {
   "cell_type": "markdown",
   "metadata": {},
   "source": [
    "Given this matrix:"
   ]
  },
  {
   "cell_type": "code",
   "execution_count": 43,
   "metadata": {
    "collapsed": false
   },
   "outputs": [
    {
     "name": "stdout",
     "output_type": "stream",
     "text": [
      "[[  0.   1.   2.   3.   4.   5.]\n",
      " [  6.   7.   8.   9.  10.  11.]\n",
      " [ 12.  13.  14.  15.  16.  17.]\n",
      " [ 18.  19.  20.  21.  22.  23.]\n",
      " [ 24.  25.  26.  27.  28.  29.]]\n"
     ]
    }
   ],
   "source": [
    "a = np.linspace(0, 29, 30).reshape(5, 6)\n",
    "print(a)"
   ]
  },
  {
   "cell_type": "markdown",
   "metadata": {
    "slideshow": {
     "slide_type": "fragment"
    }
   },
   "source": [
    "we can use slicing to get a *view* of a subset of this matrix:"
   ]
  },
  {
   "cell_type": "code",
   "execution_count": 44,
   "metadata": {
    "collapsed": false
   },
   "outputs": [
    {
     "data": {
      "text/plain": [
       "array([[  6.,   8.,  10.],\n",
       "       [ 12.,  14.,  16.]])"
      ]
     },
     "execution_count": 44,
     "metadata": {},
     "output_type": "execute_result"
    }
   ],
   "source": [
    "a[1:3,::2]   # a[i,j] for i=1,2 and j=0,2,4"
   ]
  },
  {
   "cell_type": "code",
   "execution_count": 45,
   "metadata": {
    "collapsed": false
   },
   "outputs": [
    {
     "data": {
      "text/plain": [
       "array([[  2.,   4.],\n",
       "       [ 20.,  22.]])"
      ]
     },
     "execution_count": 45,
     "metadata": {},
     "output_type": "execute_result"
    }
   ],
   "source": [
    "a[::3,2::2]   # a[i,j] for i=0,3 and j=2,4"
   ]
  },
  {
   "cell_type": "markdown",
   "metadata": {
    "slideshow": {
     "slide_type": "subslide"
    }
   },
   "source": [
    "## Slices refer the array data\n",
    "\n",
    "Assigning to a sliced array will change the original array:"
   ]
  },
  {
   "cell_type": "code",
   "execution_count": 46,
   "metadata": {
    "collapsed": false
   },
   "outputs": [
    {
     "name": "stdout",
     "output_type": "stream",
     "text": [
      "[[ 1.          1.        ]\n",
      " [ 1.          1.        ]\n",
      " [ 3.14159265  1.        ]]\n"
     ]
    }
   ],
   "source": [
    "a = np.ones([3, 2])\n",
    "b = a[2,:]      # get a view onto the 2nd row\n",
    "b[0] = np.pi       # assigning to b is reflected in a! \n",
    "print(a)       "
   ]
  },
  {
   "cell_type": "markdown",
   "metadata": {
    "slideshow": {
     "slide_type": "fragment"
    }
   },
   "source": [
    "To avoid referencing via slices (if needed) use `copy`:\n",
    "```python\n",
    "b = a[2,:].copy()  # b has its own vector structure\n",
    "```"
   ]
  },
  {
   "cell_type": "markdown",
   "metadata": {
    "slideshow": {
     "slide_type": "fragment"
    }
   },
   "source": [
    "**Note**: This behaviour is different to Python `lists`, where `a[:]` makes always a copy"
   ]
  },
  {
   "cell_type": "markdown",
   "metadata": {
    "slideshow": {
     "slide_type": "slide"
    }
   },
   "source": [
    "# Loops\n"
   ]
  },
  {
   "cell_type": "markdown",
   "metadata": {
    "slideshow": {
     "slide_type": "subslide"
    }
   },
   "source": [
    "## Loops over arrays using indices\n",
    "\n",
    "```python\n",
    "for i in range(a.shape[0]):\n",
    "    for j in range(a.shape[1]):\n",
    "        a[i,j] = (i+1)*(j+1)*(j+2)\n",
    "        print('a[%d,%d]=%g ' % (i,j,a[i,j]),)\n",
    "    print()  # empty line after each row\n",
    "```\n"
   ]
  },
  {
   "cell_type": "markdown",
   "metadata": {
    "slideshow": {
     "slide_type": "slide"
    }
   },
   "source": [
    "## Standard Python loops"
   ]
  },
  {
   "cell_type": "markdown",
   "metadata": {
    "slideshow": {
     "slide_type": "-"
    }
   },
   "source": [
    "A standard for loop iterates over the first index. "
   ]
  },
  {
   "cell_type": "markdown",
   "metadata": {
    "slideshow": {
     "slide_type": "fragment"
    }
   },
   "source": [
    "**Example:** Looping over each element in a matrix:\n",
    "```python\n",
    "for row in a:\n",
    "    for element in row:\n",
    "         my_func(element)\n",
    "```"
   ]
  },
  {
   "cell_type": "markdown",
   "metadata": {
    "slideshow": {
     "slide_type": "fragment"
    }
   },
   "source": [
    "**Alternative**: View array as one-dimensional and iterate over all elements:\n",
    "```python\n",
    "for e in a.ravel():\n",
    "    my_func(element)\n",
    "```\n",
    "Use `ravel()` only when reading elements, for assigning it is better to use `shape` or `reshape`."
   ]
  },
  {
   "cell_type": "markdown",
   "metadata": {
    "slideshow": {
     "slide_type": "subslide"
    }
   },
   "source": [
    "## Python loops with indices"
   ]
  },
  {
   "cell_type": "markdown",
   "metadata": {
    "slideshow": {
     "slide_type": "-"
    }
   },
   "source": [
    "Looping with access to the indices, can be done with `numpy.ndenumerate` (similar to `enumerate` from lists):\n",
    "```python\n",
    "for index, value in np.ndenumerate(a):\n",
    "     print(index, value)\n",
    "```\n",
    "```bash\n",
    "(0, 0) 2.0\n",
    "(0, 1) 6.0\n",
    "(0, 2) 12.0\n",
    "(0, 3) 20.0\n",
    "...\n",
    "```"
   ]
  },
  {
   "cell_type": "markdown",
   "metadata": {
    "slideshow": {
     "slide_type": "slide"
    }
   },
   "source": [
    "# Array computations"
   ]
  },
  {
   "cell_type": "markdown",
   "metadata": {
    "slideshow": {
     "slide_type": "subslide"
    }
   },
   "source": [
    "## Arithmetic operations\n",
    "\n",
    "Arithmetic operations can be used with arrays:"
   ]
  },
  {
   "cell_type": "code",
   "execution_count": 47,
   "metadata": {
    "collapsed": true
   },
   "outputs": [],
   "source": [
    "b = 3*a - 1    # a is array, b becomes array"
   ]
  },
  {
   "cell_type": "markdown",
   "metadata": {},
   "source": [
    "1. compute `t1 = 3*a`\n",
    "2. compute `t2= t1 - 1`\n",
    "3. set `b = t2`"
   ]
  },
  {
   "cell_type": "markdown",
   "metadata": {
    "slideshow": {
     "slide_type": "subslide"
    }
   },
   "source": [
    "## Array operations are much faster than element-wise operations"
   ]
  },
  {
   "cell_type": "markdown",
   "metadata": {},
   "source": [
    "Let's compare the array versus element-wise operation on a 10 million large array."
   ]
  },
  {
   "cell_type": "markdown",
   "metadata": {
    "slideshow": {
     "slide_type": "fragment"
    }
   },
   "source": [
    "#### Element wise implementation"
   ]
  },
  {
   "cell_type": "code",
   "execution_count": 48,
   "metadata": {
    "collapsed": false
   },
   "outputs": [
    {
     "name": "stdout",
     "output_type": "stream",
     "text": [
      "6.209 sec\n"
     ]
    }
   ],
   "source": [
    "import time  # module for measuring CPU time\n",
    "\n",
    "a = np.linspace(0, 1, 1e+07)  # create a large array\n",
    "\n",
    "t0 = time.clock()\n",
    "b = np.zeros(a.size)\n",
    "for i in range(a.size): \n",
    "    b[i] = 3*a[i] - 1\n",
    "t1 = time.clock()\n",
    "print('{:.3f} sec'.format(t1-t0))"
   ]
  },
  {
   "cell_type": "markdown",
   "metadata": {
    "slideshow": {
     "slide_type": "fragment"
    }
   },
   "source": [
    "#### Implementation with array operations"
   ]
  },
  {
   "cell_type": "code",
   "execution_count": 49,
   "metadata": {
    "collapsed": false,
    "slideshow": {
     "slide_type": "-"
    }
   },
   "outputs": [
    {
     "name": "stdout",
     "output_type": "stream",
     "text": [
      "0.077 sec\n"
     ]
    }
   ],
   "source": [
    "t2 = time.clock()\n",
    "b = 3*a -1\n",
    "t3 = time.clock() \n",
    "print('{:.3f} sec'.format(t3-t2))"
   ]
  },
  {
   "cell_type": "markdown",
   "metadata": {
    "slideshow": {
     "slide_type": "fragment"
    }
   },
   "source": [
    "or in other words, a speed-up of:"
   ]
  },
  {
   "cell_type": "code",
   "execution_count": 51,
   "metadata": {
    "collapsed": false
   },
   "outputs": [
    {
     "name": "stdout",
     "output_type": "stream",
     "text": [
      "80.60699237797758\n"
     ]
    }
   ],
   "source": [
    "print((t1-t0)/(t3-t2))"
   ]
  },
  {
   "cell_type": "markdown",
   "metadata": {
    "slideshow": {
     "slide_type": "slide"
    }
   },
   "source": [
    "## Numpy standard math functions can take array arguments"
   ]
  },
  {
   "cell_type": "markdown",
   "metadata": {},
   "source": [
    "```python\n",
    "# let b be an array\n",
    "b = np.linspace(0, 100, 99)\n",
    "\n",
    "c = np.sin(b)\n",
    "c = np.arcsin(c)\n",
    "c = np.sinh(b)\n",
    "# same functions for the cos and tan families\n",
    "\n",
    "c = b**2.5  # power function\n",
    "c = np.log(b)\n",
    "c = np.exp(b)\n",
    "c = np.sqrt(b)\n",
    "```"
   ]
  },
  {
   "cell_type": "markdown",
   "metadata": {
    "slideshow": {
     "slide_type": "fragment"
    }
   },
   "source": [
    "**Note**: The maths function from the math module (`from math import sin, ...`) also work on arrays, but are slower that the numpy implementations!"
   ]
  },
  {
   "cell_type": "markdown",
   "metadata": {
    "slideshow": {
     "slide_type": "slide"
    }
   },
   "source": [
    "## Other useful array operations"
   ]
  },
  {
   "cell_type": "markdown",
   "metadata": {},
   "source": [
    "```python\n",
    "# a is an array\n",
    "a.clip(min=3, max=12)  # clip elements (elementwise)\n",
    "a.mean(); np.mean(a)      # mean value\n",
    "a.var();  np.var(a)       # variance\n",
    "a.std();  np.std(a)       # standard deviation\n",
    "np.median(a)\n",
    "np.cov(x,y)               # covariance\n",
    "np.trapz(a)               # Trapezoidal integration\n",
    "np.diff(a)                # finite differences (da/dx)\n",
    "\n",
    "# more Matlab-like functions:\n",
    "corrcoef, cumprod, diag, linalg.eig, eye, fliplr, flipud, max, min,\n",
    "prod, ptp, rot90, squeeze, sum, linalg.svd, tri, tril, triu\n",
    "```"
   ]
  },
  {
   "cell_type": "markdown",
   "metadata": {},
   "source": [
    "# Vectorization"
   ]
  },
  {
   "cell_type": "code",
   "execution_count": 53,
   "metadata": {
    "collapsed": true
   },
   "outputs": [],
   "source": [
    "a = np.ones(10)\n",
    "b = np.arange(10)"
   ]
  },
  {
   "cell_type": "code",
   "execution_count": 54,
   "metadata": {
    "collapsed": false
   },
   "outputs": [
    {
     "name": "stdout",
     "output_type": "stream",
     "text": [
      "[ 1.  1.  1.  1.  1.  1.  1.  1.  1.  1.]\n"
     ]
    }
   ],
   "source": [
    "print(a)"
   ]
  },
  {
   "cell_type": "code",
   "execution_count": 55,
   "metadata": {
    "collapsed": false
   },
   "outputs": [
    {
     "name": "stdout",
     "output_type": "stream",
     "text": [
      "[0 1 2 3 4 5 6 7 8 9]\n"
     ]
    }
   ],
   "source": [
    "print(b)"
   ]
  },
  {
   "cell_type": "markdown",
   "metadata": {},
   "source": [
    "## Non-vectorised implementation"
   ]
  },
  {
   "cell_type": "code",
   "execution_count": 59,
   "metadata": {
    "collapsed": true
   },
   "outputs": [],
   "source": [
    "out = np.ndarray(len(b))\n",
    "for i in range(len(b)):\n",
    "    out[i] = np.sin(b[i])"
   ]
  },
  {
   "cell_type": "code",
   "execution_count": 60,
   "metadata": {
    "collapsed": true
   },
   "outputs": [],
   "source": [
    "## Vectorised implementation"
   ]
  },
  {
   "cell_type": "code",
   "execution_count": 62,
   "metadata": {
    "collapsed": false
   },
   "outputs": [
    {
     "data": {
      "text/plain": [
       "array([ 0.        ,  0.84147098,  0.90929743,  0.14112001, -0.7568025 ,\n",
       "       -0.95892427, -0.2794155 ,  0.6569866 ,  0.98935825,  0.41211849])"
      ]
     },
     "execution_count": 62,
     "metadata": {},
     "output_type": "execute_result"
    }
   ],
   "source": [
    "np.sin(b)"
   ]
  },
  {
   "cell_type": "code",
   "execution_count": null,
   "metadata": {
    "collapsed": true
   },
   "outputs": [],
   "source": []
  }
 ],
 "metadata": {
  "kernelspec": {
   "display_name": "Python 2",
   "language": "python",
   "name": "python2"
  },
  "language_info": {
   "codemirror_mode": {
    "name": "ipython",
    "version": 2
   },
   "file_extension": ".py",
   "mimetype": "text/x-python",
   "name": "python",
   "nbconvert_exporter": "python",
   "pygments_lexer": "ipython2",
   "version": "2.7.12"
  },
  "livereveal": {
   "scroll": true,
   "start_slideshow_at": "selected",
   "theme": "serif"
  }
 },
 "nbformat": 4,
 "nbformat_minor": 1
}
