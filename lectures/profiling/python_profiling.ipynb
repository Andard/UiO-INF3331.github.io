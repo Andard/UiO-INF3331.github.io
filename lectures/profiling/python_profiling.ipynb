{
 "cells": [
  {
   "cell_type": "markdown",
   "metadata": {
    "slideshow": {
     "slide_type": "slide"
    }
   },
   "source": [
    "# Profiling: Finding bottlenecks in Python programs\n",
    "**Contributors**: Simon Funke"
   ]
  },
  {
   "cell_type": "markdown",
   "metadata": {
    "slideshow": {
     "slide_type": "subslide"
    }
   },
   "source": [
    "*\"First make it work. Then make it right. Then make it fast.\"* \n",
    "  \n",
    "  Kent Beck"
   ]
  },
  {
   "cell_type": "markdown",
   "metadata": {
    "slideshow": {
     "slide_type": "subslide"
    }
   },
   "source": [
    "## Profiling allows us to measure resources used by sections of the program. "
   ]
  },
  {
   "cell_type": "markdown",
   "metadata": {
    "slideshow": {
     "slide_type": "fragment"
    }
   },
   "source": [
    "Typical resources of interest are\n",
    "* CPU\n",
    "* Memory\n",
    "* Disk I/O\n",
    "* Network I/O\n",
    "* ..."
   ]
  },
  {
   "cell_type": "markdown",
   "metadata": {},
   "source": [
    "We focus on **CPU** profiling only."
   ]
  },
  {
   "cell_type": "markdown",
   "metadata": {
    "slideshow": {
     "slide_type": "subslide"
    }
   },
   "source": [
    "## CPU: start simple, switch to more complex techniques if needed!"
   ]
  },
  {
   "cell_type": "markdown",
   "metadata": {
    "slideshow": {
     "slide_type": "fragment"
    }
   },
   "source": [
    "1. Manual timing\n",
    "2. timeit module\n",
    "3. Profiling"
   ]
  },
  {
   "cell_type": "markdown",
   "metadata": {
    "slideshow": {
     "slide_type": "subslide"
    }
   },
   "source": [
    "## Case study: filling a grid with point values\n",
    "\n",
    "* Consider a rectangular 2D grid\n",
    "<center>![lattice](pdf/grid_lattice.svg \"Python\")Grid lattice</center>\n",
    "* Goal: a NumPy array `a[i,j]` that holds values at the grid points"
   ]
  },
  {
   "cell_type": "markdown",
   "metadata": {
    "slideshow": {
     "slide_type": "subslide"
    }
   },
   "source": [
    "# An implementation"
   ]
  },
  {
   "cell_type": "code",
   "execution_count": 4,
   "metadata": {
    "collapsed": true
   },
   "outputs": [],
   "source": [
    "from numpy import *\n",
    "\n",
    "class Grid2D(object):\n",
    "    def __init__(self,\n",
    "                 xmin=0, xmax=1, dx=0.5,\n",
    "                 ymin=0, ymax=1, dy=0.5):\n",
    "        \n",
    "        self.xcoor = arange(xmin, xmax+dx, step=dx)\n",
    "        self.ycoor = arange(ymin, ymax+dy, step=dy)\n",
    "\n",
    "    def gridloop(self, f):\n",
    "        lx = size(self.xcoor)\n",
    "        ly = size(self.ycoor)\n",
    "        a = zeros((lx,ly))\n",
    "\n",
    "        for i in range(lx):\n",
    "            x = self.xcoor[i]\n",
    "            for j in range(ly):\n",
    "                y = self.ycoor[j]\n",
    "                a[i,j] = f(x, y)\n",
    "        return a"
   ]
  },
  {
   "cell_type": "markdown",
   "metadata": {
    "slideshow": {
     "slide_type": "subslide"
    }
   },
   "source": [
    "# Usage"
   ]
  },
  {
   "cell_type": "markdown",
   "metadata": {},
   "source": [
    "Creating a new grid"
   ]
  },
  {
   "cell_type": "code",
   "execution_count": 5,
   "metadata": {
    "collapsed": false
   },
   "outputs": [],
   "source": [
    "g = Grid2D(dx=0.001, dy=0.001)"
   ]
  },
  {
   "cell_type": "markdown",
   "metadata": {},
   "source": [
    "Computing grid values"
   ]
  },
  {
   "cell_type": "code",
   "execution_count": 6,
   "metadata": {
    "collapsed": false,
    "slideshow": {
     "slide_type": "fragment"
    }
   },
   "outputs": [
    {
     "name": "stdout",
     "output_type": "stream",
     "text": [
      "Computing grid values...\n",
      "done\n"
     ]
    }
   ],
   "source": [
    "def myfunc(x, y):\n",
    "    return sin(x*y) + y\n",
    "\n",
    "print(\"Computing grid values...\")\n",
    "a = g.gridloop(myfunc)\n",
    "print(\"done\")"
   ]
  },
  {
   "cell_type": "markdown",
   "metadata": {
    "slideshow": {
     "slide_type": "slide"
    }
   },
   "source": [
    "# Manual timing"
   ]
  },
  {
   "cell_type": "markdown",
   "metadata": {
    "slideshow": {
     "slide_type": "fragment"
    }
   },
   "source": [
    "Use `time.time()` to measure the time spend in a code section.\n",
    "```python\n",
    "import time\n",
    "t0 = time.time()\n",
    "# execute code here\n",
    "t1 = time.time()\n",
    "print(\"Runtime: {}\".format(t1-t0))\n",
    "```\n",
    "  "
   ]
  },
  {
   "cell_type": "markdown",
   "metadata": {
    "slideshow": {
     "slide_type": "fragment"
    }
   },
   "source": [
    "**Tips**:\n",
    "* Simple statements should be placed in a loop.\n",
    "* Make sure to have no other expensive programs running.\n",
    "* Run the tests several times, choose the fastest. **Why?**"
   ]
  },
  {
   "cell_type": "markdown",
   "metadata": {
    "slideshow": {
     "slide_type": "subslide"
    }
   },
   "source": [
    "## Python challenge\n",
    "\n",
    "1. Download [grid.py (link)](https://raw.githubusercontent.com/UiO-INF3331/UiO-INF3331.github.io/crash-course/lectures/profiling/code/grid.py) and run it. Which parts of the main function calls might be slow (consider the main functions first)?\n",
    "2. Time the suspected slow code lines and compare to the total runtime."
   ]
  },
  {
   "cell_type": "markdown",
   "metadata": {
    "slideshow": {
     "slide_type": "subslide"
    }
   },
   "source": [
    "## Timing of `grid.py`"
   ]
  },
  {
   "cell_type": "markdown",
   "metadata": {},
   "source": [
    "Two parts that could potentially be slow: \n",
    "1. The initialisation `Grid2D(dx=0.001, dy=0.001)`\n",
    "2. Calling the `g.gridloop(myfunc)` function."
   ]
  },
  {
   "cell_type": "markdown",
   "metadata": {
    "slideshow": {
     "slide_type": "fragment"
    }
   },
   "source": [
    "We time these two parts separately to figure out how much time is spend in each."
   ]
  },
  {
   "cell_type": "markdown",
   "metadata": {
    "slideshow": {
     "slide_type": "subslide"
    }
   },
   "source": [
    "### Timing the Grid2D initialisation"
   ]
  },
  {
   "cell_type": "code",
   "execution_count": 7,
   "metadata": {
    "collapsed": false,
    "slideshow": {
     "slide_type": "fragment"
    }
   },
   "outputs": [
    {
     "name": "stdout",
     "output_type": "stream",
     "text": [
      "Experiment 1, CPU time: 0.000124 s\n",
      "Experiment 2, CPU time: 4.244e-05 s\n",
      "Experiment 3, CPU time: 3.648e-05 s\n",
      "Done\n"
     ]
    }
   ],
   "source": [
    "import time\n",
    "\n",
    "for i in range(1, 4):\n",
    "    t0 = time.time()\n",
    "    g = Grid2D(dx=0.001, dy=0.001)\n",
    "    t1 = time.time()\n",
    "    print(\"Experiment {}, CPU time: {:.4} s\".format(i, t1-t0))\n",
    "print(\"Done\")"
   ]
  },
  {
   "cell_type": "markdown",
   "metadata": {
    "slideshow": {
     "slide_type": "subslide"
    }
   },
   "source": [
    "### Timing the `gridloop` function"
   ]
  },
  {
   "cell_type": "code",
   "execution_count": 8,
   "metadata": {
    "collapsed": false,
    "slideshow": {
     "slide_type": "fragment"
    }
   },
   "outputs": [
    {
     "name": "stdout",
     "output_type": "stream",
     "text": [
      "Experiment 1. CPU time: 1.111 s\n",
      "Experiment 2. CPU time: 1.094 s\n",
      "Experiment 3. CPU time: 1.088 s\n",
      "Done\n"
     ]
    }
   ],
   "source": [
    "import time\n",
    "\n",
    "for i in range(1, 4):\n",
    "    t0 = time.time()\n",
    "    g.gridloop(myfunc)\n",
    "    t1 = time.time()\n",
    "    print(\"Experiment {}. CPU time: {:.4} s\".format(i, t1-t0))\n",
    "print(\"Done\")"
   ]
  },
  {
   "cell_type": "markdown",
   "metadata": {
    "slideshow": {
     "slide_type": "fragment"
    }
   },
   "source": [
    "$=>$ The gridloop function is the cause of the slow execution!"
   ]
  },
  {
   "cell_type": "markdown",
   "metadata": {
    "slideshow": {
     "slide_type": "slide"
    }
   },
   "source": [
    "# The *timeit* module"
   ]
  },
  {
   "cell_type": "markdown",
   "metadata": {
    "slideshow": {
     "slide_type": "subslide"
    }
   },
   "source": [
    "## The *timeit* module (1)\n",
    "\n",
    "The `timeit` module provides an convenient way for measuring the CPU time of small code snippets."
   ]
  },
  {
   "cell_type": "code",
   "execution_count": 15,
   "metadata": {
    "collapsed": false,
    "slideshow": {
     "slide_type": "fragment"
    }
   },
   "outputs": [
    {
     "data": {
      "text/plain": [
       "0.05626105699775508"
      ]
     },
     "execution_count": 15,
     "metadata": {},
     "output_type": "execute_result"
    }
   ],
   "source": [
    "import timeit\n",
    "timeit.timeit(stmt=\"a+=1\", setup=\"a=0\")  "
   ]
  },
  {
   "cell_type": "markdown",
   "metadata": {},
   "source": [
    "By default the **accumulated time** for 1,000,000 statements is returned. This number can be changed with the `number` keyword:"
   ]
  },
  {
   "cell_type": "code",
   "execution_count": 16,
   "metadata": {
    "collapsed": false
   },
   "outputs": [
    {
     "data": {
      "text/plain": [
       "3.0810006137471646e-06"
      ]
     },
     "execution_count": 16,
     "metadata": {},
     "output_type": "execute_result"
    }
   ],
   "source": [
    "timeit.timeit(stmt=\"a+=1\",setup=\"a=0\", number=1)"
   ]
  },
  {
   "cell_type": "markdown",
   "metadata": {
    "slideshow": {
     "slide_type": "fragment"
    }
   },
   "source": [
    "Use `timeit.repeat` to repeat the experiment multiple times:"
   ]
  },
  {
   "cell_type": "code",
   "execution_count": 17,
   "metadata": {
    "collapsed": false
   },
   "outputs": [
    {
     "data": {
      "text/plain": [
       "[0.0005116499996802304, 0.0006180050004331861, 0.0005113170009281021]"
      ]
     },
     "execution_count": 17,
     "metadata": {},
     "output_type": "execute_result"
    }
   ],
   "source": [
    "timeit.repeat(stmt=\"a+=1\",setup=\"a=0\", number=10000, repeat=3)"
   ]
  },
  {
   "cell_type": "markdown",
   "metadata": {
    "slideshow": {
     "slide_type": "subslide"
    }
   },
   "source": [
    "## Timing user-defined functions requires a trick"
   ]
  },
  {
   "cell_type": "markdown",
   "metadata": {
    "slideshow": {
     "slide_type": "fragment"
    }
   },
   "source": [
    "`timeit` isolates the global namespace, so we need to pass the functions through the setup routine:"
   ]
  },
  {
   "cell_type": "code",
   "execution_count": 20,
   "metadata": {
    "collapsed": false,
    "slideshow": {
     "slide_type": "-"
    }
   },
   "outputs": [
    {
     "data": {
      "text/plain": [
       "[1.973618121999607, 1.9566386259994033, 1.9746652839985472]"
      ]
     },
     "execution_count": 20,
     "metadata": {},
     "output_type": "execute_result"
    }
   ],
   "source": [
    "timeit.repeat(stmt=\"g.gridloop(myfunc)\", \n",
    "              setup=\"from __main__  import g, myfunc\", number=1)"
   ]
  },
  {
   "cell_type": "markdown",
   "metadata": {
    "slideshow": {
     "slide_type": "subslide"
    }
   },
   "source": [
    "## IPython's %timeit magic\n",
    "\n",
    "IPython provides a magic to simplify timing code in the IPython shell"
   ]
  },
  {
   "cell_type": "code",
   "execution_count": 23,
   "metadata": {
    "collapsed": false
   },
   "outputs": [
    {
     "name": "stdout",
     "output_type": "stream",
     "text": [
      "1 loop, best of 3: 1.95 s per loop\n"
     ]
    }
   ],
   "source": [
    "%timeit g.gridloop(myfunc) "
   ]
  },
  {
   "cell_type": "markdown",
   "metadata": {},
   "source": [
    "The `timeit` magic determins automatically how often to repeat the experiment."
   ]
  },
  {
   "cell_type": "code",
   "execution_count": 23,
   "metadata": {
    "collapsed": true
   },
   "outputs": [],
   "source": [
    "%timeit?"
   ]
  },
  {
   "cell_type": "markdown",
   "metadata": {
    "slideshow": {
     "slide_type": "subslide"
    }
   },
   "source": [
    "## Python challenges\n",
    "\n",
    "1. Time the `gridloop` function with the timeit module. \n",
    "2. Repeat the timing experiment 10 times and create a histogram of the results (use the `matplotlib.pyplot.hist` function of the result).\n",
    "3. **Bonus** Explore the `timer` parameter of the timeit function. Try different timers and explain the differences?\n",
    "3. **Bonus**: Can you improve the performance of the code?"
   ]
  },
  {
   "cell_type": "markdown",
   "metadata": {
    "slideshow": {
     "slide_type": "subslide"
    }
   },
   "source": [
    "## How can we speed up the program?"
   ]
  },
  {
   "cell_type": "markdown",
   "metadata": {
    "slideshow": {
     "slide_type": "fragment"
    }
   },
   "source": [
    "* `myfunc` is fairly straight-forward\n",
    "  ```python\n",
    "  def myfunc(x, y):\n",
    "    return sin(x*y) + y\n",
    "  ```\n",
    "  Might be difficult to improve.\n",
    "* What about `gridloop`?"
   ]
  },
  {
   "cell_type": "markdown",
   "metadata": {
    "slideshow": {
     "slide_type": "subslide"
    }
   },
   "source": [
    "## Recall that, `gridloop` was a function of the form"
   ]
  },
  {
   "cell_type": "markdown",
   "metadata": {
    "slideshow": {
     "slide_type": "-"
    }
   },
   "source": [
    "```python\n",
    "def gridloop(self, f):\n",
    "    lx = size(self.xcoor)\n",
    "    ly = size(self.ycoor)\n",
    "    a = zeros((lx,ly))\n",
    "\n",
    "    for i in range(lx):\n",
    "        x = self.xcoor[i]\n",
    "        for j in range(ly):\n",
    "            y = self.ycoor[j]\n",
    "             a[i,j] = f(x, y)\n",
    "    return a\n",
    "```"
   ]
  },
  {
   "cell_type": "markdown",
   "metadata": {},
   "source": [
    "It would be useful to see how much time is spend in each line!"
   ]
  },
  {
   "cell_type": "markdown",
   "metadata": {
    "slideshow": {
     "slide_type": "slide"
    }
   },
   "source": [
    "## Line by line profiling"
   ]
  },
  {
   "cell_type": "markdown",
   "metadata": {},
   "source": [
    "The `line_profiler` inspects the time spend in each line of a Python function. "
   ]
  },
  {
   "cell_type": "markdown",
   "metadata": {
    "slideshow": {
     "slide_type": "fragment"
    }
   },
   "source": [
    "**Usage**:\n",
    "\n",
    "1. Install with `pip install line_profiler`\n",
    "2. \"Decorate\" the function of interest with `@profile`:\n",
    "    ```python\n",
    "    @profile\n",
    "    def gridloop(func):\n",
    "        # ...\n",
    "    ```\n",
    "3. Run line profiler with:\n",
    "    ```bash\n",
    "    kernprof -l -v grid2d_lineprofile.py\n",
    "    ```"
   ]
  },
  {
   "cell_type": "markdown",
   "metadata": {
    "slideshow": {
     "slide_type": "subslide"
    }
   },
   "source": [
    "## Demo"
   ]
  },
  {
   "cell_type": "code",
   "execution_count": 34,
   "metadata": {
    "collapsed": false
   },
   "outputs": [
    {
     "name": "stdout",
     "output_type": "stream",
     "text": [
      "Wrote profile results to grid2d_lineprofile.py.lprof\r\n",
      "Timer unit: 1e-06 s\r\n",
      "\r\n",
      "Total time: 2.70093 s\r\n",
      "File: code/grid2d_lineprofile.py\r\n",
      "Function: gridloop at line 11\r\n",
      "\r\n",
      "Line #      Hits         Time  Per Hit   % Time  Line Contents\r\n",
      "==============================================================\r\n",
      "    11                                               @profile\r\n",
      "    12                                               def gridloop(self, f):\r\n",
      "    13         1            8      8.0      0.0          lx = size(self.xcoor)\r\n",
      "    14         1            4      4.0      0.0          ly = size(self.ycoor)\r\n",
      "    15         1           13     13.0      0.0          a = zeros((lx,ly))\r\n",
      "    16                                           \r\n",
      "    17      1002          441      0.4      0.0          for i in range(lx):\r\n",
      "    18      1001          545      0.5      0.0              x = self.xcoor[i]\r\n",
      "    19   1003002       457434      0.5     16.9              for j in range(ly):\r\n",
      "    20   1002001       542272      0.5     20.1                  y = self.ycoor[j]\r\n",
      "    21   1002001      1700208      1.7     62.9                  a[i,j] = f(x, y)\r\n",
      "    22         1            1      1.0      0.0          return a\r\n",
      "\r\n"
     ]
    }
   ],
   "source": [
    "!kernprof -l -v code/grid2d_lineprofile.py"
   ]
  },
  {
   "cell_type": "markdown",
   "metadata": {
    "slideshow": {
     "slide_type": "skip"
    }
   },
   "source": [
    "**Conclusion:** Most of the time is spend in loops and indexing => **Vectorization might be the answer!**"
   ]
  },
  {
   "cell_type": "markdown",
   "metadata": {
    "slideshow": {
     "slide_type": "slide"
    }
   },
   "source": [
    "## A vectorised Grid2D implementation"
   ]
  },
  {
   "cell_type": "code",
   "execution_count": 52,
   "metadata": {
    "collapsed": true
   },
   "outputs": [],
   "source": [
    "class VectorisedGrid2D(object):\n",
    "    def __init__(self,\n",
    "                 xmin=0, xmax=1, dx=0.5,\n",
    "                 ymin=0, ymax=1, dy=0.5):\n",
    "        \n",
    "        self.xcoor = arange(xmin, xmax+dx, step=dx)\n",
    "        self.ycoor = arange(ymin, ymax+dy, step=dy)\n",
    "\n",
    "    def gridloop(self, f):\n",
    "        return f(self.xcoor[:,newaxis], self.ycoor[newaxis,:])  # Vectorized grid evaluation "
   ]
  },
  {
   "cell_type": "markdown",
   "metadata": {
    "slideshow": {
     "slide_type": "subslide"
    }
   },
   "source": [
    "### Python challenge\n",
    "\n",
    "2. Time the VectorisedGrid2D implementation."
   ]
  },
  {
   "cell_type": "markdown",
   "metadata": {
    "slideshow": {
     "slide_type": "subslide"
    }
   },
   "source": [
    "## Timing the vectorised Grid2D"
   ]
  },
  {
   "cell_type": "code",
   "execution_count": 53,
   "metadata": {
    "collapsed": false
   },
   "outputs": [
    {
     "data": {
      "text/plain": [
       "[0.02455411600021762,\n",
       " 0.025373734002641868,\n",
       " 0.019323732998600462,\n",
       " 0.017610052000236465,\n",
       " 0.017593815999134677]"
      ]
     },
     "execution_count": 53,
     "metadata": {},
     "output_type": "execute_result"
    }
   ],
   "source": [
    "vg = VectorisedGrid2D(dx=0.001, dy=0.001)\n",
    "timeit.repeat(stmt=\"vg.gridloop(myfunc)\", setup=\"from __main__  import vg, myfunc\", repeat=5, number=1)"
   ]
  },
  {
   "cell_type": "code",
   "execution_count": 54,
   "metadata": {
    "collapsed": false,
    "slideshow": {
     "slide_type": "fragment"
    }
   },
   "outputs": [
    {
     "data": {
      "text/plain": [
       "[1.138242409000668,\n",
       " 1.1633209499996156,\n",
       " 1.1122100009997666,\n",
       " 1.1192373499980022,\n",
       " 1.1429081710011815]"
      ]
     },
     "execution_count": 54,
     "metadata": {},
     "output_type": "execute_result"
    }
   ],
   "source": [
    "g = Grid2D(dx=0.001, dy=0.001)\n",
    "timeit.repeat(stmt=\"g.gridloop(myfunc)\", setup=\"from __main__  import g, myfunc\", repeat=5, number=1)"
   ]
  },
  {
   "cell_type": "markdown",
   "metadata": {
    "slideshow": {
     "slide_type": "fragment"
    }
   },
   "source": [
    "**Vectorization yields a ca. 60 times speed improvement!**"
   ]
  },
  {
   "cell_type": "markdown",
   "metadata": {
    "slideshow": {
     "slide_type": "slide"
    }
   },
   "source": [
    "## Profiling"
   ]
  },
  {
   "cell_type": "markdown",
   "metadata": {},
   "source": [
    "A profile is a set of statistics that describes how often and for how long various parts of the program executed."
   ]
  },
  {
   "cell_type": "code",
   "execution_count": 55,
   "metadata": {
    "collapsed": false
   },
   "outputs": [],
   "source": [
    "import cProfile\n",
    "pr = cProfile.Profile()\n",
    "res = pr.run(\"g.gridloop(myfunc)\")  # res contains the statistics"
   ]
  },
  {
   "cell_type": "markdown",
   "metadata": {
    "slideshow": {
     "slide_type": "subslide"
    }
   },
   "source": [
    "## Viewing runtime statistics"
   ]
  },
  {
   "cell_type": "code",
   "execution_count": 56,
   "metadata": {
    "collapsed": false,
    "slideshow": {
     "slide_type": "-"
    }
   },
   "outputs": [
    {
     "name": "stdout",
     "output_type": "stream",
     "text": [
      "         1002008 function calls in 1.295 seconds\n",
      "\n",
      "   Ordered by: standard name\n",
      "\n",
      "   ncalls  tottime  percall  cumtime  percall filename:lineno(function)\n",
      "        1    0.428    0.428    1.295    1.295 <ipython-input-4-af8978036994>:11(gridloop)\n",
      "  1002001    0.866    0.000    0.866    0.000 <ipython-input-6-cb0af04eab3f>:1(myfunc)\n",
      "        1    0.000    0.000    1.295    1.295 <string>:1(<module>)\n",
      "        2    0.000    0.000    0.000    0.000 fromnumeric.py:2659(size)\n",
      "        1    0.000    0.000    1.295    1.295 {built-in method builtins.exec}\n",
      "        1    0.001    0.001    0.001    0.001 {built-in method numpy.core.multiarray.zeros}\n",
      "        1    0.000    0.000    0.000    0.000 {method 'disable' of '_lsprof.Profiler' objects}\n",
      "\n",
      "\n"
     ]
    }
   ],
   "source": [
    "res.print_stats()"
   ]
  },
  {
   "cell_type": "markdown",
   "metadata": {},
   "source": [
    "**ncalls**: number of calls, **tottime**: total time spent in the given function excluding time made in calls to sub-functions, **percall**: tottime divided by ncalls, **cumtime**: cumulative time spent in this and all subfunctions, **percall**: cumtime divided by ncalls, **filename:lineno(function)**: information about the function"
   ]
  }
 ],
 "metadata": {
  "celltoolbar": "Slideshow",
  "kernelspec": {
   "display_name": "Python 3",
   "language": "python",
   "name": "python3"
  },
  "language_info": {
   "codemirror_mode": {
    "name": "ipython",
    "version": 3
   },
   "file_extension": ".py",
   "mimetype": "text/x-python",
   "name": "python",
   "nbconvert_exporter": "python",
   "pygments_lexer": "ipython3",
   "version": "3.5.2"
  },
  "livereveal": {
   "scroll": true,
   "start_slideshow_at": "selected",
   "theme": "serif"
  }
 },
 "nbformat": 4,
 "nbformat_minor": 0
}
