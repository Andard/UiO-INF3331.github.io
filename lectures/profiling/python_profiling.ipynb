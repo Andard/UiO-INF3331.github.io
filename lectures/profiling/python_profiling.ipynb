{
 "cells": [
  {
   "cell_type": "markdown",
   "metadata": {
    "slideshow": {
     "slide_type": "slide"
    }
   },
   "source": [
    "# Profiling: Finding bottlenecks in Python programs\n",
    "**Contributors**: Simon Funke"
   ]
  },
  {
   "cell_type": "markdown",
   "metadata": {
    "slideshow": {
     "slide_type": "subslide"
    }
   },
   "source": [
    "*\"First make it work. Then make it right. Then make it fast.\"* \n",
    "  \n",
    "  Kent Beck"
   ]
  },
  {
   "cell_type": "markdown",
   "metadata": {
    "slideshow": {
     "slide_type": "subslide"
    }
   },
   "source": [
    "## Profiling allows us to measure resources used by sections of the program. "
   ]
  },
  {
   "cell_type": "markdown",
   "metadata": {
    "slideshow": {
     "slide_type": "fragment"
    }
   },
   "source": [
    "Typical resources of interest are\n",
    "* CPU\n",
    "* Memory\n",
    "* Disk I/O\n",
    "* Network I/O\n",
    "* ..."
   ]
  },
  {
   "cell_type": "markdown",
   "metadata": {},
   "source": [
    "We focus on **CPU** profiling only."
   ]
  },
  {
   "cell_type": "markdown",
   "metadata": {
    "slideshow": {
     "slide_type": "subslide"
    }
   },
   "source": [
    "## CPU: start simple, switch to more complex techniques if needed!"
   ]
  },
  {
   "cell_type": "markdown",
   "metadata": {
    "slideshow": {
     "slide_type": "fragment"
    }
   },
   "source": [
    "1. Manual timing\n",
    "2. `timeit` module\n",
    "3. `cprofile` module"
   ]
  },
  {
   "cell_type": "markdown",
   "metadata": {
    "slideshow": {
     "slide_type": "subslide"
    }
   },
   "source": [
    "## Case study: filling a grid with point values\n",
    "\n",
    "* Consider a rectangular 2D grid\n",
    "<center>![lattice](pdf/grid_lattice.svg \"Python\")Grid lattice</center>\n",
    "* A NumPy array `a[i,j]` holds values at the grid points"
   ]
  },
  {
   "cell_type": "markdown",
   "metadata": {
    "slideshow": {
     "slide_type": "subslide"
    }
   },
   "source": [
    "# An implementation"
   ]
  },
  {
   "cell_type": "code",
   "execution_count": 1,
   "metadata": {
    "collapsed": true
   },
   "outputs": [],
   "source": [
    "from numpy import *\n",
    "\n",
    "class Grid2D(object):\n",
    "    def __init__(self,\n",
    "                 xmin=0, xmax=1, dx=0.5,\n",
    "                 ymin=0, ymax=1, dy=0.5):\n",
    "        \n",
    "        self.xcoor = arange(xmin, xmax+dx, step=dx)\n",
    "        self.ycoor = arange(ymin, ymax+dy, step=dy)\n",
    "\n",
    "    def gridloop(self, f):\n",
    "        lx = size(self.xcoor)\n",
    "        ly = size(self.ycoor)\n",
    "        a = zeros((lx,ly))\n",
    "\n",
    "        for i in range(lx):\n",
    "            x = self.xcoor[i]\n",
    "            for j in range(ly):\n",
    "                y = self.ycoor[j]\n",
    "                a[i,j] = f(x, y)\n",
    "        return a"
   ]
  },
  {
   "cell_type": "markdown",
   "metadata": {
    "slideshow": {
     "slide_type": "subslide"
    }
   },
   "source": [
    "# Usage"
   ]
  },
  {
   "cell_type": "markdown",
   "metadata": {},
   "source": [
    "Create a new grid:"
   ]
  },
  {
   "cell_type": "code",
   "execution_count": 2,
   "metadata": {
    "collapsed": false,
    "slideshow": {
     "slide_type": "-"
    }
   },
   "outputs": [],
   "source": [
    "g = Grid2D(dx=0.001, dy=0.001)"
   ]
  },
  {
   "cell_type": "markdown",
   "metadata": {
    "slideshow": {
     "slide_type": "fragment"
    }
   },
   "source": [
    "Computing grid values:"
   ]
  },
  {
   "cell_type": "code",
   "execution_count": 3,
   "metadata": {
    "collapsed": false,
    "slideshow": {
     "slide_type": "fragment"
    }
   },
   "outputs": [
    {
     "name": "stdout",
     "output_type": "stream",
     "text": [
      "Computing values...\n",
      "done\n"
     ]
    }
   ],
   "source": [
    "def myfunc(x, y):\n",
    "    return sin(x*y) + y\n",
    "\n",
    "print(\"Computing values...\")\n",
    "a = g.gridloop(myfunc)\n",
    "print(\"done\")"
   ]
  },
  {
   "cell_type": "markdown",
   "metadata": {
    "slideshow": {
     "slide_type": "slide"
    }
   },
   "source": [
    "# Timing"
   ]
  },
  {
   "cell_type": "markdown",
   "metadata": {
    "slideshow": {
     "slide_type": "fragment"
    }
   },
   "source": [
    "Use `time.time()` to measure the time spend in a code section.\n",
    "```python\n",
    "import time\n",
    "t0 = time.time()\n",
    "# execute code here\n",
    "t1 = time.time()\n",
    "print(\"Runtime: {}\".format(t1-t0))\n",
    "```\n",
    "  "
   ]
  },
  {
   "cell_type": "markdown",
   "metadata": {
    "slideshow": {
     "slide_type": "fragment"
    }
   },
   "source": [
    "**Tips**:\n",
    "* Simple statements should be placed in a loop.\n",
    "* Make sure to have no other expensive programs running.\n",
    "* Run the tests several times, choose the fastest. **Why?**"
   ]
  },
  {
   "cell_type": "markdown",
   "metadata": {
    "slideshow": {
     "slide_type": "subslide"
    }
   },
   "source": [
    "## Python challenge\n",
    "\n",
    "1. Download [grid.py](https://raw.githubusercontent.com/UiO-INF3331/UiO-INF3331.github.io/crash-course/lectures/profiling/code/grid.py) and run it. Which parts of the program might be slow (consider the main functions first)?\n",
    "2. Time the suspected slow code lines and note down how long it takes."
   ]
  },
  {
   "cell_type": "markdown",
   "metadata": {
    "slideshow": {
     "slide_type": "subslide"
    }
   },
   "source": [
    "## Timing of `grid.py`"
   ]
  },
  {
   "cell_type": "markdown",
   "metadata": {},
   "source": [
    "Two parts that could potentially be slow: \n",
    "1. The initialisation `Grid2D(dx=0.001, dy=0.001)`\n",
    "2. Calling the `g.gridloop(myfunc)` function."
   ]
  },
  {
   "cell_type": "markdown",
   "metadata": {
    "slideshow": {
     "slide_type": "fragment"
    }
   },
   "source": [
    "We time these two parts separately to figure out how much time is spend in each."
   ]
  },
  {
   "cell_type": "markdown",
   "metadata": {
    "slideshow": {
     "slide_type": "subslide"
    }
   },
   "source": [
    "### Timing the Grid2D initialisation"
   ]
  },
  {
   "cell_type": "code",
   "execution_count": 4,
   "metadata": {
    "collapsed": false,
    "slideshow": {
     "slide_type": "fragment"
    }
   },
   "outputs": [
    {
     "name": "stdout",
     "output_type": "stream",
     "text": [
      "Experiment 1, CPU time: 0.0003524 s\n",
      "Experiment 2, CPU time: 0.000164 s\n",
      "Experiment 3, CPU time: 3.886e-05 s\n",
      "Done\n"
     ]
    }
   ],
   "source": [
    "import time\n",
    "\n",
    "for i in range(1, 4):\n",
    "    t0 = time.time()\n",
    "    g = Grid2D(dx=0.001, dy=0.001)\n",
    "    t1 = time.time()\n",
    "    print(\"Experiment {}, CPU time: {:.4} s\".format(i, t1-t0))\n",
    "print(\"Done\")"
   ]
  },
  {
   "cell_type": "markdown",
   "metadata": {
    "slideshow": {
     "slide_type": "subslide"
    }
   },
   "source": [
    "### Timing the `gridloop` function"
   ]
  },
  {
   "cell_type": "code",
   "execution_count": 5,
   "metadata": {
    "collapsed": false,
    "slideshow": {
     "slide_type": "fragment"
    }
   },
   "outputs": [
    {
     "name": "stdout",
     "output_type": "stream",
     "text": [
      "Experiment 1. CPU time: 2.236 s\n",
      "Experiment 2. CPU time: 2.68 s\n",
      "Experiment 3. CPU time: 2.73 s\n",
      "Done\n"
     ]
    }
   ],
   "source": [
    "import time\n",
    "\n",
    "for i in range(1, 4):\n",
    "    t0 = time.time()\n",
    "    g.gridloop(myfunc)\n",
    "    t1 = time.time()\n",
    "    print(\"Experiment {}. CPU time: {:.4} s\".format(i, t1-t0))\n",
    "print(\"Done\")"
   ]
  },
  {
   "cell_type": "markdown",
   "metadata": {
    "slideshow": {
     "slide_type": "fragment"
    }
   },
   "source": [
    "$=>$ The gridloop function is the cause of the slow execution!"
   ]
  },
  {
   "cell_type": "markdown",
   "metadata": {
    "slideshow": {
     "slide_type": "slide"
    }
   },
   "source": [
    "# The *timeit* module"
   ]
  },
  {
   "cell_type": "markdown",
   "metadata": {
    "slideshow": {
     "slide_type": "subslide"
    }
   },
   "source": [
    "## The *timeit* module (1)\n",
    "\n",
    "The `timeit` module provides an convenient way for measuring the CPU time of small code snippets."
   ]
  },
  {
   "cell_type": "code",
   "execution_count": 6,
   "metadata": {
    "collapsed": false,
    "slideshow": {
     "slide_type": "fragment"
    }
   },
   "outputs": [
    {
     "data": {
      "text/plain": [
       "0.1685657119996904"
      ]
     },
     "execution_count": 6,
     "metadata": {},
     "output_type": "execute_result"
    }
   ],
   "source": [
    "import timeit\n",
    "timeit.timeit(stmt=\"a+=1\", setup=\"a=0\")  "
   ]
  },
  {
   "cell_type": "markdown",
   "metadata": {},
   "source": [
    "By default the **accumulated time** for 1,000,000 statements is returned. This number can be changed with the `number` keyword:"
   ]
  },
  {
   "cell_type": "code",
   "execution_count": 7,
   "metadata": {
    "collapsed": false
   },
   "outputs": [
    {
     "data": {
      "text/plain": [
       "2.2050007828511298e-06"
      ]
     },
     "execution_count": 7,
     "metadata": {},
     "output_type": "execute_result"
    }
   ],
   "source": [
    "timeit.timeit(stmt=\"a+=1\",setup=\"a=0\", number=1)"
   ]
  },
  {
   "cell_type": "markdown",
   "metadata": {
    "slideshow": {
     "slide_type": "fragment"
    }
   },
   "source": [
    "Use `timeit.repeat` to repeat the experiment multiple times:"
   ]
  },
  {
   "cell_type": "code",
   "execution_count": 8,
   "metadata": {
    "collapsed": false
   },
   "outputs": [
    {
     "data": {
      "text/plain": [
       "[0.0007999480003491044, 0.0007958939986565383, 0.0011175279996678]"
      ]
     },
     "execution_count": 8,
     "metadata": {},
     "output_type": "execute_result"
    }
   ],
   "source": [
    "timeit.repeat(stmt=\"a+=1\",setup=\"a=0\", number=10000, repeat=3)"
   ]
  },
  {
   "cell_type": "markdown",
   "metadata": {
    "slideshow": {
     "slide_type": "subslide"
    }
   },
   "source": [
    "## Wall-clock time vs CPU time\n"
   ]
  },
  {
   "cell_type": "code",
   "execution_count": 9,
   "metadata": {
    "collapsed": false,
    "slideshow": {
     "slide_type": "-"
    }
   },
   "outputs": [
    {
     "data": {
      "text/plain": [
       "1.0017197132110596"
      ]
     },
     "execution_count": 9,
     "metadata": {},
     "output_type": "execute_result"
    }
   ],
   "source": [
    "timeit.timeit(stmt=\"sleep(1)\", setup=\"from time import sleep\", number=1, \n",
    "              timer=time.time)  # Wall-clock time"
   ]
  },
  {
   "cell_type": "code",
   "execution_count": 10,
   "metadata": {
    "collapsed": false,
    "slideshow": {
     "slide_type": "-"
    }
   },
   "outputs": [
    {
     "data": {
      "text/plain": [
       "0.0015919999999987056"
      ]
     },
     "execution_count": 10,
     "metadata": {},
     "output_type": "execute_result"
    }
   ],
   "source": [
    "timeit.timeit(stmt=\"sleep(1)\", setup=\"from time import sleep\", number=1, \n",
    "              timer=time.clock)  # CPU time"
   ]
  },
  {
   "cell_type": "markdown",
   "metadata": {
    "slideshow": {
     "slide_type": "subslide"
    }
   },
   "source": [
    "# Timing user-defined functions requires a trick"
   ]
  },
  {
   "cell_type": "markdown",
   "metadata": {
    "slideshow": {
     "slide_type": "fragment"
    }
   },
   "source": [
    "`timeit` isolates the global namespace, so we need to pass the functions through the setup routine:"
   ]
  },
  {
   "cell_type": "code",
   "execution_count": 20,
   "metadata": {
    "collapsed": false,
    "slideshow": {
     "slide_type": "-"
    }
   },
   "outputs": [
    {
     "data": {
      "text/plain": [
       "[1.973618121999607, 1.9566386259994033, 1.9746652839985472]"
      ]
     },
     "execution_count": 20,
     "metadata": {},
     "output_type": "execute_result"
    }
   ],
   "source": [
    "timeit.repeat(stmt=\"g.gridloop(myfunc)\", setup=\"from __main__  import g, myfunc\", number=1)"
   ]
  },
  {
   "cell_type": "markdown",
   "metadata": {
    "slideshow": {
     "slide_type": "subslide"
    }
   },
   "source": [
    "## IPython's `%timeit` magic\n",
    "\n",
    "IPython provides the `%timeit` magic to simplify timing code in the IPython shell"
   ]
  },
  {
   "cell_type": "code",
   "execution_count": 23,
   "metadata": {
    "collapsed": false
   },
   "outputs": [
    {
     "name": "stdout",
     "output_type": "stream",
     "text": [
      "1 loop, best of 3: 1.95 s per loop\n"
     ]
    }
   ],
   "source": [
    "%timeit g.gridloop(myfunc) "
   ]
  },
  {
   "cell_type": "markdown",
   "metadata": {},
   "source": [
    "The `timeit` magic determins automatically how often to repeat the experiment."
   ]
  },
  {
   "cell_type": "code",
   "execution_count": 24,
   "metadata": {
    "collapsed": true
   },
   "outputs": [],
   "source": [
    "%timeit?"
   ]
  },
  {
   "cell_type": "markdown",
   "metadata": {
    "slideshow": {
     "slide_type": "subslide"
    }
   },
   "source": [
    "## Python challenges\n",
    "\n",
    "1. Repeat the timings for the `grid.py` program with the `timings` module. Time both the wall-clock time and the CPU time. How much do they differ? \n",
    "2. Repeat the timing experiment 100 times and create a histogram of the results (use the `matplotlib.pyplot.hist` function of the result)."
   ]
  },
  {
   "cell_type": "markdown",
   "metadata": {
    "slideshow": {
     "slide_type": "slide"
    }
   },
   "source": [
    "## Profile"
   ]
  },
  {
   "cell_type": "markdown",
   "metadata": {},
   "source": [
    "A profile is a set of statistics that describes how often and for how long various parts of the program executed."
   ]
  },
  {
   "cell_type": "markdown",
   "metadata": {
    "slideshow": {
     "slide_type": "fragment"
    }
   },
   "source": [
    "There are two main (deterministic) profiling modules in Python\n",
    "\n",
    "* `profile`, written purely in Python\n",
    "* `cProfile` is a compatible C implementation with smaller performance impact than `profile`. In particular overhead calibaration not required. \n",
    "\n",
    "We will be using `cProfile`."
   ]
  },
  {
   "cell_type": "markdown",
   "metadata": {
    "slideshow": {
     "slide_type": "fragment"
    }
   },
   "source": [
    "The statistics from both can be formatted into reports via the `pstats` module.    "
   ]
  },
  {
   "cell_type": "markdown",
   "metadata": {
    "slideshow": {
     "slide_type": "subslide"
    }
   },
   "source": [
    "## Using the `cProfile` module"
   ]
  },
  {
   "cell_type": "markdown",
   "metadata": {},
   "source": [
    "* As a script: `python -m cProfile script.py\n",
    "`"
   ]
  },
  {
   "cell_type": "markdown",
   "metadata": {
    "slideshow": {
     "slide_type": "fragment"
    }
   },
   "source": [
    "* As a module:"
   ]
  },
  {
   "cell_type": "code",
   "execution_count": 12,
   "metadata": {
    "collapsed": false
   },
   "outputs": [],
   "source": [
    "import cProfile\n",
    "pr = cProfile.Profile()\n",
    "res = pr.run(\"g.gridloop(myfunc)\")  # res contains the statistics\n",
    "pr.dump_stats(\"gridloop.prof\")  # Dump statistics to file for use with pstats"
   ]
  },
  {
   "cell_type": "markdown",
   "metadata": {
    "slideshow": {
     "slide_type": "subslide"
    }
   },
   "source": [
    "## Profile a function call while keeping its return value"
   ]
  },
  {
   "cell_type": "markdown",
   "metadata": {},
   "source": [
    "`pr.run(\"foo()\")` returns an object with the profile statistics. If one needs the return value of `foo()`, use `pr.runcall` instead:"
   ]
  },
  {
   "cell_type": "code",
   "execution_count": 13,
   "metadata": {
    "collapsed": false
   },
   "outputs": [
    {
     "data": {
      "text/plain": [
       "array([[  0.00000000e+00,   1.00000000e-03,   2.00000000e-03, ...,\n",
       "          9.98000000e-01,   9.99000000e-01,   1.00000000e+00],\n",
       "       [  0.00000000e+00,   1.00100000e-03,   2.00200000e-03, ...,\n",
       "          9.98998000e-01,   9.99999000e-01,   1.00100000e+00],\n",
       "       [  0.00000000e+00,   1.00200000e-03,   2.00400000e-03, ...,\n",
       "          9.99995999e-01,   1.00099800e+00,   1.00200000e+00],\n",
       "       ..., \n",
       "       [  0.00000000e+00,   1.99799983e-03,   3.99599867e-03, ...,\n",
       "          1.83730522e+00,   1.83884738e+00,   1.84038870e+00],\n",
       "       [  0.00000000e+00,   1.99899983e-03,   3.99799867e-03, ...,\n",
       "          1.83784738e+00,   1.83938924e+00,   1.84093026e+00],\n",
       "       [  0.00000000e+00,   1.99999983e-03,   3.99999867e-03, ...,\n",
       "          1.83838870e+00,   1.83993026e+00,   1.84147098e+00]])"
      ]
     },
     "execution_count": 13,
     "metadata": {},
     "output_type": "execute_result"
    }
   ],
   "source": [
    " pr.runcall(g.gridloop, myfunc)"
   ]
  },
  {
   "cell_type": "markdown",
   "metadata": {
    "slideshow": {
     "slide_type": "subslide"
    }
   },
   "source": [
    "## Getting runtime statistics"
   ]
  },
  {
   "cell_type": "markdown",
   "metadata": {},
   "source": [
    "* We can view some runtime statistics with"
   ]
  },
  {
   "cell_type": "code",
   "execution_count": 14,
   "metadata": {
    "collapsed": false,
    "slideshow": {
     "slide_type": "-"
    }
   },
   "outputs": [
    {
     "name": "stdout",
     "output_type": "stream",
     "text": [
      "         2004014 function calls in 4.732 seconds\n",
      "\n",
      "   Ordered by: standard name\n",
      "\n",
      "   ncalls  tottime  percall  cumtime  percall filename:lineno(function)\n",
      "        2    1.546    0.773    4.732    2.366 <ipython-input-1-af8978036994>:11(gridloop)\n",
      "  2004002    3.183    0.000    3.183    0.000 <ipython-input-3-a9b58edea67e>:1(myfunc)\n",
      "        1    0.000    0.000    2.424    2.424 <string>:1(<module>)\n",
      "        4    0.000    0.000    0.000    0.000 fromnumeric.py:2659(size)\n",
      "        1    0.000    0.000    2.424    2.424 {built-in method builtins.exec}\n",
      "        2    0.002    0.001    0.002    0.001 {built-in method numpy.core.multiarray.zeros}\n",
      "        2    0.000    0.000    0.000    0.000 {method 'disable' of '_lsprof.Profiler' objects}\n",
      "\n",
      "\n"
     ]
    }
   ],
   "source": [
    "res.print_stats()"
   ]
  },
  {
   "cell_type": "markdown",
   "metadata": {
    "slideshow": {
     "slide_type": "subslide"
    }
   },
   "source": [
    "## Statistics header definitions\n",
    "* **ncalls**: number of calls\n",
    "* **tottime**: total time spent in the given function excluding time made in calls to sub-functions\n",
    "* **percall**: tottime divided by ncalls\n",
    "* **cumtime**: cumulative time spent in this and all subfunctions\n",
    "* **percall**: cumtime divided by ncalls\n",
    "* **filename:lineno(function)**: information about the function"
   ]
  },
  {
   "cell_type": "markdown",
   "metadata": {
    "slideshow": {
     "slide_type": "subslide"
    }
   },
   "source": [
    "## The `pstats` module"
   ]
  },
  {
   "cell_type": "markdown",
   "metadata": {
    "slideshow": {
     "slide_type": "-"
    }
   },
   "source": [
    "There are many ways to view profiling data."
   ]
  },
  {
   "cell_type": "markdown",
   "metadata": {
    "slideshow": {
     "slide_type": "fragment"
    }
   },
   "source": [
    "The module `pstats` provides the class `Stats` for creating profiling reports:"
   ]
  },
  {
   "cell_type": "code",
   "execution_count": 15,
   "metadata": {
    "collapsed": false
   },
   "outputs": [
    {
     "name": "stdout",
     "output_type": "stream",
     "text": [
      "Sun Jan 29 16:14:50 2017    gridloop.prof\n",
      "\n",
      "         1002008 function calls in 2.424 seconds\n",
      "\n",
      "   Ordered by: internal time\n",
      "   List reduced from 7 to 3 due to restriction <3>\n",
      "\n",
      "   ncalls  tottime  percall  cumtime  percall filename:lineno(function)\n",
      "  1002001    1.633    0.000    1.633    0.000 <ipython-input-3-a9b58edea67e>:1(myfunc)\n",
      "        1    0.790    0.790    2.424    2.424 <ipython-input-1-af8978036994>:11(gridloop)\n",
      "        1    0.001    0.001    0.001    0.001 {built-in method numpy.core.multiarray.zeros}\n",
      "\n",
      "\n"
     ]
    },
    {
     "data": {
      "text/plain": [
       "<pstats.Stats at 0x7f29b81078d0>"
      ]
     },
     "execution_count": 15,
     "metadata": {},
     "output_type": "execute_result"
    }
   ],
   "source": [
    "import pstats\n",
    "stats = pstats.Stats(\"gridloop.prof\")\n",
    "stats.sort_stats(\"time\")\n",
    "stats.print_stats(3)"
   ]
  },
  {
   "cell_type": "markdown",
   "metadata": {
    "slideshow": {
     "slide_type": "fragment"
    }
   },
   "source": [
    "* The method `sort_stats(key, *keys)` is used to sort future output.\n",
    "* Common used keys: `'calls', 'cumulative', 'time'`.\n",
    "* The argument to `print_stats` limits the view to the N most significant results."
   ]
  },
  {
   "cell_type": "markdown",
   "metadata": {
    "slideshow": {
     "slide_type": "subslide"
    }
   },
   "source": [
    "## Back to our case-study: What have we learned so far?"
   ]
  },
  {
   "cell_type": "markdown",
   "metadata": {
    "slideshow": {
     "slide_type": "fragment"
    }
   },
   "source": [
    "The total runtime (with `profile`) is 8.1s. Biggest contributors:\n",
    "   1. `gridloop` contributes ca 41% of the total runtime.\n",
    "   2. `myfunc` calls contributes ca 55% of the total runtime."
   ]
  },
  {
   "cell_type": "markdown",
   "metadata": {
    "slideshow": {
     "slide_type": "fragment"
    }
   },
   "source": [
    "* `myfunc` is fairly straight-forward\n",
    "  ```python\n",
    "  def myfunc(x, y):\n",
    "    return sin(x*y) + y\n",
    "  ```\n",
    "  Might be difficult to improve.\n",
    "* What about `gridloop`?"
   ]
  },
  {
   "cell_type": "markdown",
   "metadata": {
    "slideshow": {
     "slide_type": "subslide"
    }
   },
   "source": [
    "## Recall that, `gridloop` was a function of the form"
   ]
  },
  {
   "cell_type": "markdown",
   "metadata": {
    "slideshow": {
     "slide_type": "-"
    }
   },
   "source": [
    "```python\n",
    "def gridloop(self, f):\n",
    "    lx = size(self.xcoor)\n",
    "    ly = size(self.ycoor)\n",
    "    a = zeros((lx,ly))\n",
    "\n",
    "    for i in range(lx):\n",
    "        x = self.xcoor[i]\n",
    "        for j in range(ly):\n",
    "            y = self.ycoor[j]\n",
    "             a[i,j] = f(x, y)\n",
    "    return a\n",
    "```"
   ]
  },
  {
   "cell_type": "markdown",
   "metadata": {},
   "source": [
    "It would be useful to see how much time is spend in each line!"
   ]
  },
  {
   "cell_type": "markdown",
   "metadata": {
    "slideshow": {
     "slide_type": "slide"
    }
   },
   "source": [
    "## Line by line profiling"
   ]
  },
  {
   "cell_type": "markdown",
   "metadata": {},
   "source": [
    "The `line_profiler` inspects the time spend in each line of a Python function. "
   ]
  },
  {
   "cell_type": "markdown",
   "metadata": {
    "slideshow": {
     "slide_type": "subslide"
    }
   },
   "source": [
    "## Usage\n",
    "\n",
    "1. Install with `pip install line_profiler`\n",
    "2. \"Decorate\" the function of interest with `@profile`:\n",
    "    ```python\n",
    "    @profile\n",
    "    def gridloop(func):\n",
    "        # ...\n",
    "    ```\n",
    "3. Run line profiler with:\n",
    "    ```bash\n",
    "    kernprof -l -v grid2d_lineprofile.py\n",
    "    ```"
   ]
  },
  {
   "cell_type": "markdown",
   "metadata": {
    "slideshow": {
     "slide_type": "subslide"
    }
   },
   "source": [
    "## Demo"
   ]
  },
  {
   "cell_type": "code",
   "execution_count": 16,
   "metadata": {
    "collapsed": false
   },
   "outputs": [
    {
     "name": "stdout",
     "output_type": "stream",
     "text": [
      "Could not find script grid2d_lineprofile.py\r\n"
     ]
    }
   ],
   "source": [
    "!kernprof -l -v grid2d_lineprofile.py"
   ]
  },
  {
   "cell_type": "markdown",
   "metadata": {
    "slideshow": {
     "slide_type": "skip"
    }
   },
   "source": [
    "**Conclusion:** Most of the time is spend in loops and indexing."
   ]
  },
  {
   "cell_type": "markdown",
   "metadata": {
    "slideshow": {
     "slide_type": "slide"
    }
   },
   "source": [
    "## A vectorised Grid2D implementation"
   ]
  },
  {
   "cell_type": "code",
   "execution_count": 17,
   "metadata": {
    "collapsed": true
   },
   "outputs": [],
   "source": [
    "class VectorisedGrid2D(object):\n",
    "    def __init__(self,\n",
    "                 xmin=0, xmax=1, dx=0.5,\n",
    "                 ymin=0, ymax=1, dy=0.5):\n",
    "        \n",
    "        self.xcoor = arange(xmin, xmax+dx, step=dx)\n",
    "        self.ycoor = arange(ymin, ymax+dy, step=dy)\n",
    "\n",
    "    def gridloop(self, f):\n",
    "        return f(self.xcoor[:,None], self.ycoor[None,:])  # Vectorized grid evaluation "
   ]
  },
  {
   "cell_type": "markdown",
   "metadata": {
    "slideshow": {
     "slide_type": "subslide"
    }
   },
   "source": [
    "## Timing the vectorised Grid2D"
   ]
  },
  {
   "cell_type": "code",
   "execution_count": 18,
   "metadata": {
    "collapsed": false
   },
   "outputs": [
    {
     "data": {
      "text/plain": [
       "[0.03718072599986044,\n",
       " 0.03210592799950973,\n",
       " 0.03234826200059615,\n",
       " 0.037420828000904294,\n",
       " 0.03362453099907725]"
      ]
     },
     "execution_count": 18,
     "metadata": {},
     "output_type": "execute_result"
    }
   ],
   "source": [
    "vg = VectorisedGrid2D(dx=0.001, dy=0.001)\n",
    "timeit.repeat(stmt=\"vg.gridloop(myfunc)\", setup=\"from __main__  import vg, myfunc\", repeat=5, number=1)"
   ]
  },
  {
   "cell_type": "code",
   "execution_count": 19,
   "metadata": {
    "collapsed": false,
    "slideshow": {
     "slide_type": "fragment"
    }
   },
   "outputs": [
    {
     "data": {
      "text/plain": [
       "[2.0139896309992764,\n",
       " 1.9716419559990754,\n",
       " 2.0408604399999604,\n",
       " 2.0111127870004566,\n",
       " 2.0976008960005856]"
      ]
     },
     "execution_count": 19,
     "metadata": {},
     "output_type": "execute_result"
    }
   ],
   "source": [
    "g = Grid2D(dx=0.001, dy=0.001)\n",
    "timeit.repeat(stmt=\"g.gridloop(myfunc)\", setup=\"from __main__  import g, myfunc\", repeat=5, number=1)"
   ]
  },
  {
   "cell_type": "markdown",
   "metadata": {
    "slideshow": {
     "slide_type": "fragment"
    }
   },
   "source": [
    "**Vectorization yields a 70 times speed improvement!**"
   ]
  },
  {
   "cell_type": "markdown",
   "metadata": {},
   "source": [
    "### Python challenge\n",
    "\n"
   ]
  }
 ],
 "metadata": {
  "celltoolbar": "Slideshow",
  "kernelspec": {
   "display_name": "Python 3",
   "language": "python",
   "name": "python3"
  },
  "language_info": {
   "codemirror_mode": {
    "name": "ipython",
    "version": 3
   },
   "file_extension": ".py",
   "mimetype": "text/x-python",
   "name": "python",
   "nbconvert_exporter": "python",
   "pygments_lexer": "ipython3",
   "version": "3.5.2"
  },
  "livereveal": {
   "scroll": true,
   "start_slideshow_at": "selected",
   "theme": "serif"
  }
 },
 "nbformat": 4,
 "nbformat_minor": 0
}
