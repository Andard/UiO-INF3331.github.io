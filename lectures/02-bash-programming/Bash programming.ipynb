{
 "cells": [
  {
   "cell_type": "markdown",
   "metadata": {
    "slideshow": {
     "slide_type": "slide"
    }
   },
   "source": [
    "# Organisation"
   ]
  },
  {
   "cell_type": "markdown",
   "metadata": {
    "slideshow": {
     "slide_type": "subslide"
    }
   },
   "source": [
    "## Assignments 1\n",
    "\n",
    "  * Deadline: This Friday\n",
    "\n",
    "  * Make sure that the solutions are in your INF3331 repository on github."
   ]
  },
  {
   "cell_type": "markdown",
   "metadata": {
    "slideshow": {
     "slide_type": "subslide"
    }
   },
   "source": [
    "## Assignments 2\n",
    "\n",
    "  * Assignment 2 is online now.\n",
    "\n",
    "  * Topic: Bash scripting (lecture today)."
   ]
  },
  {
   "cell_type": "markdown",
   "metadata": {
    "slideshow": {
     "slide_type": "slide"
    }
   },
   "source": [
    "# Basic Bash programming\n",
    "."
   ]
  },
  {
   "cell_type": "markdown",
   "metadata": {
    "slideshow": {
     "slide_type": "subslide"
    }
   },
   "source": [
    "## Overview of Unix shells\n",
    "\n",
    "  * The original scripting languages were (extensions of) command interpreters in operating systems\n",
    "\n",
    "  * Primary example: Unix shells\n",
    "\n",
    "  * Bourne shell (`sh`) was the first major shell\n",
    "\n",
    "  * C and TC shell (`csh` and `tcsh`) had improved command interpreters, but were less popular than Bourne shell for programming\n",
    "\n",
    "  * Bourne Again shell (Bash/`bash`): GNU/FSF improvement of Bourne shell\n",
    "\n",
    "  * Other Bash-like shells: Dash (`dash`), Korn shell (`ksh`), Z shell (`zsh`)\n",
    "\n",
    "  * Bash is the dominating Unix shell today"
   ]
  },
  {
   "cell_type": "markdown",
   "metadata": {
    "slideshow": {
     "slide_type": "subslide"
    }
   },
   "source": [
    "## Why learn Bash?\n",
    "\n",
    "  * Learning Bash means learning Unix\n",
    "\n",
    "  * Learning Bash means learning the roots of scripting (Bourne shell is a subset of Bash)\n",
    "\n",
    "  * Shell scripts, especially in Bourne shell and Bash, are frequently encountered on Unix systems\n",
    "\n",
    "  * Bash is widely available (open source) and the dominating command interpreter and scripting language on today's Unix systems"
   ]
  },
  {
   "cell_type": "markdown",
   "metadata": {
    "slideshow": {
     "slide_type": "subslide"
    }
   },
   "source": [
    "## Why learn Bash? (2)\n",
    "\n",
    "  * Shell scripts evolve naturally from a workflow: \\begin{enumerate}\n",
    "\n",
    "  * A sequence of commands you use often are placed in a file\n",
    "\n",
    "  * Command-line options are introduced to enable different options to be passed to the commands\n",
    "\n",
    "  * Introducing variables, if tests, loops enables more complex program flow\n",
    "\n",
    "  * At some point pre- and postprocessing becomes too advanced for bash, at which point (parts of) the script should be ported to Python or other tools \\end{enumerate}\n",
    "\n",
    "  * Shell scripts are often used to glue more advanced scripts in Perl and Python"
   ]
  },
  {
   "cell_type": "markdown",
   "metadata": {
    "slideshow": {
     "slide_type": "subslide"
    }
   },
   "source": [
    "## Remark\n",
    "\n",
    "  * We use plain Bourne shell (`/bin/sh`) when special features of Bash (`/bin/bash`) are not needed\n",
    "\n",
    "  * Most of our examples can in fact be run under Bourne shell (and of course also Bash)\n",
    "\n",
    "  * In Mac OSX, the Bourne shell (`/bin/sh`) is just a link to Bash\n",
    "    (`/bin/bash`). In Ubuntu, the Bourne shell (`/bin/sh`) is a link to Dash, a\n",
    "    minimal, but much faster shell than bash."
   ]
  },
  {
   "cell_type": "markdown",
   "metadata": {
    "slideshow": {
     "slide_type": "subslide"
    }
   },
   "source": [
    "## More information\n",
    "\n",
    "  * `man bash`\n",
    "\n",
    "  * Bash reference manual: `www.gnu.org/software/bash/manual/bashref.html`\n",
    "\n",
    "  * \"Advanced Bash-Scripting Guide\": `http://www.tldp.org/LDP/abs/html/`"
   ]
  },
  {
   "cell_type": "markdown",
   "metadata": {
    "slideshow": {
     "slide_type": "subslide"
    }
   },
   "source": [
    "## What Bash is good for\n",
    "\n",
    "  * File and directory management\n",
    "\n",
    "  * Systems management (build scripts)\n",
    "\n",
    "  * Combining other scripts and commands\n",
    "\n",
    "  * Rapid prototyping of more advanced scripts\n",
    "\n",
    "  * Very simple output processing, plotting etc."
   ]
  },
  {
   "cell_type": "markdown",
   "metadata": {
    "slideshow": {
     "slide_type": "subslide"
    }
   },
   "source": [
    "## What Bash is not good for\n",
    "\n",
    "  * Cross-platform portability\n",
    "\n",
    "  * Graphics, GUIs\n",
    "\n",
    "  * Interface with libraries or legacy code\n",
    "\n",
    "  * More advanced post processing and plotting\n",
    "\n",
    "  * Calculations, math etc."
   ]
  },
  {
   "cell_type": "markdown",
   "metadata": {
    "slideshow": {
     "slide_type": "subslide"
    }
   },
   "source": [
    "## Some common tasks in Bash\n",
    "\n",
    "  * file writing\n",
    "\n",
    "  * for-loops\n",
    "\n",
    "  * running an application\n",
    "\n",
    "  * pipes\n",
    "\n",
    "  * writing functions\n",
    "\n",
    "  * file globbing, testing file types\n",
    "\n",
    "  * copying and renaming files, creating and moving to directories, creating directory paths, removing files and directories\n",
    "\n",
    "  * directory tree traversal\n",
    "\n",
    "  * packing directory trees"
   ]
  },
  {
   "cell_type": "markdown",
   "metadata": {
    "slideshow": {
     "slide_type": "subslide"
    }
   },
   "source": [
    "## Bash variables and commands\n",
    "\n",
    "  * Assign a variable by `x=3.4`, retrieve the value of the variable by `$x` (also called *variable substitution*).\n",
    "\n",
    "  * Variables passed as command line arguments when running a script are called `positional parameters`.\n",
    "\n",
    "  * Bash has a number of built in commands, type `help` or `help | less` to see all.\n",
    "\n",
    "  * The real power comes from all the available Unix commands, in addition to your own applications and scripts."
   ]
  },
  {
   "cell_type": "markdown",
   "metadata": {
    "slideshow": {
     "slide_type": "subslide"
    }
   },
   "source": [
    "## Bash variables (1)\n",
    "\n",
    "\n",
    "Variables in Bash are untyped!\n",
    "\n",
    "Generally treated as character arrays, but permit simple\n",
    "  arithmetic and other operations\n",
    "\n",
    "Variables can be explicitly declared to integer or array;"
   ]
  },
  {
   "cell_type": "markdown",
   "metadata": {},
   "source": [
    "        declare -i i     # i is an integer\n",
    "        declare -a A     # A is an array\n",
    "        declare -r r=10  # r is read only\n"
   ]
  },
  {
   "cell_type": "markdown",
   "metadata": {
    "slideshow": {
     "slide_type": "subslide"
    }
   },
   "source": [
    "## Bash variables (2)\n",
    "\n",
    "\n",
    "The `echo` command is used for writing:"
   ]
  },
  {
   "cell_type": "markdown",
   "metadata": {},
   "source": [
    "        s=42\n",
    "        echo \"The answer is $s\"\n"
   ]
  },
  {
   "cell_type": "markdown",
   "metadata": {},
   "source": [
    "and variables can be inserted in the text string (variable interpolation)\n",
    "\n",
    "Frequently seen variables:\n",
    "\n",
    "\n",
    "Command line arguments:"
   ]
  },
  {
   "cell_type": "markdown",
   "metadata": {},
   "source": [
    "        $1  $2  $3  $4 and so on\n"
   ]
  },
  {
   "cell_type": "markdown",
   "metadata": {},
   "source": [
    "All the command line arguments:"
   ]
  },
  {
   "cell_type": "markdown",
   "metadata": {},
   "source": [
    "        $@\n"
   ]
  },
  {
   "cell_type": "markdown",
   "metadata": {},
   "source": [
    "The exit status of the last executed command:"
   ]
  },
  {
   "cell_type": "markdown",
   "metadata": {},
   "source": [
    "        $?\n"
   ]
  },
  {
   "cell_type": "markdown",
   "metadata": {
    "slideshow": {
     "slide_type": "subslide"
    }
   },
   "source": [
    "## Bash variables (3)\n",
    "\n",
    "\n",
    "Comparison of two integers use a syntax different from comparison of two strings:"
   ]
  },
  {
   "cell_type": "markdown",
   "metadata": {},
   "source": [
    "        if [ $i -eq 10 ]; then        # integer comparison\n",
    "        if [ \"$name\" == \"10\" ]; then  # string  comparison\n"
   ]
  },
  {
   "cell_type": "markdown",
   "metadata": {},
   "source": [
    "Unless you have declared a variable to be an integer, assume that all variables are strings and use double quotes (strings) when comparing variables in an if test"
   ]
  },
  {
   "cell_type": "markdown",
   "metadata": {},
   "source": [
    "        if [ \"$?\" != \"0\" ]; then  # this is safe\n",
    "        if [  $?  !=  0  ]; then  # might be unsafe\n"
   ]
  },
  {
   "cell_type": "markdown",
   "metadata": {
    "slideshow": {
     "slide_type": "subslide"
    }
   },
   "source": [
    "## Convenient debugging tool: -x\n",
    "\n",
    "\n",
    "Each source code line is printed prior to its execution if you add -x as option to `/bin/sh` or `/bin/bash`\n",
    "\n",
    "Either in the header"
   ]
  },
  {
   "cell_type": "markdown",
   "metadata": {},
   "source": [
    "        #!/bin/bash -x\n"
   ]
  },
  {
   "cell_type": "markdown",
   "metadata": {},
   "source": [
    "or on the command line:"
   ]
  },
  {
   "cell_type": "markdown",
   "metadata": {},
   "source": [
    "        unix> /bin/bash -x hw.sh\n",
    "        unix> sh -x hw.sh\n",
    "        unix> bash -x hw.sh\n"
   ]
  },
  {
   "cell_type": "markdown",
   "metadata": {},
   "source": [
    "Very convenient during debugging"
   ]
  },
  {
   "cell_type": "markdown",
   "metadata": {
    "slideshow": {
     "slide_type": "subslide"
    }
   },
   "source": [
    "## Combining bash commands (1)\n",
    "\n",
    "  * The power of Unix lies in combining simple commands into powerful operations\n",
    "\n",
    "  * Standard bash commands and unix applications normally do one small task\n",
    "\n",
    "  * Text is used for input and output - easy to send output from one command as input to another"
   ]
  },
  {
   "cell_type": "markdown",
   "metadata": {
    "slideshow": {
     "slide_type": "subslide"
    }
   },
   "source": [
    "## Combining bash commands (2)\n",
    "Two standard ways to combine commands:\n",
    "\n",
    "\n",
    "The pipe, sends the output of one command as input to the next:"
   ]
  },
  {
   "cell_type": "markdown",
   "metadata": {},
   "source": [
    "        ls -l | grep 3331\n"
   ]
  },
  {
   "cell_type": "markdown",
   "metadata": {},
   "source": [
    "Will list all files having 3331 as part of the name\n",
    "\n",
    "Executing a command, storing the result as a variable:"
   ]
  },
  {
   "cell_type": "markdown",
   "metadata": {},
   "source": [
    "        time=$(date)\n",
    "        time=`date`\n"
   ]
  },
  {
   "cell_type": "markdown",
   "metadata": {
    "slideshow": {
     "slide_type": "subslide"
    }
   },
   "source": [
    "## Combining bash commands (3)\n",
    "\n",
    "\n",
    "More useful applications of pipes:"
   ]
  },
  {
   "cell_type": "markdown",
   "metadata": {},
   "source": [
    "        # send files with size to sort -rn\n",
    "        # (reverse numerical sort) to get a list\n",
    "        # of files sorted after their sizes:\n",
    "        \n",
    "        /bin/ls -s | sort -rn\n",
    "        \n",
    "        \n",
    "        cat $case.i | oscillator\n",
    "        # is the same as\n",
    "        oscillator < $case.i\n"
   ]
  },
  {
   "cell_type": "markdown",
   "metadata": {},
   "source": [
    "Make a new application: sort all files in a directory\n",
    "tree `root`, with the largest files appearing first, and\n",
    "equip the output with paging functionality:"
   ]
  },
  {
   "cell_type": "markdown",
   "metadata": {},
   "source": [
    "        du -a root | sort -rn | less\n"
   ]
  },
  {
   "cell_type": "markdown",
   "metadata": {
    "slideshow": {
     "slide_type": "subslide"
    }
   },
   "source": [
    "## Bash redirects\n",
    "\n",
    "Redirects are used to pass output to either a file or stream."
   ]
  },
  {
   "cell_type": "markdown",
   "metadata": {},
   "source": [
    "        echo \"Hei verden\" > myfile.txt  # Save output to file\n",
    "        wc -w < myfile.txt   # Use file content as command input\n"
   ]
  },
  {
   "cell_type": "markdown",
   "metadata": {},
   "source": [
    "Note: Pipes can be (in a clumpsy way) reimplemented with redirects:"
   ]
  },
  {
   "cell_type": "markdown",
   "metadata": {},
   "source": [
    "        prog1 > myfile && prog2 < myfile\n"
   ]
  },
  {
   "cell_type": "markdown",
   "metadata": {},
   "source": [
    "is the same as"
   ]
  },
  {
   "cell_type": "markdown",
   "metadata": {},
   "source": [
    "        prog1 | prog2\n"
   ]
  },
  {
   "cell_type": "markdown",
   "metadata": {
    "slideshow": {
     "slide_type": "subslide"
    }
   },
   "source": [
    "## Redirects and stdin, stdout, stderr"
   ]
  },
  {
   "cell_type": "markdown",
   "metadata": {},
   "source": [
    "        rm -v *.txt 1> out.txt      # Redirect stout to a file\n",
    "        rm -v *.txt 2> err.txt      # Redirect stderr to a file\n",
    "        rm -v *.txt &> outerr.txt   # Redirect stdout and stderr to file\n",
    "        rm -v *.txt 1>&2            # Redirect stdout to stderr\n",
    "        rm -v *.txt 2>&1            # Redirect stderr to stdout\n"
   ]
  },
  {
   "cell_type": "markdown",
   "metadata": {},
   "source": [
    "You can print to stderr with:"
   ]
  },
  {
   "cell_type": "markdown",
   "metadata": {},
   "source": [
    "        echo \"Wrong arguments\" >&2\n"
   ]
  },
  {
   "cell_type": "markdown",
   "metadata": {},
   "source": [
    "Redirects and pipes can be combined:"
   ]
  },
  {
   "cell_type": "markdown",
   "metadata": {},
   "source": [
    "        ./compile 2>&1 | less  # View both stdout and stderr in less\n"
   ]
  },
  {
   "cell_type": "markdown",
   "metadata": {
    "slideshow": {
     "slide_type": "subslide"
    }
   },
   "source": [
    "## Example: the classical Unix script\n",
    "A combination of commands, or a single long command, that you use often;"
   ]
  },
  {
   "cell_type": "markdown",
   "metadata": {},
   "source": [
    "        ./pulse_app -cmt WinslowRice -casename ellipsoid\n",
    "            < ellipsoid.i | tee main_output\n"
   ]
  },
  {
   "cell_type": "markdown",
   "metadata": {},
   "source": [
    "(should be a single line)\n",
    "In this case, flexibility is often not a high priority. However, there\n",
    "is room for improvement;\n",
    "\n",
    "  * Not possible to change command line options, input and output files\n",
    "\n",
    "  * Output file `main_output` is overwritten for each run\n",
    "\n",
    "  * Can we edit the input file for each run?"
   ]
  },
  {
   "cell_type": "markdown",
   "metadata": {
    "slideshow": {
     "slide_type": "subslide"
    }
   },
   "source": [
    "## Problem 1; changing application input\n",
    "In many cases only one parameter is changed frequently;"
   ]
  },
  {
   "cell_type": "markdown",
   "metadata": {},
   "source": [
    "        CASE='testbox'\n",
    "        CMT='WinslowRice'\n",
    "        if [ $# -gt 0 ]; then\n",
    "           CMT=$1\n",
    "        fi\n",
    "        INFILE='ellipsoid_test.i'\n",
    "        OUTFILE='main_output'\n",
    "        \n",
    "        ./pulse_app -cmt $CMT -cname $CASE\n",
    "          < $INFILE | tee $OUTFILE\n"
   ]
  },
  {
   "cell_type": "markdown",
   "metadata": {},
   "source": [
    "Still not very flexible, but in many cases sufficient. More\n",
    "flexibility requires more advanced parsing of command line options,\n",
    "which will be introduced later."
   ]
  },
  {
   "cell_type": "markdown",
   "metadata": {
    "slideshow": {
     "slide_type": "subslide"
    }
   },
   "source": [
    "## Problem 2: overwriting output file\n",
    "\n",
    "\n",
    "A simple solution is to add the output file as a command line\n",
    "  option, but what if we forget to change this from one run to the\n",
    "  next?\n",
    "\n",
    "Simple solution to ensure data is never over-written:"
   ]
  },
  {
   "cell_type": "markdown",
   "metadata": {},
   "source": [
    "        jobdir=$PWD/$(date)\n",
    "        mkdir $jobdir\n",
    "        cd $jobdir\n",
    "        \n",
    "        ./pulse_app -cmt $CMT -cname $CASE  < $INFILE | tee $OUTFILE\n",
    "        cd ..\n",
    "        if [ -L 'latest' ]; then\n",
    "            rm latest\n",
    "        fi\n",
    "        ln -s $jobdir latest\n"
   ]
  },
  {
   "cell_type": "markdown",
   "metadata": {
    "slideshow": {
     "slide_type": "subslide"
    }
   },
   "source": [
    "## Problem 2: overwriting output file (2)\n",
    "Alternative solutions;\n",
    "\n",
    "\n",
    "* Use process ID of the script (`$$`, not really unique)\n",
    "\n",
    "* `mktemp` can create a temporary file with a unique name, for\n",
    "  use by the script\n",
    "\n",
    "* Check if subdirectory exists, exit script if it does;"
   ]
  },
  {
   "cell_type": "markdown",
   "metadata": {},
   "source": [
    "        dir=$case\n",
    "        # check if $dir is a directory:\n",
    "        if [ -d $dir ]\n",
    "          #exit script to avoid overwriting data\n",
    "          then\n",
    "            echo \"Output directory exists, provide a different name\"\n",
    "            exit\n",
    "        fi\n",
    "        mkdir $dir   # create new directory $dir\n",
    "        cd $dir      # move to $dir\n",
    "        \n"
   ]
  },
  {
   "cell_type": "markdown",
   "metadata": {
    "slideshow": {
     "slide_type": "subslide"
    }
   },
   "source": [
    "## Alternative `if`-tests\n",
    "As with everything else in Bash, there are multiple ways to do `if`-tests:"
   ]
  },
  {
   "cell_type": "markdown",
   "metadata": {},
   "source": [
    "        \n",
    "        # the 'then' statement can also appear on the 1st line:\n",
    "        if [ -d $dir ]; then\n",
    "          exit\n",
    "        fi\n",
    "        \n",
    "        # another form of if-tests:\n",
    "        if test -d $dir; then\n",
    "          exit\n",
    "        fi\n",
    "        \n",
    "        # and a shortcut:\n",
    "        [ -d $dir ] && exit\n",
    "        test -d $dir && exit\n"
   ]
  },
  {
   "cell_type": "markdown",
   "metadata": {
    "slideshow": {
     "slide_type": "subslide"
    }
   },
   "source": [
    "## Problem 3: can we edit the input file at run time?\n",
    "\n",
    "  * Some applications do not take command line options, all input must read from standard input or an input file\n",
    "\n",
    "  * A Bash script can be used to equip such programs with basic handling of command line options\n",
    "\n",
    "  * We want to grab input from the command line, create the correct input file, and run the application"
   ]
  },
  {
   "cell_type": "markdown",
   "metadata": {
    "slideshow": {
     "slide_type": "subslide"
    }
   },
   "source": [
    "## File reading and writing\n",
    "\n",
    "\n",
    "File writing is efficiently done by 'here documents':"
   ]
  },
  {
   "cell_type": "markdown",
   "metadata": {},
   "source": [
    "        cat > myfile <<EOF\n",
    "        multi-line text\n",
    "        can now be inserted here,\n",
    "        and variable substition such as\n",
    "        $myvariable is\n",
    "        supported.\n",
    "        EOF\n"
   ]
  },
  {
   "cell_type": "markdown",
   "metadata": {},
   "source": [
    "The final EOF must\n",
    "start in column 1 of the\n",
    "script file."
   ]
  },
  {
   "cell_type": "markdown",
   "metadata": {
    "slideshow": {
     "slide_type": "subslide"
    }
   },
   "source": [
    "## Parsing command-line options"
   ]
  },
  {
   "cell_type": "markdown",
   "metadata": {},
   "source": [
    "        # read variables from the command line, one by one:\n",
    "        while [ $# -gt 0 ]  # $# = no of command-line args.\n",
    "        do\n",
    "            option=$1; # load command-line arg into option\n",
    "            shift;       # eat currently first command-line arg\n",
    "            case \"$option\" in\n",
    "                -m)\n",
    "                    m=$1; shift; ;;  # ;; indicates end of case\n",
    "                -b)\n",
    "                    b=$1; shift; ;;\n",
    "                \t...\n",
    "                *)\n",
    "                    echo \"$0: invalid option \\\"$option\\\"\"; exit ;;\n",
    "            esac\n",
    "        done\n"
   ]
  },
  {
   "cell_type": "markdown",
   "metadata": {
    "slideshow": {
     "slide_type": "subslide"
    }
   },
   "source": [
    "## Alternative to case: if\n",
    "\n",
    "`case` is standard when parsing command-line arguments in Bash, but if-tests can also be used. Consider"
   ]
  },
  {
   "cell_type": "markdown",
   "metadata": {},
   "source": [
    "           case \"$option\" in\n",
    "               -m)\n",
    "                   m=$1; shift; ;;  # load next command-line arg\n",
    "               -b)\n",
    "                   b=$1; shift; ;;\n",
    "               *)\n",
    "                   echo \"$0: invalid option \\\"$option\\\"\"; exit ;;\n",
    "            esac\n"
   ]
  },
  {
   "cell_type": "markdown",
   "metadata": {},
   "source": [
    "versus"
   ]
  },
  {
   "cell_type": "markdown",
   "metadata": {},
   "source": [
    "            if [ \"$option\" == \"-m\" ]; then\n",
    "                m=$1; shift;  # load next command-line arg\n",
    "            elif [ \"$option\" == \"-b\" ]; then\n",
    "                b=$1; shift;\n",
    "            else\n",
    "                echo \"$0: invalid option \\\"$option\\\"\"; exit\n",
    "            fi\n"
   ]
  },
  {
   "cell_type": "markdown",
   "metadata": {
    "slideshow": {
     "slide_type": "subslide"
    }
   },
   "source": [
    "## After assigning variables, we can write the input file"
   ]
  },
  {
   "cell_type": "markdown",
   "metadata": {},
   "source": [
    "        # write to $infile the lines that appear between\n",
    "        # the EOF symbols:\n",
    "        \n",
    "        cat > $infile <<EOF\n",
    "                gridfile='test2.grid'\n",
    "                param_a=4.5\n",
    "        EOF\n"
   ]
  },
  {
   "cell_type": "markdown",
   "metadata": {
    "slideshow": {
     "slide_type": "subslide"
    }
   },
   "source": [
    "## Then execute the program as usual\n",
    "\n",
    "\n",
    "Redirecting input to read from the new input file"
   ]
  },
  {
   "cell_type": "markdown",
   "metadata": {},
   "source": [
    "        ../pulse_app < $infile\n"
   ]
  },
  {
   "cell_type": "markdown",
   "metadata": {},
   "source": [
    "We can add a check for successful execution.\n",
    "The shell variable `$?` is 0 if last command\n",
    "was successful, otherwise `$? != 0`."
   ]
  },
  {
   "cell_type": "markdown",
   "metadata": {},
   "source": [
    "        if [ \"$?\" != \"0\" ]; then\n",
    "          echo \"running pulse_app failed\"; exit 1\n",
    "        fi\n",
    "        \n",
    "        # exit n sets $? to n\n"
   ]
  },
  {
   "cell_type": "markdown",
   "metadata": {
    "slideshow": {
     "slide_type": "subslide"
    }
   },
   "source": [
    "## Other uses of `cat`"
   ]
  },
  {
   "cell_type": "markdown",
   "metadata": {},
   "source": [
    "        cat myfile             # write myfile to the screen\n",
    "        cat myfile >  yourfile # write myfile to yourfile\n",
    "        cat myfile >> yourfile # append myfile to yourfile\n",
    "        cat myfile | wc        # send myfile as input to wc\n"
   ]
  },
  {
   "cell_type": "markdown",
   "metadata": {
    "slideshow": {
     "slide_type": "subslide"
    }
   },
   "source": [
    "## For-loops\n",
    "\n",
    "\n",
    "What if we want to run the application for multiple input files?"
   ]
  },
  {
   "cell_type": "markdown",
   "metadata": {},
   "source": [
    "        ./run.sh test1.i test2.i test3.i test4.i\n"
   ]
  },
  {
   "cell_type": "markdown",
   "metadata": {},
   "source": [
    "or"
   ]
  },
  {
   "cell_type": "markdown",
   "metadata": {},
   "source": [
    "        ./run.sh *.i\n"
   ]
  },
  {
   "cell_type": "markdown",
   "metadata": {},
   "source": [
    "A for-loop over command line arguments"
   ]
  },
  {
   "cell_type": "markdown",
   "metadata": {},
   "source": [
    "        for arg in $@; do\n",
    "          ../../build/app/pulse_app < $arg\n",
    "        done\n"
   ]
  },
  {
   "cell_type": "markdown",
   "metadata": {},
   "source": [
    "Can be combined with more advanced command line options, output\n",
    "  directories, etc..."
   ]
  },
  {
   "cell_type": "markdown",
   "metadata": {
    "slideshow": {
     "slide_type": "subslide"
    }
   },
   "source": [
    "## For-loops (2)\n",
    "\n",
    "\n",
    "For loops for file management:"
   ]
  },
  {
   "cell_type": "markdown",
   "metadata": {},
   "source": [
    "        files=`ls *.tmp`\n",
    "        \n",
    "        for file in $files\n",
    "        do\n",
    "          echo removing $file\n",
    "          rm -f $file\n",
    "        done\n"
   ]
  },
  {
   "cell_type": "markdown",
   "metadata": {
    "slideshow": {
     "slide_type": "subslide"
    }
   },
   "source": [
    "## Counters\n",
    "\n",
    "\n",
    "Declare an integer counter:"
   ]
  },
  {
   "cell_type": "markdown",
   "metadata": {},
   "source": [
    "        declare -i counter\n",
    "        counter=0\n",
    "        # arithmetic expressions must appear inside (( ))\n",
    "        ((counter++))\n",
    "        echo $counter  # yields 1\n"
   ]
  },
  {
   "cell_type": "markdown",
   "metadata": {},
   "source": [
    "For-loop with counter:"
   ]
  },
  {
   "cell_type": "markdown",
   "metadata": {},
   "source": [
    "        declare -i n; n=1\n",
    "        for arg in $@; do\n",
    "          echo \"command-line argument no. $n is <$arg>\"\n",
    "          ((n++))\n",
    "        done\n"
   ]
  },
  {
   "cell_type": "markdown",
   "metadata": {
    "slideshow": {
     "slide_type": "subslide"
    }
   },
   "source": [
    "## C-style for-loops"
   ]
  },
  {
   "cell_type": "markdown",
   "metadata": {},
   "source": [
    "        declare -i i\n",
    "        for ((i=0; i<$n; i++)); do\n",
    "          echo $c\n",
    "        done\n"
   ]
  },
  {
   "cell_type": "markdown",
   "metadata": {
    "slideshow": {
     "slide_type": "subslide"
    }
   },
   "source": [
    "## Example: bundle files\n",
    "\n",
    "\n",
    "Pack a series of files into one file\n",
    "\n",
    "Executing this single file as a Bash script packs out all the individual files again\n",
    "\n",
    "Usage:"
   ]
  },
  {
   "cell_type": "markdown",
   "metadata": {},
   "source": [
    "        bundle file1 file2 file3 > onefile  # pack\n",
    "        bash onefile # unpack\n"
   ]
  },
  {
   "cell_type": "markdown",
   "metadata": {},
   "source": [
    "Writing `bundle` is easy:"
   ]
  },
  {
   "cell_type": "markdown",
   "metadata": {},
   "source": [
    "        #/bin/sh\n",
    "        for i in $@; do\n",
    "            echo \"echo unpacking file $i\"\n",
    "            echo \"cat > $i <<EOF\"\n",
    "            cat $i\n",
    "            echo \"EOF\"\n",
    "        done\n"
   ]
  },
  {
   "cell_type": "markdown",
   "metadata": {
    "slideshow": {
     "slide_type": "subslide"
    }
   },
   "source": [
    "## The bundle output file\n",
    "\n",
    "\n",
    "Consider 2 fake files: `file1`:"
   ]
  },
  {
   "cell_type": "markdown",
   "metadata": {},
   "source": [
    "        Hello, World!\n",
    "        No sine computations today\n"
   ]
  },
  {
   "cell_type": "markdown",
   "metadata": {},
   "source": [
    "and `file2`:"
   ]
  },
  {
   "cell_type": "markdown",
   "metadata": {},
   "source": [
    "        1.0 2.0 4.0\n",
    "        0.1 0.2 0.4\n"
   ]
  },
  {
   "cell_type": "markdown",
   "metadata": {},
   "source": [
    "Running `bundle file1 file2` yields the output"
   ]
  },
  {
   "cell_type": "markdown",
   "metadata": {},
   "source": [
    "        echo unpacking file file1\n",
    "        cat > file1 <<EOF\n",
    "        Hello, World!\n",
    "        No sine computations today\n",
    "        EOF\n",
    "        echo unpacking file file2\n",
    "        cat > file2 <<EOF\n",
    "        1.0 2.0 4.0\n",
    "        0.1 0.2 0.4\n",
    "        EOF\n"
   ]
  },
  {
   "cell_type": "markdown",
   "metadata": {
    "slideshow": {
     "slide_type": "subslide"
    }
   },
   "source": [
    "## Running an application\n",
    "\n",
    "\n",
    "Running in the foreground:"
   ]
  },
  {
   "cell_type": "markdown",
   "metadata": {},
   "source": [
    "        cmd=\"myprog -c file.1 -p -f -q\";\n",
    "        $cmd < my_input_file\n",
    "        \n",
    "        # output is directed to the file res\n",
    "        $cmd < my_input_file > res\n",
    "        \n",
    "        # process res file by Sed, Awk, Perl or Python\n"
   ]
  },
  {
   "cell_type": "markdown",
   "metadata": {},
   "source": [
    "Running in the background:"
   ]
  },
  {
   "cell_type": "markdown",
   "metadata": {},
   "source": [
    "        myprog -c file.1 -p -f -q < my_input_file &\n"
   ]
  },
  {
   "cell_type": "markdown",
   "metadata": {},
   "source": [
    "or stop a foreground job with Ctrl-Z and then type `bg`"
   ]
  },
  {
   "cell_type": "markdown",
   "metadata": {
    "slideshow": {
     "slide_type": "subslide"
    }
   },
   "source": [
    "## Functions"
   ]
  },
  {
   "cell_type": "markdown",
   "metadata": {},
   "source": [
    "        function system {\n",
    "        # Run operating system command and if failure, report and abort\n",
    "        \n",
    "          \"$@\"\n",
    "          if [ $? -ne 0 ]; then\n",
    "            echo \"make.sh: unsuccessful command $@\"\n",
    "            echo \"abort!\"\n",
    "            exit 1\n",
    "          fi\n",
    "        }\n",
    "        # function arguments: $1 $2 $3 and so on\n",
    "        # return value: last statement\n",
    "        # call:\n",
    "        name=mydoc\n",
    "        system pdflatex $name\n",
    "        system bibtex $name\n"
   ]
  },
  {
   "cell_type": "markdown",
   "metadata": {},
   "source": [
    "How to return a value from a function? Define a new variable within the function - all functions are global!"
   ]
  },
  {
   "cell_type": "markdown",
   "metadata": {
    "slideshow": {
     "slide_type": "subslide"
    }
   },
   "source": [
    "## File globbing, for loop on the command line\n",
    "\n",
    "\n",
    "List all .ps and .gif files using wildcard notation:"
   ]
  },
  {
   "cell_type": "markdown",
   "metadata": {},
   "source": [
    "        files=`ls *.ps *.gif`\n",
    "        \n",
    "        # or safer, if you have aliased ls:\n",
    "        files=`/bin/ls *.ps *.gif`\n",
    "        \n",
    "        # compress and move the files:\n",
    "        gzip $files\n",
    "        for file in $files; do\n",
    "          mv ${file}.gz $HOME/images\n"
   ]
  },
  {
   "cell_type": "markdown",
   "metadata": {
    "slideshow": {
     "slide_type": "subslide"
    }
   },
   "source": [
    "## Testing file types"
   ]
  },
  {
   "cell_type": "markdown",
   "metadata": {},
   "source": [
    "        if [ -f $myfile ]; then\n",
    "            echo \"$myfile is a plain file\"\n",
    "        fi\n",
    "        \n",
    "        # or equivalently:\n",
    "        if test -f $myfile; then\n",
    "            echo \"$myfile is a plain file\"\n",
    "        fi\n",
    "        \n",
    "        if [ ! -d $myfile ]; then\n",
    "            echo \"$myfile is NOT a directory\"\n",
    "        fi\n",
    "        \n",
    "        if [ -x $myfile ]; then\n",
    "            echo \"$myfile is executable\"\n",
    "        fi\n",
    "        \n",
    "        [ -z $myfile ] && echo \"empty file $myfile\"\n"
   ]
  },
  {
   "cell_type": "markdown",
   "metadata": {
    "slideshow": {
     "slide_type": "subslide"
    }
   },
   "source": [
    "## Rename, copy and remove files"
   ]
  },
  {
   "cell_type": "markdown",
   "metadata": {},
   "source": [
    "        # rename $myfile to tmp.1:\n",
    "        mv $myfile tmp.1\n",
    "        \n",
    "        # force renaming:\n",
    "        mv -f $myfile tmp.1\n",
    "        \n",
    "        # move a directory tree my tree to $root:\n",
    "        mv mytree $root\n",
    "        \n",
    "        # copy myfile to $tmpfile:\n",
    "        cp myfile $tmpfile\n",
    "        \n",
    "        # copy a directory tree mytree recursively to $root:\n",
    "        cp -r mytree $root\n",
    "        \n",
    "        # remove myfile and all files with suffix .ps:\n",
    "        rm myfile *.ps\n",
    "        \n",
    "        # remove a non-empty directory tmp/mydir:\n",
    "        rm -r tmp/mydir\n"
   ]
  },
  {
   "cell_type": "markdown",
   "metadata": {
    "slideshow": {
     "slide_type": "subslide"
    }
   },
   "source": [
    "## Directory management"
   ]
  },
  {
   "cell_type": "markdown",
   "metadata": {},
   "source": [
    "        # make directory:\n",
    "        $dir = \"mynewdir\";\n",
    "        mkdir $mynewdir\n",
    "        mkdir -m 0755 $dir  # readable for all\n",
    "        mkdir -m 0700 $dir  # readable for owner only\n",
    "        mkdir -m 0777 $dir  # all rights for all\n",
    "        \n",
    "        # move to $dir\n",
    "        cd $dir\n",
    "        # move to $HOME\n",
    "        cd\n",
    "        \n",
    "        # create intermediate directories (the whole path):\n",
    "        mkdir -p  $HOME/bash/prosjects/test1\n"
   ]
  },
  {
   "cell_type": "markdown",
   "metadata": {
    "slideshow": {
     "slide_type": "subslide"
    }
   },
   "source": [
    "## The find command\n",
    "\n",
    "Very useful command!\n",
    "\n",
    "\n",
    "`find` visits all files in a directory tree and can execute one or more commands for every file\n",
    "\n",
    "Basic example: find the `oscillator` codes"
   ]
  },
  {
   "cell_type": "markdown",
   "metadata": {},
   "source": [
    "        find $scripting/src -name 'oscillator*' -print\n"
   ]
  },
  {
   "cell_type": "markdown",
   "metadata": {},
   "source": [
    "Or find all PostScript files"
   ]
  },
  {
   "cell_type": "markdown",
   "metadata": {},
   "source": [
    "        find $HOME \\( -name '*.ps' -o -name '*.eps' \\) -print\n"
   ]
  },
  {
   "cell_type": "markdown",
   "metadata": {},
   "source": [
    "We can also run a command for each file:"
   ]
  },
  {
   "cell_type": "markdown",
   "metadata": {},
   "source": [
    "        find rootdir -name filenamespec -exec command {} \\; -print\n",
    "        # {} is the current filename\n"
   ]
  },
  {
   "cell_type": "markdown",
   "metadata": {
    "slideshow": {
     "slide_type": "subslide"
    }
   },
   "source": [
    "## Applications of find (1)\n",
    "\n",
    "\n",
    "Find all files larger than 2000 blocks a 512 bytes (=1Mb):"
   ]
  },
  {
   "cell_type": "markdown",
   "metadata": {},
   "source": [
    "        find $HOME -name '*' -type f -size +2000 -exec ls -s {} \\;\n"
   ]
  },
  {
   "cell_type": "markdown",
   "metadata": {},
   "source": [
    "Remove all these files:"
   ]
  },
  {
   "cell_type": "markdown",
   "metadata": {},
   "source": [
    "        find $HOME -name '*' -type f -size +2000 \\\n",
    "             -exec ls -s {} \\; -exec rm -f {} \\;\n"
   ]
  },
  {
   "cell_type": "markdown",
   "metadata": {},
   "source": [
    "or ask the user for permission to remove:"
   ]
  },
  {
   "cell_type": "markdown",
   "metadata": {},
   "source": [
    "        find $HOME -name '*' -type f -size +2000 \\\n",
    "             -exec ls -s {} \\; -ok rm -f {} \\;\n"
   ]
  },
  {
   "cell_type": "markdown",
   "metadata": {
    "slideshow": {
     "slide_type": "subslide"
    }
   },
   "source": [
    "## Applications of find (2)\n",
    "\n",
    "\n",
    "Find all files not being accessed for the last 90 days:"
   ]
  },
  {
   "cell_type": "markdown",
   "metadata": {},
   "source": [
    "        find $HOME -name '*' -atime +90 -print\n"
   ]
  },
  {
   "cell_type": "markdown",
   "metadata": {},
   "source": [
    "and move these to /tmp/trash:"
   ]
  },
  {
   "cell_type": "markdown",
   "metadata": {},
   "source": [
    "        find $HOME -name '*' -atime +90 -print \\\n",
    "             -exec mv -f {} /tmp/trash \\;\n"
   ]
  },
  {
   "cell_type": "markdown",
   "metadata": {
    "slideshow": {
     "slide_type": "subslide"
    }
   },
   "source": [
    "## Tar and gzip\n",
    "\n",
    "\n",
    "The `tar` command can pack single files or  all files in a directory tree into one file, which can be unpacked later"
   ]
  },
  {
   "cell_type": "markdown",
   "metadata": {},
   "source": [
    "        tar -cvf myfiles.tar mytree file1 file2\n",
    "        \n",
    "        # options:\n",
    "        # c: pack, v: list name of files, f: pack into file\n",
    "        \n",
    "        # unpack the mytree tree and the files file1 and file2:\n",
    "        tar -xvf myfiles.tar\n",
    "        \n",
    "        # options:\n",
    "        # x: extract (unpack)\n"
   ]
  },
  {
   "cell_type": "markdown",
   "metadata": {},
   "source": [
    "The tarfile can be compressed:"
   ]
  },
  {
   "cell_type": "markdown",
   "metadata": {},
   "source": [
    "        gzip mytar.tar\n",
    "        \n",
    "        # result: mytar.tar.gz\n"
   ]
  },
  {
   "cell_type": "markdown",
   "metadata": {
    "slideshow": {
     "slide_type": "subslide"
    }
   },
   "source": [
    "## Two find/tar/gzip examples\n",
    "\n",
    "\n",
    "Pack all PostScript figures:"
   ]
  },
  {
   "cell_type": "markdown",
   "metadata": {},
   "source": [
    "        tar -cvf ps.tar `find $HOME -name '*.ps' -print`\n",
    "        gzip ps.tar\n"
   ]
  },
  {
   "cell_type": "markdown",
   "metadata": {},
   "source": [
    "Pack a directory but remove CVS directories and redundant files"
   ]
  },
  {
   "cell_type": "markdown",
   "metadata": {},
   "source": [
    "        # take a copy of the original directory:\n",
    "        cp -r myhacks /tmp/oblig1-hpl\n",
    "        # remove CVS directories\n",
    "        find /tmp/oblig1-hpl -name CVS -print -exec rm -rf {} \\;\n",
    "        # remove redundant files:\n",
    "        find /tmp/oblig1-hpl \\( -name '*~' -o -name '*.bak' \\\n",
    "         -o -name '*.log' \\) -print -exec rm -f {} \\;\n",
    "        # pack files:\n",
    "        tar -cf oblig1-hpl.tar /tmp/tar/oblig1-hpl.tar\n",
    "        gzip oblig1-hpl.tar\n",
    "        # send oblig1-hpl.tar.gz as mail attachment\n"
   ]
  }
 ],
 "metadata": {
  "celltoolbar": "Slideshow",
  "kernelspec": {
   "display_name": "Bash",
   "language": "bash",
   "name": "bash"
  },
  "language_info": {
   "codemirror_mode": "shell",
   "file_extension": ".sh",
   "mimetype": "text/x-sh",
   "name": "bash"
  }
 },
 "nbformat": 4,
 "nbformat_minor": 1
}
