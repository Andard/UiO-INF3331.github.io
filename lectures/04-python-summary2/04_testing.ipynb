{
 "cells": [
  {
   "cell_type": "markdown",
   "metadata": {
    "slideshow": {
     "slide_type": "slide"
    }
   },
   "source": [
    "# Further topics on Python 3"
   ]
  },
  {
   "cell_type": "markdown",
   "metadata": {
    "slideshow": {
     "slide_type": "subslide"
    }
   },
   "source": [
    "## Contents\n",
    "\n",
    "* Classes\n",
    "  * Static attributes\n",
    "  * Properties\n",
    "  * Inheritance\n",
    "* Scopes - The lifetime of variables\n",
    "* Testing  \n",
    "* Documenting your code\n",
    "* Reading and writing files\n",
    "* Using and writing modules  "
   ]
  },
  {
   "cell_type": "markdown",
   "metadata": {
    "slideshow": {
     "slide_type": "subslide"
    }
   },
   "source": [
    "## Before we start, some updates\n",
    "\n",
    "Assignment 3:\n",
    "* Deadline for assignment 3 is today.\n",
    "\n",
    "Assignment 4:\n",
    "* Published today!\n",
    "* 3 weeks deadline followed by a 1 week peer-review\n",
    "* Topic: Numerical Python (NumPy) and integration with C"
   ]
  },
  {
   "cell_type": "markdown",
   "metadata": {},
   "source": [
    "## Lecture overview for the next weeks\n",
    "\n",
    "* 15 Sept    -  Classes / Unit testing\n",
    "* 22 Sept    -  Numpy / Matplotlib / Profiling\n",
    "* 29 Sept    -  Mixed programming / Cython\n",
    "* 06 October -  Ipython Notebook (Guest lecture by Benjamin Ragan-Kelley)"
   ]
  },
  {
   "cell_type": "markdown",
   "metadata": {
    "slideshow": {
     "slide_type": "slide"
    }
   },
   "source": [
    "# Classes in Python"
   ]
  },
  {
   "cell_type": "markdown",
   "metadata": {},
   "source": [
    "## Classes in Python"
   ]
  },
  {
   "cell_type": "code",
   "execution_count": 21,
   "metadata": {
    "slideshow": {
     "slide_type": "subslide"
    }
   },
   "outputs": [],
   "source": [
    "class Car(object):\n",
    "    \"\"\" Class docstring \"\"\"\n",
    "    \n",
    "    def __init__(self, color):       # Constructor\n",
    "        self.color = color           # Class variable\n",
    "        self.sound = \"Roaar\"\n",
    "\n",
    "    def start(self):                 # member function\n",
    "        print(self.sound)"
   ]
  },
  {
   "cell_type": "markdown",
   "metadata": {
    "slideshow": {
     "slide_type": "fragment"
    }
   },
   "source": [
    "* *Class attributes* can be variables and functions."
   ]
  },
  {
   "cell_type": "code",
   "execution_count": 22,
   "metadata": {},
   "outputs": [
    {
     "name": "stdout",
     "output_type": "stream",
     "text": [
      "Roaar\n"
     ]
    }
   ],
   "source": [
    "car = Car(\"blue\")\n",
    "car.start()"
   ]
  },
  {
   "cell_type": "markdown",
   "metadata": {
    "slideshow": {
     "slide_type": "subslide"
    }
   },
   "source": [
    "## So what again is this `self` variable?\n",
    "\n",
    "`self` is the instance object that Python automatically passes to the class instance's method as its first argument when called. \n",
    "\n",
    "In other words:\n",
    "\n",
    "```python\n",
    "car.start()\n",
    "```\n",
    "and\n",
    "```\n",
    "Car.start(self=car)\n",
    "``` \n",
    "do the same!\n",
    "\n",
    "Note: the name `self` is arbitrary - but a good choice in most cases.\n"
   ]
  },
  {
   "cell_type": "markdown",
   "metadata": {
    "slideshow": {
     "slide_type": "fragment"
    }
   },
   "source": [
    "### And why do we need it?"
   ]
  },
  {
   "cell_type": "markdown",
   "metadata": {
    "slideshow": {
     "slide_type": "fragment"
    }
   },
   "source": [
    "`self` is used to access other attributes or methods of the object from inside the method.\n",
    "```python\n",
    "class Car(object):\n",
    "    # ...\n",
    "    def start(self):          \n",
    "        print(self.sound)  # accesses the variable of that car instance\n",
    "```        "
   ]
  },
  {
   "cell_type": "markdown",
   "metadata": {
    "slideshow": {
     "slide_type": "subslide"
    }
   },
   "source": [
    "## Subclasses\n",
    "\n",
    "* Python has a similar class concept as in Java and C++, but:\n",
    "  * All functions are virtual\n",
    "  * No private/protected variables (the effect can be \"simulated\")\n",
    "  * This makes class programming easier and faster than in C++ and Java:\n",
    "* Python supports single and multiple inheritance"
   ]
  },
  {
   "cell_type": "markdown",
   "metadata": {
    "slideshow": {
     "slide_type": "slide"
    }
   },
   "source": [
    "## Implementing a subclass\n",
    "\n",
    "Subclasses can be used to **inherit** all member functions/attribites from its Base class.\n",
    "\n",
    "It is usefull to create **specialisation** of a class without code duplication.\n",
    "\n",
    "For example, `Golf` is a special type of car:"
   ]
  },
  {
   "cell_type": "code",
   "execution_count": 33,
   "metadata": {
    "collapsed": true
   },
   "outputs": [],
   "source": [
    "class Golf(Car):\n",
    "    def __init__(self, color):\n",
    "        Car.__init__(self, color)         # Calls the Car constructor\n",
    "                                          # self.color and self.sound now exist\n",
    "        self.sound = \"(Golf) RRROOAR\"     # Change the sound"
   ]
  },
  {
   "cell_type": "markdown",
   "metadata": {
    "slideshow": {
     "slide_type": "fragment"
    }
   },
   "source": [
    "If a subclass function is not implemented, Python will try to call the function of the class:"
   ]
  },
  {
   "cell_type": "code",
   "execution_count": 35,
   "metadata": {},
   "outputs": [
    {
     "name": "stdout",
     "output_type": "stream",
     "text": [
      "(Golf) RRROOAR\n"
     ]
    }
   ],
   "source": [
    "golf = Golf(\"white\")\n",
    "golf.start()          # Calls the Car's start function."
   ]
  },
  {
   "cell_type": "markdown",
   "metadata": {},
   "source": [
    "We can add special Subclasses can also have additional functions:"
   ]
  },
  {
   "cell_type": "code",
   "execution_count": 61,
   "metadata": {
    "collapsed": true,
    "slideshow": {
     "slide_type": "fragment"
    }
   },
   "outputs": [],
   "source": [
    "class DieselGolf(Golf):\n",
    "    def cheat(self):\n",
    "        self.sound = \"(Golf) SSsssss\""
   ]
  },
  {
   "cell_type": "code",
   "execution_count": 62,
   "metadata": {
    "slideshow": {
     "slide_type": "fragment"
    }
   },
   "outputs": [
    {
     "name": "stdout",
     "output_type": "stream",
     "text": [
      "(Golf) SSsssss\n"
     ]
    }
   ],
   "source": [
    "diesel_golf = DieselGolf(\"black\")\n",
    "diesel_golf.cheat()\n",
    "diesel_golf.start()"
   ]
  },
  {
   "cell_type": "markdown",
   "metadata": {},
   "source": [
    "### The `object` class is the mother of all classes"
   ]
  },
  {
   "cell_type": "markdown",
   "metadata": {},
   "source": [
    "All classes are subclasses of the `object` class:\n",
    "```python\n",
    "class Car(object):\n",
    "    # ...\n",
    "```"
   ]
  },
  {
   "cell_type": "markdown",
   "metadata": {},
   "source": [
    "Let's see what functions the object class implements:"
   ]
  },
  {
   "cell_type": "code",
   "execution_count": 42,
   "metadata": {
    "collapsed": true
   },
   "outputs": [
    {
     "data": {
      "text/plain": [
       "['__class__',\n",
       " '__delattr__',\n",
       " '__dir__',\n",
       " '__doc__',\n",
       " '__eq__',\n",
       " '__format__',\n",
       " '__ge__',\n",
       " '__getattribute__',\n",
       " '__gt__',\n",
       " '__hash__',\n",
       " '__init__',\n",
       " '__le__',\n",
       " '__lt__',\n",
       " '__ne__',\n",
       " '__new__',\n",
       " '__reduce__',\n",
       " '__reduce_ex__',\n",
       " '__repr__',\n",
       " '__setattr__',\n",
       " '__sizeof__',\n",
       " '__str__',\n",
       " '__subclasshook__']"
      ]
     },
     "execution_count": 42,
     "metadata": {},
     "output_type": "execute_result"
    }
   ],
   "source": [
    "dir(object)"
   ]
  },
  {
   "cell_type": "markdown",
   "metadata": {
    "slideshow": {
     "slide_type": "subslide"
    }
   },
   "source": [
    "## Comment on object-orientation\n",
    "Consider:"
   ]
  },
  {
   "cell_type": "code",
   "execution_count": 68,
   "metadata": {
    "collapsed": true
   },
   "outputs": [
    {
     "name": "stdout",
     "output_type": "stream",
     "text": [
      "Roaar\n"
     ]
    }
   ],
   "source": [
    "# this function works with any object that has a start function\n",
    "def start(v):\n",
    "    v.start()\n",
    "\n",
    "start(car)"
   ]
  },
  {
   "cell_type": "markdown",
   "metadata": {
    "slideshow": {
     "slide_type": "fragment"
    }
   },
   "source": [
    "* In C++/Java we would declare `v` as a `Car` reference and rely on `golf.start()` to call the virtual function `start` in `Golf`.\n",
    "* The same works in Python, but we do not need inheritance and virtual functions here: `v.start()` will work for **any** object `v` that has a callable attribute `start` that takes no arguments."
   ]
  },
  {
   "cell_type": "markdown",
   "metadata": {},
   "source": [
    "## Testing on the class type\n",
    "\n",
    "It can be usefull to check the type of an object.\n",
    "\n",
    "For example if the object is an instance of a class:\n",
    "```python\n",
    "if isinstance(obj, Car): # True\n",
    "    # Treat obj as a car\n",
    "```"
   ]
  },
  {
   "cell_type": "markdown",
   "metadata": {
    "slideshow": {
     "slide_type": "fragment"
    }
   },
   "source": [
    "Test if a class is a subclass of another:\n",
    "```python\n",
    "if issubclass(Golf, Car):\n",
    "    # ...\n",
    "```"
   ]
  },
  {
   "cell_type": "markdown",
   "metadata": {
    "slideshow": {
     "slide_type": "fragment"
    }
   },
   "source": [
    "Test if two objects are of the same class:\n",
    "```python\n",
    "if car.__class__ is golf.__class__:\n",
    "```\n",
    "(`car.__class__` refers the class object of instance `car`)"
   ]
  },
  {
   "cell_type": "markdown",
   "metadata": {
    "slideshow": {
     "slide_type": "subslide"
    }
   },
   "source": [
    "## Private/non-public data"
   ]
  },
  {
   "cell_type": "markdown",
   "metadata": {
    "slideshow": {
     "slide_type": "fragment"
    }
   },
   "source": [
    "There is no technical way of preventing users from manipulating data and methods in an object:"
   ]
  },
  {
   "cell_type": "code",
   "execution_count": 74,
   "metadata": {},
   "outputs": [
    {
     "name": "stdout",
     "output_type": "stream",
     "text": [
      "---\n"
     ]
    }
   ],
   "source": [
    "car.start = lambda: print(\"---\")\n",
    "car.start()"
   ]
  },
  {
   "cell_type": "markdown",
   "metadata": {
    "slideshow": {
     "slide_type": "fragment"
    }
   },
   "source": [
    "However, there are some conventions: \n",
    "* Names **starting with one underscore** are treated as non-public (\"protected\").\n",
    "* Names **starting with one double underscore** are considered strictly private (Python mangles class name with method name in this case: `obj.__some` has actually the name `_classname__some`).\n",
    "* Names **starting and ending with double underscores** are special methods and attributes (discussed later)"
   ]
  },
  {
   "cell_type": "markdown",
   "metadata": {
    "slideshow": {
     "slide_type": "fragment"
    }
   },
   "source": [
    "Here is an example..."
   ]
  },
  {
   "cell_type": "code",
   "execution_count": 82,
   "metadata": {
    "collapsed": true
   },
   "outputs": [],
   "source": [
    "class MyClass(object):\n",
    "    def __init__(self):\n",
    "        self.a   = 2       # public var\n",
    "        self._b  = 1       # non-public var\n",
    "        self.__c = 3       # private var\n",
    "        \n",
    "    def __hidden(self):    # private function\n",
    "        pass"
   ]
  },
  {
   "cell_type": "markdown",
   "metadata": {
    "slideshow": {
     "slide_type": "fragment"
    }
   },
   "source": [
    "and how to use it:"
   ]
  },
  {
   "cell_type": "code",
   "execution_count": 84,
   "metadata": {
    "slideshow": {
     "slide_type": "fragment"
    }
   },
   "outputs": [],
   "source": [
    "m = MyClass()\n",
    "m.a\n",
    "m._b\n",
    "m._MyClass__c         # m.__c has been mangled\n",
    "m._MyClass__hidden()  # m.__hidden has been mangled"
   ]
  },
  {
   "cell_type": "markdown",
   "metadata": {
    "collapsed": true,
    "slideshow": {
     "slide_type": "fragment"
    }
   },
   "source": [
    "You can list all public and private class asttributes with `dir`:"
   ]
  },
  {
   "cell_type": "code",
   "execution_count": 77,
   "metadata": {
    "collapsed": true,
    "slideshow": {
     "slide_type": "-"
    }
   },
   "outputs": [
    {
     "data": {
      "text/plain": [
       "['_MyClass__c',\n",
       " '_MyClass__hidden',\n",
       " '__class__',\n",
       " '__delattr__',\n",
       " '__dict__',\n",
       " '__dir__',\n",
       " '__doc__',\n",
       " '__eq__',\n",
       " '__format__',\n",
       " '__ge__',\n",
       " '__getattribute__',\n",
       " '__gt__',\n",
       " '__hash__',\n",
       " '__init__',\n",
       " '__le__',\n",
       " '__lt__',\n",
       " '__module__',\n",
       " '__ne__',\n",
       " '__new__',\n",
       " '__reduce__',\n",
       " '__reduce_ex__',\n",
       " '__repr__',\n",
       " '__setattr__',\n",
       " '__sizeof__',\n",
       " '__str__',\n",
       " '__subclasshook__',\n",
       " '__weakref__',\n",
       " '_a',\n",
       " 'b']"
      ]
     },
     "execution_count": 77,
     "metadata": {},
     "output_type": "execute_result"
    }
   ],
   "source": [
    "dir(m)"
   ]
  },
  {
   "cell_type": "markdown",
   "metadata": {
    "slideshow": {
     "slide_type": "slide"
    }
   },
   "source": [
    "## Special attributes"
   ]
  },
  {
   "cell_type": "markdown",
   "metadata": {},
   "source": [
    "Listing all methods and attributes with `dir` reveils that these instances have already some *special* attributes:"
   ]
  },
  {
   "cell_type": "code",
   "execution_count": 85,
   "metadata": {
    "collapsed": true
   },
   "outputs": [
    {
     "data": {
      "text/plain": [
       "['__class__',\n",
       " '__delattr__',\n",
       " '__dict__',\n",
       " '__dir__',\n",
       " '__doc__',\n",
       " '__eq__',\n",
       " '__format__',\n",
       " '__ge__',\n",
       " '__getattribute__',\n",
       " '__gt__',\n",
       " '__hash__',\n",
       " '__init__',\n",
       " '__le__',\n",
       " '__lt__',\n",
       " '__module__',\n",
       " '__ne__',\n",
       " '__new__',\n",
       " '__reduce__',\n",
       " '__reduce_ex__',\n",
       " '__repr__',\n",
       " '__setattr__',\n",
       " '__sizeof__',\n",
       " '__str__',\n",
       " '__subclasshook__',\n",
       " '__weakref__',\n",
       " 'color',\n",
       " 'sound',\n",
       " 'start']"
      ]
     },
     "execution_count": 85,
     "metadata": {},
     "output_type": "execute_result"
    }
   ],
   "source": [
    "dir(car)"
   ]
  },
  {
   "cell_type": "markdown",
   "metadata": {
    "slideshow": {
     "slide_type": "subslide"
    }
   },
   "source": [
    "Let's inspect some of these:"
   ]
  },
  {
   "cell_type": "code",
   "execution_count": 94,
   "metadata": {},
   "outputs": [
    {
     "data": {
      "text/plain": [
       "{'color': 'white', 'sound': '(Golf) RRROOAR'}"
      ]
     },
     "execution_count": 94,
     "metadata": {},
     "output_type": "execute_result"
    }
   ],
   "source": [
    "golf.__dict__"
   ]
  },
  {
   "cell_type": "code",
   "execution_count": 95,
   "metadata": {
    "slideshow": {
     "slide_type": "-"
    }
   },
   "outputs": [
    {
     "data": {
      "text/plain": [
       "{'color': 'white', 'sound': '(Golf) RRROOAR'}"
      ]
     },
     "execution_count": 95,
     "metadata": {},
     "output_type": "execute_result"
    }
   ],
   "source": [
    "golf.__dict__"
   ]
  },
  {
   "cell_type": "markdown",
   "metadata": {
    "slideshow": {
     "slide_type": "fragment"
    }
   },
   "source": [
    "**Conclusion**: `__dict__` returns a dictionary of user-defined attributes."
   ]
  },
  {
   "cell_type": "markdown",
   "metadata": {
    "slideshow": {
     "slide_type": "fragment"
    }
   },
   "source": [
    "Name of class, name of method:"
   ]
  },
  {
   "cell_type": "code",
   "execution_count": 96,
   "metadata": {},
   "outputs": [
    {
     "data": {
      "text/plain": [
       "__main__.Golf"
      ]
     },
     "execution_count": 96,
     "metadata": {},
     "output_type": "execute_result"
    }
   ],
   "source": [
    "golf.__class__          # class of object"
   ]
  },
  {
   "cell_type": "code",
   "execution_count": 97,
   "metadata": {},
   "outputs": [
    {
     "data": {
      "text/plain": [
       "'Golf'"
      ]
     },
     "execution_count": 97,
     "metadata": {},
     "output_type": "execute_result"
    }
   ],
   "source": [
    "golf.__class__.__name__ # name of class"
   ]
  },
  {
   "cell_type": "markdown",
   "metadata": {
    "slideshow": {
     "slide_type": "subslide"
    }
   },
   "source": [
    "## Special methods\n",
    "* Special methods have leading and trailing double underscores.\n",
    "* If implemented, Python calls these special  methods on certain operations. "
   ]
  },
  {
   "cell_type": "markdown",
   "metadata": {
    "slideshow": {
     "slide_type": "fragment"
    }
   },
   "source": [
    "* Here are some operations defined by special methods:"
   ]
  },
  {
   "cell_type": "code",
   "execution_count": 58,
   "metadata": {
    "collapsed": true
   },
   "outputs": [
    {
     "ename": "IndentationError",
     "evalue": "expected an indented block (<ipython-input-58-0dfdac666397>, line 11)",
     "output_type": "error",
     "traceback": [
      "\u001b[0;36m  File \u001b[0;32m\"<ipython-input-58-0dfdac666397>\"\u001b[0;36m, line \u001b[0;32m11\u001b[0m\n\u001b[0;31m    a == b            # calls a.__eq__(self, b)\u001b[0m\n\u001b[0m    ^\u001b[0m\n\u001b[0;31mIndentationError\u001b[0m\u001b[0;31m:\u001b[0m expected an indented block\n"
     ]
    }
   ],
   "source": [
    "str(a)            # calls a.__str__()\n",
    "                  # also called with print(a)!\n",
    "len(a)            # calls a.__len__()\n",
    "c = a*b           # calls c = a.__mul__(b)\n",
    "a = a+b           # calls a = a.__add__(b)\n",
    "a += c            # calls a.__iadd__(c)\n",
    "d = a[3]          # calls d = a.__getitem__(3)\n",
    "a[3] = 0          # calls a.__setitem__(3, 0)\n",
    "f = a(1.2, True)  # calls f = a.__call__(1.2, True)\n",
    "if a:             # calls if a.__len__()> 0: or if a.__nonzero__():\n",
    "a == b            # calls a.__eq__(self, b)"
   ]
  },
  {
   "cell_type": "markdown",
   "metadata": {
    "slideshow": {
     "slide_type": "slide"
    }
   },
   "source": [
    "## Example: functions with extra parameters\n",
    "\n",
    "Suppose we need a function of `x` and `y` with three additional parameters `a`, `b`, and `c`:"
   ]
  },
  {
   "cell_type": "code",
   "execution_count": 21,
   "metadata": {
    "collapsed": true
   },
   "outputs": [],
   "source": [
    "def f(x, y, a, b, c):\n",
    "    return a + b*x + c*y*y"
   ]
  },
  {
   "cell_type": "markdown",
   "metadata": {},
   "source": [
    "Suppose we need to send this function to another function"
   ]
  },
  {
   "cell_type": "code",
   "execution_count": 22,
   "metadata": {
    "collapsed": true
   },
   "outputs": [],
   "source": [
    "def gridvalues(f, xcoor, ycoor, file):\n",
    "    for i in range(len(xcoor)):\n",
    "        for j in range(len(ycoor)):\n",
    "            fval = f(xcoor[i], ycoor[j])\n",
    "            file.write('%g %g %g\\n' % (xcoor[i], ycoor[j], fval))"
   ]
  },
  {
   "cell_type": "markdown",
   "metadata": {},
   "source": [
    "* `func` is expected to be a function of `x` and `y` only (many libraries make such assumptions!)\n",
    "* How can we send our `f` function to `gridvalues`?"
   ]
  },
  {
   "cell_type": "markdown",
   "metadata": {
    "slideshow": {
     "slide_type": "subslide"
    }
   },
   "source": [
    "## Possible (inferior) solution\n",
    "**Bad solution 1**: global parameters"
   ]
  },
  {
   "cell_type": "markdown",
   "metadata": {},
   "source": [
    "```python\n",
    "global a, b, c\n",
    "#...\n",
    "def f(x, y):\n",
    "    return a + b*x + c*y*y\n",
    "\n",
    "#...\n",
    "a = 0.5;  b = 1;  c = 0.01\n",
    "gridvalues(f, xcoor, ycoor, somefile)\n",
    "```"
   ]
  },
  {
   "cell_type": "markdown",
   "metadata": {},
   "source": [
    "**Problem**: Global variables are usually considered evil!"
   ]
  },
  {
   "cell_type": "markdown",
   "metadata": {
    "slideshow": {
     "slide_type": "subslide"
    }
   },
   "source": [
    "## Possible (inferior) solution\n",
    "**Bad solution 2**: keyword arguments with default values"
   ]
  },
  {
   "cell_type": "markdown",
   "metadata": {},
   "source": [
    "```python\n",
    "def f(x, y, a=0.5, b=1, c=0.01):\n",
    "    return a + b*x + c*y*y\n",
    "\n",
    "# ...\n",
    "gridvalues(f, xcoor, ycoor, somefile)\n",
    "```\n",
    "\n",
    "**Problem**: Useless for other values of `a`, `b`, `c`"
   ]
  },
  {
   "cell_type": "markdown",
   "metadata": {
    "slideshow": {
     "slide_type": "subslide"
    }
   },
   "source": [
    "## Solution: class with `__call__` operator\n",
    "\n",
    "Make a class with function behavior instead of a pure function.\n",
    "  2. Make the parameters class attributes.\n",
    "  3. Implement the special `__call__`  function."
   ]
  },
  {
   "cell_type": "code",
   "execution_count": 23,
   "metadata": {
    "collapsed": true,
    "slideshow": {
     "slide_type": "fragment"
    }
   },
   "outputs": [],
   "source": [
    "class F(object):\n",
    "    def __init__(self, a=1, b=1, c=1):\n",
    "        self.a = a\n",
    "        self.b = b\n",
    "        self.c = c\n",
    "\n",
    "    def __call__(self, x, y):    # special method!\n",
    "        return self.a + self.b*x + self.c*y*y"
   ]
  },
  {
   "cell_type": "markdown",
   "metadata": {
    "slideshow": {
     "slide_type": "fragment"
    }
   },
   "source": [
    "Now, instances can be called as ordinary functions, but with *x* and *y* as the only formal arguments:"
   ]
  },
  {
   "cell_type": "code",
   "execution_count": 24,
   "metadata": {
    "collapsed": true,
    "slideshow": {
     "slide_type": "-"
    }
   },
   "outputs": [],
   "source": [
    "f = F(a=0.5, c=0.01)\n",
    "# can now call f as\n",
    "v = f(0.1, 2)\n",
    "# ...\n",
    "gridvalues(f, xcoor=[], ycoor=[], file=\"somefile\")"
   ]
  },
  {
   "cell_type": "markdown",
   "metadata": {
    "slideshow": {
     "slide_type": "slide"
    }
   },
   "source": [
    "## Class variables\n",
    "Static data (or class variables) are common to all class instances."
   ]
  },
  {
   "cell_type": "code",
   "execution_count": 2,
   "metadata": {
    "collapsed": true
   },
   "outputs": [],
   "source": [
    "class Point(object):\n",
    "    \" A class representing a 2D point \"\n",
    "\n",
    "    counter = 0 # class variable, counts number of instances\n",
    "    \n",
    "    def __init__(self, x, y):\n",
    "        self.x = x\n",
    "        self.y = y;\n",
    "        Point.counter += 1"
   ]
  },
  {
   "cell_type": "code",
   "execution_count": 5,
   "metadata": {
    "collapsed": true,
    "slideshow": {
     "slide_type": "fragment"
    }
   },
   "outputs": [],
   "source": [
    "for i in range(1000):\n",
    "        p = Point(i*0.01, i*0.001)"
   ]
  },
  {
   "cell_type": "markdown",
   "metadata": {
    "slideshow": {
     "slide_type": "fragment"
    }
   },
   "source": [
    "Class variables can be accessed without an instance:"
   ]
  },
  {
   "cell_type": "code",
   "execution_count": 6,
   "metadata": {
    "slideshow": {
     "slide_type": "-"
    }
   },
   "outputs": [
    {
     "data": {
      "text/plain": [
       "2000"
      ]
     },
     "execution_count": 6,
     "metadata": {},
     "output_type": "execute_result"
    }
   ],
   "source": [
    "Point.counter     "
   ]
  },
  {
   "cell_type": "markdown",
   "metadata": {
    "slideshow": {
     "slide_type": "fragment"
    }
   },
   "source": [
    "... or with with an instance:"
   ]
  },
  {
   "cell_type": "code",
   "execution_count": 7,
   "metadata": {
    "slideshow": {
     "slide_type": "-"
    }
   },
   "outputs": [
    {
     "data": {
      "text/plain": [
       "2000"
      ]
     },
     "execution_count": 7,
     "metadata": {},
     "output_type": "execute_result"
    }
   ],
   "source": [
    "p.counter      "
   ]
  },
  {
   "cell_type": "markdown",
   "metadata": {
    "slideshow": {
     "slide_type": "subslide"
    }
   },
   "source": [
    "## Static methods\n",
    "Python also allow static class methods (that is, methods that can be called without having an instance):"
   ]
  },
  {
   "cell_type": "code",
   "execution_count": 118,
   "metadata": {
    "collapsed": true
   },
   "outputs": [],
   "source": [
    "class Point(object):\n",
    "    \" A class representing a 2D point \"\n",
    "    _counter = 0\n",
    "    \n",
    "    def __init__(self, x, y):\n",
    "        self.x = x; self.y = y\n",
    "        Point._counter += 1\n",
    "        \n",
    "    def _ncopies():  # No need for a self argument for static methods\n",
    "        return Point._counter\n",
    "\n",
    "    ncopies = staticmethod(_ncopies)"
   ]
  },
  {
   "cell_type": "markdown",
   "metadata": {
    "slideshow": {
     "slide_type": "fragment"
    }
   },
   "source": [
    "`ncopies` can be called directly from the class:"
   ]
  },
  {
   "cell_type": "code",
   "execution_count": 119,
   "metadata": {
    "slideshow": {
     "slide_type": "-"
    }
   },
   "outputs": [
    {
     "data": {
      "text/plain": [
       "0"
      ]
     },
     "execution_count": 119,
     "metadata": {},
     "output_type": "execute_result"
    }
   ],
   "source": [
    "Point.ncopies()"
   ]
  },
  {
   "cell_type": "markdown",
   "metadata": {
    "slideshow": {
     "slide_type": "fragment"
    }
   },
   "source": [
    "... or from an instance"
   ]
  },
  {
   "cell_type": "code",
   "execution_count": 120,
   "metadata": {
    "slideshow": {
     "slide_type": "-"
    }
   },
   "outputs": [
    {
     "data": {
      "text/plain": [
       "1"
      ]
     },
     "execution_count": 120,
     "metadata": {},
     "output_type": "execute_result"
    }
   ],
   "source": [
    "p = Point(0, 0)\n",
    "p.ncopies()"
   ]
  },
  {
   "cell_type": "code",
   "execution_count": 121,
   "metadata": {
    "slideshow": {
     "slide_type": "fragment"
    }
   },
   "outputs": [
    {
     "data": {
      "text/plain": [
       "1"
      ]
     },
     "execution_count": 121,
     "metadata": {},
     "output_type": "execute_result"
    }
   ],
   "source": [
    "Point.ncopies()"
   ]
  },
  {
   "cell_type": "markdown",
   "metadata": {
    "slideshow": {
     "slide_type": "slide"
    }
   },
   "source": [
    "# Properties"
   ]
  },
  {
   "cell_type": "markdown",
   "metadata": {
    "slideshow": {
     "slide_type": "subslide"
    }
   },
   "source": [
    "## Properties example\n",
    "\n",
    "How can we prevent invalid x, y values?"
   ]
  },
  {
   "cell_type": "code",
   "execution_count": 122,
   "metadata": {},
   "outputs": [
    {
     "name": "stdout",
     "output_type": "stream",
     "text": [
      "should not be allowed\n"
     ]
    }
   ],
   "source": [
    "p = Point(x=0, y=0)\n",
    "\n",
    "p.x = \"should not be allowed\" \n",
    "print(p.x)  "
   ]
  },
  {
   "cell_type": "markdown",
   "metadata": {},
   "source": [
    "### **Idea 1**: Implement get/set functions"
   ]
  },
  {
   "cell_type": "code",
   "execution_count": 140,
   "metadata": {},
   "outputs": [],
   "source": [
    "class SafePoint(Point):\n",
    "    def set_x(self, x):\n",
    "        if isinstance(x, float):\n",
    "            self._x = x         # store x value is a non-public variable\n",
    "        else:\n",
    "            print(\"Invalid value for x coordinate\")\n",
    " \n",
    "    def get_x(self):\n",
    "        return self._x"
   ]
  },
  {
   "cell_type": "code",
   "execution_count": 141,
   "metadata": {},
   "outputs": [
    {
     "name": "stdout",
     "output_type": "stream",
     "text": [
      "Invalid value for x coordinate\n"
     ]
    }
   ],
   "source": [
    "point = SafePoint(1, 1)\n",
    "point.set_x(True)   "
   ]
  },
  {
   "cell_type": "code",
   "execution_count": 143,
   "metadata": {},
   "outputs": [
    {
     "name": "stdout",
     "output_type": "stream",
     "text": [
      "3.14\n"
     ]
    }
   ],
   "source": [
    "point.set_x(3.14) \n",
    "print(point.get_x())"
   ]
  },
  {
   "cell_type": "markdown",
   "metadata": {},
   "source": [
    "**Advantage**: get/set functions allow finer access control (e.g. type-checking, read-only variables). \n",
    "\n",
    "**Disadantage**: Tedious to write and not very Pythonic!"
   ]
  },
  {
   "cell_type": "markdown",
   "metadata": {
    "slideshow": {
     "slide_type": "subslide"
    }
   },
   "source": [
    "## The solution: Properties\n",
    "Python has \"intelligent\" assignment operators, known as\n",
    "*properties*. "
   ]
  },
  {
   "cell_type": "markdown",
   "metadata": {
    "slideshow": {
     "slide_type": "fragment"
    }
   },
   "source": [
    "With properties, assignments may imply a function call:"
   ]
  },
  {
   "cell_type": "markdown",
   "metadata": {
    "collapsed": true,
    "slideshow": {
     "slide_type": "-"
    }
   },
   "source": [
    "```python\n",
    "point.set_x(data)\n",
    "data = point.get_x()\n",
    "```"
   ]
  },
  {
   "cell_type": "markdown",
   "metadata": {},
   "source": [
    "can be made equivalent to"
   ]
  },
  {
   "cell_type": "markdown",
   "metadata": {
    "collapsed": true
   },
   "source": [
    "```python\n",
    "point.x = data\n",
    "data = point.x\n",
    "```"
   ]
  },
  {
   "cell_type": "markdown",
   "metadata": {
    "slideshow": {
     "slide_type": "fragment"
    }
   },
   "source": [
    "Creating properties is simple:"
   ]
  },
  {
   "cell_type": "code",
   "execution_count": 153,
   "metadata": {
    "collapsed": true
   },
   "outputs": [],
   "source": [
    "class SafePoint(Point):\n",
    "    def set_x(self, x):\n",
    "        if isinstance(x, float):\n",
    "            self._x = x  \n",
    "        else:\n",
    "            print(\"Invalid value for x coordinate\")\n",
    " \n",
    "    def get_x(self):\n",
    "        print(\"Retrieving x value\")\n",
    "        return self._x\n",
    "\n",
    "    x = property(fget=get_x, fset=set_x)"
   ]
  },
  {
   "cell_type": "markdown",
   "metadata": {
    "slideshow": {
     "slide_type": "fragment"
    }
   },
   "source": [
    "Example:"
   ]
  },
  {
   "cell_type": "code",
   "execution_count": 152,
   "metadata": {
    "slideshow": {
     "slide_type": "-"
    }
   },
   "outputs": [],
   "source": [
    "point = SafePoint(1.0, 1.0)\n",
    "point.x = 2.0\n",
    "#x = point.x"
   ]
  },
  {
   "cell_type": "markdown",
   "metadata": {
    "slideshow": {
     "slide_type": "subslide"
    }
   },
   "source": [
    "## Attribute access - recommended style\n",
    "\n",
    "* Use **direct access** if user is allowed to read *and* assign values to the attribute.\n",
    "* Use **properties** to restrict access, with a corresponding underlying non-public class attribute.\n",
    "* Use **properties** when assignment or reading requires a set of associated operations.\n",
    "* **Never use get/set** functions explicitly."
   ]
  },
  {
   "cell_type": "markdown",
   "metadata": {
    "slideshow": {
     "slide_type": "subslide"
    }
   },
   "source": [
    "## Scope\n",
    "The scope defines how long variables in Python *live*."
   ]
  },
  {
   "cell_type": "markdown",
   "metadata": {
    "slideshow": {
     "slide_type": "fragment"
    }
   },
   "source": [
    "#### Local scope\n",
    "Function arguments and variables declared inside the function have *local scope*. Once the function finishes, these variables are freed."
   ]
  },
  {
   "cell_type": "markdown",
   "metadata": {
    "slideshow": {
     "slide_type": "fragment"
    }
   },
   "source": [
    "#### Global scope\n",
    "Variables defined outside the function have *global scope*. These variables can be accessed and changed by the function and are accessible after the function returns."
   ]
  },
  {
   "cell_type": "markdown",
   "metadata": {
    "slideshow": {
     "slide_type": "subslide"
    }
   },
   "source": [
    "## Code example for scopes"
   ]
  },
  {
   "cell_type": "code",
   "execution_count": 8,
   "metadata": {
    "slideshow": {
     "slide_type": "-"
    }
   },
   "outputs": [
    {
     "name": "stdout",
     "output_type": "stream",
     "text": [
      "1\n"
     ]
    },
    {
     "ename": "NameError",
     "evalue": "name 'a' is not defined",
     "output_type": "error",
     "traceback": [
      "\u001b[0;31m---------------------------------------------------------------------------\u001b[0m",
      "\u001b[0;31mNameError\u001b[0m                                 Traceback (most recent call last)",
      "\u001b[0;32m<ipython-input-8-675af99df1a7>\u001b[0m in \u001b[0;36m<module>\u001b[0;34m()\u001b[0m\n\u001b[1;32m      4\u001b[0m \u001b[0;34m\u001b[0m\u001b[0m\n\u001b[1;32m      5\u001b[0m \u001b[0mf\u001b[0m\u001b[0;34m(\u001b[0m\u001b[0;34m)\u001b[0m\u001b[0;34m\u001b[0m\u001b[0m\n\u001b[0;32m----> 6\u001b[0;31m \u001b[0ma\u001b[0m\u001b[0;34m\u001b[0m\u001b[0m\n\u001b[0m",
      "\u001b[0;31mNameError\u001b[0m: name 'a' is not defined"
     ]
    }
   ],
   "source": [
    "def f():\n",
    "    a = 1  # local scope\n",
    "    print(a)\n",
    " \n",
    "f()\n",
    "a"
   ]
  },
  {
   "cell_type": "markdown",
   "metadata": {
    "slideshow": {
     "slide_type": "subslide"
    }
   },
   "source": [
    "## Code example for scopes"
   ]
  },
  {
   "cell_type": "code",
   "execution_count": 9,
   "metadata": {
    "slideshow": {
     "slide_type": "-"
    }
   },
   "outputs": [
    {
     "name": "stdout",
     "output_type": "stream",
     "text": [
      "1\n",
      "2\n"
     ]
    }
   ],
   "source": [
    "# global scope\n",
    "a = 1 \n",
    "\n",
    "def f():\n",
    "    print(a)\n",
    "\n",
    "f()\n",
    "a = 2\n",
    "f()"
   ]
  },
  {
   "cell_type": "markdown",
   "metadata": {
    "slideshow": {
     "slide_type": "subslide"
    }
   },
   "source": [
    "## Code example for scopes"
   ]
  },
  {
   "cell_type": "code",
   "execution_count": 13,
   "metadata": {
    "slideshow": {
     "slide_type": "-"
    }
   },
   "outputs": [
    {
     "name": "stdout",
     "output_type": "stream",
     "text": [
      "s\n",
      "3\n"
     ]
    }
   ],
   "source": [
    "# global scope\n",
    "a = 1 \n",
    "\n",
    "def f():\n",
    "    print(a)\n",
    "    a_ = 3\n",
    "    print(a_)\n",
    "\n",
    "a = \"s\"\n",
    "f()"
   ]
  },
  {
   "cell_type": "markdown",
   "metadata": {
    "slideshow": {
     "slide_type": "subslide"
    }
   },
   "source": [
    "## Code example for scopes"
   ]
  },
  {
   "cell_type": "code",
   "execution_count": 20,
   "metadata": {
    "slideshow": {
     "slide_type": "-"
    }
   },
   "outputs": [
    {
     "name": "stdout",
     "output_type": "stream",
     "text": [
      "['Hello', 'world?']\n"
     ]
    },
    {
     "ename": "NameError",
     "evalue": "name 'b' is not defined",
     "output_type": "error",
     "traceback": [
      "\u001b[0;31m---------------------------------------------------------------------------\u001b[0m",
      "\u001b[0;31mNameError\u001b[0m                                 Traceback (most recent call last)",
      "\u001b[0;32m<ipython-input-20-31c7bfa6f3ed>\u001b[0m in \u001b[0;36m<module>\u001b[0;34m()\u001b[0m\n\u001b[1;32m      9\u001b[0m \u001b[0mf\u001b[0m\u001b[0;34m(\u001b[0m\u001b[0;34m)\u001b[0m\u001b[0;34m\u001b[0m\u001b[0m\n\u001b[1;32m     10\u001b[0m \u001b[0mprint\u001b[0m\u001b[0;34m(\u001b[0m\u001b[0ma\u001b[0m\u001b[0;34m)\u001b[0m\u001b[0;34m\u001b[0m\u001b[0m\n\u001b[0;32m---> 11\u001b[0;31m \u001b[0mb\u001b[0m\u001b[0;34m\u001b[0m\u001b[0m\n\u001b[0m",
      "\u001b[0;31mNameError\u001b[0m: name 'b' is not defined"
     ]
    }
   ],
   "source": [
    "# global scope\n",
    "a = [\"Hello\"]\n",
    "\n",
    "def f():\n",
    "    def g():\n",
    "        a.append(\"world?\")\n",
    "    g()\n",
    "\n",
    "f()\n",
    "print(a)\n",
    "b"
   ]
  },
  {
   "cell_type": "markdown",
   "metadata": {
    "slideshow": {
     "slide_type": "subslide"
    }
   },
   "source": [
    "## Code example for scopes"
   ]
  },
  {
   "cell_type": "code",
   "execution_count": 41,
   "metadata": {
    "collapsed": true,
    "slideshow": {
     "slide_type": "-"
    }
   },
   "outputs": [],
   "source": [
    "# global scope\n",
    "a = 1 \n",
    "\n",
    "def f(x):\n",
    "    a = 2             # local variable\n",
    "\n",
    "class B(object):\n",
    "    b = 3             # static class attribute\n",
    "\n",
    "    def __init__(self):\n",
    "        self.a = 3    # class attribute\n",
    "\n",
    "    def scopes(self):\n",
    "        a = 4         # local (method) variable"
   ]
  },
  {
   "cell_type": "markdown",
   "metadata": {
    "slideshow": {
     "slide_type": "skip"
    }
   },
   "source": [
    "## Namespaces for exec and eval\n",
    "`exec` and `eval` may take dictionaries for the global and local namespace:"
   ]
  },
  {
   "cell_type": "code",
   "execution_count": 42,
   "metadata": {
    "slideshow": {
     "slide_type": "skip"
    }
   },
   "outputs": [
    {
     "data": {
      "text/plain": [
       "2"
      ]
     },
     "execution_count": 42,
     "metadata": {},
     "output_type": "execute_result"
    }
   ],
   "source": [
    "code = \"a=1\"\n",
    "exec(code, globals(), locals())\n",
    "expr = \"a+1\"\n",
    "eval(expr, globals(), locals())"
   ]
  },
  {
   "cell_type": "markdown",
   "metadata": {
    "slideshow": {
     "slide_type": "skip"
    }
   },
   "source": [
    "Example:"
   ]
  },
  {
   "cell_type": "code",
   "execution_count": 43,
   "metadata": {
    "slideshow": {
     "slide_type": "skip"
    }
   },
   "outputs": [
    {
     "data": {
      "text/plain": [
       "3"
      ]
     },
     "execution_count": 43,
     "metadata": {},
     "output_type": "execute_result"
    }
   ],
   "source": [
    "a = 8;  b = 9\n",
    "d = {'a':1, 'b':2}\n",
    "eval('a + b', d)  # yields 3"
   ]
  },
  {
   "cell_type": "markdown",
   "metadata": {
    "slideshow": {
     "slide_type": "skip"
    }
   },
   "source": [
    "and"
   ]
  },
  {
   "cell_type": "markdown",
   "metadata": {
    "slideshow": {
     "slide_type": "skip"
    }
   },
   "source": [
    "from math import *\n",
    "d['b'] = pi\n",
    "eval('a+sin(b)', globals(), d)  # yields 1"
   ]
  },
  {
   "cell_type": "markdown",
   "metadata": {
    "slideshow": {
     "slide_type": "skip"
    }
   },
   "source": [
    "Creating such dictionaries can be handy"
   ]
  },
  {
   "cell_type": "markdown",
   "metadata": {
    "slideshow": {
     "slide_type": "slide"
    }
   },
   "source": [
    "# Testing in Python"
   ]
  },
  {
   "cell_type": "markdown",
   "metadata": {
    "slideshow": {
     "slide_type": "subslide"
    }
   },
   "source": [
    "## Why should we test?\n",
    "\n",
    "* To check correctness of software.\n",
    "* To ensure that future changes do not break functionality.\n",
    "* To check if the software runs succesfully in a different environment (newer Python version, upgraded libraries, different operating system)"
   ]
  },
  {
   "cell_type": "markdown",
   "metadata": {
    "slideshow": {
     "slide_type": "subslide"
    }
   },
   "source": [
    "## A few options in Python\n",
    "\n",
    "* [Unittest](https://docs.python.org/3/library/unittest.html)\n",
    "\n",
    "* [Doctest](https://docs.python.org/3/library/doctest.html)\n",
    "* [Py.test](http://pytest.org/) (will be used here)"
   ]
  },
  {
   "cell_type": "markdown",
   "metadata": {
    "slideshow": {
     "slide_type": "subslide"
    }
   },
   "source": [
    "## How to use py.test"
   ]
  },
  {
   "cell_type": "markdown",
   "metadata": {
    "slideshow": {
     "slide_type": "fragment"
    }
   },
   "source": [
    "Say you have a function `func` in a file that needs testing:"
   ]
  },
  {
   "cell_type": "code",
   "execution_count": 15,
   "metadata": {
    "collapsed": true,
    "slideshow": {
     "slide_type": "-"
    }
   },
   "outputs": [],
   "source": [
    "# script.py \n",
    "def func(x):\n",
    "    if x < 0:\n",
    "        return -x\n",
    "    else:\n",
    "        return x"
   ]
  },
  {
   "cell_type": "markdown",
   "metadata": {
    "slideshow": {
     "slide_type": "fragment"
    }
   },
   "source": [
    "Create a associated test file `test_script.py`:"
   ]
  },
  {
   "cell_type": "code",
   "execution_count": 16,
   "metadata": {
    "collapsed": true,
    "slideshow": {
     "slide_type": "-"
    }
   },
   "outputs": [],
   "source": [
    "# test_script.py\n",
    "from script import func  # Import the function \n",
    "\n",
    "def test_funcs():        # py.test will automatically run all functions starting with test_\n",
    "    assert func(-3) == 3 # Add some tests here...\n",
    "    assert func(5) == 5  # If one of the assert's are false,\n",
    "    assert func(0) == 0  # the test will fail"
   ]
  },
  {
   "cell_type": "code",
   "execution_count": 17,
   "metadata": {},
   "outputs": [
    {
     "name": "stdout",
     "output_type": "stream",
     "text": [
      "\u001b[1m============================= test session starts ==============================\u001b[0m\r\n",
      "platform linux2 -- Python 2.7.12, pytest-2.8.1, py-1.4.30, pluggy-0.3.1 -- /usr/bin/python\r\n",
      "cachedir: .cache\r\n",
      "rootdir: /home/sf1409/Documents/inf3331/resources-16/lectures/04-python-summary2, inifile: \r\n",
      "plugins: xdist-1.13.1\r\n",
      "\u001b[1m\r",
      "collecting 0 items\u001b[0m\u001b[1m\r",
      "collecting 1 items\u001b[0m\u001b[1m\r",
      "collected 1 items \r\n",
      "\u001b[0m\r\n",
      "test_script.py::test_func \u001b[32mPASSED\u001b[0m\r\n",
      "\r\n",
      "\u001b[32m\u001b[1m=========================== 1 passed in 0.01 seconds ===========================\u001b[0m\r\n"
     ]
    }
   ],
   "source": [
    "!py.test test_script.py -v"
   ]
  },
  {
   "cell_type": "markdown",
   "metadata": {
    "slideshow": {
     "slide_type": "subslide"
    }
   },
   "source": [
    "# Using py.test\n",
    "Now, lets make a mistake in our func implementation ..."
   ]
  },
  {
   "cell_type": "code",
   "execution_count": 18,
   "metadata": {},
   "outputs": [
    {
     "name": "stdout",
     "output_type": "stream",
     "text": [
      "def func(x):\r\n",
      "    if x < 0:\r\n",
      "        return x\r\n",
      "    else:\r\n",
      "        return x\r\n"
     ]
    }
   ],
   "source": [
    "!sed -i \"s/-x/x/g\" script.py\n",
    "!cat script.py"
   ]
  },
  {
   "cell_type": "markdown",
   "metadata": {},
   "source": [
    "and run the tests again"
   ]
  },
  {
   "cell_type": "code",
   "execution_count": 19,
   "metadata": {},
   "outputs": [
    {
     "name": "stdout",
     "output_type": "stream",
     "text": [
      "\u001b[1m============================= test session starts ==============================\u001b[0m\r\n",
      "platform linux2 -- Python 2.7.12, pytest-2.8.1, py-1.4.30, pluggy-0.3.1 -- /usr/bin/python\r\n",
      "cachedir: .cache\r\n",
      "rootdir: /home/sf1409/Documents/inf3331/resources-16/lectures/04-python-summary2, inifile: \r\n",
      "plugins: xdist-1.13.1\r\n",
      "\u001b[1m\r",
      "collecting 0 items\u001b[0m\u001b[1m\r",
      "collecting 1 items\u001b[0m\u001b[1m\r",
      "collected 1 items \r\n",
      "\u001b[0m\r\n",
      "test_script.py::test_func \u001b[31mFAILED\u001b[0m\r\n",
      "\r\n",
      "=================================== FAILURES ===================================\r\n",
      "__________________________________ test_func ___________________________________\r\n",
      "\r\n",
      "\u001b[1m    def test_func():\u001b[0m\r\n",
      "\u001b[1m>       assert func(-3) == 3\u001b[0m\r\n",
      "\u001b[1m\u001b[31mE       assert -3 == 3\u001b[0m\r\n",
      "\u001b[1m\u001b[31mE        +  where -3 = func(-3)\u001b[0m\r\n",
      "\r\n",
      "test_script.py:4: AssertionError\r\n",
      "\u001b[1m\u001b[31m=========================== 1 failed in 0.01 seconds ===========================\u001b[0m\r\n"
     ]
    }
   ],
   "source": [
    "!py.test test_script.py -v"
   ]
  },
  {
   "cell_type": "markdown",
   "metadata": {
    "slideshow": {
     "slide_type": "subslide"
    }
   },
   "source": [
    "## Good practices\n",
    "* Add new test while you develop new features.\n",
    "* Make each test an unique stand alone example.\n",
    "* Making tests resource undemanding.\n",
    "* Run test suite before each commit-push.\n",
    "* Make test function names descriptive.\n",
    "* Quick way to learn other peoples code is through test suits."
   ]
  },
  {
   "cell_type": "code",
   "execution_count": null,
   "metadata": {
    "collapsed": true
   },
   "outputs": [],
   "source": [
    "# Modules and packages\n",
    "## Use modules to organize your program logically\n",
    "### What is a Python module?\n",
    "A module is a file consisting of Python code. A module can define functions, classes and variables. A module can also include runnable code."
   ]
  },
  {
   "cell_type": "code",
   "execution_count": null,
   "metadata": {
    "collapsed": true
   },
   "outputs": [],
   "source": [
    "### What is it good for?\n",
    "  * Split the code into several files for easier maintenance.\n",
    "  * Group related code into a module.\n",
    "  * Share common code between scripts.\n",
    "  * Publish modules on the web for other people to use."
   ]
  },
  {
   "cell_type": "code",
   "execution_count": null,
   "metadata": {
    "collapsed": true
   },
   "outputs": [],
   "source": [
    "## Using modules\n",
    "\n",
    "Import the module called `sys` and access its `argv` variable:\n",
    "\n",
    "```python\n",
    "import sys\n",
    "x = float(sys.argv[1])\n",
    "```"
   ]
  },
  {
   "cell_type": "code",
   "execution_count": null,
   "metadata": {
    "collapsed": true
   },
   "outputs": [],
   "source": [
    "Import module member `argv` into current namespace:\n",
    "\n",
    "```python\n",
    "from sys import argv\n",
    "x = float(argv[1])\n",
    "```"
   ]
  },
  {
   "cell_type": "code",
   "execution_count": null,
   "metadata": {
    "collapsed": true
   },
   "outputs": [],
   "source": [
    "Import everything from `sys` (not recommended)\n",
    "\n",
    "```python\n",
    "from sys import"
   ]
  },
  {
   "cell_type": "code",
   "execution_count": null,
   "metadata": {
    "collapsed": true
   },
   "outputs": [],
   "source": [
    "Import everything from `sys` (not recommended)\n",
    "\n",
    "```python\n",
    "from sys import *\n",
    "x = float(argv[1])\n",
    "\n",
    "flags = ''\n",
    "# Ooops, flags was also imported from sys, this new flags\n",
    "# name overwrites sys.flags!\n",
    "```"
   ]
  },
  {
   "cell_type": "code",
   "execution_count": null,
   "metadata": {
    "collapsed": true
   },
   "outputs": [],
   "source": [
    "Import `argv` under an alias:\n",
    "\n",
    "```python\n",
    "from sys import argv as a\n",
    "x = float(a[1])\n",
    "```"
   ]
  },
  {
   "cell_type": "code",
   "execution_count": null,
   "metadata": {
    "collapsed": true
   },
   "outputs": [],
   "source": [
    "## Making your own Python modules\n",
    "\n",
    "\n",
    " * Reuse scripts by wrapping them in classes or functions\n",
    "\n",
    " * Collect classes and functions in library modules\n",
    "\n",
    " * How? just put classes and functions in a file `MyMod.py`\n",
    "\n",
    " * Put `MyMod.py` in one of the directories where Python can find it\n",
    "   (see next slide)\n",
    "\n",
    "Examples:\n",
    "\n",
    "```python\n",
    "import MyMod\n",
    "# or\n",
    "import MyMod as M   # M is a short form\n",
    "# or\n",
    "from MyMod import *\n",
    "# or\n",
    "from MyMod import myspecialfunction, myotherspecialfunction\n",
    "```"
   ]
  },
  {
   "cell_type": "code",
   "execution_count": null,
   "metadata": {
    "collapsed": true
   },
   "outputs": [],
   "source": [
    "## Document your module using docstrings"
   ]
  },
  {
   "cell_type": "code",
   "execution_count": null,
   "metadata": {
    "collapsed": true
   },
   "outputs": [],
   "source": [
    "\"\"\"\n",
    "This module exemplifyies multi-line\n",
    "doc strings.\n",
    "\"\"\"\n",
    "import sys\n",
    "import collections\n",
    "\n",
    "def somefunc():\n",
    "    \"\"\" Function documentation \"\"\"\n",
    "    ...\n",
    "    "
   ]
  },
  {
   "cell_type": "code",
   "execution_count": null,
   "metadata": {
    "collapsed": true
   },
   "outputs": [],
   "source": [
    "## How does Python find your modules?\n",
    "\n",
    "\n",
    "Python has some \"official\" module directories, typically\n",
    "\n",
    "* `/usr/lib/python3.5`\n",
    "* `/usr/lib/python3.5/site-packages`\n",
    "* current working directory\n",
    "\n",
    "The environment variable `PYTHONPATH` may contain additional\n",
    "directories with modules\n",
    "\n",
    "```bash\n",
    "> echo $PYTHONPATH\n",
    "/home/simon/src/cbc.block:/home/simon/src/shape-optimisation:/home/simon/src/uptide:/home/simon/src/OpenTidalFarm:\n",
    "```\n",
    "\n",
    "Python's `sys.path` list contains the directories where Python\n",
    "searches for modules, and\n",
    "`sys.path` contains \"official\" directories, plus those in `PYTHONPATH`"
   ]
  },
  {
   "cell_type": "code",
   "execution_count": null,
   "metadata": {
    "collapsed": true
   },
   "outputs": [],
   "source": [
    "## Search path for modules can be set in the script\n",
    "\n",
    "Add module path(s) directly to the `sys.path` list:\n",
    "    "
   ]
  },
  {
   "cell_type": "code",
   "execution_count": null,
   "metadata": {
    "collapsed": true
   },
   "outputs": [],
   "source": [
    "import sys, os\n",
    "sys.path.insert(0, os.path.join(os.environ['HOME'], 'python', 'lib'))\n",
    "\n",
    "# ...\n",
    "import MyMod"
   ]
  },
  {
   "cell_type": "code",
   "execution_count": null,
   "metadata": {
    "collapsed": true
   },
   "outputs": [],
   "source": [
    "## Packages (1)\n",
    "\n",
    " * A set of modules can be collected in a *package*\n",
    "\n",
    " * A package is organized as module files in a directory tree\n",
    "\n",
    " * Each subdirectory has a file `__init__.py` (can be empty)\n",
    "\n",
    " * Documentation: [Section 6 in the Python Tutorial](https://docs.python.org/3/tutorial/modules.html)\n",
    "    "
   ]
  },
  {
   "cell_type": "code",
   "execution_count": null,
   "metadata": {
    "collapsed": true
   },
   "outputs": [],
   "source": [
    "## Packages (2)\n",
    "\n",
    "Example directory tree:\n",
    "    "
   ]
  },
  {
   "cell_type": "code",
   "execution_count": null,
   "metadata": {
    "collapsed": true
   },
   "outputs": [],
   "source": [
    "```bash\n",
    "MyMod\n",
    "   __init__.py\n",
    "   numerics\n",
    "       __init__.py\n",
    "       pde\n",
    "           __init__.py\n",
    "           grids.py     # contains fdm_grids object\n",
    "```"
   ]
  },
  {
   "cell_type": "code",
   "execution_count": null,
   "metadata": {
    "collapsed": true
   },
   "outputs": [],
   "source": [
    "Can import modules in the tree like this:\n",
    "    "
   ]
  },
  {
   "cell_type": "code",
   "execution_count": null,
   "metadata": {
    "collapsed": true
   },
   "outputs": [],
   "source": [
    "```python\n",
    "from MyMod.numerics.pde.grids import fdm_grids\n",
    "\n",
    "grid = fdm_grids()\n",
    "grid.domain(xmin=0, xmax=1, ymin=0, ymax=1)\n",
    "...\n",
    "```"
   ]
  },
  {
   "cell_type": "code",
   "execution_count": null,
   "metadata": {
    "collapsed": true
   },
   "outputs": [],
   "source": [
    "## Test block in a module\n",
    "\n",
    "\n",
    "Module files can have a test/demo section at the end:\n",
    "    "
   ]
  },
  {
   "cell_type": "code",
   "execution_count": null,
   "metadata": {
    "collapsed": true
   },
   "outputs": [],
   "source": [
    "if __name__ == '__main__':\n",
    "    infile = sys.argv[1]; outfile = sys.argv[2]\n",
    "    for i in sys.argv[3:]:\n",
    "        create(infile, outfile, i)\n",
    "        "
   ]
  },
  {
   "cell_type": "code",
   "execution_count": null,
   "metadata": {
    "collapsed": true
   },
   "outputs": [],
   "source": [
    "* The block is executed *only if* the module file is run as a program (not if imported by another script)\n",
    "* The tests at the end of a module often serve as good examples on the usage of the module"
   ]
  },
  {
   "cell_type": "code",
   "execution_count": null,
   "metadata": {
    "collapsed": true
   },
   "outputs": [],
   "source": [
    "## Public/non-public module variables\n",
    "\n",
    "Python convention: add a leading underscore to non-public functions and (module) variables\n",
    "    "
   ]
  },
  {
   "cell_type": "code",
   "execution_count": null,
   "metadata": {
    "collapsed": true
   },
   "outputs": [],
   "source": [
    "_counter = 0\n",
    "\n",
    "def _filename():\n",
    "    \"\"\"Generate a random filename.\"\"\"\n",
    "    ...\n",
    "    "
   ]
  }
 ],
 "metadata": {
  "celltoolbar": "Slideshow",
  "kernelspec": {
   "display_name": "Python 3",
   "language": "python",
   "name": "python3"
  },
  "language_info": {
   "codemirror_mode": {
    "name": "ipython",
    "version": 3
   },
   "file_extension": ".py",
   "mimetype": "text/x-python",
   "name": "python",
   "nbconvert_exporter": "python",
   "pygments_lexer": "ipython3",
   "version": "3.5.2"
  },
  "livereveal": {
   "scroll": true,
   "start_slideshow_at": "selected",
   "theme": "serif"
  }
 },
 "nbformat": 4,
 "nbformat_minor": 1
}
