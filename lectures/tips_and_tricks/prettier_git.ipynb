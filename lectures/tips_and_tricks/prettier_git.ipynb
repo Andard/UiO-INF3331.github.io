{
 "cells": [
  {
   "cell_type": "markdown",
   "metadata": {},
   "source": [
    "# Tip of the week: Prettier git logs\n",
    "Suggested by Jonas Krüger Svensson\n",
    "\n",
    "<img src=\"figs/tips.svg\" style=\"width: 400px;\"/>"
   ]
  },
  {
   "cell_type": "markdown",
   "metadata": {},
   "source": [
    "A nice way to do `git log` is by adding an alias (for a more sexy output)."
   ]
  },
  {
   "cell_type": "markdown",
   "metadata": {},
   "source": [
    "```bash\n",
    "git config --global alias.lol 'log --oneline --decorate --graph --all'\n",
    "``` "
   ]
  },
  {
   "cell_type": "markdown",
   "metadata": {},
   "source": [
    "Call it with `git lol` or whatever specified as an alias, and get the git log output like this: "
   ]
  },
  {
   "cell_type": "markdown",
   "metadata": {},
   "source": [
    "<img src=\"figs/gitlol.png\" style=\"width: 400px;\"/>"
   ]
  }
 ],
 "metadata": {
  "kernelspec": {
   "display_name": "Python 3",
   "language": "python",
   "name": "python3"
  }
 },
 "nbformat": 4,
 "nbformat_minor": 2
}
