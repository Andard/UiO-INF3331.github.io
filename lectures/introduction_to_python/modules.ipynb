{
 "cells": [
  {
   "cell_type": "markdown",
   "metadata": {
    "slideshow": {
     "slide_type": "slide"
    }
   },
   "source": [
    "# Modules\n",
    "**Contributors: Simon Funke**"
   ]
  },
  {
   "cell_type": "markdown",
   "metadata": {
    "slideshow": {
     "slide_type": "subslide"
    }
   },
   "source": [
    "### A module is a file consisting of Python code\n",
    "A module can define functions, classes and variables. A module can also include runnable code.\n",
    "\n",
    "Multiple modules can be combined to a Python package."
   ]
  },
  {
   "cell_type": "markdown",
   "metadata": {
    "slideshow": {
     "slide_type": "subslide"
    }
   },
   "source": [
    "## The Python Package Index (PiPi) collects a large number of modules\n",
    "\n",
    "Official webpage https://pypi.python.org/pypi\n",
    "\n",
    "Search the Python index with\n",
    "```bash\n",
    "pip search KEYWORD \n",
    "```\n",
    "Install any new package with\n",
    "```bash\n",
    "pip install PACKAGENAME --user\n",
    "```"
   ]
  },
  {
   "cell_type": "markdown",
   "metadata": {
    "slideshow": {
     "slide_type": "subslide"
    }
   },
   "source": [
    "## Some relevant packages are\n",
    "\n",
    "* **sys** System specific functionality\n",
    "* **os** Operating system specific functionality\n",
    "* **scipy** Scientific Python (www.scipy.org)\n",
    "    * **numpy** Numerical Python\n",
    "    * **ipython** Interactive Python\n",
    "    * **matplotlib** Plotting\n",
    "    * **pandas** Data analsyis"
   ]
  },
  {
   "cell_type": "markdown",
   "metadata": {
    "slideshow": {
     "slide_type": "subslide"
    }
   },
   "source": [
    "## Using modules\n",
    "\n",
    "Import the module called `sys` and access its `argv` variable:\n",
    "\n",
    "```python\n",
    "import sys\n",
    "x = float(sys.argv[1])\n",
    "```"
   ]
  },
  {
   "cell_type": "markdown",
   "metadata": {
    "slideshow": {
     "slide_type": "fragment"
    }
   },
   "source": [
    "Alternativly: import `argv` into current namespace:\n",
    "\n",
    "```python\n",
    "from sys import argv\n",
    "x = float(argv[1])\n",
    "```"
   ]
  },
  {
   "cell_type": "markdown",
   "metadata": {
    "slideshow": {
     "slide_type": "fragment"
    }
   },
   "source": [
    "Import everything from `sys` (not recommended)\n",
    "\n",
    "```python\n",
    "from sys import *\n",
    "x = float(argv[1])\n",
    "\n",
    "flags = ''\n",
    "# Ooops, flags was also imported from sys, this new flags name overwrites sys.flags!\n",
    "```"
   ]
  },
  {
   "cell_type": "markdown",
   "metadata": {
    "slideshow": {
     "slide_type": "fragment"
    }
   },
   "source": [
    "Import `argv` under an alias:\n",
    "\n",
    "```python\n",
    "from sys import argv as a\n",
    "x = float(a[1])\n",
    "```"
   ]
  },
  {
   "cell_type": "markdown",
   "metadata": {
    "slideshow": {
     "slide_type": "subslide"
    }
   },
   "source": [
    "## Write your own modules to\n",
    "  * split the code into several files for easier maintenance.\n",
    "  * group related code into a module.\n",
    "  * share common code between scripts.\n",
    "  * publish modules on the web for other people to use."
   ]
  },
  {
   "cell_type": "markdown",
   "metadata": {
    "slideshow": {
     "slide_type": "subslide"
    }
   },
   "source": [
    "### Python challenges\n",
    "\n",
    "1. Use the [argparse module](https://docs.python.org/3/library/argparse.html) to improve your wc.py from the last exercise (reference solution can be found [here](https://raw.githubusercontent.com/UiO-INF3331/UiO-INF3331.github.io/crash-course/lectures/introduction_to_python/solutions/wc.py)). The new program should print a help message in case it is used with the wrong number of arguments. \n",
    "\n",
    "2. Extend the solution from exercise 1: Use a suitable function from the [os.path](https://docs.python.org/2/library/os.path.html) module to check if the provided file exist and print an error message otherwise. \n",
    "\n",
    "2. Write your own Python module. First, convert the `wc` script into a function `wc(filename)` which takes a filename as a string and returns its statistics as a tuple. To create a module, simply create a new `.py` file with the module name (choose one) and add the `wc` function code into that file. Then import the module using the Python file name (without the .py extension) using the import command."
   ]
  }
 ],
 "metadata": {
  "celltoolbar": "Slideshow",
  "kernelspec": {
   "display_name": "Python 3",
   "language": "python",
   "name": "python3"
  },
  "language_info": {
   "codemirror_mode": {
    "name": "ipython",
    "version": 3
   },
   "file_extension": ".py",
   "mimetype": "text/x-python",
   "name": "python",
   "nbconvert_exporter": "python",
   "pygments_lexer": "ipython3",
   "version": "3.5.2"
  },
  "livereveal": {
   "scroll": true,
   "start_slideshow_at": "selected",
   "theme": "serif"
  }
 },
 "nbformat": 4,
 "nbformat_minor": 0
}
