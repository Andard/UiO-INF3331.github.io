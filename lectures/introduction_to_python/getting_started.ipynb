{
 "cells": [
  {
   "cell_type": "markdown",
   "metadata": {
    "slideshow": {
     "slide_type": "slide"
    }
   },
   "source": [
    "# Getting started with Python 3\n",
    "**Contributors**: Simon Funke, Hans Petter Langtangen, Joakim Sundnes, Ola Skavhaug"
   ]
  },
  {
   "cell_type": "markdown",
   "metadata": {
    "slideshow": {
     "slide_type": "slide"
    }
   },
   "source": [
    "## About Python"
   ]
  },
  {
   "cell_type": "markdown",
   "metadata": {},
   "source": [
    "Python is a general programming language that is\n",
    "\n",
    "* interpreted\n",
    "* object-oriented\n",
    "* high-level (readable)\n",
    "* open-source (GPL-compatible license)\n",
    "* has an extensive set of external libraries\n"
   ]
  },
  {
   "cell_type": "markdown",
   "metadata": {
    "slideshow": {
     "slide_type": "slide"
    }
   },
   "source": [
    "### Some use-cases for Python\n",
    "\n",
    "* Scripts to automate tasks\n",
    "* Quickly testing new ideas\n",
    "* Interactive data-analysis\n",
    "* Publish new algorithms as Python library"
   ]
  },
  {
   "cell_type": "markdown",
   "metadata": {
    "slideshow": {
     "slide_type": "slide"
    }
   },
   "source": [
    "## Getting help"
   ]
  },
  {
   "cell_type": "markdown",
   "metadata": {
    "slideshow": {
     "slide_type": "subslide"
    }
   },
   "source": [
    "### Good books and tutorials for Python 3\n",
    "  * [Python Library Reference](https://docs.python.org/3/)\n",
    "  * [Python 3 tutorial](https://docs.python.org/3/tutorial/)\n",
    "  * [Think Python](http://greenteapress.com/thinkpython2/)\n",
    "  * [H.P. Langtangen and G. K. Sandve: Illustrating Python via Bioinformatics Examples](http://hplgit.github.io/bioinf-py/doc/pub/html/) (Python 2)"
   ]
  },
  {
   "cell_type": "markdown",
   "metadata": {
    "slideshow": {
     "slide_type": "subslide"
    }
   },
   "source": [
    "### Python's build-in documentation\n",
    "\n",
    "Build-in documentation is accessible via the command line program `pydoc`:\n",
    "```bash\n",
    "pydoc anymodule\n",
    "pydoc anymodule.anyfunc\n",
    "```\n",
    "\n",
    "Example: "
   ]
  },
  {
   "cell_type": "code",
   "execution_count": 7,
   "metadata": {
    "collapsed": true,
    "slideshow": {
     "slide_type": "fragment"
    }
   },
   "outputs": [
    {
     "name": "stdout",
     "output_type": "stream",
     "text": [
      "Help on built-in function open in io:\r\n",
      "\r\n",
      "i\bio\bo.\b.o\bop\bpe\ben\bn = open(file, mode='r', buffering=-1, encoding=None, errors=None, newline=None, closefd=True, opener=None)\r\n",
      "    Open file and return a stream.  Raise IOError upon failure.\r\n",
      "    \r\n",
      "    file is either a text or byte string giving the name (and the path\r\n",
      "    if the file isn't in the current working directory) of the file to\r\n",
      "    be opened or an integer file descriptor of the file to be\r\n",
      "    wrapped. (If a file descriptor is given, it is closed when the\r\n",
      "    returned I/O object is closed, unless closefd is set to False.)\r\n",
      "    \r\n",
      "    mode is an optional string that specifies the mode in which the file\r\n",
      "    is opened. It defaults to 'r' which means open for reading in text\r\n",
      "    mode.  Other common values are 'w' for writing (truncating the file if\r\n",
      "    it already exists), 'x' for creating and writing to a new file, and\r\n",
      "    'a' for appending (which on some Unix systems, means that all writes\r\n",
      "    append to the end of the file regardless of the current seek position).\r\n",
      "    In text mode, if encoding is not specified the encoding used is platform\r\n",
      "    dependent: locale.getpreferredencoding(False) is called to get the\r\n",
      "    current locale encoding. (For reading and writing raw bytes use binary\r\n",
      "    mode and leave encoding unspecified.) The available modes are:\r\n",
      "    \r\n",
      "    ========= ===============================================================\r\n",
      "    Character Meaning\r\n",
      "    --------- ---------------------------------------------------------------\r\n",
      "    'r'       open for reading (default)\r\n",
      "    'w'       open for writing, truncating the file first\r\n",
      "    'x'       create a new file and open it for writing\r\n",
      "    'a'       open for writing, appending to the end of the file if it exists\r\n",
      "    'b'       binary mode\r\n",
      "    't'       text mode (default)\r\n",
      "    '+'       open a disk file for updating (reading and writing)\r\n",
      "    'U'       universal newline mode (deprecated)\r\n",
      "    ========= ===============================================================\r\n",
      "    \r\n",
      "    The default mode is 'rt' (open for reading text). For binary random\r\n",
      "    access, the mode 'w+b' opens and truncates the file to 0 bytes, while\r\n",
      "    'r+b' opens the file without truncation. The 'x' mode implies 'w' and\r\n",
      "    raises an `FileExistsError` if the file already exists.\r\n",
      "    \r\n",
      "    Python distinguishes between files opened in binary and text modes,\r\n",
      "    even when the underlying operating system doesn't. Files opened in\r\n",
      "    binary mode (appending 'b' to the mode argument) return contents as\r\n",
      "    bytes objects without any decoding. In text mode (the default, or when\r\n",
      "    't' is appended to the mode argument), the contents of the file are\r\n",
      "    returned as strings, the bytes having been first decoded using a\r\n",
      "    platform-dependent encoding or using the specified encoding if given.\r\n",
      "    \r\n",
      "    'U' mode is deprecated and will raise an exception in future versions\r\n",
      "    of Python.  It has no effect in Python 3.  Use newline to control\r\n",
      "    universal newlines mode.\r\n",
      "    \r\n",
      "    buffering is an optional integer used to set the buffering policy.\r\n",
      "    Pass 0 to switch buffering off (only allowed in binary mode), 1 to select\r\n",
      "    line buffering (only usable in text mode), and an integer > 1 to indicate\r\n",
      "    the size of a fixed-size chunk buffer.  When no buffering argument is\r\n",
      "    given, the default buffering policy works as follows:\r\n",
      "    \r\n",
      "    * Binary files are buffered in fixed-size chunks; the size of the buffer\r\n",
      "      is chosen using a heuristic trying to determine the underlying device's\r\n",
      "      \"block size\" and falling back on `io.DEFAULT_BUFFER_SIZE`.\r\n",
      "      On many systems, the buffer will typically be 4096 or 8192 bytes long.\r\n",
      "    \r\n",
      "    * \"Interactive\" text files (files for which isatty() returns True)\r\n",
      "      use line buffering.  Other text files use the policy described above\r\n",
      "      for binary files.\r\n",
      "    \r\n",
      "    encoding is the name of the encoding used to decode or encode the\r\n",
      "    file. This should only be used in text mode. The default encoding is\r\n",
      "    platform dependent, but any encoding supported by Python can be\r\n",
      "    passed.  See the codecs module for the list of supported encodings.\r\n",
      "    \r\n",
      "    errors is an optional string that specifies how encoding errors are to\r\n",
      "    be handled---this argument should not be used in binary mode. Pass\r\n",
      "    'strict' to raise a ValueError exception if there is an encoding error\r\n",
      "    (the default of None has the same effect), or pass 'ignore' to ignore\r\n",
      "    errors. (Note that ignoring encoding errors can lead to data loss.)\r\n",
      "    See the documentation for codecs.register or run 'help(codecs.Codec)'\r\n",
      "    for a list of the permitted encoding error strings.\r\n",
      "    \r\n",
      "    newline controls how universal newlines works (it only applies to text\r\n",
      "    mode). It can be None, '', '\\n', '\\r', and '\\r\\n'.  It works as\r\n",
      "    follows:\r\n",
      "    \r\n",
      "    * On input, if newline is None, universal newlines mode is\r\n",
      "      enabled. Lines in the input can end in '\\n', '\\r', or '\\r\\n', and\r\n",
      "      these are translated into '\\n' before being returned to the\r\n",
      "      caller. If it is '', universal newline mode is enabled, but line\r\n",
      "      endings are returned to the caller untranslated. If it has any of\r\n",
      "      the other legal values, input lines are only terminated by the given\r\n",
      "      string, and the line ending is returned to the caller untranslated.\r\n",
      "    \r\n",
      "    * On output, if newline is None, any '\\n' characters written are\r\n",
      "      translated to the system default line separator, os.linesep. If\r\n",
      "      newline is '' or '\\n', no translation takes place. If newline is any\r\n",
      "      of the other legal values, any '\\n' characters written are translated\r\n",
      "      to the given string.\r\n",
      "    \r\n",
      "    If closefd is False, the underlying file descriptor will be kept open\r\n",
      "    when the file is closed. This does not work when a file name is given\r\n",
      "    and must be True in that case.\r\n",
      "    \r\n",
      "    A custom opener can be used by passing a callable as *opener*. The\r\n",
      "    underlying file descriptor for the file object is then obtained by\r\n",
      "    calling *opener* with (*file*, *flags*). *opener* must return an open\r\n",
      "    file descriptor (passing os.open as *opener* results in functionality\r\n",
      "    similar to passing None).\r\n",
      "    \r\n",
      "    open() returns a file object whose type depends on the mode, and\r\n",
      "    through which the standard file operations such as reading and writing\r\n",
      "    are performed. When open() is used to open a file in a text mode ('w',\r\n",
      "    'r', 'wt', 'rt', etc.), it returns a TextIOWrapper. When used to open\r\n",
      "    a file in a binary mode, the returned class varies: in read binary\r\n",
      "    mode, it returns a BufferedReader; in write binary and append binary\r\n",
      "    modes, it returns a BufferedWriter, and in read/write mode, it returns\r\n",
      "    a BufferedRandom.\r\n",
      "    \r\n",
      "    It is also possible to use a string or bytearray as a file for both\r\n",
      "    reading and writing. For strings StringIO can be used like a file\r\n",
      "    opened in a text mode, and for bytes a BytesIO can be used like a file\r\n",
      "    opened in a binary mode.\r\n",
      "\r\n"
     ]
    }
   ],
   "source": [
    "!pydoc io.open"
   ]
  },
  {
   "cell_type": "markdown",
   "metadata": {
    "slideshow": {
     "slide_type": "subslide"
    }
   },
   "source": [
    "### Installation\n",
    "\n",
    "We recommend to install Python with the Anaconda distribution [(https://www.continuum.io/downloads)](https://www.continuum.io/downloads).\n",
    "\n",
    "Check that Python 3.x is installed:\n",
    "\n",
    "```bash\n",
    "> python --version\n",
    "Python 3.5.2 :: Continuum Analytics, Inc.\n",
    "```\n",
    "\n",
    "**Note**: While Python 2 is still widely used, this course is based on Python 3."
   ]
  },
  {
   "cell_type": "markdown",
   "metadata": {
    "slideshow": {
     "slide_type": "slide"
    }
   },
   "source": [
    "## First Python encounter: a scientific hello world program"
   ]
  },
  {
   "cell_type": "markdown",
   "metadata": {
    "collapsed": false,
    "slideshow": {
     "slide_type": "fragment"
    }
   },
   "source": [
    "```python\n",
    "from math import sin\n",
    "import sys\n",
    "\n",
    "x = float(sys.argv[1])\n",
    "print(\"sin({0}) = {1}\".format(x, sin(x)))\n",
    "```\n",
    "\n",
    "Save this code in file `hw.py`."
   ]
  },
  {
   "cell_type": "markdown",
   "metadata": {
    "slideshow": {
     "slide_type": "subslide"
    }
   },
   "source": [
    "## Running the script from the command line\n",
    "\n",
    "Works an all operating systems:\n",
    "\n",
    "```bash\n",
    "> python hw.py 0.8\n",
    "sin(0.8) = 0.7173560908995228\n",
    "```"
   ]
  },
  {
   "cell_type": "markdown",
   "metadata": {},
   "source": [
    "**Note**: Python is an interpreted language, no compilation is required!"
   ]
  },
  {
   "cell_type": "markdown",
   "metadata": {
    "slideshow": {
     "slide_type": "subslide"
    }
   },
   "source": [
    "## Dissection of `hw.py` (1)\n",
    "\n",
    "\n",
    "Access library functionality like the function sin and the list sys.arg\n",
    "(of command-line arguments):\n",
    "\n",
    "```python\n",
    "from math import sin\n",
    "import sys\n",
    "```"
   ]
  },
  {
   "cell_type": "markdown",
   "metadata": {
    "slideshow": {
     "slide_type": "fragment"
    }
   },
   "source": [
    "Read first command line argument and convert it to a floating point object:\n",
    "\n",
    "```python\n",
    "x = float(sys.argv[1])\n",
    "```"
   ]
  },
  {
   "cell_type": "markdown",
   "metadata": {
    "slideshow": {
     "slide_type": "subslide"
    }
   },
   "source": [
    "## Dissection of `hw.py` (2)\n",
    "\n",
    "Print out the result using a format string:\n",
    "\n",
    "```python\n",
    "print(\"sin({0}) = {1}\".format(x, sin(x)))\n",
    "```\n",
    "\n",
    "or with complete control of the formating of floats (`printf` syntax):\n",
    "\n",
    "```python\n",
    "print(\"sin({x:g}) = {s:.3f}\".format(x=x, s=sin(x)))\n",
    "```"
   ]
  },
  {
   "cell_type": "markdown",
   "metadata": {
    "slideshow": {
     "slide_type": "subslide"
    }
   },
   "source": [
    "## ipython is an interactive Python shell\n",
    "\n",
    "\n",
    "  * The command `python` gives you an interactive Python shell.\n",
    "\n",
    "  * IPython (start with `ipython`) is a more powerfull: it supports tab completion, additional help commands, and much more, ...\n",
    "```bash\n",
    "> ipython\n",
    "In [1]: run hw.py 3.14159\n",
    "```\n",
    "\n",
    "  \n",
    "\n",
    "  * You can launch an IPython shell anywhere in the program with\n",
    "```python\n",
    "from IPython import embed; embed()\n",
    "```\n",
    "  * IPython comes integrated with an debugger (launch with `ipython ---pdb`)\n",
    "\n",
    "  * `pdb` is automatically invoked when an exception occurs "
   ]
  },
  {
   "cell_type": "markdown",
   "metadata": {
    "slideshow": {
     "slide_type": "subslide"
    }
   },
   "source": [
    "### Python challenge\n",
    "\n",
    "1. Install the anaconda installation from https://www.continuum.io/downloads\n",
    "2. Run the \"Hello world for scientific computing example\"\n",
    "3. Embed an IPython shell at the end of the script and inspect the `x` and `sys.argv` variables. Type 'x?' and 'sys.argv?' to get more information about the variables."
   ]
  }
 ],
 "metadata": {
  "celltoolbar": "Slideshow",
  "kernelspec": {
   "display_name": "Python 3",
   "language": "python",
   "name": "python3"
  },
  "language_info": {
   "codemirror_mode": {
    "name": "ipython",
    "version": 3
   },
   "file_extension": ".py",
   "mimetype": "text/x-python",
   "name": "python",
   "nbconvert_exporter": "python",
   "pygments_lexer": "ipython3",
   "version": "3.5.2"
  },
  "livereveal": {
   "scroll": true,
   "start_slideshow_at": "selected",
   "theme": "serif"
  }
 },
 "nbformat": 4,
 "nbformat_minor": 0
}
