{
 "cells": [
  {
   "cell_type": "markdown",
   "metadata": {
    "slideshow": {
     "slide_type": "slide"
    }
   },
   "source": [
    "# Python 3 basics\n",
    "**Contributors: Simon Funke, Hans Petter Langtangen, Joakim Sundnes, Ola Skavhaug**"
   ]
  },
  {
   "cell_type": "markdown",
   "metadata": {
    "slideshow": {
     "slide_type": "subslide"
    }
   },
   "source": [
    "## Python variables are not declared"
   ]
  },
  {
   "cell_type": "code",
   "execution_count": 43,
   "metadata": {
    "collapsed": false,
    "slideshow": {
     "slide_type": "-"
    }
   },
   "outputs": [],
   "source": [
    "a = 3              # integer\n",
    "b = 3.0            # float\n",
    "c = 3 + 4j         # complex number\n",
    "a = 'Hallo'        # string"
   ]
  },
  {
   "cell_type": "markdown",
   "metadata": {
    "slideshow": {
     "slide_type": "subslide"
    }
   },
   "source": [
    "## More commone types\n"
   ]
  },
  {
   "cell_type": "code",
   "execution_count": 42,
   "metadata": {
    "collapsed": false,
    "slideshow": {
     "slide_type": "-"
    }
   },
   "outputs": [],
   "source": [
    "d = ['1', 2]       # List\n",
    "e = ('1', 2)       # Tuple\n",
    "f = {\"Karl\": \"+47423432\", \"Simon\": \"+4123123\"}       # dictionary\n",
    "g = True           # Boolean True/False\n",
    "h = None           # Nothing"
   ]
  },
  {
   "cell_type": "markdown",
   "metadata": {
    "slideshow": {
     "slide_type": "subslide"
    }
   },
   "source": [
    "## Test for a variable's type\n",
    "\n",
    "```python\n",
    "if isinstance(a, int):\n",
    "    print(\"a is an integer\")\n",
    "if isinstance(a, (list, tuple)):\n",
    "    print(\"a is a list or tuple\")\n",
    "```    "
   ]
  },
  {
   "cell_type": "markdown",
   "metadata": {
    "slideshow": {
     "slide_type": "skip"
    }
   },
   "source": [
    "### Initialise strings with single or double quotes, or triple single/double quotes\n",
    "\n",
    "Single- and double-quoted strings work in the same way: \n",
    "```python\n",
    "text = 'some string'\n",
    "```\n",
    "is equivalent to \n",
    "```python\n",
    "text = \"some string\"\n",
    "```\n",
    "\n",
    "Triple-quoted strings can be multi line with embedded newlines:\n",
    "```python\n",
    "text = \"\"\"large portions of a text\n",
    "can be conveniently placed inside\n",
    "triple-quoted strings (newlines\n",
    "are preserved)\"\"\"\n",
    "```"
   ]
  },
  {
   "cell_type": "markdown",
   "metadata": {
    "slideshow": {
     "slide_type": "subslide"
    }
   },
   "source": [
    "### Common string operations"
   ]
  },
  {
   "cell_type": "code",
   "execution_count": 45,
   "metadata": {
    "collapsed": false,
    "slideshow": {
     "slide_type": "-"
    }
   },
   "outputs": [
    {
     "data": {
      "text/plain": [
       "'Fish, Cow, Crocodile'"
      ]
     },
     "execution_count": 45,
     "metadata": {},
     "output_type": "execute_result"
    }
   ],
   "source": [
    "s = 'Berlin: 18.4 C at 4 pm'  \n",
    "len(s)                        # length of string\n",
    "s[0]                          # extract first character\n",
    "s[8:17]                       # extract substring \"18.4 C at\"\n",
    "'Berlin' in s                 # test if substring is in s \n",
    "s.split(' ')                  # split string at whitspaces, returns list\n",
    "', '.join([\"Fish\", \"Cow\", \"Crocodile\"])   # returns 'Fish, Cow, Crocodile'"
   ]
  },
  {
   "cell_type": "markdown",
   "metadata": {
    "slideshow": {
     "slide_type": "subslide"
    }
   },
   "source": [
    "### Lists"
   ]
  },
  {
   "cell_type": "code",
   "execution_count": 76,
   "metadata": {
    "collapsed": true
   },
   "outputs": [],
   "source": [
    "mylist  = ['a string', 2.5, 6, 'another string']  # A non-empty list\n",
    "listlist  = [[1,2], [3, None, 4]]                 # List of lists"
   ]
  },
  {
   "cell_type": "markdown",
   "metadata": {
    "slideshow": {
     "slide_type": "subslide"
    }
   },
   "source": [
    "### Lists can be dynamically changed (they are *mutable*)"
   ]
  },
  {
   "cell_type": "code",
   "execution_count": 77,
   "metadata": {
    "collapsed": false,
    "slideshow": {
     "slide_type": "-"
    }
   },
   "outputs": [],
   "source": [
    "a = mylist[0]         # Get first item\n",
    "mylist[1]  = -10      # Update second item\n",
    "mylist.append('a third string')   # Append string to the end"
   ]
  },
  {
   "cell_type": "markdown",
   "metadata": {
    "slideshow": {
     "slide_type": "subslide"
    }
   },
   "source": [
    "### Common list functions\n",
    "\n",
    "** Indexing **"
   ]
  },
  {
   "cell_type": "code",
   "execution_count": 78,
   "metadata": {
    "collapsed": true
   },
   "outputs": [
    {
     "data": {
      "text/plain": [
       "1"
      ]
     },
     "execution_count": 78,
     "metadata": {},
     "output_type": "execute_result"
    }
   ],
   "source": [
    "mylist[-1]           # get last list element\n",
    "listlist[0][1]       # nested list indexing\n",
    "mylist[1:3]          # return sublist (here: index 1, 2)\n",
    "mylist.index(-10)    # find index corresponding to an element's value"
   ]
  },
  {
   "cell_type": "markdown",
   "metadata": {
    "slideshow": {
     "slide_type": "fragment"
    }
   },
   "source": [
    "** Mutation **"
   ]
  },
  {
   "cell_type": "code",
   "execution_count": 79,
   "metadata": {
    "collapsed": false
   },
   "outputs": [],
   "source": [
    "mylist.insert(4, e)           # insert element before index i\n",
    "mylist + [1,3]                # add two lists (returns new list)\n",
    "del mylist[3]                 # delete an element (index 3)\n",
    "mylist.remove(-10)              # remove an element with value e"
   ]
  },
  {
   "cell_type": "markdown",
   "metadata": {
    "slideshow": {
     "slide_type": "fragment"
    }
   },
   "source": [
    "** Others **"
   ]
  },
  {
   "cell_type": "code",
   "execution_count": 80,
   "metadata": {
    "collapsed": true,
    "slideshow": {
     "slide_type": "-"
    }
   },
   "outputs": [
    {
     "data": {
      "text/plain": [
       "8"
      ]
     },
     "execution_count": 80,
     "metadata": {},
     "output_type": "execute_result"
    }
   ],
   "source": [
    "'value' in a        # test if list contains value (returns True/False)\n",
    "len(a)              # number of list elements"
   ]
  },
  {
   "cell_type": "markdown",
   "metadata": {},
   "source": [
    "### Tuples\n",
    "Tuple is constant lists (that is, they are *immutable*)"
   ]
  },
  {
   "cell_type": "code",
   "execution_count": 81,
   "metadata": {
    "collapsed": true
   },
   "outputs": [],
   "source": [
    "mytuple = ('a string', 2.5, 6, 'another string')\n",
    "mytuple = 'a string', 2.5, 6, 'another string'  # Shorter notation"
   ]
  },
  {
   "cell_type": "markdown",
   "metadata": {},
   "source": [
    "Most operations for lists also work on  tuples, except the ones that would change the tuple:"
   ]
  },
  {
   "cell_type": "code",
   "execution_count": 82,
   "metadata": {
    "collapsed": true,
    "slideshow": {
     "slide_type": "subslide"
    }
   },
   "outputs": [
    {
     "ename": "TypeError",
     "evalue": "'tuple' object does not support item assignment",
     "output_type": "error",
     "traceback": [
      "\u001b[0;31m---------------------------------------------------------------------------\u001b[0m",
      "\u001b[0;31mTypeError\u001b[0m                                 Traceback (most recent call last)",
      "\u001b[0;32m<ipython-input-82-a9629a610334>\u001b[0m in \u001b[0;36m<module>\u001b[0;34m()\u001b[0m\n\u001b[0;32m----> 1\u001b[0;31m \u001b[0mmytuple\u001b[0m\u001b[0;34m[\u001b[0m\u001b[0;36m1\u001b[0m\u001b[0;34m]\u001b[0m \u001b[0;34m=\u001b[0m \u001b[0;34m-\u001b[0m\u001b[0;36m10\u001b[0m  \u001b[0;31m# Error, tuple cannot be changed\u001b[0m\u001b[0;34m\u001b[0m\u001b[0m\n\u001b[0m\u001b[1;32m      2\u001b[0m \u001b[0mnewtuple\u001b[0m \u001b[0;34m=\u001b[0m \u001b[0mmytuple\u001b[0m \u001b[0;34m+\u001b[0m \u001b[0;34m(\u001b[0m\u001b[0;36m3\u001b[0m\u001b[0;34m,\u001b[0m \u001b[0;36m4\u001b[0m\u001b[0;34m)\u001b[0m\u001b[0;34m\u001b[0m\u001b[0m\n",
      "\u001b[0;31mTypeError\u001b[0m: 'tuple' object does not support item assignment"
     ]
    }
   ],
   "source": [
    "mytuple[1] = -10  # Error, tuple cannot be changed\n",
    "newtuple = mytuple + (3, 4)"
   ]
  },
  {
   "cell_type": "markdown",
   "metadata": {
    "slideshow": {
     "slide_type": "subslide"
    }
   },
   "source": [
    "## Dictionaries\n",
    "\n",
    "Dictionaries can be viewed as lists with any (immutable) variable\n",
    "as index. The elements of a dictionary (dict) are key-value pairs."
   ]
  },
  {
   "cell_type": "code",
   "execution_count": 14,
   "metadata": {
    "collapsed": false,
    "slideshow": {
     "slide_type": "fragment"
    }
   },
   "outputs": [
    {
     "data": {
      "text/plain": [
       "[None, '4067522', '6414381']"
      ]
     },
     "execution_count": 14,
     "metadata": {},
     "output_type": "execute_result"
    }
   ],
   "source": [
    "# Create dictionary\n",
    "phonebook = {'John': '99954329', 'Erik': '6414381', 'Stephan': None}\n",
    "\n",
    "# Update dictionary\n",
    "phonebook['Karl'] = '4067522'\n",
    "del phonebook['John']\n",
    "\n",
    "# Extract list of keys and values\n",
    "list(phonebook.keys())  \n",
    "list(phonebook.values()) "
   ]
  },
  {
   "cell_type": "markdown",
   "metadata": {
    "slideshow": {
     "slide_type": "slide"
    }
   },
   "source": [
    "# Control structures in Python"
   ]
  },
  {
   "cell_type": "markdown",
   "metadata": {
    "slideshow": {
     "slide_type": "subslide"
    }
   },
   "source": [
    "### Conditionals/branching:\n",
    "\n",
    "```python\n",
    "if condition:\n",
    "    <block of statements>\n",
    "elif condition:\n",
    "    <block of statements>\n",
    "else:\n",
    "    <block of statements>\n",
    "```    \n",
    "\n",
    "Also here, `condition` must be a boolean expression.\n",
    "\n",
    "**Important**: Python uses indentation to determine the start/end of blocks\n",
    "(instead of e.g. brackets). It is common to indent with 4 spaces."
   ]
  },
  {
   "cell_type": "markdown",
   "metadata": {
    "slideshow": {
     "slide_type": "subslide"
    }
   },
   "source": [
    "## Loops \n",
    "\n",
    "```python\n",
    "while condition:\n",
    "    <block of statements>\n",
    "```\n",
    "\n",
    "condition must be a boolean expression for example: `i < 10` or `a!=b`\n",
    "\n",
    "```python\n",
    "for element in sequence:\n",
    "    <block of statements>\n",
    "```    \n",
    "\n",
    "sequence must be a indexable object, for example a `list`, `tuple` or a `string`."
   ]
  },
  {
   "cell_type": "markdown",
   "metadata": {
    "slideshow": {
     "slide_type": "subslide"
    }
   },
   "source": [
    "## Looping over integers with `range`"
   ]
  },
  {
   "cell_type": "code",
   "execution_count": 86,
   "metadata": {
    "collapsed": false
   },
   "outputs": [
    {
     "name": "stdout",
     "output_type": "stream",
     "text": [
      "0\n",
      "1\n",
      "2\n",
      "3\n",
      "4\n"
     ]
    }
   ],
   "source": [
    "for i in [0, 1, 2, 3, 4]:\n",
    "    print(i)"
   ]
  },
  {
   "cell_type": "markdown",
   "metadata": {},
   "source": [
    "Better:"
   ]
  },
  {
   "cell_type": "code",
   "execution_count": 87,
   "metadata": {
    "collapsed": false
   },
   "outputs": [
    {
     "name": "stdout",
     "output_type": "stream",
     "text": [
      "0\n",
      "1\n",
      "2\n",
      "3\n",
      "4\n"
     ]
    }
   ],
   "source": [
    "for i in range(5):\n",
    "    print(i)"
   ]
  },
  {
   "cell_type": "markdown",
   "metadata": {
    "slideshow": {
     "slide_type": "fragment"
    }
   },
   "source": [
    "**Technical remark:** range generates a *Python iterator* over integers (instead of creating a list of integers) to save memory "
   ]
  },
  {
   "cell_type": "markdown",
   "metadata": {
    "slideshow": {
     "slide_type": "subslide"
    }
   },
   "source": [
    "## Example: printing list values together with their index"
   ]
  },
  {
   "cell_type": "code",
   "execution_count": 18,
   "metadata": {
    "collapsed": false,
    "slideshow": {
     "slide_type": "-"
    }
   },
   "outputs": [
    {
     "name": "stdout",
     "output_type": "stream",
     "text": [
      "0 Hello\n",
      "1 Sam\n",
      "2 !\n"
     ]
    }
   ],
   "source": [
    "mylist = [\"Hello\", \"Sam\", \"!\"]\n",
    "\n",
    "for i in range(3):\n",
    "    print(i, end=\" \")\n",
    "    print(mylist[i])"
   ]
  },
  {
   "cell_type": "markdown",
   "metadata": {
    "slideshow": {
     "slide_type": "fragment"
    }
   },
   "source": [
    "**Better**: use enumerate:"
   ]
  },
  {
   "cell_type": "code",
   "execution_count": 32,
   "metadata": {
    "collapsed": false,
    "slideshow": {
     "slide_type": "-"
    }
   },
   "outputs": [
    {
     "name": "stdout",
     "output_type": "stream",
     "text": [
      "0 Hello\n",
      "1 Sam\n",
      "2 !\n"
     ]
    }
   ],
   "source": [
    "mylist = [\"Hello\", \"Sam\", \"!\"]\n",
    "for index, element in enumerate(mylist):\n",
    "    print(index, element)"
   ]
  },
  {
   "cell_type": "markdown",
   "metadata": {
    "slideshow": {
     "slide_type": "subslide"
    }
   },
   "source": [
    "## List comprehensions enable compact loop syntax"
   ]
  },
  {
   "cell_type": "markdown",
   "metadata": {
    "slideshow": {
     "slide_type": "-"
    }
   },
   "source": [
    "Classic Java/C-style code, expressed in Python:"
   ]
  },
  {
   "cell_type": "code",
   "execution_count": 35,
   "metadata": {
    "collapsed": false,
    "slideshow": {
     "slide_type": "-"
    }
   },
   "outputs": [],
   "source": [
    "a = [0, 5, -3, 6]\n",
    "b = [0]*len(a)               # allocate b list\n",
    "\n",
    "for i in range(len(a)):      # iterate over indices\n",
    "    b[i] = a[i]**2"
   ]
  },
  {
   "cell_type": "markdown",
   "metadata": {
    "slideshow": {
     "slide_type": "fragment"
    }
   },
   "source": [
    "Pythonic version #1:"
   ]
  },
  {
   "cell_type": "code",
   "execution_count": 36,
   "metadata": {
    "collapsed": false,
    "slideshow": {
     "slide_type": "-"
    }
   },
   "outputs": [],
   "source": [
    "b = []\n",
    "for element in a:\n",
    "    b.append(element**2)"
   ]
  },
  {
   "cell_type": "markdown",
   "metadata": {
    "slideshow": {
     "slide_type": "fragment"
    }
   },
   "source": [
    "Pythonic version #2 (list comprehension):"
   ]
  },
  {
   "cell_type": "code",
   "execution_count": 37,
   "metadata": {
    "collapsed": false,
    "slideshow": {
     "slide_type": "-"
    }
   },
   "outputs": [],
   "source": [
    "b = [element**2 for element in a] "
   ]
  },
  {
   "cell_type": "markdown",
   "metadata": {
    "slideshow": {
     "slide_type": "slide"
    }
   },
   "source": [
    "# Functions and arguments"
   ]
  },
  {
   "cell_type": "markdown",
   "metadata": {
    "slideshow": {
     "slide_type": "subslide"
    }
   },
   "source": [
    "## Example of an user-defined functions"
   ]
  },
  {
   "cell_type": "code",
   "execution_count": 21,
   "metadata": {
    "collapsed": false,
    "slideshow": {
     "slide_type": "-"
    }
   },
   "outputs": [
    {
     "data": {
      "text/plain": [
       "'Hello world'"
      ]
     },
     "execution_count": 21,
     "metadata": {},
     "output_type": "execute_result"
    }
   ],
   "source": [
    "def concatenate(str1, str2):\n",
    "    out = str1 + \" \" + str2\n",
    "    return out\n",
    "\n",
    "concatenate(\"Hello\", \"world\")"
   ]
  },
  {
   "cell_type": "markdown",
   "metadata": {
    "slideshow": {
     "slide_type": "subslide"
    }
   },
   "source": [
    "## Default arguments"
   ]
  },
  {
   "cell_type": "code",
   "execution_count": 31,
   "metadata": {
    "collapsed": true,
    "slideshow": {
     "slide_type": "-"
    }
   },
   "outputs": [
    {
     "data": {
      "text/plain": [
       "'Hello beautiful world'"
      ]
     },
     "execution_count": 31,
     "metadata": {},
     "output_type": "execute_result"
    }
   ],
   "source": [
    "def concatenate(str1, str2, str3=None):\n",
    "    if str3 is None:\n",
    "        return str1 + \" \" + str2\n",
    "    else:\n",
    "        return str1 + \" \" + str2 + \" \" + str3\n",
    "    \n",
    "\n",
    "concatenate(\"Hello\", \"beautiful\", \"world\")"
   ]
  },
  {
   "cell_type": "code",
   "execution_count": 32,
   "metadata": {
    "collapsed": true
   },
   "outputs": [
    {
     "data": {
      "text/plain": [
       "'Hello world beautiful'"
      ]
     },
     "execution_count": 32,
     "metadata": {},
     "output_type": "execute_result"
    }
   ],
   "source": [
    "concatenate(\"Hello\", str3=\"beautiful\", str2=\"world\")"
   ]
  },
  {
   "cell_type": "markdown",
   "metadata": {
    "slideshow": {
     "slide_type": "subslide"
    }
   },
   "source": [
    "# Multiple return values"
   ]
  },
  {
   "cell_type": "markdown",
   "metadata": {},
   "source": [
    "Often it is usefull to return multiple values in a function. This is achieved by packing the return values into a tuple:"
   ]
  },
  {
   "cell_type": "code",
   "execution_count": 33,
   "metadata": {
    "collapsed": true
   },
   "outputs": [],
   "source": [
    "def coordinates():\n",
    "    x = 1\n",
    "    y = 2\n",
    "    return x, y  # Note: Short notation for tuple([x, y])"
   ]
  },
  {
   "cell_type": "code",
   "execution_count": 88,
   "metadata": {
    "collapsed": false,
    "slideshow": {
     "slide_type": "fragment"
    }
   },
   "outputs": [],
   "source": [
    "myx, myy = coordinates()   # Python automatically \"unpacks\" the tuple entries"
   ]
  },
  {
   "cell_type": "markdown",
   "metadata": {
    "slideshow": {
     "slide_type": "subslide"
    }
   },
   "source": [
    "## Python challenges\n",
    "\n",
    "\n",
    "1. Write a Python function which takes a string and returns the number of characters in that string (including spaces). \n",
    "    Example usage:\n",
    "```python\n",
    "  a = character_count(\"Hello world\")  # should return 11\n",
    "``` \n",
    "\n",
    "2. Write another function (in the same file) that takes a string and returns the number of words in that string. \n",
    "```python\n",
    "  b = word_count(\"Hello world!\")  # should return 2\n",
    "``` \n",
    "\n",
    "3. *Bonus* Write a Python function that takes a list of floats/ints and returns their product. Extend that function to work with lists, tuples and dictionaries?\n",
    "\n",
    "   Example usage:\n",
    "   ```python\n",
    "   a = mult([4, 5, 2])  # a should be 40\n",
    "   ```\n",
    "\n",
    "4. *Bonus* Write a Python function that takes a list and returns a new list that contains the unique elements of the first list.\n",
    "\n",
    "   Example usage:\n",
    "   ```python\n",
    "   a = unique([None, 5, \"s\", 5, 8, None])  \n",
    "   # a should be [None, 5, \"s\", 8]\n",
    "   ```\n"
   ]
  },
  {
   "cell_type": "markdown",
   "metadata": {
    "slideshow": {
     "slide_type": "slide"
    }
   },
   "source": [
    "# In-/Ouput in Python"
   ]
  },
  {
   "cell_type": "markdown",
   "metadata": {
    "slideshow": {
     "slide_type": "subslide"
    }
   },
   "source": [
    "## Basic file reading"
   ]
  },
  {
   "cell_type": "markdown",
   "metadata": {},
   "source": [
    "Open the file:\n",
    "```python\n",
    "infile = open(filename, 'r')\n",
    "```"
   ]
  },
  {
   "cell_type": "markdown",
   "metadata": {
    "slideshow": {
     "slide_type": "fragment"
    }
   },
   "source": [
    "Read the file:\n",
    "```python\n",
    "for line in infile:\n",
    "    # process line as string\n",
    "```"
   ]
  },
  {
   "cell_type": "markdown",
   "metadata": {
    "collapsed": false,
    "slideshow": {
     "slide_type": "fragment"
    }
   },
   "source": [
    "Close the file when done with with \n",
    "```python\n",
    "infile.close()\n",
    "```"
   ]
  },
  {
   "cell_type": "markdown",
   "metadata": {
    "slideshow": {
     "slide_type": "subslide"
    }
   },
   "source": [
    "## Basic file writing"
   ]
  },
  {
   "cell_type": "markdown",
   "metadata": {},
   "source": [
    "Open the file for writing\n",
    "```python\n",
    "outfile = open(filename, 'w') # new file or overwrite\n",
    "\n",
    "outfile = open(filename, 'a') # append to existing file\n",
    "```"
   ]
  },
  {
   "cell_type": "markdown",
   "metadata": {
    "collapsed": false,
    "slideshow": {
     "slide_type": "fragment"
    }
   },
   "source": [
    "Write to the file with\n",
    "```python\n",
    "outfile.write(\"\"\"Some \n",
    "string\"\"\")\n",
    "```\n",
    "or\n",
    "```python\n",
    "outfile.writelines(list_of_lines)\n",
    "```\n",
    "When finished with writing, always close the file with:\n",
    "```python\n",
    "outfile.close()\n",
    "```"
   ]
  },
  {
   "cell_type": "markdown",
   "metadata": {
    "slideshow": {
     "slide_type": "subslide"
    }
   },
   "source": [
    "## Python challenges\n",
    "\n",
    "3. Write a Python function which creates statistics of a file. The function should take a file name as argument, and return a string of the format \"a b c fn\" where a is the number of lines in the file, b the number of words, c the number of characters, and fn the filename.\n",
    "    \n",
    "    Example usage:\n",
    "```python\n",
    "  a = wc(\"myfile.txt\")  # a should for example be \"10 34 264 myfile.txt\"\n",
    "```\n",
    "\n",
    "4. Modify the program from Exercise 3 such that the filename is read from the command line and that the results is printed out to the console.\n",
    "    Example usage:\n",
    "```bash\n",
    ">> python wc.py filename.py\n",
    "10 34 264 filename.py\n",
    "```\n",
    "\n",
    "4. **Bonus** Modify the program from Exercise 3 such that multiple filenames are read from a file of the format:\n",
    "```\n",
    "file1.txt\n",
    "file2.txt\n",
    "file3.txt\n",
    "```\n",
    "The program should create a new file with the statistics of each file:\n",
    "```\n",
    "10 34 264 file1.py\n",
    "1 20 43 file2.py\n",
    "3 34 224 file3.py\n",
    "10 2 2 file4.py\n",
    "```"
   ]
  }
 ],
 "metadata": {
  "celltoolbar": "Slideshow",
  "kernelspec": {
   "display_name": "Python 3",
   "language": "python",
   "name": "python3"
  },
  "language_info": {
   "codemirror_mode": {
    "name": "ipython",
    "version": 3
   },
   "file_extension": ".py",
   "mimetype": "text/x-python",
   "name": "python",
   "nbconvert_exporter": "python",
   "pygments_lexer": "ipython3",
   "version": "3.5.2"
  },
  "livereveal": {
   "scroll": true,
   "start_slideshow_at": "selected",
   "theme": "serif"
  }
 },
 "nbformat": 4,
 "nbformat_minor": 0
}
