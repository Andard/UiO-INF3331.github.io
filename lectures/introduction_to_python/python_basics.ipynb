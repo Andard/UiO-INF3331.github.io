{
 "cells": [
  {
   "cell_type": "markdown",
   "metadata": {
    "slideshow": {
     "slide_type": "slide"
    }
   },
   "source": [
    "# Python 3 basics\n",
    "**Contributors: Simon Funke, Hans Petter Langtangen, Joakim Sundnes, Ola Skavhaug**"
   ]
  },
  {
   "cell_type": "markdown",
   "metadata": {
    "slideshow": {
     "slide_type": "slide"
    }
   },
   "source": [
    "## Variables and data types"
   ]
  },
  {
   "cell_type": "markdown",
   "metadata": {
    "slideshow": {
     "slide_type": "subslide"
    }
   },
   "source": [
    "## Variables are not declared & hold references to objects"
   ]
  },
  {
   "cell_type": "code",
   "execution_count": 17,
   "metadata": {
    "collapsed": false,
    "slideshow": {
     "slide_type": "fragment"
    }
   },
   "outputs": [],
   "source": [
    "a = 3              # reference to an int containing 3\n",
    "b = 3.0            # reference to a float containing 3.0\n",
    "c = '3.'           # reference to a string containing '3.'\n",
    "d = ['1', 2]       # reference to a list containing\n",
    "                   # a string '1' and an integer 2\n",
    "is_equal = a == b  # is_equal is True"
   ]
  },
  {
   "cell_type": "markdown",
   "metadata": {
    "slideshow": {
     "slide_type": "fragment"
    }
   },
   "source": [
    "Python is a strongy typed language. Test for a variable's type:\n",
    "\n",
    "```python\n",
    "if isinstance(a, int): # int?\n",
    "    <block of statements>\n",
    "if isinstance(a, (list, tuple)): # list or tuple?\n",
    "    <block of statements>\n",
    "```    "
   ]
  },
  {
   "cell_type": "markdown",
   "metadata": {
    "slideshow": {
     "slide_type": "subslide"
    }
   },
   "source": [
    "## Common types\n",
    "\n",
    "** Numbers **\n",
    "* `int`\n",
    "* `float`\n",
    "* `complex`\n",
    "\n",
    "** Sequences **\n",
    "* `str`\n",
    "* `list`\n",
    "* `tuple`\n",
    "\n",
    "** Mappings **\n",
    "* `dict` (dictionary/hash)"
   ]
  },
  {
   "cell_type": "markdown",
   "metadata": {
    "slideshow": {
     "slide_type": "subslide"
    }
   },
   "source": [
    "### Initialise strings with single or double quotes, or triple single/double quotes\n",
    "\n",
    "Single- and double-quoted strings work in the same way: \n",
    "```python\n",
    "'some string'\n",
    "```\n",
    "is equivalent to \n",
    "```python\n",
    "\"some string\"\n",
    "```\n",
    "\n",
    "Triple-quoted strings can be multi line with embedded newlines:\n",
    "```python\n",
    "text = \"\"\"large portions of a text\n",
    "can be conveniently placed inside\n",
    "triple-quoted strings (newlines\n",
    "are preserved)\"\"\"\n",
    "```"
   ]
  },
  {
   "cell_type": "markdown",
   "metadata": {
    "slideshow": {
     "slide_type": "subslide"
    }
   },
   "source": [
    "### Common string operations"
   ]
  },
  {
   "cell_type": "markdown",
   "metadata": {
    "collapsed": false,
    "slideshow": {
     "slide_type": "fragment"
    }
   },
   "source": [
    "```python\n",
    "s = 'Berlin: 18.4 C at 4 pm'  # create a string\n",
    "s[0]                          # extract first character\n",
    "s[8:17]                       # extract substring \"18.4 C at\"\n",
    "'Berlin' in s                 # test if substring is in s\n",
    "s.split(':')                  # split into substrings, returns list of strings\n",
    "s.replace('18.4', '20')       # replace all occurances\n",
    "s.strip()                     # remove leading/trailing blanks\n",
    "list_of_words = [\"Fish\", \"Cow\", \"Crocodile\"]\n",
    "', '.join(list_of_words)      # join the string elements of the list by a comma.\n",
    "```"
   ]
  },
  {
   "cell_type": "markdown",
   "metadata": {},
   "source": [
    "### Lists contain a list of objects\n",
    "\n",
    "```python\n",
    "emptylist  = []  # An empty list\n",
    "mylist  = ['a string', 2.5, 6, 'another string']  # A non-empty list\n",
    "listlist  = [[1,2], [3, None, 4]]   # List of lists\n",
    "```"
   ]
  },
  {
   "cell_type": "markdown",
   "metadata": {
    "collapsed": false,
    "slideshow": {
     "slide_type": "fragment"
    }
   },
   "source": [
    "### Lists are *mutable*, that is lists can be altered\n",
    "\n",
    "```python\n",
    "a = mylist[0]  # Get first list item\n",
    "mylist[1]  = -10      # Update the second list item\n",
    "mylist.append('a third string')   # Append string to the end of the list\n",
    "```"
   ]
  },
  {
   "cell_type": "markdown",
   "metadata": {
    "slideshow": {
     "slide_type": "subslide"
    }
   },
   "source": [
    "### Often used list functions\n",
    "\n",
    "** Indexing **\n",
    "\n",
    "| Function               |   Action                                       |      \n",
    "|----------------------------|-------------------------------------------------|                \n",
    "| a[-1]                    | get last list element                           |\n",
    "| b[3][0]               | nested list indexing                            |\n",
    "| a[1:3]                   | return sublist (here: index 1, 2)  |\n",
    "| a.index(None)        | find index corresponding to an element's value  |    \n",
    "\n",
    "** Mutation **\n",
    "\n",
    "| Function               |   Action                                       |      \n",
    "|----------------------------|-------------------------------------------------|\n",
    "| a.append(elem)           | add elem object to the end                    |\n",
    "| a.insert(i, e)           | insert element e before index i             |\n",
    "| a + [1,3]                | add two lists (returns new list) |\n",
    "| del a[3]                 | delete an element (index 3)                   |\n",
    "| a.remove(e)              | remove an element with value e                |\n",
    "\n",
    "** Others **\n",
    "\n",
    "| Function               |   Action                                       |       \n",
    "|----------------------------|-------------------------------------------------|\n",
    "| if 'value' in a:        | test if list contains value |          \n",
    "| len(a)                   | number of elements in list a                  |\n",
    "| min(a), max(a)     | the smallest/largest element in a             |                                                                                                                                   "
   ]
  },
  {
   "cell_type": "markdown",
   "metadata": {
    "collapsed": false,
    "slideshow": {
     "slide_type": "fragment"
    }
   },
   "source": [
    "### Tuples\n",
    "A tuple is a constant list (or *immutable* object)\n",
    "```python\n",
    "mytuple = ('a string', 2.5, 6, 'another string')\n",
    "mytuple = 'a string', 2.5, 6, 'another string'  # Shorter notation\n",
    "```\n",
    "Most operations for lists also work on  tuples, except the ones that would change the tuple:\n",
    "```python\n",
    "mytuple[1] = -10  # Error, tuple cannot be changed\n",
    "```"
   ]
  },
  {
   "cell_type": "markdown",
   "metadata": {
    "slideshow": {
     "slide_type": "subslide"
    }
   },
   "source": [
    "## Dictionaries\n",
    "\n",
    "Dictionaries can be viewed as lists with an object\n",
    "as index. The elements of a dictionary (dict) are key-value pairs."
   ]
  },
  {
   "cell_type": "markdown",
   "metadata": {
    "collapsed": false,
    "slideshow": {
     "slide_type": "fragment"
    }
   },
   "source": [
    "```python\n",
    "mydict = {1: -4, 2: 3, 'somestring': [1,3,4]}\n",
    "otherdict = {'name': 'John Doe', 'phone': '99954329'}\n",
    "# same as dict(name='John Doe', phone='99954329')\n",
    "\n",
    "# Add new key-value pair\n",
    "mydict['somekey'] = 1.0\n",
    "mydict.update(otherdict)  # add/replace key-value pairs\n",
    "\n",
    "del mydict[2]\n",
    "del mydict['somekey']\n",
    "```"
   ]
  },
  {
   "cell_type": "markdown",
   "metadata": {
    "slideshow": {
     "slide_type": "skip"
    }
   },
   "source": [
    "## Dictionary functionality\n",
    "\n",
    "\n",
    "| Construction                           | Meaning                                    |                                                                                                        \n",
    "|-------------------------------------------------------------------------------------|                                                                                                        \n",
    "| a = {}                               | initialize an empty dictionary             |                                                                                                        \n",
    "| a = {'point': [0,0.1], 'value': 7}   | initialize a dictionary                    |                                                                                                        \n",
    "| a = dict(point=[2,7], value=3)       | initialize a dictionary w/string keys      |                                                                                                        \n",
    "| a.update(b)                          | add key-value pairs from b in a |                                                                                                               \n",
    "| a.update(key1=value1, key2=value2)   | add key-value pairs in a          |                                                                                                               \n",
    "| a['hide'] = True                     | add new key-value pair to a              |                                                                                                        \n",
    "| a['point']                           | get value corresponding to key point     |                                                                                                        \n",
    "| for key in a:                        | loop over keys in unknown order            |                                                                                                        \n",
    "| for key in sorted(a):                | loop over keys in alphabetic order         |                                                                                                        \n",
    "| 'value' in a                         | True if string value is a key in a   |                                                                                                        \n",
    "| del a['point']                       | delete a key-value pair from a           |                                                                                                        \n",
    "| list(a.keys())                       | list of keys                               |                                                                                                        \n",
    "| list(a.values())                     | list of values                             |                                                                                                        \n",
    "| len(a)                               | number of key-value pairs in a           |                                                                                                        \n",
    "| isinstance(a, dict)                  | is True if a is a dictionary           |"
   ]
  },
  {
   "cell_type": "markdown",
   "metadata": {
    "slideshow": {
     "slide_type": "slide"
    }
   },
   "source": [
    "# Control structures in Python"
   ]
  },
  {
   "cell_type": "markdown",
   "metadata": {
    "slideshow": {
     "slide_type": "subslide"
    }
   },
   "source": [
    "## Loops \n",
    "\n",
    "### `while` loop\n",
    "\n",
    "```python\n",
    "while condition:\n",
    "    <block of statements>\n",
    "```\n",
    "\n",
    "Here, `condition` must be a boolean expression (or have a boolean interpretation), for example: `i < 10` or `!found`\n",
    "\n",
    "### `for` loop\n",
    "\n",
    "\n",
    "```python\n",
    "for element in somelist:\n",
    "    <block of statements>\n",
    "```    \n",
    "\n",
    "Here, `somelist` must be a indexable object, for example a `list`, `tuple` or a `string`."
   ]
  },
  {
   "cell_type": "markdown",
   "metadata": {
    "slideshow": {
     "slide_type": "fragment"
    }
   },
   "source": [
    "**Important**: Python uses indentation to determine the start/end of blocks\n",
    "(instead of e.g. brackets). In Python, it is common to indent with 4 spaces."
   ]
  },
  {
   "cell_type": "markdown",
   "metadata": {
    "slideshow": {
     "slide_type": "subslide"
    }
   },
   "source": [
    "### Conditionals/branching:\n",
    "\n",
    "```python\n",
    "if condition:\n",
    "    <block of statements>\n",
    "elif condition:\n",
    "    <block of statements>\n",
    "else:\n",
    "    <block of statements>\n",
    "```    \n",
    "\n",
    "Also here, `condition` must be a boolean expression."
   ]
  },
  {
   "cell_type": "markdown",
   "metadata": {
    "slideshow": {
     "slide_type": "subslide"
    }
   },
   "source": [
    "## Looping over integers with `range`"
   ]
  },
  {
   "cell_type": "code",
   "execution_count": 20,
   "metadata": {
    "collapsed": false
   },
   "outputs": [
    {
     "name": "stdout",
     "output_type": "stream",
     "text": [
      "0\n",
      "1\n",
      "2\n"
     ]
    }
   ],
   "source": [
    "for i in range(3):\n",
    "    print(i)"
   ]
  },
  {
   "cell_type": "markdown",
   "metadata": {
    "slideshow": {
     "slide_type": "fragment"
    }
   },
   "source": [
    "**Remark:** `range` generates a *Python iterator* over integers (instead of creating a list of integeres) to save memory "
   ]
  },
  {
   "cell_type": "markdown",
   "metadata": {
    "slideshow": {
     "slide_type": "subslide"
    }
   },
   "source": [
    "## Example: printing list values together with their index"
   ]
  },
  {
   "cell_type": "code",
   "execution_count": 21,
   "metadata": {
    "collapsed": false,
    "slideshow": {
     "slide_type": "-"
    }
   },
   "outputs": [
    {
     "name": "stdout",
     "output_type": "stream",
     "text": [
      "0 Hello\n",
      "1 Sam\n",
      "2 !\n"
     ]
    }
   ],
   "source": [
    "mylist = [\"Hello\", \"Sam\", \"!\"]\n",
    "for i in range(3):\n",
    "    print(i, end=\" \") \n",
    "    print(mylist[i])"
   ]
  },
  {
   "cell_type": "markdown",
   "metadata": {
    "slideshow": {
     "slide_type": "fragment"
    }
   },
   "source": [
    "**Better**: use `enumerate`:"
   ]
  },
  {
   "cell_type": "code",
   "execution_count": 22,
   "metadata": {
    "collapsed": false,
    "slideshow": {
     "slide_type": "-"
    }
   },
   "outputs": [
    {
     "name": "stdout",
     "output_type": "stream",
     "text": [
      "0 Hello\n",
      "1 Sam\n",
      "2 !\n"
     ]
    }
   ],
   "source": [
    "mylist = [\"Hello\", \"Sam\", \"!\"]\n",
    "for index, element in enumerate(mylist):\n",
    "    print(index, element)"
   ]
  },
  {
   "cell_type": "markdown",
   "metadata": {
    "slideshow": {
     "slide_type": "subslide"
    }
   },
   "source": [
    "## Examples on loops and branching"
   ]
  },
  {
   "cell_type": "code",
   "execution_count": 25,
   "metadata": {
    "collapsed": false,
    "slideshow": {
     "slide_type": "fragment"
    }
   },
   "outputs": [
    {
     "name": "stdout",
     "output_type": "stream",
     "text": [
      "new x: 1.0\n",
      "new x: 2.0\n",
      "new x: 4.0\n",
      "new x: 7.0\n",
      "loop is over\n"
     ]
    }
   ],
   "source": [
    "x = 0\n",
    "dx = 1.0\n",
    "while x < 6:\n",
    "    if x < 2:\n",
    "        x += dx\n",
    "    elif 2 <= x < 4:\n",
    "        x += 2*dx\n",
    "    else:\n",
    "        x += 3*dx\n",
    "    print('new x:', x)\n",
    "print('loop is over')"
   ]
  },
  {
   "cell_type": "markdown",
   "metadata": {
    "slideshow": {
     "slide_type": "subslide"
    }
   },
   "source": [
    "## `break` and `continue`"
   ]
  },
  {
   "cell_type": "markdown",
   "metadata": {},
   "source": [
    "`break` terminates the current loop and resumes execution at the next statement."
   ]
  },
  {
   "cell_type": "code",
   "execution_count": 31,
   "metadata": {
    "collapsed": false
   },
   "outputs": [
    {
     "name": "stdout",
     "output_type": "stream",
     "text": [
      "Current Letter : H\n",
      "Current Letter : e\n"
     ]
    }
   ],
   "source": [
    "for character in 'Hello':     \n",
    "   if character == 'l':\n",
    "      break\n",
    "   print('Current Letter :', character)"
   ]
  },
  {
   "cell_type": "markdown",
   "metadata": {
    "slideshow": {
     "slide_type": "fragment"
    }
   },
   "source": [
    "`continue` returns the control to the beginning of the while loop."
   ]
  },
  {
   "cell_type": "code",
   "execution_count": 32,
   "metadata": {
    "collapsed": false
   },
   "outputs": [
    {
     "name": "stdout",
     "output_type": "stream",
     "text": [
      "Current Letter : H\n",
      "Current Letter : e\n",
      "Current Letter : o\n"
     ]
    }
   ],
   "source": [
    "for character in 'Hello':     \n",
    "   if character == 'l':\n",
    "      continue\n",
    "   print('Current Letter :', character)"
   ]
  },
  {
   "cell_type": "markdown",
   "metadata": {
    "slideshow": {
     "slide_type": "subslide"
    }
   },
   "source": [
    "## List comprehensions enable compact loop syntax"
   ]
  },
  {
   "cell_type": "markdown",
   "metadata": {
    "slideshow": {
     "slide_type": "-"
    }
   },
   "source": [
    "Classic Java/C-style code, expressed in Python:"
   ]
  },
  {
   "cell_type": "code",
   "execution_count": 34,
   "metadata": {
    "collapsed": false,
    "slideshow": {
     "slide_type": "-"
    }
   },
   "outputs": [],
   "source": [
    "a = [0, 5, -3, 6]\n",
    "b = [0]*len(a)               # allocate b list\n",
    "for i in range(len(a)):      # iterate over indices\n",
    "    b[i] = a[i]**2"
   ]
  },
  {
   "cell_type": "markdown",
   "metadata": {
    "slideshow": {
     "slide_type": "fragment"
    }
   },
   "source": [
    "Pythonic version #1:"
   ]
  },
  {
   "cell_type": "code",
   "execution_count": 38,
   "metadata": {
    "collapsed": false,
    "slideshow": {
     "slide_type": "-"
    }
   },
   "outputs": [],
   "source": [
    "b = []\n",
    "for element in a:\n",
    "    b.append(element**2)"
   ]
  },
  {
   "cell_type": "markdown",
   "metadata": {
    "slideshow": {
     "slide_type": "fragment"
    }
   },
   "source": [
    "Pythonic version #2:"
   ]
  },
  {
   "cell_type": "code",
   "execution_count": 33,
   "metadata": {
    "collapsed": false,
    "slideshow": {
     "slide_type": "-"
    }
   },
   "outputs": [],
   "source": [
    "a = [0, 5, -3, 6]\n",
    "b = [element**2 for element in a]   # list comprehension"
   ]
  },
  {
   "cell_type": "markdown",
   "metadata": {
    "slideshow": {
     "slide_type": "slide"
    }
   },
   "source": [
    "# Functions and arguments"
   ]
  },
  {
   "cell_type": "markdown",
   "metadata": {
    "slideshow": {
     "slide_type": "subslide"
    }
   },
   "source": [
    "## Example of an user-defined functions"
   ]
  },
  {
   "cell_type": "code",
   "execution_count": 41,
   "metadata": {
    "collapsed": false,
    "slideshow": {
     "slide_type": "-"
    }
   },
   "outputs": [
    {
     "name": "stdout",
     "output_type": "stream",
     "text": [
      "('Hei', 'sann')\n"
     ]
    }
   ],
   "source": [
    "def split(string, char):\n",
    "    \"\"\" Split the string at the given character \"\"\"\n",
    "    position = string.find(char)\n",
    "    if  position > 0:\n",
    "        return string[:position+1], string[position+1:]\n",
    "    else:\n",
    "        return string, ''\n",
    "\n",
    "message = 'Heisann'\n",
    "result = split(message, 'i') # Call our function\n",
    "print(result)"
   ]
  },
  {
   "cell_type": "markdown",
   "metadata": {
    "slideshow": {
     "slide_type": "subslide"
    }
   },
   "source": [
    "## Syntax"
   ]
  },
  {
   "cell_type": "markdown",
   "metadata": {
    "slideshow": {
     "slide_type": "-"
    }
   },
   "source": [
    "### Defining Functions\n",
    "```python\n",
    "def functionname(arg1, arg2=\"default\", arg3=1.0, ...):\n",
    "   \"Docstring\"\n",
    "   <block of statements>\n",
    "   return [expression]\n",
    "```"
   ]
  },
  {
   "cell_type": "markdown",
   "metadata": {
    "slideshow": {
     "slide_type": "fragment"
    }
   },
   "source": [
    "### Calling functions\n",
    "\n",
    "```python\n",
    "functionname(1.0, \"x\", \"i\")\n",
    "```\n",
    "is the same as\n",
    "```python\n",
    "functionname(arg1=1.0, arg2=\"x\", arg2=\"i\")\n",
    "```\n",
    "\n",
    "Default arguments can be left out:\n",
    "```python\n",
    "functionname(1.0, args3=\"i\") \n",
    "```\n",
    "\n",
    "Positional arguments must appear before keyword arguments:\n",
    "\n",
    "```python\n",
    "functionname(arg3='i', \"x\") # invalid\n",
    "```"
   ]
  },
  {
   "cell_type": "markdown",
   "metadata": {
    "slideshow": {
     "slide_type": "subslide"
    }
   },
   "source": [
    "## Variable number of arguments\n",
    "\n",
    "Some function take a variable numer of arguments:"
   ]
  },
  {
   "cell_type": "code",
   "execution_count": 2,
   "metadata": {
    "collapsed": false
   },
   "outputs": [
    {
     "data": {
      "text/plain": [
       "6"
      ]
     },
     "execution_count": 2,
     "metadata": {},
     "output_type": "execute_result"
    }
   ],
   "source": [
    "max(1, 6)\n",
    "max(1, 2, 6, 2)"
   ]
  },
  {
   "cell_type": "markdown",
   "metadata": {
    "slideshow": {
     "slide_type": "fragment"
    }
   },
   "source": [
    "We implement this by adding a special arguments at the end with the prefix `*`:"
   ]
  },
  {
   "cell_type": "code",
   "execution_count": 21,
   "metadata": {
    "collapsed": false
   },
   "outputs": [
    {
     "name": "stdout",
     "output_type": "stream",
     "text": [
      "The maximum of (1, 5, 6, 3) is 6.\n"
     ]
    }
   ],
   "source": [
    "def printmax(firstnumber, *args):\n",
    "    # args is a tuple of all remaining arguments\n",
    "    print(\"The maximum of {} is {}.\".format(tuple([firstnumber])+args, max(firstnumber, *args)))\n",
    "\n",
    "printmax(1, 5, 6, 3)    "
   ]
  },
  {
   "cell_type": "markdown",
   "metadata": {
    "slideshow": {
     "slide_type": "subslide"
    }
   },
   "source": [
    "## Variable number of keyword arguments"
   ]
  },
  {
   "cell_type": "markdown",
   "metadata": {
    "slideshow": {
     "slide_type": "fragment"
    }
   },
   "source": [
    "This works similarily for keywords arguments if the special prefix `**` is used:"
   ]
  },
  {
   "cell_type": "code",
   "execution_count": 30,
   "metadata": {
    "collapsed": false
   },
   "outputs": [
    {
     "name": "stdout",
     "output_type": "stream",
     "text": [
      "Keyword arguments: {'a': 1, 'b': 'b', 'c': True}\n"
     ]
    }
   ],
   "source": [
    "def somefunc(**kwargs):\n",
    "    # kwargs is a dictionary of all keyword arguments\n",
    "    print(\"Keyword arguments: {}\".format(kwargs))\n",
    "\n",
    "somefunc(a=1, b=\"b\", c=True)"
   ]
  },
  {
   "cell_type": "markdown",
   "metadata": {
    "slideshow": {
     "slide_type": "subslide"
    }
   },
   "source": [
    "# Multiple return values"
   ]
  },
  {
   "cell_type": "markdown",
   "metadata": {},
   "source": [
    "Often it is usefull to return multiple values in a function. This is achieved by packing the return values into a tuple:"
   ]
  },
  {
   "cell_type": "code",
   "execution_count": 38,
   "metadata": {
    "collapsed": true
   },
   "outputs": [],
   "source": [
    "def coordinates():\n",
    "    x = 1\n",
    "    y = 2\n",
    "    return x, y  # Note: Short notation for tuple([x, y])"
   ]
  },
  {
   "cell_type": "code",
   "execution_count": 39,
   "metadata": {
    "collapsed": false,
    "slideshow": {
     "slide_type": "fragment"
    }
   },
   "outputs": [],
   "source": [
    "myx, myy = coordinates()   # Note: Python automatically \"unpacks\" the tuple entries"
   ]
  },
  {
   "cell_type": "markdown",
   "metadata": {},
   "source": [
    "# Exercises"
   ]
  },
  {
   "cell_type": "markdown",
   "metadata": {
    "slideshow": {
     "slide_type": "subslide"
    }
   },
   "source": [
    "##  Document your functions using docstrings"
   ]
  },
  {
   "cell_type": "markdown",
   "metadata": {},
   "source": [
    "The first string in a function definition is interpreted as a documentation string in Python."
   ]
  },
  {
   "cell_type": "code",
   "execution_count": 29,
   "metadata": {
    "collapsed": true
   },
   "outputs": [],
   "source": [
    "def function_with_types_in_docstring(param1, param2):\n",
    "    \"\"\"Example function with types documented in the docstring.\n",
    "\n",
    "    Args:\n",
    "        param1 (int): The first parameter.\n",
    "        param2 (str): The second parameter.\n",
    "\n",
    "    Returns:\n",
    "        bool: The return value. True for success, False otherwise.\n",
    "    \"\"\"\n",
    "    pass"
   ]
  },
  {
   "cell_type": "markdown",
   "metadata": {
    "slideshow": {
     "slide_type": "subslide"
    }
   },
   "source": [
    "## Doc strings serve many purposes\n",
    "\n",
    " * Documentation in the source code\n",
    " * Online documentation\n",
    "   (Sphinx can automatically produce manuals with doc strings)\n",
    " * Balloon help in sophisticated GUIs (e.g., IDLE)\n",
    " * Automatic testing with the [`doctest`](https://docs.python.org/2/library/doctest.html?highlight=doctest#doctest) module\n",
    " * Interactive documentation in Ipython:"
   ]
  },
  {
   "cell_type": "code",
   "execution_count": 41,
   "metadata": {
    "collapsed": false
   },
   "outputs": [],
   "source": [
    "function_with_types_in_docstring?"
   ]
  },
  {
   "cell_type": "markdown",
   "metadata": {
    "slideshow": {
     "slide_type": "slide"
    }
   },
   "source": [
    "# In-/Ouput in Python"
   ]
  },
  {
   "cell_type": "markdown",
   "metadata": {
    "slideshow": {
     "slide_type": "subslide"
    }
   },
   "source": [
    "## Basic file reading (1)"
   ]
  },
  {
   "cell_type": "markdown",
   "metadata": {},
   "source": [
    "Open the file:\n",
    "```python\n",
    "infile = open(filename, 'r')\n",
    "```"
   ]
  },
  {
   "cell_type": "markdown",
   "metadata": {
    "slideshow": {
     "slide_type": "fragment"
    }
   },
   "source": [
    "Read the file:\n",
    "```python\n",
    "for line in infile:\n",
    "    # process line\n",
    "```"
   ]
  },
  {
   "cell_type": "markdown",
   "metadata": {
    "slideshow": {
     "slide_type": "fragment"
    }
   },
   "source": [
    "or\n",
    "```python\n",
    "lines = infile.readlines()\n",
    "for line in lines:\n",
    "    # process line\n",
    "```"
   ]
  },
  {
   "cell_type": "markdown",
   "metadata": {
    "slideshow": {
     "slide_type": "subslide"
    }
   },
   "source": [
    "## Basic file reading (2)"
   ]
  },
  {
   "cell_type": "markdown",
   "metadata": {},
   "source": [
    "or\n",
    "```python\n",
    "for i in range(len(lines)):\n",
    "    # process lines[i] and perhaps next line lines[i+1]\n",
    "```"
   ]
  },
  {
   "cell_type": "markdown",
   "metadata": {
    "slideshow": {
     "slide_type": "fragment"
    }
   },
   "source": [
    "or\n",
    "```python\n",
    "fstr = infile.read()  # fstr contains the entire file\n",
    "fstr = fstr.replace('some', 'another')\n",
    "for piece in fstr.split(';'):\n",
    "    # process piece (separated by ;)\n",
    "```"
   ]
  },
  {
   "cell_type": "markdown",
   "metadata": {
    "collapsed": false,
    "slideshow": {
     "slide_type": "fragment"
    }
   },
   "source": [
    "After usage, always close the file with \n",
    "```python\n",
    "infile.close()\n",
    "```"
   ]
  },
  {
   "cell_type": "markdown",
   "metadata": {
    "slideshow": {
     "slide_type": "subslide"
    }
   },
   "source": [
    "## Basic file writing"
   ]
  },
  {
   "cell_type": "markdown",
   "metadata": {},
   "source": [
    "Open the file for writing\n",
    "```python\n",
    "outfile = open(filename, 'w')   # new file or overwrite\n",
    "# or\n",
    "outfile = open(filename, 'a')   # append to existing file\n",
    "```"
   ]
  },
  {
   "cell_type": "markdown",
   "metadata": {
    "collapsed": false,
    "slideshow": {
     "slide_type": "fragment"
    }
   },
   "source": [
    "Write to the file with\n",
    "```python\n",
    "outfile.write(\"\"\"Some long string\n",
    "\"\"\")\n",
    "```\n",
    "or\n",
    "```python\n",
    "outfile.writelines(list_of_lines)\n",
    "```\n",
    "When finished with writing, always close the file with:\n",
    "```python\n",
    "outfile.close()\n",
    "```"
   ]
  }
 ],
 "metadata": {
  "celltoolbar": "Slideshow",
  "kernelspec": {
   "display_name": "Python 3",
   "language": "python",
   "name": "python3"
  },
  "language_info": {
   "codemirror_mode": {
    "name": "ipython",
    "version": 3
   },
   "file_extension": ".py",
   "mimetype": "text/x-python",
   "name": "python",
   "nbconvert_exporter": "python",
   "pygments_lexer": "ipython3",
   "version": "3.5.2"
  },
  "livereveal": {
   "scroll": true,
   "start_slideshow_at": "selected",
   "theme": "serif"
  }
 },
 "nbformat": 4,
 "nbformat_minor": 0
}
