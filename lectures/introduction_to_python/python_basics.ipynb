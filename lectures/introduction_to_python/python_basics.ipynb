{
 "cells": [
  {
   "cell_type": "markdown",
   "metadata": {
    "slideshow": {
     "slide_type": "slide"
    }
   },
   "source": [
    "# Python 3 basics\n",
    "**Contributors: Simon Funke, Hans Petter Langtangen, Joakim Sundnes, Ola Skavhaug**"
   ]
  },
  {
   "cell_type": "markdown",
   "metadata": {
    "slideshow": {
     "slide_type": "subslide"
    }
   },
   "source": [
    "## Python variables are strongly typed without declaration"
   ]
  },
  {
   "cell_type": "code",
   "execution_count": 22,
   "metadata": {
    "collapsed": false,
    "slideshow": {
     "slide_type": "fragment"
    }
   },
   "outputs": [],
   "source": [
    "a = 3              # integer\n",
    "b = 3.0            # float\n",
    "c = 'Hallo'        # string\n",
    "d = ['1', 2]       # list"
   ]
  },
  {
   "cell_type": "markdown",
   "metadata": {
    "slideshow": {
     "slide_type": "fragment"
    }
   },
   "source": [
    "Test for a variable's type:\n",
    "\n",
    "```python\n",
    "if isinstance(a, int): # int?\n",
    "    <block of statements>\n",
    "if isinstance(a, (list, tuple)): # list or tuple?\n",
    "    <block of statements>\n",
    "```    "
   ]
  },
  {
   "cell_type": "markdown",
   "metadata": {
    "slideshow": {
     "slide_type": "subslide"
    }
   },
   "source": [
    "## Common types\n",
    "\n",
    "** Numbers **\n",
    "* True/False\n",
    "* `int`\n",
    "* `float`\n",
    "* `complex`\n",
    "\n",
    "** Sequences **\n",
    "* `str`\n",
    "* `list`\n",
    "* `tuple`\n",
    "\n",
    "** Mappings **\n",
    "* `dict` (dictionary/hash)"
   ]
  },
  {
   "cell_type": "markdown",
   "metadata": {
    "slideshow": {
     "slide_type": "subslide"
    }
   },
   "source": [
    "### Initialise strings with single or double quotes, or triple single/double quotes\n",
    "\n",
    "Single- and double-quoted strings work in the same way: \n",
    "```python\n",
    "text = 'some string'\n",
    "```\n",
    "is equivalent to \n",
    "```python\n",
    "text = \"some string\"\n",
    "```\n",
    "\n",
    "Triple-quoted strings can be multi line with embedded newlines:\n",
    "```python\n",
    "text = \"\"\"large portions of a text\n",
    "can be conveniently placed inside\n",
    "triple-quoted strings (newlines\n",
    "are preserved)\"\"\"\n",
    "```"
   ]
  },
  {
   "cell_type": "markdown",
   "metadata": {
    "slideshow": {
     "slide_type": "subslide"
    }
   },
   "source": [
    "### Common string operations"
   ]
  },
  {
   "cell_type": "code",
   "execution_count": 26,
   "metadata": {
    "collapsed": true,
    "slideshow": {
     "slide_type": "fragment"
    }
   },
   "outputs": [
    {
     "data": {
      "text/plain": [
       "'Fish, Cow, Crocodile'"
      ]
     },
     "execution_count": 26,
     "metadata": {},
     "output_type": "execute_result"
    }
   ],
   "source": [
    "s = 'Berlin: 18.4 C at 4 pm'  # create a string\n",
    "s[0]                          # extract first character\n",
    "s[8:17]                       # extract substring \"18.4 C at\"\n",
    "'Berlin' in s                 # test if substring is in s\n",
    "s.split(':')                  # split into substrings, returns list of strings\n",
    "s.replace('18.4', '20')  # replace all occurances\n",
    "s.strip()                     # remove leading/trailing blanks\n",
    "list_of_words = [\"Fish\", \"Cow\", \"Crocodile\"]\n",
    "', '.join(list_of_words)      # join the string elements of the list by a comma."
   ]
  },
  {
   "cell_type": "markdown",
   "metadata": {
    "slideshow": {
     "slide_type": "subslide"
    }
   },
   "source": [
    "### Lists"
   ]
  },
  {
   "cell_type": "code",
   "execution_count": 5,
   "metadata": {
    "collapsed": true
   },
   "outputs": [],
   "source": [
    "emptylist  = []  # An empty list\n",
    "mylist  = ['a string', 2.5, 6, 'another string']  # A non-empty list\n",
    "listlist  = [[1,2], [3, None, 4]]   # List of lists"
   ]
  },
  {
   "cell_type": "markdown",
   "metadata": {},
   "source": [
    "### Lists can be dynamically changed (they are *mutable*)"
   ]
  },
  {
   "cell_type": "code",
   "execution_count": 6,
   "metadata": {
    "collapsed": true,
    "slideshow": {
     "slide_type": "fragment"
    }
   },
   "outputs": [],
   "source": [
    "a = mylist[0]  # Get first list item\n",
    "mylist[1]  = -10      # Update the second list item\n",
    "mylist.append('a third string')   # Append string to the end of the list"
   ]
  },
  {
   "cell_type": "markdown",
   "metadata": {
    "slideshow": {
     "slide_type": "subslide"
    }
   },
   "source": [
    "### Often used list functions\n",
    "\n",
    "** Indexing **\n",
    "\n",
    "| Function               |   Action                                       |      \n",
    "|----------------------------|-------------------------------------------------|                \n",
    "| a[-1]                    | get last list element                           |\n",
    "| b[3][0]               | nested list indexing                            |\n",
    "| a[1:3]                   | return sublist (here: index 1, 2)  |\n",
    "| a.index(None)        | find index corresponding to an element's value  |    \n",
    "\n",
    "** Mutation **\n",
    "\n",
    "| Function               |   Action                                       |      \n",
    "|----------------------------|-------------------------------------------------|\n",
    "| a.append(elem)           | add element to the end                    |\n",
    "| a.insert(i, e)           | insert element before index i             |\n",
    "| a + [1,3]                | add two lists (returns new list) |\n",
    "| del a[3]                 | delete an element (index 3)                   |\n",
    "| a.remove(e)              | remove an element with value e                |\n",
    "\n",
    "** Others **\n",
    "\n",
    "| Function               |   Action                                       |       \n",
    "|----------------------------|-------------------------------------------------|\n",
    "| if 'value' in a:        | test if list contains value |          \n",
    "| len(a)                   | number of list elements                 |\n",
    "| min(a), max(a)     | the smallest/largest element in the list             |                                                                                                                                   "
   ]
  },
  {
   "cell_type": "markdown",
   "metadata": {
    "collapsed": false,
    "slideshow": {
     "slide_type": "fragment"
    }
   },
   "source": [
    "### Tuples\n",
    "Tuple is constant lists (that is, they are *immutable*)\n",
    "```python\n",
    "mytuple = ('a string', 2.5, 6, 'another string')\n",
    "mytuple = 'a string', 2.5, 6, 'another string'  # Shorter notation\n",
    "```\n",
    "Most operations for lists also work on  tuples, except the ones that would change the tuple:\n",
    "```python\n",
    "mytuple[1] = -10  # Error, tuple cannot be changed\n",
    "newtuple = mytuple + (3, 4)\n",
    "```"
   ]
  },
  {
   "cell_type": "markdown",
   "metadata": {
    "slideshow": {
     "slide_type": "subslide"
    }
   },
   "source": [
    "## Dictionaries\n",
    "\n",
    "Dictionaries can be viewed as lists with any (immutable) variable\n",
    "as index. The elements of a dictionary (dict) are key-value pairs."
   ]
  },
  {
   "cell_type": "code",
   "execution_count": 28,
   "metadata": {
    "collapsed": false,
    "slideshow": {
     "slide_type": "fragment"
    }
   },
   "outputs": [
    {
     "data": {
      "text/plain": [
       "[-4, '99954329', 'John Doe', [1, 3, 4]]"
      ]
     },
     "execution_count": 28,
     "metadata": {},
     "output_type": "execute_result"
    }
   ],
   "source": [
    "phonebook = {'John Doe': '99954329', 'Erik Smith': '6414381'}\n",
    "\n",
    "mydict = {1: -4, 2: 3, 'somestring': [1,3,4]}\n",
    "\n",
    "# Add new key-value pair\n",
    "mydict['somekey'] = 1.0\n",
    "mydict.update(otherdict)  # add/replace key-value pairs\n",
    "\n",
    "del mydict[2]\n",
    "del mydict['somekey']\n",
    "\n",
    "# Extract list of keys and values\n",
    "list(mydict.keys())  \n",
    "list(mydict.values()) "
   ]
  },
  {
   "cell_type": "markdown",
   "metadata": {
    "slideshow": {
     "slide_type": "slide"
    }
   },
   "source": [
    "# Control structures in Python"
   ]
  },
  {
   "cell_type": "markdown",
   "metadata": {
    "slideshow": {
     "slide_type": "subslide"
    }
   },
   "source": [
    "### Conditionals/branching:\n",
    "\n",
    "```python\n",
    "if condition:\n",
    "    <block of statements>\n",
    "elif condition:\n",
    "    <block of statements>\n",
    "else:\n",
    "    <block of statements>\n",
    "```    \n",
    "\n",
    "Also here, `condition` must be a boolean expression."
   ]
  },
  {
   "cell_type": "markdown",
   "metadata": {
    "slideshow": {
     "slide_type": "fragment"
    }
   },
   "source": [
    "**Important**: Python uses indentation to determine the start/end of blocks\n",
    "(instead of e.g. brackets). It is common to indent with 4 spaces."
   ]
  },
  {
   "cell_type": "markdown",
   "metadata": {
    "slideshow": {
     "slide_type": "subslide"
    }
   },
   "source": [
    "## Loops \n",
    "\n",
    "### `while` loop\n",
    "\n",
    "```python\n",
    "while condition:\n",
    "    <block of statements>\n",
    "```\n",
    "\n",
    "Here, `condition` must be a boolean expression (or have a boolean interpretation), for example: `i < 10` or `a!=b`\n",
    "\n",
    "### `for` loop\n",
    "\n",
    "\n",
    "```python\n",
    "for element in somelist:\n",
    "    <block of statements>\n",
    "```    \n",
    "\n",
    "Here, `somelist` must be a indexable object, for example a `list`, `tuple` or a `string`."
   ]
  },
  {
   "cell_type": "markdown",
   "metadata": {
    "slideshow": {
     "slide_type": "subslide"
    }
   },
   "source": [
    "## Looping over integers with `range`"
   ]
  },
  {
   "cell_type": "code",
   "execution_count": 20,
   "metadata": {
    "collapsed": false
   },
   "outputs": [
    {
     "name": "stdout",
     "output_type": "stream",
     "text": [
      "0\n",
      "1\n",
      "2\n"
     ]
    }
   ],
   "source": [
    "for i in range(3):\n",
    "    print(i)"
   ]
  },
  {
   "cell_type": "markdown",
   "metadata": {
    "slideshow": {
     "slide_type": "fragment"
    }
   },
   "source": [
    "**Technical remark:** `range` generates a *Python iterator* over integers (instead of creating a list of integeres) to save memory "
   ]
  },
  {
   "cell_type": "markdown",
   "metadata": {
    "slideshow": {
     "slide_type": "subslide"
    }
   },
   "source": [
    "## Example: printing list values together with their index"
   ]
  },
  {
   "cell_type": "code",
   "execution_count": 21,
   "metadata": {
    "collapsed": false,
    "slideshow": {
     "slide_type": "-"
    }
   },
   "outputs": [
    {
     "name": "stdout",
     "output_type": "stream",
     "text": [
      "0 Hello\n",
      "1 Sam\n",
      "2 !\n"
     ]
    }
   ],
   "source": [
    "mylist = [\"Hello\", \"Sam\", \"!\"]\n",
    "for i in range(3):\n",
    "    print(i, end=\" \") \n",
    "    print(mylist[i])"
   ]
  },
  {
   "cell_type": "markdown",
   "metadata": {
    "slideshow": {
     "slide_type": "fragment"
    }
   },
   "source": [
    "**Better**: use `enumerate`:"
   ]
  },
  {
   "cell_type": "code",
   "execution_count": 32,
   "metadata": {
    "collapsed": false,
    "slideshow": {
     "slide_type": "-"
    }
   },
   "outputs": [
    {
     "name": "stdout",
     "output_type": "stream",
     "text": [
      "0 Hello\n",
      "1 Sam\n",
      "2 !\n"
     ]
    }
   ],
   "source": [
    "mylist = [\"Hello\", \"Sam\", \"!\"]\n",
    "for index, element in enumerate(mylist):\n",
    "    print(index, element)"
   ]
  },
  {
   "cell_type": "markdown",
   "metadata": {
    "slideshow": {
     "slide_type": "subslide"
    }
   },
   "source": [
    "## Examples on loops and branching"
   ]
  },
  {
   "cell_type": "code",
   "execution_count": 25,
   "metadata": {
    "collapsed": false,
    "slideshow": {
     "slide_type": "fragment"
    }
   },
   "outputs": [
    {
     "name": "stdout",
     "output_type": "stream",
     "text": [
      "new x: 1.0\n",
      "new x: 2.0\n",
      "new x: 4.0\n",
      "new x: 7.0\n",
      "loop is over\n"
     ]
    }
   ],
   "source": [
    "x = 0\n",
    "dx = 1.0\n",
    "while x < 6:\n",
    "    if x < 2:\n",
    "        x += dx\n",
    "    elif 2 <= x < 4:\n",
    "        x += 2*dx\n",
    "    else:\n",
    "        x += 3*dx\n",
    "    print('new x:', x)\n",
    "print('loop is over')"
   ]
  },
  {
   "cell_type": "markdown",
   "metadata": {
    "slideshow": {
     "slide_type": "skip"
    }
   },
   "source": [
    "## `break` and `continue`"
   ]
  },
  {
   "cell_type": "markdown",
   "metadata": {
    "slideshow": {
     "slide_type": "skip"
    }
   },
   "source": [
    "`break` terminates the current loop and resumes execution at the next statement."
   ]
  },
  {
   "cell_type": "code",
   "execution_count": 31,
   "metadata": {
    "collapsed": false,
    "slideshow": {
     "slide_type": "skip"
    }
   },
   "outputs": [
    {
     "name": "stdout",
     "output_type": "stream",
     "text": [
      "Current Letter : H\n",
      "Current Letter : e\n"
     ]
    }
   ],
   "source": [
    "for character in 'Hello':     \n",
    "   if character == 'l':\n",
    "      break\n",
    "   print('Current Letter :', character)"
   ]
  },
  {
   "cell_type": "markdown",
   "metadata": {
    "slideshow": {
     "slide_type": "skip"
    }
   },
   "source": [
    "`continue` returns the control to the beginning of the while loop."
   ]
  },
  {
   "cell_type": "code",
   "execution_count": 32,
   "metadata": {
    "collapsed": false,
    "scrolled": true,
    "slideshow": {
     "slide_type": "skip"
    }
   },
   "outputs": [
    {
     "name": "stdout",
     "output_type": "stream",
     "text": [
      "Current Letter : H\n",
      "Current Letter : e\n",
      "Current Letter : o\n"
     ]
    }
   ],
   "source": [
    "for character in 'Hello':     \n",
    "   if character == 'l':\n",
    "      continue\n",
    "   print('Current Letter :', character)"
   ]
  },
  {
   "cell_type": "markdown",
   "metadata": {
    "slideshow": {
     "slide_type": "subslide"
    }
   },
   "source": [
    "## List comprehensions enable compact loop syntax"
   ]
  },
  {
   "cell_type": "markdown",
   "metadata": {
    "slideshow": {
     "slide_type": "-"
    }
   },
   "source": [
    "Classic Java/C-style code, expressed in Python:"
   ]
  },
  {
   "cell_type": "code",
   "execution_count": 35,
   "metadata": {
    "collapsed": false,
    "slideshow": {
     "slide_type": "-"
    }
   },
   "outputs": [],
   "source": [
    "a = [0, 5, -3, 6]\n",
    "b = [0]*len(a)               # allocate b list\n",
    "\n",
    "for i in range(len(a)):      # iterate over indices\n",
    "    b[i] = a[i]**2"
   ]
  },
  {
   "cell_type": "markdown",
   "metadata": {
    "slideshow": {
     "slide_type": "fragment"
    }
   },
   "source": [
    "Pythonic version #1:"
   ]
  },
  {
   "cell_type": "code",
   "execution_count": 36,
   "metadata": {
    "collapsed": false,
    "slideshow": {
     "slide_type": "-"
    }
   },
   "outputs": [],
   "source": [
    "b = []\n",
    "for element in a:\n",
    "    b.append(element**2)"
   ]
  },
  {
   "cell_type": "markdown",
   "metadata": {
    "slideshow": {
     "slide_type": "fragment"
    }
   },
   "source": [
    "Pythonic version #2:"
   ]
  },
  {
   "cell_type": "code",
   "execution_count": 37,
   "metadata": {
    "collapsed": false,
    "slideshow": {
     "slide_type": "-"
    }
   },
   "outputs": [],
   "source": [
    "b = [element**2 for element in a]   # list comprehension"
   ]
  },
  {
   "cell_type": "markdown",
   "metadata": {
    "slideshow": {
     "slide_type": "slide"
    }
   },
   "source": [
    "# Functions and arguments"
   ]
  },
  {
   "cell_type": "markdown",
   "metadata": {
    "slideshow": {
     "slide_type": "subslide"
    }
   },
   "source": [
    "## Example of an user-defined functions"
   ]
  },
  {
   "cell_type": "code",
   "execution_count": 43,
   "metadata": {
    "collapsed": false,
    "slideshow": {
     "slide_type": "-"
    }
   },
   "outputs": [
    {
     "data": {
      "text/plain": [
       "('Hei', 'sann')"
      ]
     },
     "execution_count": 43,
     "metadata": {},
     "output_type": "execute_result"
    }
   ],
   "source": [
    "def split(string, char):\n",
    "    \"\"\" Split the string at the given character \"\"\"\n",
    "    i = string.find(char)\n",
    "    partA = string[:i+1]\n",
    "    partB = string[i+1:]\n",
    "    return partA, partB\n",
    "\n",
    "message = 'Heisann'\n",
    "split(message, 'i') # Call our function"
   ]
  },
  {
   "cell_type": "markdown",
   "metadata": {
    "slideshow": {
     "slide_type": "subslide"
    }
   },
   "source": [
    "## Syntax"
   ]
  },
  {
   "cell_type": "markdown",
   "metadata": {
    "slideshow": {
     "slide_type": "-"
    }
   },
   "source": [
    "### Defining Functions\n",
    "```python\n",
    "def functionname(arg1, arg2=\"default\", arg3=1.0, ...):\n",
    "   \"Docstring\"\n",
    "   <block of statements>\n",
    "   return [expression]\n",
    "```"
   ]
  },
  {
   "cell_type": "markdown",
   "metadata": {
    "slideshow": {
     "slide_type": "fragment"
    }
   },
   "source": [
    "### Calling functions\n",
    "\n",
    "```python\n",
    "functionname(1.0, \"x\", \"i\")\n",
    "```\n",
    "is the same as\n",
    "```python\n",
    "functionname(arg1=1.0, arg2=\"x\", arg2=\"i\")\n",
    "```\n",
    "\n",
    "Default arguments can be left out:\n",
    "```python\n",
    "functionname(1.0, args3=\"i\") \n",
    "```\n",
    "\n",
    "Positional arguments must appear before keyword arguments:\n",
    "\n",
    "```python\n",
    "functionname(arg3='i', \"x\") # invalid\n",
    "```"
   ]
  },
  {
   "cell_type": "markdown",
   "metadata": {
    "slideshow": {
     "slide_type": "subslide"
    }
   },
   "source": [
    "# Multiple return values"
   ]
  },
  {
   "cell_type": "markdown",
   "metadata": {},
   "source": [
    "Often it is usefull to return multiple values in a function. This is achieved by packing the return values into a tuple:"
   ]
  },
  {
   "cell_type": "code",
   "execution_count": 38,
   "metadata": {
    "collapsed": true
   },
   "outputs": [],
   "source": [
    "def coordinates():\n",
    "    x = 1\n",
    "    y = 2\n",
    "    return x, y  # Note: Short notation for tuple([x, y])"
   ]
  },
  {
   "cell_type": "code",
   "execution_count": 39,
   "metadata": {
    "collapsed": false,
    "slideshow": {
     "slide_type": "fragment"
    }
   },
   "outputs": [],
   "source": [
    "myx, myy = coordinates()   # Note: Python automatically \"unpacks\" the tuple entries"
   ]
  },
  {
   "cell_type": "markdown",
   "metadata": {
    "slideshow": {
     "slide_type": "slide"
    }
   },
   "source": [
    "# In-/Ouput in Python"
   ]
  },
  {
   "cell_type": "markdown",
   "metadata": {
    "slideshow": {
     "slide_type": "subslide"
    }
   },
   "source": [
    "## Basic file reading (1)"
   ]
  },
  {
   "cell_type": "markdown",
   "metadata": {},
   "source": [
    "Open the file:\n",
    "```python\n",
    "infile = open(filename, 'r')\n",
    "```"
   ]
  },
  {
   "cell_type": "markdown",
   "metadata": {
    "slideshow": {
     "slide_type": "fragment"
    }
   },
   "source": [
    "Read the file:\n",
    "```python\n",
    "for line in infile:\n",
    "    # process line as string\n",
    "```"
   ]
  },
  {
   "cell_type": "markdown",
   "metadata": {
    "slideshow": {
     "slide_type": "fragment"
    }
   },
   "source": [
    "or\n",
    "```python\n",
    "lines = infile.readlines()\n",
    "for line in lines:\n",
    "    # process line as string\n",
    "```"
   ]
  },
  {
   "cell_type": "markdown",
   "metadata": {
    "slideshow": {
     "slide_type": "subslide"
    }
   },
   "source": [
    "## Basic file reading (2)"
   ]
  },
  {
   "cell_type": "markdown",
   "metadata": {},
   "source": [
    "or\n",
    "```python\n",
    "for i in range(len(lines)):\n",
    "    # process lines[i] and perhaps next line lines[i+1]\n",
    "```"
   ]
  },
  {
   "cell_type": "markdown",
   "metadata": {
    "slideshow": {
     "slide_type": "fragment"
    }
   },
   "source": [
    "or\n",
    "```python\n",
    "fstr = infile.read()  # fstr contains the entire file\n",
    "fstr = fstr.replace('some', 'another')\n",
    "for piece in fstr.split(';'):\n",
    "    # process piece (separated by ;)\n",
    "```"
   ]
  },
  {
   "cell_type": "markdown",
   "metadata": {
    "collapsed": false,
    "slideshow": {
     "slide_type": "fragment"
    }
   },
   "source": [
    "After usage, always close the file with \n",
    "```python\n",
    "infile.close()\n",
    "```"
   ]
  },
  {
   "cell_type": "markdown",
   "metadata": {
    "slideshow": {
     "slide_type": "subslide"
    }
   },
   "source": [
    "## Basic file writing"
   ]
  },
  {
   "cell_type": "markdown",
   "metadata": {},
   "source": [
    "Open the file for writing\n",
    "```python\n",
    "outfile = open(filename, 'w')   # new file or overwrite\n",
    "# or\n",
    "outfile = open(filename, 'a')   # append to existing file\n",
    "```"
   ]
  },
  {
   "cell_type": "markdown",
   "metadata": {
    "collapsed": false,
    "slideshow": {
     "slide_type": "fragment"
    }
   },
   "source": [
    "Write to the file with\n",
    "```python\n",
    "outfile.write(\"\"\"Some long string\n",
    "\"\"\")\n",
    "```\n",
    "or\n",
    "```python\n",
    "outfile.writelines(list_of_lines)\n",
    "```\n",
    "When finished with writing, always close the file with:\n",
    "```python\n",
    "outfile.close()\n",
    "```"
   ]
  },
  {
   "cell_type": "markdown",
   "metadata": {},
   "source": [
    "## Python challenges\n",
    "\n",
    "1. Write a Python function that takes a list and returns the product of all the items in that list. Write similar functions for tuples and dictionaries. Can you write one generic function that works for lists/tuples/dictionaries?\n",
    "\n",
    "   Example usage:\n",
    "   ```python\n",
    "   a = mult([4, 5, 2])  # a should be 40\n",
    "   ```\n",
    "\n",
    "2. Write a Python function that takes a list and returns a new list that contains the unique elements of the first list.\n",
    "\n",
    "   Example usage:\n",
    "   ```python\n",
    "   a = unique([None, 5, \"s\", 5, 8, None])  # a should be [None, 5, \"s\", 8]\n",
    "   ```\n",
    "\n",
    "3. Write a Python program which creates some statistics of a file. When called with a file name as command line argument, print the single line a b c fn where a is the number of lines in the file, b the number of words, c the number of characters, and fn the filename.\n",
    "\n",
    "    Example usage:\n",
    "```bash\n",
    "  >> python wc.py filename.py\n",
    "  10 34 264 filename.py\n",
    "```\n"
   ]
  }
 ],
 "metadata": {
  "celltoolbar": "Slideshow",
  "kernelspec": {
   "display_name": "Python 3",
   "language": "python",
   "name": "python3"
  },
  "language_info": {
   "codemirror_mode": {
    "name": "ipython",
    "version": 3
   },
   "file_extension": ".py",
   "mimetype": "text/x-python",
   "name": "python",
   "nbconvert_exporter": "python",
   "pygments_lexer": "ipython3",
   "version": "3.5.2"
  },
  "livereveal": {
   "scroll": true,
   "start_slideshow_at": "selected",
   "theme": "serif"
  }
 },
 "nbformat": 4,
 "nbformat_minor": 0
}
