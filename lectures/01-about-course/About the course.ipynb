{
 "cells": [
  {
   "cell_type": "markdown",
   "metadata": {
    "slideshow": {
     "slide_type": "slide"
    }
   },
   "source": [
    "# About INF3331/INF4331"
   ]
  },
  {
   "cell_type": "markdown",
   "metadata": {
    "slideshow": {
     "slide_type": "subslide"
    }
   },
   "source": [
    "Authors:\n",
    "\n",
    "* **Hans Petter Langtangen**, Simula Research Laboratory\n",
    "* **Joakim Sundnes**, Simula Research Laboratory\n",
    "* **Ola Skavhaug**, Expert Analytics\n",
    "* **Jonathan Feinberg**, Expert Analytics\n",
    "* **Jonathan Feinberg**, Expert Analytics\n",
    "* **Karl-Erik Holter**, Expert Analytics\n",
    "* **Vidar Fauske**, Simula Research Laboratory \n",
    "* **Simon Funke**, Simula Research Laboratory"
   ]
  },
  {
   "cell_type": "markdown",
   "metadata": {
    "slideshow": {
     "slide_type": "slide"
    }
   },
   "source": [
    "# About this course\n",
    "\n",
    "\n",
    "## Teachers (1)\n",
    "\n",
    "  * Simon Funke (simon@simula.no)\n",
    "  * Karl-Erik Holter\n",
    "  * Guest lecturers: Benjamin Ragan-Kelley (Simula) and Jonathan Feinberg (Expert Analytics)"
   ]
  },
  {
   "cell_type": "markdown",
   "metadata": {
    "slideshow": {
     "slide_type": "subslide"
    }
   },
   "source": [
    "What we use Python for:\n",
    "  * We use Bash/Python to create efficient working (or problem solving) environments\n",
    "\n",
    "  * We also use Python to develop large-scale simulation software (which solves partial differential equations)\n",
    "\n",
    "  * We believe high-level languages such as Python constitute a promising way of making flexible and user-friendly software!\n",
    "\n",
    "  * Some of our research migrates into this course\n",
    "\n",
    "  * There are lots of opportunities for Master projects related to this course"
   ]
  },
  {
   "cell_type": "markdown",
   "metadata": {
    "slideshow": {
     "slide_type": "subslide"
    }
   },
   "source": [
    "## Teachers (2)\n",
    "\n",
    "  * Most examples are from our own research; involves some science and/or mathematics!\n",
    "\n",
    "  * Little mathematics knowledge is needed to complete the course\n",
    "\n",
    "  * Treating mathematical software as a \"black box\" without fully understanding the contents is a useful exercise\n",
    "\n",
    "  * Translating simple mathematical expressions to computer code is highly relevant for many applications"
   ]
  },
  {
   "cell_type": "markdown",
   "metadata": {
    "slideshow": {
     "slide_type": "subslide"
    }
   },
   "source": [
    "## Contents\n",
    "\n",
    "  * Scripting in general\n",
    "\n",
    "  * Basic Bash programming\n",
    "\n",
    "  * Quick Python introduction for beginners (two weeks)\n",
    "\n",
    "  * Regular expressions\n",
    "\n",
    "  * Python problem solving\n",
    "\n",
    "  * Efficient Python with vectorization and NumPy arrays\n",
    "\n",
    "  * Combining Python with C and C++\n",
    "\n",
    "  * Creating web interfaces to Python scripts\n",
    "\n",
    "  * Programming tools: version control systems, distributing Python modules, debugging and profiling, documenting code, testing and verification of software"
   ]
  },
  {
   "cell_type": "markdown",
   "metadata": {
    "slideshow": {
     "slide_type": "subslide"
    }
   },
   "source": [
    "## What you will learn\n",
    "\n",
    "  * Scripting in general, but with most examples taken from scientific computing\n",
    "\n",
    "  * Jump into useful scripts and dissect the code\n",
    "\n",
    "  * Learning by doing\n",
    "\n",
    "  * Find examples, look up man pages, Web docs and textbooks on demand\n",
    "\n",
    "  * Get the overview\n",
    "\n",
    "  * Customize existing code\n",
    "\n",
    "  * Have fun and work with useful things"
   ]
  },
  {
   "cell_type": "markdown",
   "metadata": {
    "slideshow": {
     "slide_type": "subslide"
    }
   },
   "source": [
    "## Background 1: INF3331 vs INF1100\n",
    "\n",
    "  * Wide range of backgrounds with respect to Python and general programming experience\n",
    "\n",
    "  * Since INF3331 does not build on INF1100, some overlap is inevitable\n",
    "\n",
    "  * Two weeks of basic Python intro not useful for those with INF1100 background\n",
    "\n",
    "  * INF3331 has more focus on scripting and practical problem solving\n",
    "\n",
    "  * We welcome any feedback on how we can make INF3331 interesting and challenging for students with different backgrounds"
   ]
  },
  {
   "cell_type": "markdown",
   "metadata": {
    "slideshow": {
     "slide_type": "subslide"
    }
   },
   "source": [
    "## Background 2: INF3331 vs INF4331\n",
    "  * Same lectures and group sessions.\n",
    "\n",
    "  * INF4331 has more assignments compared to INF3331.\n",
    "\n",
    "  * More points are needed to pass INF4331."
   ]
  },
  {
   "cell_type": "markdown",
   "metadata": {
    "slideshow": {
     "slide_type": "subslide"
    }
   },
   "source": [
    "## Background 3: mathematics\n",
    "\n",
    "  * Very little mathematics is needed to complete the course.\n",
    "  * Basic knowledge will make life easier:\n",
    "\n",
    "      * General functions, such as $f(x) = ax +b$, and how they are turned into computer code\n",
    "      * Standard mathematical functions such as $\\sin(x),\\cos(x)$ and exponential functions\n",
    "      * Simple matrix-vector operations\n",
    "\n",
    "\n",
    "  * A learn-on-demand strategy should work fine, as long as you do not panic at the sight of a mathematical expression.\n",
    "  * Matlab is commonly cited as code examples, since this is a *de facto* standard for scientific computing."
   ]
  },
  {
   "cell_type": "markdown",
   "metadata": {
    "slideshow": {
     "slide_type": "subslide"
    }
   },
   "source": [
    "## Teaching material (1)\n",
    "\n",
    "* Lecture slides and videos here: (https://uio-inf3331.github.io/). Will be updated as we go along.\n",
    "* Assignments on the course webpage: ([here](http://www.uio.no/studier/emner/matnat/ifi/INF3331/h16/timeplan/index.html#FOR)).\n",
    "* Associated book (optional): H. P. Langtangen: Python Scripting for Computational Science, 3rd edition, Springer 2008\n",
    "\n",
    "You must find the rest: manuals, textbooks, google"
   ]
  },
  {
   "cell_type": "markdown",
   "metadata": {
    "slideshow": {
     "slide_type": "subslide"
    }
   },
   "source": [
    "## Teaching material (2)\n",
    "\n",
    "Good Python literature:\n",
    "* Harms and McDonald: The Quick Python Book, 2nd edition, 2010\n",
    "\n",
    "* Beazley: Python Essential Reference, 4th edition, 2009\n",
    "\n",
    "* Mark Pilgrim: Dive into Python 3, 2004\n",
    "\n",
    "<!-- dom:FIGURE:[../figs/beazley_grayson_harms.jpg] -->\n",
    "<!-- begin figure -->\n",
    "\n",
    "<p></p>\n",
    "<img src=\"../figs/beazley_grayson_harms.jpg\" >\n",
    "\n",
    "<!-- end figure -->"
   ]
  },
  {
   "cell_type": "markdown",
   "metadata": {
    "slideshow": {
     "slide_type": "subslide"
    }
   },
   "source": [
    "## Lectures and groups (1)\n",
    "\n",
    "  * Lectures Wednesday 10:15 - 12:00.\n",
    "\n",
    "  * Lecture slides available on the course website before each lecture.\n",
    "\n",
    "  * Assignments will be available after the lecture.\n",
    "\n",
    "  * Weekly groups sessions (see course website).\n",
    "\n",
    "  * Groups and exercises are the core of the course: problem solving is in focus.\n",
    "\n",
    "  * In addition, we use the Piazza forum to ask and answer questions and discuss problems."
   ]
  },
  {
   "cell_type": "markdown",
   "metadata": {
    "slideshow": {
     "slide_type": "subslide"
    }
   },
   "source": [
    "## Lectures and groups (2)\n",
    "\n",
    "  * August 24th: Introduction; scripting vs regular programming, version control systems\n",
    "\n",
    "  * August 31th: Basic shell scripting\n",
    "\n",
    "  * September 7th & 14th: Python introduction (not needed if you have INF1100)\n",
    "\n",
    "  * September 12th: Regular expressions\n",
    "\n",
    "  * ..."
   ]
  },
  {
   "cell_type": "markdown",
   "metadata": {
    "slideshow": {
     "slide_type": "subslide"
    }
   },
   "source": [
    "## Group classes and assignments\n",
    "\n",
    "  * Mix of short (1 week) and large (3+1 weeks) assignments.\n",
    "\n",
    "  * Deadlines are published on course website.\n",
    "\n",
    "  * Group classes will be regular group classes, where you work individually and can ask questions about the mandatory assignments.\n",
    "\n",
    "  * Group classes start this week.\n",
    "\n",
    "  * No strict requirement to show up in group classes, but useful to ask questions and discuss solutions."
   ]
  },
  {
   "cell_type": "markdown",
   "metadata": {
    "slideshow": {
     "slide_type": "subslide"
    }
   },
   "source": [
    "## Assignments and reviews\n",
    "\n",
    "  * Each student solves the assignments individually.\n",
    "\n",
    "  * Large assignments have a peer review system to correct the assignments.\n",
    "\n",
    "  * Assignments and reviews are handed in electronically on github.\n",
    "\n",
    "  * All assignments and reviews are corrected by INF3331 correctors and give points towards passing the course.\n",
    "\n",
    "  * First assignment: today."
   ]
  },
  {
   "cell_type": "markdown",
   "metadata": {
    "slideshow": {
     "slide_type": "subslide"
    }
   },
   "source": [
    "## Peer-review of large assignments\n",
    "\n",
    "  * After the assignment is handed in, you are given a \\emph{marking group} (rettegruppe) with three students in each.\n",
    "\n",
    "  * Each marking group will get the assignments from three other students.\n",
    "\n",
    "  * For each assignment you evaluate, you should write a report, which comments and evaluates the quality of the programming, and provide constructive feedback.\n",
    "\n",
    "  * When, where and how you organize the evaluation is up to you, but the intention is to do the evaluation in groups.\n",
    "\n",
    "  * Deadline for reports: one week after you have been assigned to the marking groups."
   ]
  },
  {
   "cell_type": "markdown",
   "metadata": {},
   "source": [
    "## Marking\n",
    "\n",
    "  * **No exam**!\n",
    "  * The assignments give points towards passing the course.\n",
    "  * The peer-review report  also gives points.\n",
    "  * Course passed with $\\ge 80%$ of total points at the end of the semester."
   ]
  },
  {
   "cell_type": "markdown",
   "metadata": {},
   "source": [
    "## We will use Piazza as a knowledge platform\n",
    "\n",
    "  * Allows students to ask and answer questions.\n",
    "\n",
    "  * Great discussion platform.\n",
    "\n",
    "  * Lecturers/teaching assistants will be active on the platform to help.\n",
    "\n",
    "  * Sign up: [http://piazza.com/uio.no/fall2017/inf3331inf4331](http://piazza.com/uio.no/fall2017/inf3331inf4331)"
   ]
  },
  {
   "cell_type": "markdown",
   "metadata": {
    "slideshow": {
     "slide_type": "subslide"
    }
   },
   "source": [
    "## Using github\n",
    "\n",
    "  * Everyone needs to obtain an account on github (its free).\n",
    "\n",
    "  * We will establish a *classroom* on github. For this we need from everyone:\n",
    "\n",
    "      * Full name\n",
    "\n",
    "      * Email\n",
    "\n",
    "      * UiO username\n",
    "\n",
    "      * Github user name\n",
    "\n",
    "    For this, please fill out the web form on he course webpage.\n",
    "\n",
    "  * We will create a git repository on github where you can upload the assignemnt solutions."
   ]
  },
  {
   "cell_type": "markdown",
   "metadata": {},
   "source": [
    "## Things to do in the first week\n",
    "\n",
    "  1. Create a github account.\n",
    "  2. Register course attendence on https://goo.gl/forms/Y6TjRYD81Moj4jbN2\n",
    "  \n",
    "  1. Sign up to INF3331/INF4331 course on Piazza: http://piazza.com/uio.no/fall2017/inf3331inf4331\n",
    "  \n",
    "  3. (Optional) Do the interactive git tutorial on <https://try.github.io>\n",
    "  4. Solve the first assignment: http://www.uio.no/studier/emner/matnat/ifi/INF3331/h16/oppgaver.html."
   ]
  },
  {
   "cell_type": "markdown",
   "metadata": {
    "slideshow": {
     "slide_type": "subslide"
    }
   },
   "source": [
    "## Why has the course been organized like this?\n",
    "\n",
    "  * \"Problem solving\" is best learnt by solving a large number of problems.\n",
    "  * With limited resources, this is the only way we can maintain the large number of mandatory assignments.\n",
    "  * You learn from reading and inspecting each other's code.\n",
    "  * Goal: more flexible implementation, but which still allows a high volume of programming exercises.\n"
   ]
  },
  {
   "cell_type": "markdown",
   "metadata": {
    "slideshow": {
     "slide_type": "subslide"
    }
   },
   "source": [
    "## Software for this course\n",
    "\n",
    "  * Bash runs on Windows (via cygwin), Mac, Linux.\n",
    "\n",
    "  * Python runs on Windows (e.g. Enthought), Mac, Linux.\n",
    "\n",
    "  * C (GCC) runs on Windows, Mac, Linux.\n",
    "\n",
    "  * I recommend Ubuntu Linux, either running natively or in a virtual machine.\n",
    "\n",
    "  * I have limited experience with Python/Bash/C on Windows.\n",
    "\n",
    "  * Follow the instructions for [INF1100](http://heim.ifi.uio.no/~inf1100/installering.html) (but install Python 3)"
   ]
  },
  {
   "cell_type": "markdown",
   "metadata": {
    "slideshow": {
     "slide_type": "subslide"
    }
   },
   "source": [
    "## Python 2 vs Python 3\n",
    "\n",
    "  * Python 3.5 is the newest stable version.\n",
    "\n",
    "  * Most libraries have now Python 3 support.\n",
    "\n",
    "  * Python 2.7 is still around, and the default on Mac OS X and some Linux distributions.\n",
    "\n",
    "  * This course:\n",
    "\n",
    "      * 2017 - Python 3 (3.5/3.6)\n",
    "      * 2016 - Python 3 (3.4/3.5)\n",
    "      * 2015 - Mostly 2.7, some 3.3/3.4\n",
    "      * 2014 - Mostly 2.7, some 3.3/3.4\n",
    "      * 2013 - Mix of Python 2.7 and 3.3\n",
    "\n",
    "\n",
    "  * Small difference for the scope of this course, but watch out for widely used functions such as `print`, `open`, `input`, `range`, and integer division."
   ]
  },
  {
   "cell_type": "markdown",
   "metadata": {
    "slideshow": {
     "slide_type": "subslide"
    }
   },
   "source": [
    "## Final words\n",
    "\n",
    "* For more information, see the course web page.\n",
    "\n",
    "* Use Piazza to ask, and answer questions.\n",
    "\n",
    "* For feedback email me: `simon@simula.no`"
   ]
  },
  {
   "cell_type": "markdown",
   "metadata": {
    "slideshow": {
     "slide_type": "subslide"
    }
   },
   "source": [
    "# Version control systems"
   ]
  },
  {
   "cell_type": "markdown",
   "metadata": {
    "slideshow": {
     "slide_type": "subslide"
    }
   },
   "source": [
    "## Version control systems\n",
    "What are version control systems good for?\n",
    "\n",
    "  * Manage changes of files such as scripts, source code, documents, ....\n",
    "\n",
    "  * Can retrieve old versions of files.\n",
    "\n",
    "  * Can print history of incremental changes.\n",
    "\n",
    "  * Allows collaborative programming.\n",
    "\n",
    "  * Can serve as a backup tool.\n",
    "\n",
    "Core idea:\n",
    "  * A version controlled system (typically) contains one official repository.\n",
    "\n",
    "  * Programmers work on *copies* of repository files and upload the changes to the official repository.\n",
    "\n",
    "  * Non-conflicting modifications by different team members are merged automatically.\n",
    "\n",
    "  * Conflicting modifications are detected and must be resolved manually."
   ]
  },
  {
   "cell_type": "markdown",
   "metadata": {
    "slideshow": {
     "slide_type": "subslide"
    }
   },
   "source": [
    "## The git version control system\n",
    "\n",
    "  * git: a modern version control system, similar to mercurial, bazaar, svn, cvs etc.\n",
    "\n",
    "  * Developed by Linus Torvalds to improve the development of the Linux kernel and now one of the most succesfull version control system.\n",
    "\n",
    "  * Git is complex and powerful - start with the basics and learn as you go.\n",
    "\n",
    "  * There exist a good ecosystem for storing git repositories online (e.g. github and bitbucket).\n",
    "\n",
    "  * Official git webpage <http://git-scm.com>"
   ]
  },
  {
   "cell_type": "markdown",
   "metadata": {
    "slideshow": {
     "slide_type": "subslide"
    }
   },
   "source": [
    "## Creating your first git repository\n",
    "A git repository is a folder in which files can be tracked by git.\n",
    "A git repository is created with:"
   ]
  },
  {
   "cell_type": "markdown",
   "metadata": {},
   "source": [
    "        $ cd src\n",
    "        $ git init .  # The src folder is now also a git repository\n"
   ]
  },
  {
   "cell_type": "markdown",
   "metadata": {},
   "source": [
    "Files need to be added to the repository in order to track their changes:"
   ]
  },
  {
   "cell_type": "markdown",
   "metadata": {},
   "source": [
    "        # create myfile.py and some text files\n",
    "        $ git add myfile.py *.txt\n"
   ]
  },
  {
   "cell_type": "markdown",
   "metadata": {},
   "source": [
    "Commit all tracked files into a new version:"
   ]
  },
  {
   "cell_type": "markdown",
   "metadata": {},
   "source": [
    "        $ git commit -a -m 'This is my first commit'\n"
   ]
  },
  {
   "cell_type": "markdown",
   "metadata": {},
   "source": [
    "Make some changes and create a new commit."
   ]
  },
  {
   "cell_type": "markdown",
   "metadata": {},
   "source": [
    "        # edit myfile.py\n",
    "        $ git status # list files that have been changed since last commit\n",
    "        $ git diff   # show the detailed changes since the last commit\n",
    "        $ git commit -a -m 'Explain what I changed'\n"
   ]
  },
  {
   "cell_type": "markdown",
   "metadata": {
    "slideshow": {
     "slide_type": "subslide"
    }
   },
   "source": [
    "## Reading history and going backwards in time\n",
    "\n",
    "View history with commit messages with:"
   ]
  },
  {
   "cell_type": "markdown",
   "metadata": {},
   "source": [
    "        $ git log\n",
    "        $ git log --graph --oneline --all --decorate\n"
   ]
  },
  {
   "cell_type": "markdown",
   "metadata": {},
   "source": [
    "<!-- dom:FIGURE:[../figs/git.png, height=200 frac=0.5] -->\n",
    "<!-- begin figure -->\n",
    "\n",
    "<p></p>\n",
    "<img src=\"../figs/git.png\" height=200>\n",
    "\n",
    "<!-- end figure -->\n",
    "\n",
    "Each version has a unique hash key. This hash can be used to obtain an older version of a file:"
   ]
  },
  {
   "cell_type": "markdown",
   "metadata": {},
   "source": [
    "        $ git checkout 664250addc1a23c9e8db2c53e203ea2ef9c7c9fc myfile.py\n"
   ]
  },
  {
   "cell_type": "markdown",
   "metadata": {},
   "source": [
    "Or to go back to the latest version of a file:"
   ]
  },
  {
   "cell_type": "markdown",
   "metadata": {},
   "source": [
    "        rm myfile.py            # \"accidentaly\" remove myfile.py\n",
    "        git checkout myfile.py  # restore latest version\n"
   ]
  },
  {
   "cell_type": "markdown",
   "metadata": {
    "slideshow": {
     "slide_type": "subslide"
    }
   },
   "source": [
    "## Remote repositories\n",
    "\n",
    "We can work on git repositories that live on a remote location (for collaboration and backup).\n",
    "\n",
    "Clone a remote repository to a local repository:"
   ]
  },
  {
   "cell_type": "markdown",
   "metadata": {},
   "source": [
    "        git clone git@github.com:UiO-INF3331/INF3331-simonwf.git\n",
    "        cd INF3331-simonwf\n"
   ]
  },
  {
   "cell_type": "markdown",
   "metadata": {},
   "source": [
    "Create a new commit and push it to the remote repository."
   ]
  },
  {
   "cell_type": "markdown",
   "metadata": {},
   "source": [
    "        (edit files)\n",
    "        git commit -a -m 'Explain what I changed'\n",
    "        git push origin master   # Requires write permission\n",
    "                                 # on the remote repository\n"
   ]
  },
  {
   "cell_type": "markdown",
   "metadata": {},
   "source": [
    "Download changes from remote repository:"
   ]
  },
  {
   "cell_type": "markdown",
   "metadata": {},
   "source": [
    "        git pull # This might result merge conflicts\n",
    "                 # which need to be resolved manually (see exercise).\n"
   ]
  },
  {
   "cell_type": "markdown",
   "metadata": {
    "slideshow": {
     "slide_type": "subslide"
    }
   },
   "source": [
    "## Most important git commands\n",
    "\n",
    "  * `git clone URL`: clone a (remote) repository\n",
    "\n",
    "  * `git init`: create a new (local) repository\n",
    "\n",
    "  * `git add`: add a file\n",
    "\n",
    "  * `git rm`: remove a file\n",
    "\n",
    "  * `git mv`: move/rename a file\n",
    "\n",
    "  * `git status`: View status of commited/uncommited files\n",
    "\n",
    "  * `git commit -a`: commit all changed files\n",
    "\n",
    "  * `git commit FILENAME`: commit a specific file\n",
    "\n",
    "  * `git pull`: update file tree from (remote) repository\n",
    "\n",
    "  * `git push`: push changes to central repository\n",
    "\n",
    "For more information about the commands use `git help COMMAND`"
   ]
  }
 ],
 "metadata": {
  "celltoolbar": "Slideshow",
  "kernelspec": {
   "display_name": "Python 3",
   "language": "python",
   "name": "python3"
  },
  "language_info": {
   "codemirror_mode": {
    "name": "ipython",
    "version": 3
   },
   "file_extension": ".py",
   "mimetype": "text/x-python",
   "name": "python",
   "nbconvert_exporter": "python",
   "pygments_lexer": "ipython3",
   "version": "3.6.1"
  }
 },
 "nbformat": 4,
 "nbformat_minor": 1
}
