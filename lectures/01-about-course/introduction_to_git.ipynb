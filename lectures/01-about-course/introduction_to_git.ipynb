{
 "cells": [
  {
   "cell_type": "markdown",
   "metadata": {},
   "source": [
    "# The git version control system\n",
    "\n",
    "## What is git?\n",
    "* A modern, open-source version control system.\n",
    "\n",
    "* Developed by Linus Torvalds for Linux.\n",
    "\n",
    "* The most widely used version control system.\n",
    "\n",
    "* Installation instructions [git-scm.com](https://git-scm.com/)\n",
    "\n",
    "## What is git good for?\n",
    "\n",
    "  * Backups: \n",
    "      * Manage changes of files such as scripts, source code, documents, etc\n",
    "      * Store copy of git repository on an external platform e.g. github)\n",
    "  * Organization:  \n",
    "      * Retrieve old versions of files.\n",
    "      * Print history of changes.\n",
    "  * Collaboration:\n",
    "     * Useful for programming or writing in teams.\n",
    "     * Programmers work on *copies* of repository files and upload the changes to the official repository.\n",
    "     * Non-conflicting modifications by different team members are merged automatically.\n",
    "     * Conflicting modifications are detected and must be resolved manually."
   ]
  },
  {
   "cell_type": "markdown",
   "metadata": {},
   "source": [
    "# Creating your first git repository\n",
    "A git repository is a folder in which files can be tracked by git.\n",
    "\n",
    "* Files have to be explicitely marked to be versioned\n",
    "* Three step procedure:\n",
    "  1. git init \n",
    "  2. git add \n",
    "  3. git commit\n",
    "* Repeat step 2 and 3 for every new version/file\n",
    "\n",
    "\n",
    "A git repository is created with:"
   ]
  },
  {
   "cell_type": "code",
   "execution_count": 1,
   "metadata": {
    "collapsed": false
   },
   "outputs": [
    {
     "name": "stdout",
     "output_type": "stream",
     "text": [
      "Initialized empty Git repository in /dataint/simon/Documents/inf3331/resources-ntnu-17/lectures/01-about-course/src/.git/\r\n"
     ]
    }
   ],
   "source": [
    "mkdir src; cd src     # Create a project directory\n",
    "git init              # Initialise the git repository"
   ]
  },
  {
   "cell_type": "code",
   "execution_count": 27,
   "metadata": {
    "collapsed": false
   },
   "outputs": [
    {
     "name": "stdout",
     "output_type": "stream",
     "text": [
      ".  ..  .git\r\n"
     ]
    }
   ],
   "source": [
    "ls -a"
   ]
  },
  {
   "cell_type": "markdown",
   "metadata": {},
   "source": [
    "In order to track changes, the files need to be added to the repository:"
   ]
  },
  {
   "cell_type": "code",
   "execution_count": 6,
   "metadata": {
    "collapsed": false
   },
   "outputs": [
    {
     "name": "stdout",
     "output_type": "stream",
     "text": []
    }
   ],
   "source": [
    "echo \"Hallo\" > myscript.py    # Create a file\n",
    "git add myscript.py           # Add the file to the git repository"
   ]
  },
  {
   "cell_type": "markdown",
   "metadata": {},
   "source": [
    "Save tracked files as a new version:"
   ]
  },
  {
   "cell_type": "code",
   "execution_count": 7,
   "metadata": {
    "collapsed": false
   },
   "outputs": [
    {
     "name": "stdout",
     "output_type": "stream",
     "text": [
      "[master (root-commit) 019444c] This is my first commit\r\n",
      " 1 file changed, 1 insertion(+)\r\n",
      " create mode 100644 myscript.py\r\n"
     ]
    }
   ],
   "source": [
    "git commit -a -m 'This is my first commit'"
   ]
  },
  {
   "cell_type": "markdown",
   "metadata": {},
   "source": [
    "Make some changes and create a new commit."
   ]
  },
  {
   "cell_type": "code",
   "execution_count": 10,
   "metadata": {
    "collapsed": false
   },
   "outputs": [
    {
     "name": "stdout",
     "output_type": "stream",
     "text": [
      "On branch master\r\n",
      "Changes not staged for commit:\r\n",
      "  (use \"git add <file>...\" to update what will be committed)\r\n",
      "  (use \"git checkout -- <file>...\" to discard changes in working directory)\r\n",
      "\r\n",
      "\t\u001b[32mmodified:   myscript.py\u001b[m\r\n",
      "\r\n",
      "no changes added to commit (use \"git add\" and/or \"git commit -a\")\r\n"
     ]
    }
   ],
   "source": [
    "echo \" world\" >> myscript.py   # Change file\n",
    "git status                     # List files that have been changed since last commit"
   ]
  },
  {
   "cell_type": "code",
   "execution_count": 11,
   "metadata": {
    "collapsed": false
   },
   "outputs": [
    {
     "name": "stdout",
     "output_type": "stream",
     "text": [
      "\u001b[?1h\u001b=\r",
      "\u001b[1;33mdiff --git a/myscript.py b/myscript.py\u001b[m\u001b[m\r\n",
      "\u001b[1;33mindex b5fc21b..8339607 100644\u001b[m\u001b[m\r\n",
      "\u001b[1;33m--- a/myscript.py\u001b[m\u001b[m\r\n",
      "\u001b[1;33m+++ b/myscript.py\u001b[m\u001b[m\r\n",
      "\u001b[1;35m@@ -1 +1,3 @@\u001b[m\u001b[m\r\n",
      " Hallo\u001b[m\u001b[m\r\n",
      "\u001b[1;32m+\u001b[m\u001b[1;32m world\u001b[m\u001b[m\r\n",
      "\u001b[1;32m+\u001b[m\u001b[1;32m world\u001b[m\u001b[m\r\n",
      "\r",
      "\u001b[K\u001b[?1l\u001b>"
     ]
    }
   ],
   "source": [
    "git diff                      # show the detailed changes since the last commit"
   ]
  },
  {
   "cell_type": "code",
   "execution_count": 12,
   "metadata": {
    "collapsed": false
   },
   "outputs": [
    {
     "name": "stdout",
     "output_type": "stream",
     "text": [
      "[master a4464e4] Edited myscript.py\r\n",
      " 1 file changed, 2 insertions(+)\r\n"
     ]
    }
   ],
   "source": [
    "git commit -a -m 'Edited myscript.py'"
   ]
  },
  {
   "cell_type": "markdown",
   "metadata": {},
   "source": [
    "## Reading history and going backwards in time\n",
    "\n",
    "View history with commit messages with:"
   ]
  },
  {
   "cell_type": "code",
   "execution_count": 18,
   "metadata": {
    "collapsed": false
   },
   "outputs": [
    {
     "name": "stdout",
     "output_type": "stream",
     "text": [
      "\u001b[?1h\u001b=\r",
      "\u001b[33mcommit a4464e4a36bebc33d99fabeb9e2264f12fc0c4e7\u001b[m\u001b[33m (\u001b[m\u001b[1;36mHEAD\u001b[m\u001b[33m -> \u001b[m\u001b[1;32mmaster\u001b[m\u001b[33m)\u001b[m\u001b[m\r\n",
      "Author: Simon Funke <simon.funke@gmail.com>\u001b[m\r\n",
      "Date:   Tue Apr 5 20:04:57 2016 +0200\u001b[m\r\n",
      "\u001b[m\r\n",
      "    Edited myscript.py\u001b[m\r\n",
      "\u001b[m\r\n",
      "\u001b[33mcommit 019444c4c337ab749be4afd3f6df471faa47bc1b\u001b[m\u001b[m\r\n",
      "Author: Simon Funke <simon.funke@gmail.com>\u001b[m\r\n",
      "Date:   Tue Apr 5 20:00:38 2016 +0200\u001b[m\r\n",
      "\u001b[m\r\n",
      "    This is my first commit\u001b[m\r\n",
      "\r",
      "\u001b[K\u001b[?1l\u001b>"
     ]
    }
   ],
   "source": [
    "git log  --all --decorate"
   ]
  },
  {
   "cell_type": "markdown",
   "metadata": {},
   "source": [
    "Each version has a unique hash key. The hash can be used to reset the repository to an old version"
   ]
  },
  {
   "cell_type": "markdown",
   "metadata": {},
   "source": [
    "        git reset 664250addc1a23c9e8db2c53e203ea2ef9c7c9fc --hard\n"
   ]
  },
  {
   "cell_type": "markdown",
   "metadata": {},
   "source": [
    "Note: This will delete any uncommited changes. Take note of the most recent hash key to go back to the latest revision.\n",
    "\n",
    "Discard all temporary changes (start from scratch):"
   ]
  },
  {
   "cell_type": "markdown",
   "metadata": {},
   "source": [
    "        (remove myfile.py)\n",
    "        git reset HEAD --hard\n"
   ]
  },
  {
   "cell_type": "markdown",
   "metadata": {},
   "source": [
    "## Some more git commands\n",
    "\n",
    "  * `git clone URL`: clone a (remote) repository\n",
    "\n",
    "  * `git init`: create a new (local) repository\n",
    "\n",
    "  * `git status`: View status of commited/uncommited files\n",
    "\n",
    "  * `git commit -a`: check files into the repository\n",
    "\n",
    "  * `git rm`: remove a file\n",
    "\n",
    "  * `git mv`: move/rename a file\n",
    "\n",
    "  * `git pull`: update file tree from (remote) repository\n",
    "\n",
    "  * `git push`: push changes to central repository\n",
    "\n",
    "  * And much more, see `git help`\n",
    "  "
   ]
  },
  {
   "cell_type": "markdown",
   "metadata": {},
   "source": [
    "## Syncing repository with github\n",
    "\n",
    "We can work on git repositories that live on a remote location (for collaboration and backup).\n",
    "\n",
    "Clone a remote repository to a local repository:"
   ]
  },
  {
   "cell_type": "code",
   "execution_count": 19,
   "metadata": {
    "collapsed": false
   },
   "outputs": [
    {
     "name": "stdout",
     "output_type": "stream",
     "text": [
      "Cloning into 'hello-world'...\r\n",
      "remote: Counting objects: 158, done.\u001b[K\r\n",
      "Receiving objects:   0% (1/158)   \r",
      "Receiving objects:   1% (2/158)   \r",
      "Receiving objects:   2% (4/158)   \r",
      "Receiving objects:   3% (5/158)   \r",
      "Receiving objects:   4% (7/158)   \r",
      "Receiving objects:   5% (8/158)   \r",
      "Receiving objects:   6% (10/158)   \r",
      "Receiving objects:   7% (12/158)   \r",
      "Receiving objects:   8% (13/158)   \r",
      "Receiving objects:   9% (15/158)   \r",
      "Receiving objects:  10% (16/158)   \r",
      "Receiving objects:  11% (18/158)   \r",
      "Receiving objects:  12% (19/158)   \r",
      "Receiving objects:  13% (21/158)   \r",
      "Receiving objects:  14% (23/158)   \r",
      "Receiving objects:  15% (24/158)   \r",
      "Receiving objects:  16% (26/158)   \r",
      "Receiving objects:  17% (27/158)   \r",
      "Receiving objects:  18% (29/158)   \r",
      "Receiving objects:  19% (31/158)   \r",
      "Receiving objects:  20% (32/158)   \r",
      "Receiving objects:  21% (34/158)   \r",
      "Receiving objects:  22% (35/158)   \r",
      "Receiving objects:  23% (37/158)   \r",
      "Receiving objects:  24% (38/158)   \r",
      "Receiving objects:  25% (40/158)   \r",
      "Receiving objects:  26% (42/158)   \r",
      "Receiving objects:  27% (43/158)   \r",
      "Receiving objects:  28% (45/158)   \r",
      "Receiving objects:  29% (46/158)   \r",
      "remote: Total 158 (delta 0), reused 0 (delta 0), pack-reused 158\u001b[K\r\n",
      "Receiving objects:  30% (48/158)   \r",
      "Receiving objects:  31% (49/158)   \r",
      "Receiving objects:  32% (51/158)   \r",
      "Receiving objects:  33% (53/158)   \r",
      "Receiving objects:  34% (54/158)   \r",
      "Receiving objects:  35% (56/158)   \r",
      "Receiving objects:  36% (57/158)   \r",
      "Receiving objects:  37% (59/158)   \r",
      "Receiving objects:  38% (61/158)   \r",
      "Receiving objects:  39% (62/158)   \r",
      "Receiving objects:  40% (64/158)   \r",
      "Receiving objects:  41% (65/158)   \r",
      "Receiving objects:  42% (67/158)   \r",
      "Receiving objects:  43% (68/158)   \r",
      "Receiving objects:  44% (70/158)   \r",
      "Receiving objects:  45% (72/158)   \r",
      "Receiving objects:  46% (73/158)   \r",
      "Receiving objects:  47% (75/158)   \r",
      "Receiving objects:  48% (76/158)   \r",
      "Receiving objects:  49% (78/158)   \r",
      "Receiving objects:  50% (79/158)   \r",
      "Receiving objects:  51% (81/158)   \r",
      "Receiving objects:  52% (83/158)   \r",
      "Receiving objects:  53% (84/158)   \r",
      "Receiving objects:  54% (86/158)   \r",
      "Receiving objects:  55% (87/158)   \r",
      "Receiving objects:  56% (89/158)   \r",
      "Receiving objects:  57% (91/158)   \r",
      "Receiving objects:  58% (92/158)   \r",
      "Receiving objects:  59% (94/158)   \r",
      "Receiving objects:  60% (95/158)   \r",
      "Receiving objects:  61% (97/158)   \r",
      "Receiving objects:  62% (98/158)   \r",
      "Receiving objects:  63% (100/158)   \r",
      "Receiving objects:  64% (102/158)   \r",
      "Receiving objects:  65% (103/158)   \r",
      "Receiving objects:  66% (105/158)   \r",
      "Receiving objects:  67% (106/158)   \r",
      "Receiving objects:  68% (108/158)   \r",
      "Receiving objects:  69% (110/158)   \r",
      "Receiving objects:  70% (111/158)   \r",
      "Receiving objects:  71% (113/158)   \r",
      "Receiving objects:  72% (114/158)   \r",
      "Receiving objects:  73% (116/158)   \r",
      "Receiving objects:  74% (117/158)   \r",
      "Receiving objects:  75% (119/158)   \r",
      "Receiving objects:  76% (121/158)   \r",
      "Receiving objects:  77% (122/158)   \r",
      "Receiving objects:  78% (124/158)   \r",
      "Receiving objects:  79% (125/158)   \r",
      "Receiving objects:  80% (127/158)   \r",
      "Receiving objects:  81% (128/158)   \r",
      "Receiving objects:  82% (130/158)   \r",
      "Receiving objects:  83% (132/158)   \r",
      "Receiving objects:  84% (133/158)   \r",
      "Receiving objects:  85% (135/158)   \r",
      "Receiving objects:  86% (136/158)   \r",
      "Receiving objects:  87% (138/158)   \r",
      "Receiving objects:  88% (140/158)   \r",
      "Receiving objects:  89% (141/158)   \r",
      "Receiving objects:  90% (143/158)   \r",
      "Receiving objects:  91% (144/158)   \r",
      "Receiving objects:  92% (146/158)   \r",
      "Receiving objects:  93% (147/158)   \r",
      "Receiving objects:  94% (149/158)   \r",
      "Receiving objects:  95% (151/158)   \r",
      "Receiving objects:  96% (152/158)   \r",
      "Receiving objects:  97% (154/158)   \r",
      "Receiving objects:  98% (155/158)   \r",
      "Receiving objects:  99% (157/158)   \r",
      "Receiving objects: 100% (158/158)   \r",
      "Receiving objects: 100% (158/158), 17.85 KiB | 0 bytes/s, done.\r\n",
      "Resolving deltas:   0% (0/46)   \r",
      "Resolving deltas:   2% (1/46)   \r",
      "Resolving deltas: 100% (46/46)   \r",
      "Resolving deltas: 100% (46/46), done.\r\n",
      "Checking connectivity... done.\r\n"
     ]
    }
   ],
   "source": [
    "git clone git://github.com/git/hello-world.git\n",
    "cd hello-world"
   ]
  },
  {
   "cell_type": "markdown",
   "metadata": {},
   "source": [
    "Create a new commit and push it to the remote repository."
   ]
  },
  {
   "cell_type": "code",
   "execution_count": 20,
   "metadata": {
    "collapsed": false
   },
   "outputs": [
    {
     "name": "stdout",
     "output_type": "stream",
     "text": [
      "On branch master\r\n",
      "Your branch is up-to-date with 'origin/master'.\r\n",
      "nothing to commit, working directory clean\r\n",
      "fatal: remote error: \r\n",
      "  You can't push to git://github.com/git/hello-world.git\r\n",
      "  Use https://github.com/git/hello-world.git\r\n"
     ]
    }
   ],
   "source": [
    "# (edit files)\n",
    "git commit -a -m 'Explain what I changed'\n",
    "git push origin master   # Requires write permission\n",
    "                         # on the remote repository"
   ]
  },
  {
   "cell_type": "markdown",
   "metadata": {},
   "source": [
    "Download changes remote repository and update:"
   ]
  },
  {
   "cell_type": "code",
   "execution_count": 21,
   "metadata": {
    "collapsed": false
   },
   "outputs": [
    {
     "name": "stdout",
     "output_type": "stream",
     "text": [
      "Already up-to-date.\r\n"
     ]
    }
   ],
   "source": [
    "git pull # This might result merge conflicts\n",
    "         # which need to be resolved manually.\n"
   ]
  }
 ],
 "metadata": {
  "kernelspec": {
   "display_name": "Bash",
   "language": "bash",
   "name": "bash"
  },
  "language_info": {
   "codemirror_mode": "shell",
   "file_extension": ".sh",
   "mimetype": "text/x-sh",
   "name": "bash"
  }
 },
 "nbformat": 4,
 "nbformat_minor": 0
}
