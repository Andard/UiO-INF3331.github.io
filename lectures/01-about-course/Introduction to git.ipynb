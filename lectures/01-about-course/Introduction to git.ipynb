{
 "cells": [
  {
   "cell_type": "markdown",
   "metadata": {
    "slideshow": {
     "slide_type": "slide"
    }
   },
   "source": [
    "# The git version control system\n",
    "\n",
    "<img src=\"https://imgs.xkcd.com/comics/git.png\"/>   "
   ]
  },
  {
   "cell_type": "markdown",
   "metadata": {
    "slideshow": {
     "slide_type": "subslide"
    }
   },
   "source": [
    "## Core idea\n",
    "  * A version controlled system (typically) contains one official repository.\n",
    "  * Programmers work on *copies* of repository files and upload the changes to the official repository.\n",
    "  * Non-conflicting modifications by different team members are merged automatically.\n",
    "  * Conflicting modifications are detected and must be resolved manually.\n",
    "  \n",
    "  <img src=\"figs/version_control_system.svg\" style=\"width: 800px;\"/>     "
   ]
  },
  {
   "cell_type": "markdown",
   "metadata": {
    "slideshow": {
     "slide_type": "subslide"
    }
   },
   "source": [
    "## What is git good for?\n",
    "\n",
    "** Organization**\n",
    "  * Retrieve old versions of files.\n",
    "  * Print history of changes.\n",
    "  \n",
    "** Collaboration**\n",
    " * Useful for programming or writing in teams.\n",
    " * Programmers work on *copies* of repository files and upload the changes to the official repository.\n",
    " * Non-conflicting modifications by different team members are merged automatically.\n",
    " * Conflicting modifications are detected and must be resolved manually.\n",
    "\n",
    "**Backups**\n",
    "  * Manage changes of files such as scripts, source code, documents, etc\n",
    "  * Store copy of git repository on an external platform e.g. github  "
   ]
  },
  {
   "cell_type": "markdown",
   "metadata": {
    "slideshow": {
     "slide_type": "subslide"
    }
   },
   "source": [
    "## The git version control system\n",
    "\n",
    "  * git: a modern version control system, similar to mercurial, bazaar, svn, cvs etc.\n",
    "  * Developed by Linus Torvalds to improve the development of the Linux kernel and now one of the most succesfull version control system.\n",
    "  * There exist a good ecosystem for storing git repositories online (e.g. github and bitbucket).\n",
    "  * Installation from <http://git-scm.com>\n",
    "  "
   ]
  },
  {
   "cell_type": "markdown",
   "metadata": {
    "slideshow": {
     "slide_type": "subslide"
    }
   },
   "source": [
    "## Git is complex and powerful - start with the basics and learn as you go.  \n",
    "\n",
    "<img src=\"https://imgs.xkcd.com/comics/git.png\" style=\"width: 500px;\"/>   "
   ]
  },
  {
   "cell_type": "markdown",
   "metadata": {
    "slideshow": {
     "slide_type": "slide"
    }
   },
   "source": [
    "# Creating your first git repository\n",
    "A git repository is a folder in which files can be tracked by git.\n",
    "A git repository is created with:"
   ]
  },
  {
   "cell_type": "markdown",
   "metadata": {},
   "source": [
    "    $ cd src\n",
    "   \n",
    "    $ git init .  # The src folder is now also a git repository"
   ]
  },
  {
   "cell_type": "markdown",
   "metadata": {},
   "source": [
    "Files need to be added to the repository in order to track their changes:"
   ]
  },
  {
   "cell_type": "markdown",
   "metadata": {},
   "source": [
    "    # create myfile.py and some text files\n",
    "    $ git add myfile.py *.txt"
   ]
  },
  {
   "cell_type": "markdown",
   "metadata": {},
   "source": [
    "Commit all tracked files into a new version:"
   ]
  },
  {
   "cell_type": "markdown",
   "metadata": {},
   "source": [
    "        $ git commit -a -m 'This is my first commit'\n"
   ]
  },
  {
   "cell_type": "markdown",
   "metadata": {},
   "source": [
    "Make some changes and create a new commit."
   ]
  },
  {
   "cell_type": "markdown",
   "metadata": {},
   "source": [
    "        # edit myfile.py\n",
    "        $ git status # list files that have been changed since last commit\n",
    "        $ git diff   # show the detailed changes since the last commit\n",
    "        $ git commit -a -m 'Explain what I changed'\n",
    "\n",
    "\n",
    "<img src=\"figs/git.png\" height=200>\n",
    "\n",
    "Each version has a unique hash key. This hash can be used to obtain an older version of a file:"
   ]
  },
  {
   "cell_type": "markdown",
   "metadata": {},
   "source": [
    "## Back to the future"
   ]
  },
  {
   "cell_type": "markdown",
   "metadata": {},
   "source": [
    "Each version has a unique hash key. The hash can be used to reset the repository to an old version"
   ]
  },
  {
   "cell_type": "markdown",
   "metadata": {},
   "source": [
    "    $ git checkout 664250addc1a23c9e8db2c53e203ea2ef9c7c9fc myfile.py"
   ]
  },
  {
   "cell_type": "markdown",
   "metadata": {},
   "source": [
    "Or to go back to the latest version of a file:"
   ]
  },
  {
   "cell_type": "markdown",
   "metadata": {},
   "source": [
    "        rm myfile.py\n",
    "        git checkout myfile.py\n"
   ]
  },
  {
   "cell_type": "markdown",
   "metadata": {},
   "source": [
    "## Remote repositories\n",
    "\n",
    "We can work on git repositories that live on a remote location (for collaboration and backup).\n",
    "\n",
    "Clone a remote repository to a local repository:"
   ]
  },
  {
   "cell_type": "markdown",
   "metadata": {},
   "source": [
    "        git clone git@github.com:UiO-INF3331/INF3331-simonwf.git\n",
    "        cd INF3331-simonwf"
   ]
  },
  {
   "cell_type": "markdown",
   "metadata": {},
   "source": [
    "Create a new commit and push it to the remote repository."
   ]
  },
  {
   "cell_type": "markdown",
   "metadata": {},
   "source": [
    "        (edit files)\n",
    "        git commit -a -m 'Explain what I changed'\n",
    "        git push origin master   # Requires write permission\n",
    "                                 # on the remote repository\n"
   ]
  },
  {
   "cell_type": "markdown",
   "metadata": {},
   "source": [
    "Download changes from remote repository:"
   ]
  },
  {
   "cell_type": "markdown",
   "metadata": {},
   "source": [
    "        git pull # This might result merge conflicts\n",
    "                 # which need to be resolved manually (see exercise).\n"
   ]
  },
  {
   "cell_type": "markdown",
   "metadata": {},
   "source": [
    "## Some more git commands\n",
    "\n",
    "  * `git clone URL`: clone a (remote) repository\n",
    "\n",
    "  * `git init`: create a new (local) repository\n",
    "\n",
    "  * `git status`: View status of commited/uncommited files\n",
    "\n",
    "  * `git commit -a`: check files into the repository\n",
    "\n",
    "  * `git rm`: remove a file\n",
    "\n",
    "  * `git mv`: move/rename a file\n",
    "\n",
    "  * `git pull`: update file tree from (remote) repository\n",
    "\n",
    "  * `git push`: push changes to central repository\n",
    "\n",
    "  * And much more, see `git help`\n",
    "  "
   ]
  },
  {
   "cell_type": "markdown",
   "metadata": {
    "slideshow": {
     "slide_type": "-"
    }
   },
   "source": [
    "## Online git tutorial\n",
    "\n",
    "Do the interactive git tutorial on https://try.github.io\n",
    "\n",
    "<img src=\"figs/try-git.png\" height=150>\n",
    "\n"
   ]
  }
 ],
 "metadata": {
  "celltoolbar": "Slideshow",
  "kernelspec": {
   "display_name": "Bash",
   "language": "bash",
   "name": "bash"
  },
  "language_info": {
   "codemirror_mode": "shell",
   "file_extension": ".sh",
   "mimetype": "text/x-sh",
   "name": "bash"
  }
 },
 "nbformat": 4,
 "nbformat_minor": 1
}
