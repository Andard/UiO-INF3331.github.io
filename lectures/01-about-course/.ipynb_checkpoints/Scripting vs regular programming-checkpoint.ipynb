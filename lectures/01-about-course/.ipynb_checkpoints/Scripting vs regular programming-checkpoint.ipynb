{
 "cells": [
  {
   "cell_type": "markdown",
   "metadata": {
    "slideshow": {
     "slide_type": "slide"
    }
   },
   "source": [
    "# About INF3331/INF4331"
   ]
  },
  {
   "cell_type": "markdown",
   "metadata": {
    "slideshow": {
     "slide_type": "subslide"
    }
   },
   "source": [
    "Authors:\n",
    "\n",
    "* **Hans Petter Langtangen**, Simula Research Laboratory\n",
    "* **Joakim Sundnes**, Simula Research Laboratory\n",
    "* **Ola Skavhaug**, Expert Analytics\n",
    "* **Jonathan Feinberg**, Expert Analytics\n",
    "* **Jonathan Feinberg**, Expert Analytics\n",
    "* **Karl-Erik Holter**, Expert Analytics\n",
    "* **Vidar Fauske**, Simula Research Laboratory \n",
    "* **Simon Funke**, Simula Research Laboratory"
   ]
  },
  {
   "cell_type": "markdown",
   "metadata": {
    "slideshow": {
     "slide_type": "slide"
    }
   },
   "source": [
    "# About this course\n",
    "\n",
    "\n",
    "## Teachers (1)\n",
    "\n",
    "  * Simon Funke (simon@simula.no)\n",
    "  * Karl-Erik Holter\n",
    "  * Guest lecturers: Benjamin Ragan-Kelley (Simula) and Jonathan Feinberg (Expert Analytics)"
   ]
  },
  {
   "cell_type": "markdown",
   "metadata": {
    "slideshow": {
     "slide_type": "subslide"
    }
   },
   "source": [
    "What we use Python for:\n",
    "  * We use Bash/Python to create efficient working (or problem solving) environments\n",
    "\n",
    "  * We also use Python to develop large-scale simulation software (which solves partial differential equations)\n",
    "\n",
    "  * We believe high-level languages such as Python constitute a promising way of making flexible and user-friendly software!\n",
    "\n",
    "  * Some of our research migrates into this course\n",
    "\n",
    "  * There are lots of opportunities for Master projects related to this course"
   ]
  },
  {
   "cell_type": "markdown",
   "metadata": {
    "slideshow": {
     "slide_type": "subslide"
    }
   },
   "source": [
    "## Teachers (2)\n",
    "\n",
    "  * Most examples are from our own research; involves some science and/or mathematics!\n",
    "\n",
    "  * Little mathematics knowledge is needed to complete the course\n",
    "\n",
    "  * Treating mathematical software as a \"black box\" without fully understanding the contents is a useful exercise\n",
    "\n",
    "  * Translating simple mathematical expressions to computer code is highly relevant for many applications"
   ]
  },
  {
   "cell_type": "markdown",
   "metadata": {
    "slideshow": {
     "slide_type": "subslide"
    }
   },
   "source": [
    "## Contents\n",
    "\n",
    "  * Scripting in general\n",
    "\n",
    "  * Basic Bash programming\n",
    "\n",
    "  * Quick Python introduction for beginners (two weeks)\n",
    "\n",
    "  * Regular expressions\n",
    "\n",
    "  * Python problem solving\n",
    "\n",
    "  * Efficient Python with vectorization and NumPy arrays\n",
    "\n",
    "  * Combining Python with C and C++\n",
    "\n",
    "  * Creating web interfaces to Python scripts\n",
    "\n",
    "  * Programming tools: version control systems, distributing Python modules, debugging and profiling, documenting code, testing and verification of software"
   ]
  },
  {
   "cell_type": "markdown",
   "metadata": {
    "slideshow": {
     "slide_type": "subslide"
    }
   },
   "source": [
    "## What you will learn\n",
    "\n",
    "  * Scripting in general, but with most examples taken from scientific computing\n",
    "\n",
    "  * Jump into useful scripts and dissect the code\n",
    "\n",
    "  * Learning by doing\n",
    "\n",
    "  * Find examples, look up man pages, Web docs and textbooks on demand\n",
    "\n",
    "  * Get the overview\n",
    "\n",
    "  * Customize existing code\n",
    "\n",
    "  * Have fun and work with useful things"
   ]
  },
  {
   "cell_type": "markdown",
   "metadata": {
    "slideshow": {
     "slide_type": "subslide"
    }
   },
   "source": [
    "## Background 1: INF3331 vs INF1100\n",
    "\n",
    "  * Wide range of backgrounds with respect to Python and general programming experience\n",
    "\n",
    "  * Since INF3331 does not build on INF1100, some overlap is inevitable\n",
    "\n",
    "  * Two weeks of basic Python intro not useful for those with INF1100 background\n",
    "\n",
    "  * INF3331 has more focus on scripting and practical problem solving\n",
    "\n",
    "  * We welcome any feedback on how we can make INF3331 interesting and challenging for students with different backgrounds"
   ]
  },
  {
   "cell_type": "markdown",
   "metadata": {
    "slideshow": {
     "slide_type": "subslide"
    }
   },
   "source": [
    "## Background 2: INF3331 vs INF4331\n",
    "  * Same lectures and group sessions.\n",
    "\n",
    "  * INF4331 has more assignments compared to INF3331.\n",
    "\n",
    "  * More points are needed to pass INF4331."
   ]
  },
  {
   "cell_type": "markdown",
   "metadata": {
    "slideshow": {
     "slide_type": "subslide"
    }
   },
   "source": [
    "## Background 3: mathematics\n",
    "\n",
    "  * Very little mathematics is needed to complete the course.\n",
    "  * Basic knowledge will make life easier:\n",
    "\n",
    "      * General functions, such as $f(x) = ax +b$, and how they are turned into computer code\n",
    "      * Standard mathematical functions such as $\\sin(x),\\cos(x)$ and exponential functions\n",
    "      * Simple matrix-vector operations\n",
    "\n",
    "\n",
    "  * A learn-on-demand strategy should work fine, as long as you do not panic at the sight of a mathematical expression.\n",
    "  * Matlab is commonly cited as code examples, since this is a *de facto* standard for scientific computing."
   ]
  },
  {
   "cell_type": "markdown",
   "metadata": {
    "slideshow": {
     "slide_type": "subslide"
    }
   },
   "source": [
    "## Teaching material (1)\n",
    "\n",
    "* Slides from lectures (by Langtangen, Sundes, Skavhaug, Funek et al) on the INF3331 web page\n",
    "  ([here](http://www.uio.no/studier/emner/matnat/ifi/INF3331/h16/timeplan/index.html#FOR)).\n",
    "\n",
    "* H.P. Langtangen and G. K. Sandve: Illustrating Python via Bioinformatics Examples: [PDF](http://www.uio.no/studier/emner/matnat/ifi/INF3331/h14/lectures/bioinf-py-2.pdf)\n",
    "\n",
    "* Associated book (optional): H. P. Langtangen: Python Scripting for Computational Science, 3rd edition, Springer 2008\n",
    "\n",
    "You must find the rest: manuals, textbooks, google\n",
    "\n",
    "Note that some literature is based to Python 2, while we will use Python 3 in this course (but the differences are minimal for this course)."
   ]
  },
  {
   "cell_type": "markdown",
   "metadata": {
    "slideshow": {
     "slide_type": "subslide"
    }
   },
   "source": [
    "## Teaching material (2)\n",
    "\n",
    "Good Python literature:\n",
    "* Harms and McDonald: The Quick Python Book, 2nd edition, 2010\n",
    "\n",
    "* Beazley: Python Essential Reference, 4th edition, 2009\n",
    "\n",
    "* Mark Pilgrim: Dive into Python 3, 2004\n",
    "\n",
    "<!-- dom:FIGURE:[../figs/beazley_grayson_harms.jpg] -->\n",
    "<!-- begin figure -->\n",
    "\n",
    "<p></p>\n",
    "<img src=\"../figs/beazley_grayson_harms.jpg\" >\n",
    "\n",
    "<!-- end figure -->"
   ]
  },
  {
   "cell_type": "markdown",
   "metadata": {
    "slideshow": {
     "slide_type": "subslide"
    }
   },
   "source": [
    "## Lectures and groups (1)\n",
    "\n",
    "  * Lectures Wednesday 10:15 - 12:00.\n",
    "\n",
    "  * Lecture slides available on the course website before each lecture.\n",
    "\n",
    "  * Assignments will be available after the lecture.\n",
    "\n",
    "  * Weekly groups sessions (see course website).\n",
    "\n",
    "  * Groups and exercises are the core of the course: problem solving is in focus.\n",
    "\n",
    "  * In addition, we use the Piazza forum to ask and answer questions and discuss problems."
   ]
  },
  {
   "cell_type": "markdown",
   "metadata": {
    "slideshow": {
     "slide_type": "subslide"
    }
   },
   "source": [
    "## Lectures and groups (2)\n",
    "\n",
    "  * August 24th: Introduction; scripting vs regular programming, version control systems\n",
    "\n",
    "  * August 31th: Basic shell scripting\n",
    "\n",
    "  * September 7th & 14th: Python introduction (not needed if you have INF1100)\n",
    "\n",
    "  * September 12th: Regular expressions\n",
    "\n",
    "  * ..."
   ]
  },
  {
   "cell_type": "markdown",
   "metadata": {
    "slideshow": {
     "slide_type": "subslide"
    }
   },
   "source": [
    "## Group classes and assignments\n",
    "\n",
    "  * Mix of short (1 week) and large (3+1 weeks) assignments.\n",
    "\n",
    "  * Deadlines are published on course website.\n",
    "\n",
    "  * Group classes will be regular group classes, where you work individually and can ask questions about the mandatory assignments.\n",
    "\n",
    "  * Group classes start this week.\n",
    "\n",
    "  * No strict requirement to show up in group classes, but useful to ask questions and discuss solutions."
   ]
  },
  {
   "cell_type": "markdown",
   "metadata": {
    "slideshow": {
     "slide_type": "subslide"
    }
   },
   "source": [
    "## Assignments and reviews\n",
    "\n",
    "  * Each student solves the assignments individually.\n",
    "\n",
    "  * Large assignments have a peer review system to correct the assignments.\n",
    "\n",
    "  * Assignments and reviews are handed in electronically on github.\n",
    "\n",
    "  * All assignments and reviews are corrected by INF3331 correctors and give points towards passing the course.\n",
    "\n",
    "  * First assignment: today."
   ]
  },
  {
   "cell_type": "markdown",
   "metadata": {
    "slideshow": {
     "slide_type": "subslide"
    }
   },
   "source": [
    "## Peer-review of large assignments\n",
    "\n",
    "  * After the assignment is handed in, you are given a \\emph{marking group} (rettegruppe) with three students in each.\n",
    "\n",
    "  * Each marking group will get the assignments from three other students.\n",
    "\n",
    "  * For each assignment you evaluate, you should write a report, which comments and evaluates the quality of the programming, and provide constructive feedback.\n",
    "\n",
    "  * When, where and how you organize the evaluation is up to you, but the intention is to do the evaluation in groups.\n",
    "\n",
    "  * Deadline for reports: one week after you have been assigned to the marking groups."
   ]
  },
  {
   "cell_type": "markdown",
   "metadata": {},
   "source": [
    "## Marking\n",
    "\n",
    "  * **No exam**!\n",
    "  * The assignments give points towards passing the course.\n",
    "  * The peer-review report  also gives points.\n",
    "  * Course passed with $\\ge 80%$ of total points at the end of the semester."
   ]
  },
  {
   "cell_type": "markdown",
   "metadata": {},
   "source": [
    "## We will use Piazza as a knowledge platform\n",
    "\n",
    "  * Allows students to ask and answer questions.\n",
    "\n",
    "  * Great discussion platform.\n",
    "\n",
    "  * Lecturers/teaching assistants will be active on the platform to help.\n",
    "\n",
    "  * Sign up: [http://piazza.com/uio.no/fall2017/inf3331inf4331](http://piazza.com/uio.no/fall2017/inf3331inf4331)"
   ]
  },
  {
   "cell_type": "markdown",
   "metadata": {
    "slideshow": {
     "slide_type": "subslide"
    }
   },
   "source": [
    "## Using github\n",
    "\n",
    "  * Everyone needs to obtain an account on github (its free).\n",
    "\n",
    "  * We will establish a *classroom* on github. For this we need from everyone:\n",
    "\n",
    "      * Full name\n",
    "\n",
    "      * Email\n",
    "\n",
    "      * UiO username\n",
    "\n",
    "      * Github user name\n",
    "\n",
    "    For this, please fill out the web form on he course webpage.\n",
    "\n",
    "  * We will create a git repository on github where you can upload the assignemnt solutions."
   ]
  },
  {
   "cell_type": "markdown",
   "metadata": {},
   "source": [
    "## Things to do in the first week\n",
    "\n",
    "  1. Create a github account.\n",
    "  2. Register course attendence on https://goo.gl/forms/Y6TjRYD81Moj4jbN2\n",
    "  \n",
    "  1. Sign up to INF3331/INF4331 course on Piazza: http://piazza.com/uio.no/fall2017/inf3331inf4331\n",
    "  \n",
    "  3. (Optional) Do the interactive git tutorial on <https://try.github.io>\n",
    "  4. Solve the first assignment: http://www.uio.no/studier/emner/matnat/ifi/INF3331/h16/oppgaver.html."
   ]
  },
  {
   "cell_type": "markdown",
   "metadata": {
    "slideshow": {
     "slide_type": "subslide"
    }
   },
   "source": [
    "## Why has the course been organized like this?\n",
    "\n",
    "  * \"Problem solving\" is best learnt by solving a large number of problems.\n",
    "  * With limited resources, this is the only way we can maintain the large number of mandatory assignments.\n",
    "  * You learn from reading and inspecting each other's code.\n",
    "  * Goal: more flexible implementation, but which still allows a high volume of programming exercises.\n"
   ]
  },
  {
   "cell_type": "markdown",
   "metadata": {
    "slideshow": {
     "slide_type": "subslide"
    }
   },
   "source": [
    "## Software for this course\n",
    "\n",
    "  * Bash runs on Windows (via cygwin), Mac, Linux.\n",
    "\n",
    "  * Python runs on Windows (e.g. Enthought), Mac, Linux.\n",
    "\n",
    "  * C (GCC) runs on Windows, Mac, Linux.\n",
    "\n",
    "  * I recommend Ubuntu Linux, either running natively or in a virtual machine.\n",
    "\n",
    "  * I have limited experience with Python/Bash/C on Windows.\n",
    "\n",
    "  * Follow the instructions for [INF1100](http://heim.ifi.uio.no/~inf1100/installering.html) (but install Python 3)"
   ]
  },
  {
   "cell_type": "markdown",
   "metadata": {
    "slideshow": {
     "slide_type": "subslide"
    }
   },
   "source": [
    "## Python 2 vs Python 3\n",
    "\n",
    "  * Python 3.5 is the newest stable version.\n",
    "\n",
    "  * Most libraries have now Python 3 support.\n",
    "\n",
    "  * Python 2.7 is still around, and the default on Mac OS X and some Linux distributions.\n",
    "\n",
    "  * This course:\n",
    "\n",
    "      * 2017 - Python 3 (3.5/3.6)\n",
    "      * 2016 - Python 3 (3.4/3.5)\n",
    "      * 2015 - Mostly 2.7, some 3.3/3.4\n",
    "      * 2014 - Mostly 2.7, some 3.3/3.4\n",
    "      * 2013 - Mix of Python 2.7 and 3.3\n",
    "\n",
    "\n",
    "  * Small difference for the scope of this course, but watch out for widely used functions such as `print`, `open`, `input`, `range`, and integer division."
   ]
  },
  {
   "cell_type": "markdown",
   "metadata": {
    "slideshow": {
     "slide_type": "slide"
    }
   },
   "source": [
    "# Scripting vs regular programming"
   ]
  },
  {
   "cell_type": "markdown",
   "metadata": {
    "slideshow": {
     "slide_type": "subslide"
    }
   },
   "source": [
    "## What is a script?\n",
    "\n",
    "  * Very high-level, often short, program written in a high-level scripting language\n",
    "\n",
    "  * Scripting languages: Unix shells, Tcl, Perl, Python, Ruby, Scheme, Rexx, JavaScript, VisualBasic, ...\n",
    "\n",
    "  * This course: Python + a taste of Bash (Unix shell)"
   ]
  },
  {
   "cell_type": "markdown",
   "metadata": {
    "slideshow": {
     "slide_type": "subslide"
    }
   },
   "source": [
    "## Characteristics of a script\n",
    "\n",
    "  * Glue other programs together and automate tasks\n",
    "\n",
    "  * Extensive text processing\n",
    "\n",
    "  * File and directory manipulation\n",
    "\n",
    "  * Often special-purpose code\n",
    "\n",
    "  * Many small interacting scripts may yield a big system\n",
    "\n",
    "  * Perhaps a special-purpose GUI on top\n",
    "\n",
    "  * (Sometimes) portable across Unix, Windows, Mac\n",
    "\n",
    "  * Interpreted program (no compilation+linking)"
   ]
  },
  {
   "cell_type": "markdown",
   "metadata": {
    "slideshow": {
     "slide_type": "subslide"
    }
   },
   "source": [
    "## Why not stick to Java or C/C++?\n",
    "\n",
    "Features of scripting languages compared to Java, C/C++ and Fortran:\n",
    "\n",
    "  * shorter, more high-level programs\n",
    "\n",
    "  * much faster software development\n",
    "\n",
    "  * more convenient programming\n",
    "\n",
    "  * you feel more productive. The three main reasons are:\n",
    "\n",
    "      * no variable declarations, but lots of consistency checks at run time\n",
    "\n",
    "      * technical details are hidden: no pointers, automatic garbage collection, ...\n",
    "\n",
    "      * easy to combine software components and interact with the OS\n",
    "\n",
    "      * lots of standardized libraries and tools"
   ]
  },
  {
   "cell_type": "markdown",
   "metadata": {
    "slideshow": {
     "slide_type": "subslide"
    }
   },
   "source": [
    "## Scripts yield short code\n",
    "\n",
    "\n",
    "Consider reading real numbers from a file, where each line\n",
    "can contain an arbitrary number of real numbers:"
   ]
  },
  {
   "cell_type": "markdown",
   "metadata": {
    "slideshow": {
     "slide_type": "-"
    }
   },
   "source": [
    "        1.1  9   5.2\n",
    "        1.762543E-02\n",
    "        0 0.01 0.001\n",
    "        \n",
    "        9 3 7\n"
   ]
  },
  {
   "cell_type": "markdown",
   "metadata": {
    "slideshow": {
     "slide_type": "-"
    }
   },
   "source": [
    "Python solution:"
   ]
  },
  {
   "cell_type": "code",
   "execution_count": 1,
   "metadata": {
    "collapsed": true,
    "slideshow": {
     "slide_type": "-"
    }
   },
   "outputs": [],
   "source": [
    "F = open(filename, 'r')\n",
    "n = F.read().split()"
   ]
  },
  {
   "cell_type": "markdown",
   "metadata": {
    "slideshow": {
     "slide_type": "subslide"
    }
   },
   "source": [
    "## Using regular expressions (1)\n",
    "\n",
    "\n",
    "Suppose we want to read complex numbers written as text"
   ]
  },
  {
   "cell_type": "markdown",
   "metadata": {},
   "source": [
    "        (-3, 1.4)  or  (-1.437625E-9, 7.11)  or  (  4, 2 )\n"
   ]
  },
  {
   "cell_type": "markdown",
   "metadata": {},
   "source": [
    "Python solution:"
   ]
  },
  {
   "cell_type": "code",
   "execution_count": 2,
   "metadata": {
    "collapsed": true
   },
   "outputs": [],
   "source": [
    "import re\n",
    "m = re.search(r'\\(\\s*([^,]+)\\s*,\\s*([^,]+)\\s*\\)',\n",
    "              '(  -3,1.4)')\n",
    "re, im = [float(x) for x in m.groups()]"
   ]
  },
  {
   "cell_type": "markdown",
   "metadata": {},
   "source": [
    "(This will only find the first match of the regular expression, use\n",
    "`re.findall` to return a list of all matches.)"
   ]
  },
  {
   "cell_type": "markdown",
   "metadata": {
    "slideshow": {
     "slide_type": "subslide"
    }
   },
   "source": [
    "## Using regular expressions (2)\n",
    "\n",
    "\n",
    "Regular expressions like"
   ]
  },
  {
   "cell_type": "markdown",
   "metadata": {},
   "source": [
    "        \\(\\s*([^,]+)\\s*,\\s*([^,]+)\\s*\\)\n"
   ]
  },
  {
   "cell_type": "markdown",
   "metadata": {},
   "source": [
    "constitute a powerful language for specifying text patterns\n",
    "\n",
    "Doing the same thing, without regular expressions, in Fortran and C requires quite some low-level code at the character array level\n",
    "\n",
    "Remark: we could read pairs (-3, 1.4) without using regular expressions,"
   ]
  },
  {
   "cell_type": "code",
   "execution_count": 3,
   "metadata": {
    "collapsed": true
   },
   "outputs": [],
   "source": [
    "s = '(-3,  1.4 )'\n",
    "re, im = s[1:-1].split(',')"
   ]
  },
  {
   "cell_type": "markdown",
   "metadata": {
    "slideshow": {
     "slide_type": "subslide"
    }
   },
   "source": [
    "## Script variables are not declared\n",
    "\n",
    "\n",
    "Example of a Python function:"
   ]
  },
  {
   "cell_type": "code",
   "execution_count": 4,
   "metadata": {
    "collapsed": true
   },
   "outputs": [],
   "source": [
    "def debug(leading_text, variable):\n",
    "    if os.environ.get('MYDEBUG', '0') == '1':\n",
    "        print leading_text, variable"
   ]
  },
  {
   "cell_type": "markdown",
   "metadata": {},
   "source": [
    "Dumps any printable variable\n",
    "(number, list, hash, heterogeneous structure)\n",
    "\n",
    "Printing can be turned on/off by setting the\n",
    "environment variable `MYDEBUG`"
   ]
  },
  {
   "cell_type": "markdown",
   "metadata": {
    "slideshow": {
     "slide_type": "subslide"
    }
   },
   "source": [
    "## The same function in C++\n",
    "\n",
    "\n",
    "Templates can be used to mimic dynamically typed languages\n",
    "\n",
    "Not as quick and convenient programming:"
   ]
  },
  {
   "cell_type": "markdown",
   "metadata": {},
   "source": [
    "        template <class T>\n",
    "        void debug(std::ostream& o,\n",
    "                   const std::string& leading_text,\n",
    "                   const T& variable)\n",
    "        {\n",
    "          char* c = getenv(\"MYDEBUG\");\n",
    "          bool defined = false;\n",
    "          if (c != NULL) {  // if MYDEBUG is defined ...\n",
    "            if (std::string(c) == \"1\") {  // if MYDEBUG is true ...\n",
    "              defined = true;\n",
    "            }\n",
    "          }\n",
    "          if (defined) {\n",
    "            o <<  leading_text << \" \" << variable << std::endl;\n",
    "          }\n",
    "        }\n"
   ]
  },
  {
   "cell_type": "markdown",
   "metadata": {
    "slideshow": {
     "slide_type": "slide"
    }
   },
   "source": [
    "## The relation to OOP\n",
    "\n",
    "  * Object-oriented programming can also be used to parameterize types\n",
    "\n",
    "      * Introduce base class `A` and a range of subclasses, all with a (virtual) print function\n",
    "\n",
    "      * Let `debug` work with `var` as an `A` reference\n",
    "\n",
    "      * Now `debug` works for all subclasses of `A`\n",
    "\n",
    "\n",
    "  * Advantage: complete control of the legal variable types that `debug` are allowed to print (may be important in big systems to ensure that a function can only make transactions with certain objects)\n",
    "\n",
    "  * Disadvantage: much more work, much more code, less reuse of `debug` in new occasions\n",
    "\n",
    "## Flexible function interfaces (1)\n",
    "\n",
    "\n",
    "User-friendly environments (Matlab, Maple, Mathematica, S-Plus, ...)\n",
    "allow flexible function interfaces\n",
    "\n",
    "Novice user:"
   ]
  },
  {
   "cell_type": "code",
   "execution_count": 5,
   "metadata": {
    "collapsed": true
   },
   "outputs": [],
   "source": [
    "# f is some data\n",
    "plot(f)"
   ]
  },
  {
   "cell_type": "markdown",
   "metadata": {},
   "source": [
    "More control of the plot:"
   ]
  },
  {
   "cell_type": "code",
   "execution_count": 6,
   "metadata": {
    "collapsed": true
   },
   "outputs": [],
   "source": [
    "plot(f, label='f', xrange=[0,10])"
   ]
  },
  {
   "cell_type": "markdown",
   "metadata": {},
   "source": [
    "More fine-tuning:"
   ]
  },
  {
   "cell_type": "code",
   "execution_count": 7,
   "metadata": {
    "collapsed": true
   },
   "outputs": [],
   "source": [
    "plot(f, label='f', xrange=[0,10], title='f demo',\n",
    "     linetype='dashed', linecolor='red')"
   ]
  },
  {
   "cell_type": "markdown",
   "metadata": {
    "slideshow": {
     "slide_type": "subslide"
    }
   },
   "source": [
    "## Flexible function interfaces (2)\n",
    "\n",
    "\n",
    "In C++, some flexibility is obtained using default argument\n",
    "  values, e.g.,"
   ]
  },
  {
   "cell_type": "markdown",
   "metadata": {},
   "source": [
    "        void plot(const double[]& data, const char[] label='',\n",
    "        const char[] title = '', const char[] linecolor='black')\n"
   ]
  },
  {
   "cell_type": "markdown",
   "metadata": {},
   "source": [
    "Limited flexibility, since the order of arguments is significant.\n",
    "\n",
    "Python uses keyword arguments = function arguments with\n",
    "keywords and default values, e.g.,"
   ]
  },
  {
   "cell_type": "code",
   "execution_count": 8,
   "metadata": {
    "collapsed": true
   },
   "outputs": [],
   "source": [
    "def plot(data, label='', xrange=None, title='',\n",
    "         linetype='solid', linecolor='black', ...)"
   ]
  },
  {
   "cell_type": "markdown",
   "metadata": {},
   "source": [
    "The sequence and number of arguments in the call\n",
    "can be chosen by the user"
   ]
  },
  {
   "cell_type": "markdown",
   "metadata": {
    "slideshow": {
     "slide_type": "subslide"
    }
   },
   "source": [
    "## Classification of languages (1)\n",
    "\n",
    "\n",
    "Many criteria can be used to classify computer languages\n",
    "\n",
    "Dynamically vs statically typed languages\n",
    "\n",
    "Python (dynamic):"
   ]
  },
  {
   "cell_type": "code",
   "execution_count": 9,
   "metadata": {
    "collapsed": true
   },
   "outputs": [],
   "source": [
    "c = 1            # c is an integer\n",
    "c = [1,2,3]      # c is a list"
   ]
  },
  {
   "cell_type": "markdown",
   "metadata": {},
   "source": [
    "C (static):"
   ]
  },
  {
   "cell_type": "markdown",
   "metadata": {},
   "source": [
    "        double c; c = 5.2;   # c can only hold doubles\n",
    "        c = \"a string...\"    # compiler error\n"
   ]
  },
  {
   "cell_type": "markdown",
   "metadata": {
    "slideshow": {
     "slide_type": "subslide"
    }
   },
   "source": [
    "## Classification of languages (2)\n",
    "\n",
    "\n",
    "Weakly vs strongly typed languages\n",
    "Perl (weak):"
   ]
  },
  {
   "cell_type": "markdown",
   "metadata": {},
   "source": [
    "        $b = '1.2'\n",
    "        $c = 5*$b;   # implicit type conversion: '1.2' -> 1.2\n"
   ]
  },
  {
   "cell_type": "markdown",
   "metadata": {},
   "source": [
    "Python (strong):"
   ]
  },
  {
   "cell_type": "code",
   "execution_count": 10,
   "metadata": {
    "collapsed": true
   },
   "outputs": [],
   "source": [
    "import math\n",
    "b = '1.2'\n",
    "c = 5*b      #legal, but probably not the result you want\n",
    "c = math.exp(b)  #illegal, no implicit type conversion\n",
    "c = math.exp(float(b)) #legal"
   ]
  },
  {
   "cell_type": "markdown",
   "metadata": {
    "slideshow": {
     "slide_type": "subslide"
    }
   },
   "source": [
    "## Classification of languages (3)\n",
    "\n",
    "  * Interpreted vs compiled languages\n",
    "  * Dynamically vs statically typed (or type-safe) languages\n",
    "  * High-level vs low-level languages (Python-C)\n",
    "  * Scripting vs system languages"
   ]
  },
  {
   "cell_type": "markdown",
   "metadata": {
    "slideshow": {
     "slide_type": "subslide"
    }
   },
   "source": [
    "## Turning files into code (1)\n",
    "\n",
    "Code can be constructed and executed at run-time\n",
    "\n",
    "Consider an input file with the syntax"
   ]
  },
  {
   "cell_type": "markdown",
   "metadata": {},
   "source": [
    "        a = 1.2\n",
    "        no of iterations = 100\n",
    "        solution strategy = 'implicit'\n",
    "        c1 = 0\n",
    "        c2 = 0.1\n",
    "        A = 4\n"
   ]
  },
  {
   "cell_type": "markdown",
   "metadata": {},
   "source": [
    "How can we read this file and define variables `a`, `no_of_iterations`, `solution_strategy`, `c1`, `c2`, `A` with the specified values?"
   ]
  },
  {
   "cell_type": "markdown",
   "metadata": {
    "slideshow": {
     "slide_type": "subslide"
    }
   },
   "source": [
    "## Turning files into code (2)\n",
    "\n",
    "\n",
    "The answer lies in this short and generic code:"
   ]
  },
  {
   "cell_type": "code",
   "execution_count": 11,
   "metadata": {
    "collapsed": true
   },
   "outputs": [],
   "source": [
    "file = open('inputfile.dat', 'r')\n",
    "for line in file:\n",
    "    # first replace blanks on the left-hand side of = by _\n",
    "    variable, value = line.split('=')\n",
    "    variable = variable.strip()  # strip leading and trailing blanks\n",
    "    variable = re.sub(' ', '_', variable)\n",
    "    exec(variable + '=' + value)   # magic..."
   ]
  },
  {
   "cell_type": "markdown",
   "metadata": {},
   "source": [
    "This cannot be done in Fortran, C, C++ or Java! Why?"
   ]
  },
  {
   "cell_type": "markdown",
   "metadata": {
    "slideshow": {
     "slide_type": "subslide"
    }
   },
   "source": [
    "## Scripts can be slow\n",
    "\n",
    "\n",
    "Perl and Python scripts are first compiled to byte-code.\n",
    "\n",
    "The byte-code is then *interpreted*.\n",
    "\n",
    "Text processing is usually as fast as in C.\n",
    "\n",
    "Loops over large data structures might be very slow."
   ]
  },
  {
   "cell_type": "code",
   "execution_count": 12,
   "metadata": {
    "collapsed": true
   },
   "outputs": [],
   "source": [
    "for i in range(len(A)):\n",
    "    A[i] = ..."
   ]
  },
  {
   "cell_type": "markdown",
   "metadata": {},
   "source": [
    "Fortran, C and C++ compilers are good at optimizing such loops at compile time and produce very efficient assembly code (e.g. 100 times faster).\n",
    "\n",
    "Fortunately, long loops in scripts can easily be migrated to Fortran or C."
   ]
  },
  {
   "cell_type": "markdown",
   "metadata": {
    "slideshow": {
     "slide_type": "slide"
    }
   },
   "source": [
    "## Scripts may be fast enough\n",
    "\n",
    "Read 100 000 (x,y) data from file and write (x,f(y)) out again\n",
    "\n",
    "  * Pure Python: 4s\n",
    "\n",
    "  * Pure Perl: 3s\n",
    "\n",
    "  * Pure Tcl: 11s\n",
    "\n",
    "  * Pure C (fscanf/fprintf): 1s\n",
    "\n",
    "  * Pure C++ (iostream): 3.6s\n",
    "\n",
    "  * Pure C++ (buffered streams): 2.5s\n",
    "\n",
    "  * Numerical Python modules: 2.2s (!)\n",
    "\n",
    "  * Remark: in practice, 100 000 data points are written and read in binary format, resulting in much smaller differences"
   ]
  },
  {
   "cell_type": "markdown",
   "metadata": {
    "slideshow": {
     "slide_type": "subslide"
    }
   },
   "source": [
    "## When scripting is convenient (1)\n",
    "\n",
    "  * The application's main task is to connect together existing components\n",
    "\n",
    "  * The application includes a graphical user interface\n",
    "\n",
    "  * The application performs extensive string/text manipulation\n",
    "\n",
    "  * The design of the application code is expected to change significantly\n",
    "\n",
    "  * CPU-time intensive parts can be migrated to C/C++ or Fortran"
   ]
  },
  {
   "cell_type": "markdown",
   "metadata": {
    "slideshow": {
     "slide_type": "subslide"
    }
   },
   "source": [
    "## When scripting is convenient (2)\n",
    "\n",
    "  * The application can be made short if it operates heavily on list or hash structures\n",
    "\n",
    "  * The application is supposed to communicate with Web servers\n",
    "\n",
    "  * The application should run without modifications on Unix, Windows, and Macintosh computers, also when a GUI is included"
   ]
  },
  {
   "cell_type": "markdown",
   "metadata": {
    "slideshow": {
     "slide_type": "subslide"
    }
   },
   "source": [
    "## When to use C, C++, Java, Fortran\n",
    "\n",
    "  * Does the application implement complicated algorithms and data structures?\n",
    "\n",
    "  * Does the application manipulate large datasets so that execution speed is critical?\n",
    "\n",
    "  * Are the application's functions well-defined and changing slowly?\n",
    "\n",
    "  * Will type-safe languages be an advantage, e.g., in large development teams?"
   ]
  },
  {
   "cell_type": "markdown",
   "metadata": {
    "slideshow": {
     "slide_type": "subslide"
    }
   },
   "source": [
    "## Some personal applications of scripting\n",
    "\n",
    "  * Get the power of Unix also in non-Unix environments\n",
    "\n",
    "  * Automate manual interaction with the computer\n",
    "\n",
    "  * Customize your own working environment and become more efficient\n",
    "\n",
    "  * Increase the reliability of your work (what you did is documented in the script)\n",
    "\n",
    "  * Have more fun!"
   ]
  },
  {
   "cell_type": "markdown",
   "metadata": {
    "slideshow": {
     "slide_type": "subslide"
    }
   },
   "source": [
    "## Some business applications of scripting\n",
    "\n",
    "  * Python and Perl are very popular in the open source movement and Linux environments\n",
    "\n",
    "  * Python, Ruby and Javascript are widely used for creating Web services (Django, Plone)\n",
    "\n",
    "  * Python and Perl (and Tcl) replace 'home-made' (application-specific) scripting interfaces\n",
    "\n",
    "  * Many companies want candidates with Python experience"
   ]
  },
  {
   "cell_type": "markdown",
   "metadata": {
    "slideshow": {
     "slide_type": "subslide"
    }
   },
   "source": [
    "## What about mission-critical operations?\n",
    "\n",
    "  * Scripting languages are free\n",
    "\n",
    "  * What about companies that do mission-critical operations?\n",
    "\n",
    "  * Can we use Python when sending a man to Mars?\n",
    "\n",
    "  * Who is responsible for the quality of products?"
   ]
  },
  {
   "cell_type": "markdown",
   "metadata": {
    "slideshow": {
     "slide_type": "subslide"
    }
   },
   "source": [
    "## The reliability of scripting tools\n",
    "\n",
    "  * Scripting languages are developed as a world-wide collaboration of volunteers (open source model)\n",
    "\n",
    "  * The open source community as a whole is responsible for the quality\n",
    "\n",
    "  * There is a single repository for the source codes (plus mirror sites)\n",
    "\n",
    "  * This source is read, tested and controlled by a very large number of people (and experts)\n",
    "\n",
    "  * The reliability of *large* open source projects like Linux, Python, and Perl appears to be very good - at least as good as commercial software"
   ]
  },
  {
   "cell_type": "markdown",
   "metadata": {
    "slideshow": {
     "slide_type": "subslide"
    }
   },
   "source": [
    "## Practical problem solving\n",
    "\n",
    "  * Problem: you are not an expert (yet)\n",
    "\n",
    "  * Where to find detailed info, and how to understand it?\n",
    "\n",
    "  * The efficient programmer navigates quickly in the jungle of textbooks, man pages, README files, source code examples, Web sites, news groups, ... and has a gut feeling for what to look for\n",
    "\n",
    "  * The aim of the course is to improve your practical problem-solving abilities\n",
    "\n",
    "  * *You think you know when you learn, are more sure when you can write, even more when you can teach, but certain when you can program* (Alan Perlis)"
   ]
  },
  {
   "cell_type": "markdown",
   "metadata": {
    "slideshow": {
     "slide_type": "subslide"
    }
   },
   "source": [
    "# Version control systems\n",
    "."
   ]
  },
  {
   "cell_type": "markdown",
   "metadata": {
    "slideshow": {
     "slide_type": "subslide"
    }
   },
   "source": [
    "## Version control systems\n",
    "What are version control systems good for?\n",
    "\n",
    "  * Manage changes of files such as scripts, source code, documents, ....\n",
    "\n",
    "  * Can retrieve old versions of files.\n",
    "\n",
    "  * Can print history of incremental changes.\n",
    "\n",
    "  * Allows collaborative programming.\n",
    "\n",
    "  * Can serve as a backup tool.\n",
    "\n",
    "Core idea:\n",
    "  * A version controlled system (typically) contains one official repository.\n",
    "\n",
    "  * Programmers work on *copies* of repository files and upload the changes to the official repository.\n",
    "\n",
    "  * Non-conflicting modifications by different team members are merged automatically.\n",
    "\n",
    "  * Conflicting modifications are detected and must be resolved manually."
   ]
  },
  {
   "cell_type": "markdown",
   "metadata": {
    "slideshow": {
     "slide_type": "subslide"
    }
   },
   "source": [
    "## The git version control system\n",
    "\n",
    "  * git: a modern version control system, similar to mercurial, bazaar, svn, cvs etc.\n",
    "\n",
    "  * Developed by Linus Torvalds to improve the development of the Linux kernel and now one of the most succesfull version control system.\n",
    "\n",
    "  * Git is complex and powerful - start with the basics and learn as you go.\n",
    "\n",
    "  * There exist a good ecosystem for storing git repositories online (e.g. github and bitbucket).\n",
    "\n",
    "  * Official git webpage <http://git-scm.com>"
   ]
  },
  {
   "cell_type": "markdown",
   "metadata": {
    "slideshow": {
     "slide_type": "subslide"
    }
   },
   "source": [
    "## Creating your first git repository\n",
    "A git repository is a folder in which files can be tracked by git.\n",
    "A git repository is created with:"
   ]
  },
  {
   "cell_type": "markdown",
   "metadata": {},
   "source": [
    "        $ cd src\n",
    "        $ git init .  # The src folder is now also a git repository\n"
   ]
  },
  {
   "cell_type": "markdown",
   "metadata": {},
   "source": [
    "Files need to be added to the repository in order to track their changes:"
   ]
  },
  {
   "cell_type": "markdown",
   "metadata": {},
   "source": [
    "        # create myfile.py and some text files\n",
    "        $ git add myfile.py *.txt\n"
   ]
  },
  {
   "cell_type": "markdown",
   "metadata": {},
   "source": [
    "Commit all tracked files into a new version:"
   ]
  },
  {
   "cell_type": "markdown",
   "metadata": {},
   "source": [
    "        $ git commit -a -m 'This is my first commit'\n"
   ]
  },
  {
   "cell_type": "markdown",
   "metadata": {},
   "source": [
    "Make some changes and create a new commit."
   ]
  },
  {
   "cell_type": "markdown",
   "metadata": {},
   "source": [
    "        # edit myfile.py\n",
    "        $ git status # list files that have been changed since last commit\n",
    "        $ git diff   # show the detailed changes since the last commit\n",
    "        $ git commit -a -m 'Explain what I changed'\n"
   ]
  },
  {
   "cell_type": "markdown",
   "metadata": {
    "slideshow": {
     "slide_type": "subslide"
    }
   },
   "source": [
    "## Reading history and going backwards in time\n",
    "\n",
    "View history with commit messages with:"
   ]
  },
  {
   "cell_type": "markdown",
   "metadata": {},
   "source": [
    "        $ git log\n",
    "        $ git log --graph --oneline --all --decorate\n"
   ]
  },
  {
   "cell_type": "markdown",
   "metadata": {},
   "source": [
    "<!-- dom:FIGURE:[../figs/git.png, height=200 frac=0.5] -->\n",
    "<!-- begin figure -->\n",
    "\n",
    "<p></p>\n",
    "<img src=\"../figs/git.png\" height=200>\n",
    "\n",
    "<!-- end figure -->\n",
    "\n",
    "Each version has a unique hash key. This hash can be used to obtain an older version of a file:"
   ]
  },
  {
   "cell_type": "markdown",
   "metadata": {},
   "source": [
    "        $ git checkout 664250addc1a23c9e8db2c53e203ea2ef9c7c9fc myfile.py\n"
   ]
  },
  {
   "cell_type": "markdown",
   "metadata": {},
   "source": [
    "Or to go back to the latest version of a file:"
   ]
  },
  {
   "cell_type": "markdown",
   "metadata": {},
   "source": [
    "        rm myfile.py            # \"accidentaly\" remove myfile.py\n",
    "        git checkout myfile.py  # restore latest version\n"
   ]
  },
  {
   "cell_type": "markdown",
   "metadata": {
    "slideshow": {
     "slide_type": "subslide"
    }
   },
   "source": [
    "## Remote repositories\n",
    "\n",
    "We can work on git repositories that live on a remote location (for collaboration and backup).\n",
    "\n",
    "Clone a remote repository to a local repository:"
   ]
  },
  {
   "cell_type": "markdown",
   "metadata": {},
   "source": [
    "        git clone git@github.com:UiO-INF3331/INF3331-simonwf.git\n",
    "        cd INF3331-simonwf\n"
   ]
  },
  {
   "cell_type": "markdown",
   "metadata": {},
   "source": [
    "Create a new commit and push it to the remote repository."
   ]
  },
  {
   "cell_type": "markdown",
   "metadata": {},
   "source": [
    "        (edit files)\n",
    "        git commit -a -m 'Explain what I changed'\n",
    "        git push origin master   # Requires write permission\n",
    "                                 # on the remote repository\n"
   ]
  },
  {
   "cell_type": "markdown",
   "metadata": {},
   "source": [
    "Download changes from remote repository:"
   ]
  },
  {
   "cell_type": "markdown",
   "metadata": {},
   "source": [
    "        git pull # This might result merge conflicts\n",
    "                 # which need to be resolved manually (see exercise).\n"
   ]
  },
  {
   "cell_type": "markdown",
   "metadata": {
    "slideshow": {
     "slide_type": "subslide"
    }
   },
   "source": [
    "## Most important git commands\n",
    "\n",
    "  * `git clone URL`: clone a (remote) repository\n",
    "\n",
    "  * `git init`: create a new (local) repository\n",
    "\n",
    "  * `git add`: add a file\n",
    "\n",
    "  * `git rm`: remove a file\n",
    "\n",
    "  * `git mv`: move/rename a file\n",
    "\n",
    "  * `git status`: View status of commited/uncommited files\n",
    "\n",
    "  * `git commit -a`: commit all changed files\n",
    "\n",
    "  * `git commit FILENAME`: commit a specific file\n",
    "\n",
    "  * `git pull`: update file tree from (remote) repository\n",
    "\n",
    "  * `git push`: push changes to central repository\n",
    "\n",
    "For more information about the commands use `git help COMMAND`"
   ]
  },
  {
   "cell_type": "markdown",
   "metadata": {
    "slideshow": {
     "slide_type": "subslide"
    }
   },
   "source": [
    "## Final words\n",
    "\n",
    "* For more information, see the course web page.\n",
    "\n",
    "* Use Piazza to ask, and answer questions.\n",
    "\n",
    "* For feedback email me: simon@simula.no"
   ]
  }
 ],
 "metadata": {
  "celltoolbar": "Slideshow",
  "kernelspec": {
   "display_name": "Python 3",
   "language": "python",
   "name": "python3"
  },
  "language_info": {
   "codemirror_mode": {
    "name": "ipython",
    "version": 3
   },
   "file_extension": ".py",
   "mimetype": "text/x-python",
   "name": "python",
   "nbconvert_exporter": "python",
   "pygments_lexer": "ipython3",
   "version": "3.6.1"
  }
 },
 "nbformat": 4,
 "nbformat_minor": 1
}
