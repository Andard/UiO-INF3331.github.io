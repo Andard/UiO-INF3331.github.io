{
 "cells": [
  {
   "cell_type": "markdown",
   "metadata": {
    "slideshow": {
     "slide_type": "slide"
    }
   },
   "source": [
    "# About the INF3331/INF4331 course\n",
    "<img src=\"https://imgs.xkcd.com/comics/python.png\" style=\"width: 400px;\"/>\n"
   ]
  },
  {
   "cell_type": "markdown",
   "metadata": {
    "slideshow": {
     "slide_type": "slide"
    }
   },
   "source": [
    "## Teachers\n",
    "\n",
    "  * Simon Funke (simon@simula.no)\n",
    "    <img src=\"https://www.simula.no/sites/simula.no/files/styles/employee-detail/public/user/images/img_7972-3.jpg?itok=APPUsTJz\" style=\"width: 100px;\"/>\n",
    "  * Karl-Erik Holter\n",
    "    <img src=\"https://www.simula.no/sites/simula.no/files/styles/employee-detail/public/user/images/2016-10-31_15.43.31.jpg\" style=\"width: 100px;\"/>\n",
    "  * Guest lecturers: \n",
    "      * Benjamin Ragan-Kelley (Simula) \n",
    "      * Jonathan Feinberg (Expert Analytics)\n",
    "  * Teaching assistants and assignment correctors"
   ]
  },
  {
   "cell_type": "markdown",
   "metadata": {
    "slideshow": {
     "slide_type": "subslide"
    }
   },
   "source": [
    "## What we use Python for\n",
    "  * We use Bash/Python to create efficient working (or problem solving) environments\n",
    "\n",
    "  * We also use Python to develop large-scale simulation software (which solves partial differential equations)\n",
    "\n",
    "  * We believe high-level languages such as Python constitute a promising way of making flexible and user-friendly software!\n",
    "\n",
    "  * Some of our research migrates into this course\n",
    "\n",
    "  * There are lots of opportunities for Master projects related to this course"
   ]
  },
  {
   "cell_type": "markdown",
   "metadata": {
    "slideshow": {
     "slide_type": "subslide"
    }
   },
   "source": [
    "## How we create the assignments\n",
    "\n",
    "  * Most examples are from our own research: involves some science and/or mathematics!\n",
    "  * Little mathematics knowledge is needed to complete the course\n",
    "  * Treating mathematical software as a \"black box\" without fully understanding the contents is a useful exercise\n",
    "  * Translating simple mathematical expressions to computer code is highly relevant for many applications"
   ]
  },
  {
   "cell_type": "markdown",
   "metadata": {
    "slideshow": {
     "slide_type": "subslide"
    }
   },
   "source": [
    "## Contents\n",
    "\n",
    "  * Scripting in general\n",
    "  * Basic Bash programming\n",
    "  * Python introduction for beginners (two weeks)\n",
    "  * Regular expressions\n",
    "  * Efficient Python with vectorization and NumPy arrays\n",
    "  * Combining Python with C and C++\n",
    "  * Creating web interfaces to Python scripts\n",
    "  * Programming tools: version control systems, Python modules, debugging and profiling, documenting code, testing and verification of software"
   ]
  },
  {
   "cell_type": "markdown",
   "metadata": {
    "slideshow": {
     "slide_type": "subslide"
    }
   },
   "source": [
    "## What you will learn\n",
    "\n",
    "  * Scripting in general, but with most examples taken from scientific computing\n",
    "\n",
    "  * Jump into useful scripts and dissect the code\n",
    "\n",
    "  * Learning by doing\n",
    "\n",
    "  * Find examples, look up man pages, Web docs and textbooks on demand\n",
    "\n",
    "  * Get the overview\n",
    "\n",
    "  * Customize existing code\n",
    "\n",
    "  * Have fun and work with useful things"
   ]
  },
  {
   "cell_type": "markdown",
   "metadata": {
    "slideshow": {
     "slide_type": "subslide"
    }
   },
   "source": [
    "## Background 1: INF3331 vs INF1100\n",
    "\n",
    "  * Wide range of backgrounds with respect to Python and general programming experience\n",
    "\n",
    "  * Since INF3331 does not build on INF1100, some overlap is inevitable\n",
    "\n",
    "  * Two weeks of basic Python intro not useful for those with INF1100 background\n",
    "\n",
    "  * INF3331 has more focus on scripting and practical problem solving\n",
    "\n",
    "  * We welcome any feedback on how we can make INF3331 interesting and challenging for students with different backgrounds"
   ]
  },
  {
   "cell_type": "markdown",
   "metadata": {
    "slideshow": {
     "slide_type": "subslide"
    }
   },
   "source": [
    "## Background 2: INF3331 vs INF4331\n",
    "  * Same lectures and group sessions.\n",
    "\n",
    "  * INF4331 has more assignments compared to INF3331.\n",
    "\n",
    "  * More points are needed to pass INF4331."
   ]
  },
  {
   "cell_type": "markdown",
   "metadata": {
    "slideshow": {
     "slide_type": "subslide"
    }
   },
   "source": [
    "## Background 3: mathematics\n",
    "\n",
    "  * Very little mathematics is needed to complete the course.\n",
    "  * Basic knowledge will make life easier:\n",
    "\n",
    "      * General functions, such as $f(x) = ax +b$, and how they are turned into computer code\n",
    "      * Standard mathematical functions such as $\\sin(x),\\cos(x)$ and exponential functions\n",
    "      * Simple matrix-vector operations\n",
    "\n",
    "\n",
    "  * A learn-on-demand strategy should work fine, as long as you do not panic at the sight of a mathematical expression."
   ]
  },
  {
   "cell_type": "markdown",
   "metadata": {
    "slideshow": {
     "slide_type": "subslide"
    }
   },
   "source": [
    "## Teaching material (1)\n",
    "\n",
    "* Lecture slides and videos here: https://uio-inf3331.github.io. The lectures are video recorded and will be updated as we go along.\n",
    "* Assignments on the course webpage: [here](http://www.uio.no/studier/emner/matnat/ifi/INF3331/h16/timeplan/index.html#FOR).\n",
    "* Associated book (optional): H. P. Langtangen: Python Scripting for Computational Science, 3rd edition, Springer 2008. The book is based on Python 2, but can easily converted to Python 3.\n",
    "\n",
    "You must find the rest: manuals, textbooks, google"
   ]
  },
  {
   "cell_type": "markdown",
   "metadata": {
    "slideshow": {
     "slide_type": "subslide"
    }
   },
   "source": [
    "## Teaching material (2)\n",
    "\n",
    "Good Python literature:\n",
    "* Harms and McDonald: The Quick Python Book, 2nd edition, 2010\n",
    "\n",
    "* Beazley: Python Essential Reference, 4th edition, 2009\n",
    "\n",
    "* Mark Pilgrim: Dive into Python 3, 2004\n",
    "\n",
    "<img src=\"figs/beazley_grayson_harms.jpg\" >\n"
   ]
  },
  {
   "cell_type": "markdown",
   "metadata": {
    "slideshow": {
     "slide_type": "subslide"
    }
   },
   "source": [
    "## We will use Piazza as a knowledge platform\n",
    "\n",
    "  * Allows students to ask and answer questions.\n",
    "  * Great discussion platform.\n",
    "  * Lecturers/teaching assistants will be active on the platform to help.\n",
    "  * Sign up: [http://piazza.com/uio.no/fall2017/inf3331inf4331](http://piazza.com/uio.no/fall2017/inf3331inf4331)\n",
    "<img src=\"figs/piazza.jpg\" style=\"width: 1200px;\"/>  "
   ]
  },
  {
   "cell_type": "markdown",
   "metadata": {
    "slideshow": {
     "slide_type": "subslide"
    }
   },
   "source": [
    "## Lectures and groups (1)\n",
    "\n",
    "  * Lectures: Fridays 10:15 - 12:00.\n",
    "  * Lecture slides available on the course website before each lecture.\n",
    "  * Video recorded lecture will be made available after each lecture (videos from previous year already available).\n",
    "  * Assignments will be published Fridays.\n",
    "  * Weekly groups sessions (see course website) in addition to Piazza.\n",
    "  * **Groups and exercises are the core of the course: problem solving is in focus**."
   ]
  },
  {
   "cell_type": "markdown",
   "metadata": {
    "slideshow": {
     "slide_type": "subslide"
    }
   },
   "source": [
    "## Lectures and groups (2)\n",
    "\n",
    "  * Today: Introduction: scripting vs regular programming, version control systems\n",
    "  * Next week: Basic shell scripting\n",
    "  * Week 3-4: Python introduction (not needed if you have INF1100)\n",
    "  * ..."
   ]
  },
  {
   "cell_type": "markdown",
   "metadata": {
    "slideshow": {
     "slide_type": "subslide"
    }
   },
   "source": [
    "## Group classes and assignments\n",
    "\n",
    "  * Mix of short (1 week) and large (3+1 weeks) assignments.\n",
    "  * Deadlines are published on course website.\n",
    "  * Group classes will be regular group classes, where you work on your assignments and can ask questions.\n",
    "  * No strict requirement to show up in group classes, but useful to ask questions and discuss solutions.  \n",
    "  * Group classes start next week."
   ]
  },
  {
   "cell_type": "markdown",
   "metadata": {
    "slideshow": {
     "slide_type": "subslide"
    }
   },
   "source": [
    "## Assignments and reviews\n",
    "\n",
    "  * Each student solves the assignments individually.\n",
    "\n",
    "  * Large assignments have a peer review system to correct the assignments.\n",
    "\n",
    "  * Assignments and reviews are handed in electronically on github.\n",
    "\n",
    "  * All assignments and reviews are corrected by INF3331 correctors and give points towards passing the course.\n",
    "\n",
    "  * First assignment: today."
   ]
  },
  {
   "cell_type": "markdown",
   "metadata": {
    "slideshow": {
     "slide_type": "subslide"
    }
   },
   "source": [
    "## Peer-review of large assignments\n",
    "\n",
    "  * After the assignment is handed in, you are given a \\emph{marking group} (rettegruppe) with three students in each.\n",
    "\n",
    "  * Each marking group will get the assignments from three other students.\n",
    "\n",
    "  * For each assignment you evaluate, you should write a report, which comments and evaluates the quality of the programming, and provide constructive feedback.\n",
    "\n",
    "  * When, where and how you organize the evaluation is up to you, but the intention is to do the evaluation in groups.\n",
    "\n",
    "  * Deadline for reports: one week after you have been assigned to the marking groups."
   ]
  },
  {
   "cell_type": "markdown",
   "metadata": {},
   "source": [
    "## Marking\n",
    "\n",
    "  * **No exam**!\n",
    "  * The assignments give points towards passing the course.\n",
    "  * The peer-review report  also gives points.\n",
    "  * Course passed with $\\ge 80%$ of total points at the end of the semester."
   ]
  },
  {
   "cell_type": "markdown",
   "metadata": {
    "slideshow": {
     "slide_type": "subslide"
    }
   },
   "source": [
    "## Assignments are handed in using github\n",
    "\n",
    "  * Everyone needs to obtain an account on github (its free).\n",
    "\n",
    "  * We will establish a *classroom* on github. For this we need from everyone:\n",
    "\n",
    "      * Full name\n",
    "\n",
    "      * Email\n",
    "\n",
    "      * UiO username\n",
    "\n",
    "      * Github user name\n",
    "    For this, please fill out a web form (see link on next slide)\n",
    "\n",
    "  * We will create a git repository on github where you can upload the assignment solutions."
   ]
  },
  {
   "cell_type": "markdown",
   "metadata": {},
   "source": [
    "## Things to do in the first week\n",
    "\n",
    "  1. Create a github account.\n",
    "  2. Register course attendence on https://goo.gl/forms/Y6TjRYD81Moj4jbN2\n",
    "  \n",
    "  1. Sign up to INF3331/INF4331 course on Piazza: http://piazza.com/uio.no/fall2017/inf3331inf4331\n",
    "  \n",
    "  3. (Optional) Do the interactive git tutorial on <https://try.github.io>\n",
    "  4. Solve the first assignment: http://www.uio.no/studier/emner/matnat/ifi/INF3331/h17/oppgaver.html."
   ]
  },
  {
   "cell_type": "markdown",
   "metadata": {
    "slideshow": {
     "slide_type": "subslide"
    }
   },
   "source": [
    "## Why has the course been organized like this?\n",
    "\n",
    "  * \"Problem solving\" is best learnt by solving a large number of problems.\n",
    "  * With limited resources, this is the only way we can maintain the large number of mandatory assignments.\n",
    "  * You learn from reading and inspecting each other's code.\n",
    "  * Goal: more flexible implementation, but which still allows a high volume of programming exercises.\n"
   ]
  },
  {
   "cell_type": "markdown",
   "metadata": {
    "slideshow": {
     "slide_type": "subslide"
    }
   },
   "source": [
    "## Software for this course\n",
    "\n",
    "  * Bash runs on Windows (via cygwin), Mac, Linux.\n",
    "\n",
    "  * Python runs on Windows, Mac, Linux.\n",
    "  * C (GCC) runs on Windows, Mac, Linux.\n",
    "  * I recommend Ubuntu Linux, either running natively or in a virtual machine.\n",
    "  * I have limited experience with Python/Bash/C on Windows.\n",
    "  * We recommend the `anaconda` or `miniconda` distributions as a Python distribution."
   ]
  },
  {
   "cell_type": "markdown",
   "metadata": {
    "slideshow": {
     "slide_type": "subslide"
    }
   },
   "source": [
    "## Python 3 vs Python 2\n",
    "\n",
    "  * Python 3.X is the newest stable version.\n",
    "  * Most libraries have now Python 3 support.\n",
    "  * Python 2.7 is still around, but dying.\n",
    "  * This course:\n",
    "\n",
    "      * 2017 - Python 3 (3.5/3.6)\n",
    "      * 2016 - Python 3 (3.4/3.5)\n",
    "      * 2015 - Mostly 2.7, some 3.3/3.4\n",
    "      * 2014 - Mostly 2.7, some 3.3/3.4\n",
    "\n",
    "  * Small difference for the scope of this course, but watch out for widely used functions such as `print`, `open`, `input`, `range`, and integer division."
   ]
  },
  {
   "cell_type": "markdown",
   "metadata": {
    "slideshow": {
     "slide_type": "subslide"
    }
   },
   "source": [
    "## Final words\n",
    "\n",
    "* For more information, see the course web page.\n",
    "\n",
    "* Use Piazza to ask, and answer questions.\n",
    "\n",
    "* For feedback email me: `simon@simula.no`"
   ]
  },
  {
   "cell_type": "markdown",
   "metadata": {
    "slideshow": {
     "slide_type": "subslide"
    }
   },
   "source": [
    "# Version control systems"
   ]
  },
  {
   "cell_type": "markdown",
   "metadata": {
    "slideshow": {
     "slide_type": "subslide"
    }
   },
   "source": [
    "## Version control systems\n",
    "What are version control systems good for?\n",
    "\n",
    "  * Manage changes of files such as scripts, source code, documents, ....\n",
    "\n",
    "  * Can retrieve old versions of files.\n",
    "\n",
    "  * Can print history of incremental changes.\n",
    "\n",
    "  * Allows collaborative programming.\n",
    "\n",
    "  * Can serve as a backup tool.\n",
    "\n",
    "Core idea:\n",
    "  * A version controlled system (typically) contains one official repository.\n",
    "\n",
    "  * Programmers work on *copies* of repository files and upload the changes to the official repository.\n",
    "\n",
    "  * Non-conflicting modifications by different team members are merged automatically.\n",
    "\n",
    "  * Conflicting modifications are detected and must be resolved manually."
   ]
  },
  {
   "cell_type": "markdown",
   "metadata": {
    "slideshow": {
     "slide_type": "subslide"
    }
   },
   "source": [
    "## The git version control system\n",
    "\n",
    "  * git: a modern version control system, similar to mercurial, bazaar, svn, cvs etc.\n",
    "\n",
    "  * Developed by Linus Torvalds to improve the development of the Linux kernel and now one of the most succesfull version control system.\n",
    "\n",
    "  * Git is complex and powerful - start with the basics and learn as you go.\n",
    "\n",
    "  * There exist a good ecosystem for storing git repositories online (e.g. github and bitbucket).\n",
    "\n",
    "  * Official git webpage <http://git-scm.com>"
   ]
  },
  {
   "cell_type": "markdown",
   "metadata": {
    "slideshow": {
     "slide_type": "subslide"
    }
   },
   "source": [
    "## Creating your first git repository\n",
    "A git repository is a folder in which files can be tracked by git.\n",
    "A git repository is created with:"
   ]
  },
  {
   "cell_type": "markdown",
   "metadata": {},
   "source": [
    "        $ cd src\n",
    "        $ git init .  # The src folder is now also a git repository\n"
   ]
  },
  {
   "cell_type": "markdown",
   "metadata": {},
   "source": [
    "Files need to be added to the repository in order to track their changes:"
   ]
  },
  {
   "cell_type": "markdown",
   "metadata": {},
   "source": [
    "        # create myfile.py and some text files\n",
    "        $ git add myfile.py *.txt\n"
   ]
  },
  {
   "cell_type": "markdown",
   "metadata": {},
   "source": [
    "Commit all tracked files into a new version:"
   ]
  },
  {
   "cell_type": "markdown",
   "metadata": {},
   "source": [
    "        $ git commit -a -m 'This is my first commit'\n"
   ]
  },
  {
   "cell_type": "markdown",
   "metadata": {},
   "source": [
    "Make some changes and create a new commit."
   ]
  },
  {
   "cell_type": "markdown",
   "metadata": {},
   "source": [
    "        # edit myfile.py\n",
    "        $ git status # list files that have been changed since last commit\n",
    "        $ git diff   # show the detailed changes since the last commit\n",
    "        $ git commit -a -m 'Explain what I changed'\n"
   ]
  },
  {
   "cell_type": "markdown",
   "metadata": {
    "slideshow": {
     "slide_type": "subslide"
    }
   },
   "source": [
    "## Reading history and going backwards in time\n",
    "\n",
    "View history with commit messages with:"
   ]
  },
  {
   "cell_type": "markdown",
   "metadata": {},
   "source": [
    "        $ git log\n",
    "        $ git log --graph --oneline --all --decorate\n"
   ]
  },
  {
   "cell_type": "markdown",
   "metadata": {},
   "source": [
    "<!-- dom:FIGURE:[../figs/git.png, height=200 frac=0.5] -->\n",
    "<!-- begin figure -->\n",
    "\n",
    "<p></p>\n",
    "<img src=\"../figs/git.png\" height=200>\n",
    "\n",
    "<!-- end figure -->\n",
    "\n",
    "Each version has a unique hash key. This hash can be used to obtain an older version of a file:"
   ]
  },
  {
   "cell_type": "markdown",
   "metadata": {},
   "source": [
    "        $ git checkout 664250addc1a23c9e8db2c53e203ea2ef9c7c9fc myfile.py\n"
   ]
  },
  {
   "cell_type": "markdown",
   "metadata": {},
   "source": [
    "Or to go back to the latest version of a file:"
   ]
  },
  {
   "cell_type": "markdown",
   "metadata": {},
   "source": [
    "        rm myfile.py            # \"accidentaly\" remove myfile.py\n",
    "        git checkout myfile.py  # restore latest version\n"
   ]
  },
  {
   "cell_type": "markdown",
   "metadata": {
    "slideshow": {
     "slide_type": "subslide"
    }
   },
   "source": [
    "## Remote repositories\n",
    "\n",
    "We can work on git repositories that live on a remote location (for collaboration and backup).\n",
    "\n",
    "Clone a remote repository to a local repository:"
   ]
  },
  {
   "cell_type": "markdown",
   "metadata": {},
   "source": [
    "        git clone git@github.com:UiO-INF3331/INF3331-simonwf.git\n",
    "        cd INF3331-simonwf\n"
   ]
  },
  {
   "cell_type": "markdown",
   "metadata": {},
   "source": [
    "Create a new commit and push it to the remote repository."
   ]
  },
  {
   "cell_type": "markdown",
   "metadata": {},
   "source": [
    "        (edit files)\n",
    "        git commit -a -m 'Explain what I changed'\n",
    "        git push origin master   # Requires write permission\n",
    "                                 # on the remote repository\n"
   ]
  },
  {
   "cell_type": "markdown",
   "metadata": {},
   "source": [
    "Download changes from remote repository:"
   ]
  },
  {
   "cell_type": "markdown",
   "metadata": {},
   "source": [
    "        git pull # This might result merge conflicts\n",
    "                 # which need to be resolved manually (see exercise).\n"
   ]
  },
  {
   "cell_type": "markdown",
   "metadata": {
    "slideshow": {
     "slide_type": "subslide"
    }
   },
   "source": [
    "## Most important git commands\n",
    "\n",
    "  * `git clone URL`: clone a (remote) repository\n",
    "\n",
    "  * `git init`: create a new (local) repository\n",
    "\n",
    "  * `git add`: add a file\n",
    "\n",
    "  * `git rm`: remove a file\n",
    "\n",
    "  * `git mv`: move/rename a file\n",
    "\n",
    "  * `git status`: View status of commited/uncommited files\n",
    "\n",
    "  * `git commit -a`: commit all changed files\n",
    "\n",
    "  * `git commit FILENAME`: commit a specific file\n",
    "\n",
    "  * `git pull`: update file tree from (remote) repository\n",
    "\n",
    "  * `git push`: push changes to central repository\n",
    "\n",
    "For more information about the commands use `git help COMMAND`"
   ]
  }
 ],
 "metadata": {
  "celltoolbar": "Slideshow",
  "kernelspec": {
   "display_name": "Python 3",
   "language": "python",
   "name": "python3"
  },
  "language_info": {
   "codemirror_mode": {
    "name": "ipython",
    "version": 3
   },
   "file_extension": ".py",
   "mimetype": "text/x-python",
   "name": "python",
   "nbconvert_exporter": "python",
   "pygments_lexer": "ipython3",
   "version": "3.6.1"
  },
  "livereveal": {
   "scroll": true,
   "start_slideshow_at": "selected",
   "theme": "serif"
  }
 },
 "nbformat": 4,
 "nbformat_minor": 1
}
