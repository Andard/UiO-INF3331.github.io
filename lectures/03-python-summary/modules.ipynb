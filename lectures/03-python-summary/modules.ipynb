{
 "cells": [
  {
   "cell_type": "markdown",
   "metadata": {
    "slideshow": {
     "slide_type": "slide"
    }
   },
   "source": [
    "# Modules and packages\n",
    "**Contributors: Simon Funke**"
   ]
  },
  {
   "cell_type": "markdown",
   "metadata": {
    "slideshow": {
     "slide_type": "fragment"
    }
   },
   "source": [
    "### What is a Python module?\n",
    "A module is a file consisting of Python code. A module can define functions, classes and variables. A module can also include runnable code."
   ]
  },
  {
   "cell_type": "markdown",
   "metadata": {},
   "source": [
    "## The Python Package Index (PiPi) collects a large number of modules\n",
    "\n",
    "Visit https://pypi.python.org/pypi and explore \n",
    "\n",
    "Install any new package with\n",
    "```bash\n",
    "pip search KEYWORD # search the Python index\n",
    "pip install PACKAGENAME --user  # install a package locally\n",
    "```"
   ]
  },
  {
   "cell_type": "markdown",
   "metadata": {},
   "source": [
    "## Some of the most relevant packages are\n",
    "\n",
    "* **sys** System specific functionality\n",
    "* **os** Operating system specific functionality\n",
    "* **scipy** Scientific Python (www.scipy.org)\n",
    "    * **numpy** Numerical Python\n",
    "    * **ipython** Interactive Python\n",
    "    * **matplotlib** Plotting\n",
    "    * **pandas** Data analsyis"
   ]
  },
  {
   "cell_type": "markdown",
   "metadata": {
    "slideshow": {
     "slide_type": "subslide"
    }
   },
   "source": [
    "## Using modules\n",
    "\n",
    "Import the module called `sys` and access its `argv` variable:\n",
    "\n",
    "```python\n",
    "import sys\n",
    "x = float(sys.argv[1])\n",
    "```"
   ]
  },
  {
   "cell_type": "markdown",
   "metadata": {
    "slideshow": {
     "slide_type": "fragment"
    }
   },
   "source": [
    "Import module member `argv` into current namespace:\n",
    "\n",
    "```python\n",
    "from sys import argv\n",
    "x = float(argv[1])\n",
    "```"
   ]
  },
  {
   "cell_type": "markdown",
   "metadata": {
    "slideshow": {
     "slide_type": "fragment"
    }
   },
   "source": [
    "Import everything from `sys` (not recommended)\n",
    "\n",
    "```python\n",
    "from sys import *\n",
    "x = float(argv[1])\n",
    "\n",
    "flags = ''\n",
    "# Ooops, flags was also imported from sys, this new flags\n",
    "# name overwrites sys.flags!\n",
    "```"
   ]
  },
  {
   "cell_type": "markdown",
   "metadata": {
    "slideshow": {
     "slide_type": "fragment"
    }
   },
   "source": [
    "Import `argv` under an alias:\n",
    "\n",
    "```python\n",
    "from sys import argv as a\n",
    "x = float(a[1])\n",
    "```"
   ]
  },
  {
   "cell_type": "markdown",
   "metadata": {
    "slideshow": {
     "slide_type": "subslide"
    }
   },
   "source": [
    "## Use modules to organize your program logically"
   ]
  },
  {
   "cell_type": "markdown",
   "metadata": {
    "slideshow": {
     "slide_type": "fragment"
    }
   },
   "source": [
    "### What is it good for?\n",
    "  * Split the code into several files for easier maintenance.\n",
    "  * Group related code into a module.\n",
    "  * Share common code between scripts.\n",
    "  * Publish modules on the web for other people to use."
   ]
  }
 ],
 "metadata": {
  "celltoolbar": "Slideshow",
  "kernelspec": {
   "display_name": "Python 3",
   "language": "python",
   "name": "python3"
  },
  "language_info": {
   "codemirror_mode": {
    "name": "ipython",
    "version": 3
   },
   "file_extension": ".py",
   "mimetype": "text/x-python",
   "name": "python",
   "nbconvert_exporter": "python",
   "pygments_lexer": "ipython3",
   "version": "3.5.2"
  },
  "livereveal": {
   "scroll": true,
   "start_slideshow_at": "selected",
   "theme": "serif"
  }
 },
 "nbformat": 4,
 "nbformat_minor": 0
}
